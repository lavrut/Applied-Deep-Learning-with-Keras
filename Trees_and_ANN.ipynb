{
  "nbformat": 4,
  "nbformat_minor": 0,
  "metadata": {
    "colab": {
      "name": "Assignment4_LaVonRutledge.ipynb",
      "provenance": [],
      "collapsed_sections": [
        "2ehmKOg_wHiq"
      ],
      "toc_visible": true,
      "authorship_tag": "ABX9TyMBESPIzqKvTdvPaV6aEtZ0"
    },
    "kernelspec": {
      "name": "python3",
      "display_name": "Python 3"
    },
    "language_info": {
      "name": "python"
    }
  },
  "cells": [
    {
      "cell_type": "markdown",
      "metadata": {
        "id": "XC3eWsefauS6"
      },
      "source": [
        "# Navigate to TF Model/s use the following links:\n",
        "* [Create a TensorFlow Model to Predict Loan Default](#1)\n",
        "* [Create a TensorFlow Model to Predict Loss Given Default](#2)\n",
        "* [Best Model Explanation](#3)"
      ]
    },
    {
      "cell_type": "markdown",
      "metadata": {
        "id": "TL-OMfhXlRWO"
      },
      "source": [
        "### Load Packages\n",
        "---"
      ]
    },
    {
      "cell_type": "code",
      "metadata": {
        "colab": {
          "base_uri": "https://localhost:8080/"
        },
        "id": "Uh0JEcYONTnu",
        "outputId": "da7ac004-7db8-4854-f0cf-69a58724aa0a"
      },
      "source": [
        "import math\n",
        "import random\n",
        "import pandas as pd\n",
        "import numpy as np\n",
        "import matplotlib.pyplot as plt\n",
        "\n",
        "import seaborn as sns\n",
        "from operator import itemgetter\n",
        "\n",
        "import tensorflow as tf\n",
        "from tensorflow.keras.layers import Dense, Activation, Flatten\n",
        "from sklearn.preprocessing import MinMaxScaler\n",
        "from sklearn.preprocessing import StandardScaler\n",
        "from sklearn.linear_model import LinearRegression\n",
        "from sklearn.model_selection import train_test_split\n",
        "\n",
        "import sklearn.metrics as metrics\n",
        "from sklearn.model_selection import train_test_split\n",
        "from sklearn import tree\n",
        "from sklearn.tree import _tree\n",
        "from sklearn.ensemble import RandomForestRegressor \n",
        "from sklearn.ensemble import RandomForestClassifier \n",
        "from sklearn.ensemble import GradientBoostingRegressor \n",
        "from sklearn.ensemble import GradientBoostingClassifier\n",
        "from sklearn.linear_model import LinearRegression\n",
        "from sklearn.linear_model import LogisticRegression\n",
        "from sklearn.metrics import classification_report, confusion_matrix\n",
        "\n",
        "from mlxtend.feature_selection import SequentialFeatureSelector as SFS\n",
        "from mlxtend.plotting import plot_sequential_feature_selection as plot_sfs\n",
        "\n",
        "!pip install memory_profiler\n",
        "%load_ext memory_profiler"
      ],
      "execution_count": null,
      "outputs": [
        {
          "output_type": "stream",
          "name": "stdout",
          "text": [
            "Requirement already satisfied: memory_profiler in /usr/local/lib/python3.7/dist-packages (0.58.0)\n",
            "Requirement already satisfied: psutil in /usr/local/lib/python3.7/dist-packages (from memory_profiler) (5.4.8)\n",
            "The memory_profiler extension is already loaded. To reload it, use:\n",
            "  %reload_ext memory_profiler\n"
          ]
        }
      ]
    },
    {
      "cell_type": "code",
      "metadata": {
        "id": "r9ZKIC63dyQ8"
      },
      "source": [
        "import warnings\n",
        "warnings.filterwarnings(action=\"ignore\", category=Warning )\n",
        "warnings.simplefilter(\"ignore\")"
      ],
      "execution_count": null,
      "outputs": []
    },
    {
      "cell_type": "markdown",
      "metadata": {
        "id": "aBi9JUqUu6xS"
      },
      "source": [
        "### EDA and Data Prep\n",
        "---"
      ]
    },
    {
      "cell_type": "code",
      "metadata": {
        "id": "6xvZ2xWbubrk"
      },
      "source": [
        "# Load dataset\n",
        "FILE = 'HMEQ_Loss.csv'\n",
        "\n",
        "# Create DataFrame\n",
        "df = pd.read_csv(FILE)\n",
        "\n",
        "# Store dtypes in new variable for later use\n",
        "df_dtypes = df.dtypes"
      ],
      "execution_count": null,
      "outputs": []
    },
    {
      "cell_type": "code",
      "metadata": {
        "colab": {
          "base_uri": "https://localhost:8080/",
          "height": 128
        },
        "id": "Klfm84SNubyY",
        "outputId": "e2042b3e-e375-4bbe-ee14-14b89bdd3938"
      },
      "source": [
        "df.head(2)"
      ],
      "execution_count": null,
      "outputs": [
        {
          "output_type": "execute_result",
          "data": {
            "text/html": [
              "<div>\n",
              "<style scoped>\n",
              "    .dataframe tbody tr th:only-of-type {\n",
              "        vertical-align: middle;\n",
              "    }\n",
              "\n",
              "    .dataframe tbody tr th {\n",
              "        vertical-align: top;\n",
              "    }\n",
              "\n",
              "    .dataframe thead th {\n",
              "        text-align: right;\n",
              "    }\n",
              "</style>\n",
              "<table border=\"1\" class=\"dataframe\">\n",
              "  <thead>\n",
              "    <tr style=\"text-align: right;\">\n",
              "      <th></th>\n",
              "      <th>TARGET_BAD_FLAG</th>\n",
              "      <th>TARGET_LOSS_AMT</th>\n",
              "      <th>LOAN</th>\n",
              "      <th>MORTDUE</th>\n",
              "      <th>VALUE</th>\n",
              "      <th>REASON</th>\n",
              "      <th>JOB</th>\n",
              "      <th>YOJ</th>\n",
              "      <th>DEROG</th>\n",
              "      <th>DELINQ</th>\n",
              "      <th>CLAGE</th>\n",
              "      <th>NINQ</th>\n",
              "      <th>CLNO</th>\n",
              "      <th>DEBTINC</th>\n",
              "    </tr>\n",
              "  </thead>\n",
              "  <tbody>\n",
              "    <tr>\n",
              "      <th>0</th>\n",
              "      <td>1</td>\n",
              "      <td>641.0</td>\n",
              "      <td>1100</td>\n",
              "      <td>25860.0</td>\n",
              "      <td>39025.0</td>\n",
              "      <td>HomeImp</td>\n",
              "      <td>Other</td>\n",
              "      <td>10.5</td>\n",
              "      <td>0.0</td>\n",
              "      <td>0.0</td>\n",
              "      <td>94.366667</td>\n",
              "      <td>1.0</td>\n",
              "      <td>9.0</td>\n",
              "      <td>NaN</td>\n",
              "    </tr>\n",
              "    <tr>\n",
              "      <th>1</th>\n",
              "      <td>1</td>\n",
              "      <td>1109.0</td>\n",
              "      <td>1300</td>\n",
              "      <td>70053.0</td>\n",
              "      <td>68400.0</td>\n",
              "      <td>HomeImp</td>\n",
              "      <td>Other</td>\n",
              "      <td>7.0</td>\n",
              "      <td>0.0</td>\n",
              "      <td>2.0</td>\n",
              "      <td>121.833333</td>\n",
              "      <td>0.0</td>\n",
              "      <td>14.0</td>\n",
              "      <td>NaN</td>\n",
              "    </tr>\n",
              "  </tbody>\n",
              "</table>\n",
              "</div>"
            ],
            "text/plain": [
              "   TARGET_BAD_FLAG  TARGET_LOSS_AMT  LOAN  ...  NINQ  CLNO DEBTINC\n",
              "0                1            641.0  1100  ...   1.0   9.0     NaN\n",
              "1                1           1109.0  1300  ...   0.0  14.0     NaN\n",
              "\n",
              "[2 rows x 14 columns]"
            ]
          },
          "metadata": {},
          "execution_count": 85
        }
      ]
    },
    {
      "cell_type": "code",
      "metadata": {
        "colab": {
          "base_uri": "https://localhost:8080/"
        },
        "id": "nt9s_MYSub1K",
        "outputId": "5bcb60b9-a348-4893-c2f7-2af0e4776558"
      },
      "source": [
        "df_dtypes"
      ],
      "execution_count": null,
      "outputs": [
        {
          "output_type": "execute_result",
          "data": {
            "text/plain": [
              "TARGET_BAD_FLAG      int64\n",
              "TARGET_LOSS_AMT    float64\n",
              "LOAN                 int64\n",
              "MORTDUE            float64\n",
              "VALUE              float64\n",
              "REASON              object\n",
              "JOB                 object\n",
              "YOJ                float64\n",
              "DEROG              float64\n",
              "DELINQ             float64\n",
              "CLAGE              float64\n",
              "NINQ               float64\n",
              "CLNO               float64\n",
              "DEBTINC            float64\n",
              "dtype: object"
            ]
          },
          "metadata": {},
          "execution_count": 86
        }
      ]
    },
    {
      "cell_type": "code",
      "metadata": {
        "colab": {
          "base_uri": "https://localhost:8080/"
        },
        "id": "vnvwEKKxub3e",
        "outputId": "95c3c782-6f98-4fbb-ce0f-897d18a1e159"
      },
      "source": [
        "# Inspect dtype\n",
        "df.info()"
      ],
      "execution_count": null,
      "outputs": [
        {
          "output_type": "stream",
          "name": "stdout",
          "text": [
            "<class 'pandas.core.frame.DataFrame'>\n",
            "RangeIndex: 5960 entries, 0 to 5959\n",
            "Data columns (total 14 columns):\n",
            " #   Column           Non-Null Count  Dtype  \n",
            "---  ------           --------------  -----  \n",
            " 0   TARGET_BAD_FLAG  5960 non-null   int64  \n",
            " 1   TARGET_LOSS_AMT  1189 non-null   float64\n",
            " 2   LOAN             5960 non-null   int64  \n",
            " 3   MORTDUE          5442 non-null   float64\n",
            " 4   VALUE            5848 non-null   float64\n",
            " 5   REASON           5708 non-null   object \n",
            " 6   JOB              5681 non-null   object \n",
            " 7   YOJ              5445 non-null   float64\n",
            " 8   DEROG            5252 non-null   float64\n",
            " 9   DELINQ           5380 non-null   float64\n",
            " 10  CLAGE            5652 non-null   float64\n",
            " 11  NINQ             5450 non-null   float64\n",
            " 12  CLNO             5738 non-null   float64\n",
            " 13  DEBTINC          4693 non-null   float64\n",
            "dtypes: float64(10), int64(2), object(2)\n",
            "memory usage: 652.0+ KB\n"
          ]
        }
      ]
    },
    {
      "cell_type": "code",
      "metadata": {
        "id": "5xUue5deub6B"
      },
      "source": [
        "# Exclude target variables for now\n",
        "# Create new variables names for target variables\n",
        "TARGET_BF = 'TARGET_BAD_FLAG'\n",
        "TARGET_LA = 'TARGET_LOSS_AMT'"
      ],
      "execution_count": null,
      "outputs": []
    },
    {
      "cell_type": "code",
      "metadata": {
        "id": "PWMQEsV0ub8K"
      },
      "source": [
        "# Create two lists to store objects by dtypes\n",
        "objList = []\n",
        "numList = []\n",
        "\n",
        "for i in df_dtypes.index:\n",
        "  if i in ([TARGET_BF, TARGET_LA]): continue\n",
        "  if df_dtypes[i] in (['object']): objList.append(i)\n",
        "  if df_dtypes[i] in (['float64', 'int64']): numList.append(i)  "
      ],
      "execution_count": null,
      "outputs": []
    },
    {
      "cell_type": "code",
      "metadata": {
        "colab": {
          "base_uri": "https://localhost:8080/"
        },
        "id": "vJ0YKSG1vvs0",
        "outputId": "f755856c-8db4-43ac-ca86-7ab8d0455651"
      },
      "source": [
        "print('List of objects:\\n', objList, '\\n')\n",
        "print('List of numeric dtypes:\\n', numList, '\\n')"
      ],
      "execution_count": null,
      "outputs": [
        {
          "output_type": "stream",
          "name": "stdout",
          "text": [
            "List of objects:\n",
            " ['REASON', 'JOB'] \n",
            "\n",
            "List of numeric dtypes:\n",
            " ['LOAN', 'MORTDUE', 'VALUE', 'YOJ', 'DEROG', 'DELINQ', 'CLAGE', 'NINQ', 'CLNO', 'DEBTINC'] \n",
            "\n"
          ]
        }
      ]
    },
    {
      "cell_type": "code",
      "metadata": {
        "colab": {
          "base_uri": "https://localhost:8080/"
        },
        "id": "uuRkZ_JkvvvK",
        "outputId": "15a80839-3572-4c13-f6c5-c318f04b66f5"
      },
      "source": [
        "# Inspect all dtypes in objList \n",
        "for i in objList:\n",
        "  show_me = df[i].value_counts(dropna=False)\n",
        "  print('\\n')\n",
        "  print(show_me)"
      ],
      "execution_count": null,
      "outputs": [
        {
          "output_type": "stream",
          "name": "stdout",
          "text": [
            "\n",
            "\n",
            "DebtCon    3928\n",
            "HomeImp    1780\n",
            "NaN         252\n",
            "Name: REASON, dtype: int64\n",
            "\n",
            "\n",
            "Other      2388\n",
            "ProfExe    1276\n",
            "Office      948\n",
            "Mgr         767\n",
            "NaN         279\n",
            "Self        193\n",
            "Sales       109\n",
            "Name: JOB, dtype: int64\n"
          ]
        }
      ]
    },
    {
      "cell_type": "code",
      "metadata": {
        "colab": {
          "base_uri": "https://localhost:8080/"
        },
        "id": "W-ehIvUtvvyF",
        "outputId": "1c5691ff-143a-41b0-8aaf-59e30c919d47"
      },
      "source": [
        "# Percent of missing values by dtype\n",
        "df.isna().sum() / len(df)"
      ],
      "execution_count": null,
      "outputs": [
        {
          "output_type": "execute_result",
          "data": {
            "text/plain": [
              "TARGET_BAD_FLAG    0.000000\n",
              "TARGET_LOSS_AMT    0.800503\n",
              "LOAN               0.000000\n",
              "MORTDUE            0.086913\n",
              "VALUE              0.018792\n",
              "REASON             0.042282\n",
              "JOB                0.046812\n",
              "YOJ                0.086409\n",
              "DEROG              0.118792\n",
              "DELINQ             0.097315\n",
              "CLAGE              0.051678\n",
              "NINQ               0.085570\n",
              "CLNO               0.037248\n",
              "DEBTINC            0.212584\n",
              "dtype: float64"
            ]
          },
          "metadata": {},
          "execution_count": 92
        }
      ]
    },
    {
      "cell_type": "code",
      "metadata": {
        "colab": {
          "base_uri": "https://localhost:8080/"
        },
        "id": "7G3gcassvv0K",
        "outputId": "184a346f-c77c-492a-a618-ee8687fc7541"
      },
      "source": [
        "# Total missing values by dtypes\n",
        "df.isna().sum()"
      ],
      "execution_count": null,
      "outputs": [
        {
          "output_type": "execute_result",
          "data": {
            "text/plain": [
              "TARGET_BAD_FLAG       0\n",
              "TARGET_LOSS_AMT    4771\n",
              "LOAN                  0\n",
              "MORTDUE             518\n",
              "VALUE               112\n",
              "REASON              252\n",
              "JOB                 279\n",
              "YOJ                 515\n",
              "DEROG               708\n",
              "DELINQ              580\n",
              "CLAGE               308\n",
              "NINQ                510\n",
              "CLNO                222\n",
              "DEBTINC            1267\n",
              "dtype: int64"
            ]
          },
          "metadata": {},
          "execution_count": 93
        }
      ]
    },
    {
      "cell_type": "markdown",
      "metadata": {
        "id": "SaeiPuoRv6xp"
      },
      "source": [
        "#### Impute missing values"
      ]
    },
    {
      "cell_type": "code",
      "metadata": {
        "id": "Usv9BbS5v4sq"
      },
      "source": [
        "# Impute missing values for objects with NaNs in objList\n",
        "for i in objList:\n",
        "  df['REASON'] = df['REASON'].fillna(method='ffill')\n",
        "  df['JOB'] = df['JOB'].fillna(method='ffill')"
      ],
      "execution_count": null,
      "outputs": []
    },
    {
      "cell_type": "code",
      "metadata": {
        "id": "puGiefLNv4vI"
      },
      "source": [
        "# Impute missing values for objects with NaNs in numList\n",
        "for i in numList:\n",
        "  median_value = df['LOAN'].median()\n",
        "  df['LOAN'] = df['LOAN'].fillna(value=median_value)\n",
        "\n",
        "  median_value = df['MORTDUE'].median()\n",
        "  df['MORTDUE'] = df['MORTDUE'].fillna(value=median_value)\n",
        "\n",
        "  median_value = df['VALUE'].median()\n",
        "  df['VALUE'] = df['VALUE'].fillna(value=median_value)\n",
        "\n",
        "  mean_value = df['YOJ'].mean()\n",
        "  df['YOJ'] = df['YOJ'].fillna(value=mean_value)\n",
        "\n",
        "  mean_value = df['DEROG'].mean()\n",
        "  df['DEROG'] = df['DEROG'].fillna(value=mean_value)\n",
        "\n",
        "  mean_value = df['DELINQ'].mean()\n",
        "  df['DELINQ'] = df['DELINQ'].fillna(value=mean_value)\n",
        "  \n",
        "  mean_value = df['CLAGE'].mean()\n",
        "  df['CLAGE'] = df['CLAGE'].fillna(value=mean_value)\n",
        "\n",
        "  mean_value = df['NINQ'].mean()\n",
        "  df['NINQ'] = df['NINQ'].fillna(value=mean_value)\n",
        "\n",
        "  mean_value = df['CLNO'].mean()\n",
        "  df['CLNO'] = df['CLNO'].fillna(value=mean_value)\n",
        "\n",
        "  mean_value = df['DEBTINC'].mean()\n",
        "  df['DEBTINC'] = df['DEBTINC'].fillna(value=mean_value)"
      ],
      "execution_count": null,
      "outputs": []
    },
    {
      "cell_type": "code",
      "metadata": {
        "id": "YHgTEigJv4x0"
      },
      "source": [
        "# Impute missing values for target variables \n",
        "median_value = df['TARGET_LOSS_AMT'].median()\n",
        "df['TARGET_LOSS_AMT'] = df['TARGET_LOSS_AMT'].fillna(value=median_value)"
      ],
      "execution_count": null,
      "outputs": []
    },
    {
      "cell_type": "code",
      "metadata": {
        "colab": {
          "base_uri": "https://localhost:8080/"
        },
        "id": "i8aCj0a9v40Q",
        "outputId": "172f5b27-6cc4-4744-9806-c93fca46dd81"
      },
      "source": [
        "# Verify all missing values have been imputed\n",
        "df.isna().sum()"
      ],
      "execution_count": null,
      "outputs": [
        {
          "output_type": "execute_result",
          "data": {
            "text/plain": [
              "TARGET_BAD_FLAG    0\n",
              "TARGET_LOSS_AMT    0\n",
              "LOAN               0\n",
              "MORTDUE            0\n",
              "VALUE              0\n",
              "REASON             0\n",
              "JOB                0\n",
              "YOJ                0\n",
              "DEROG              0\n",
              "DELINQ             0\n",
              "CLAGE              0\n",
              "NINQ               0\n",
              "CLNO               0\n",
              "DEBTINC            0\n",
              "dtype: int64"
            ]
          },
          "metadata": {},
          "execution_count": 97
        }
      ]
    },
    {
      "cell_type": "markdown",
      "metadata": {
        "id": "2ehmKOg_wHiq"
      },
      "source": [
        "#### Perform one-hot encoding\n",
        "  - Perform one-hot-encoding on objList to convert object variables to numeric\n"
      ]
    },
    {
      "cell_type": "code",
      "metadata": {
        "colab": {
          "base_uri": "https://localhost:8080/"
        },
        "id": "5OTJj7YNv42g",
        "outputId": "0b488fc1-b4a0-416e-ca58-21bef47ec8ad"
      },
      "source": [
        "# Loop through each objList \n",
        "for i in objList :\n",
        "  print(\"Class = \", i)\n",
        "  thePrefix = \"IMP_\" + i\n",
        "  print(thePrefix)\n",
        "  y = pd.get_dummies(df[i], prefix = thePrefix, dummy_na = False)\n",
        "  print(type(y))\n",
        "  print(y.head().T)\n",
        "  df = pd.concat([df, y], axis = 1)\n",
        "  df = df.drop(i, axis = 1)\n",
        "\n",
        "print(df.head().T)"
      ],
      "execution_count": null,
      "outputs": [
        {
          "output_type": "stream",
          "name": "stdout",
          "text": [
            "Class =  REASON\n",
            "IMP_REASON\n",
            "<class 'pandas.core.frame.DataFrame'>\n",
            "                    0  1  2  3  4\n",
            "IMP_REASON_DebtCon  0  0  0  0  0\n",
            "IMP_REASON_HomeImp  1  1  1  1  1\n",
            "Class =  JOB\n",
            "IMP_JOB\n",
            "<class 'pandas.core.frame.DataFrame'>\n",
            "                 0  1  2  3  4\n",
            "IMP_JOB_Mgr      0  0  0  0  0\n",
            "IMP_JOB_Office   0  0  0  0  1\n",
            "IMP_JOB_Other    1  1  1  1  0\n",
            "IMP_JOB_ProfExe  0  0  0  0  0\n",
            "IMP_JOB_Sales    0  0  0  0  0\n",
            "IMP_JOB_Self     0  0  0  0  0\n",
            "                               0             1  ...             3              4\n",
            "TARGET_BAD_FLAG         1.000000      1.000000  ...      1.000000       0.000000\n",
            "TARGET_LOSS_AMT       641.000000   1109.000000  ...   1425.000000   11003.000000\n",
            "LOAN                 1100.000000   1300.000000  ...   1500.000000    1700.000000\n",
            "MORTDUE             25860.000000  70053.000000  ...  65019.000000   97800.000000\n",
            "VALUE               39025.000000  68400.000000  ...  89235.500000  112000.000000\n",
            "YOJ                    10.500000      7.000000  ...      8.922268       3.000000\n",
            "DEROG                   0.000000      0.000000  ...      0.254570       0.000000\n",
            "DELINQ                  0.000000      2.000000  ...      0.449442       0.000000\n",
            "CLAGE                  94.366667    121.833333  ...    179.766275      93.333333\n",
            "NINQ                    1.000000      0.000000  ...      1.186055       0.000000\n",
            "CLNO                    9.000000     14.000000  ...     21.296096      14.000000\n",
            "DEBTINC                33.779915     33.779915  ...     33.779915      33.779915\n",
            "IMP_REASON_DebtCon      0.000000      0.000000  ...      0.000000       0.000000\n",
            "IMP_REASON_HomeImp      1.000000      1.000000  ...      1.000000       1.000000\n",
            "IMP_JOB_Mgr             0.000000      0.000000  ...      0.000000       0.000000\n",
            "IMP_JOB_Office          0.000000      0.000000  ...      0.000000       1.000000\n",
            "IMP_JOB_Other           1.000000      1.000000  ...      1.000000       0.000000\n",
            "IMP_JOB_ProfExe         0.000000      0.000000  ...      0.000000       0.000000\n",
            "IMP_JOB_Sales           0.000000      0.000000  ...      0.000000       0.000000\n",
            "IMP_JOB_Self            0.000000      0.000000  ...      0.000000       0.000000\n",
            "\n",
            "[20 rows x 5 columns]\n"
          ]
        }
      ]
    },
    {
      "cell_type": "code",
      "metadata": {
        "colab": {
          "base_uri": "https://localhost:8080/"
        },
        "id": "m5KNBnnFwGxP",
        "outputId": "77c4dc75-e47e-4a24-d754-f0b9c3c96f1b"
      },
      "source": [
        "# Copy Main DataFrame df to X_df\n",
        "X_df = df.copy()\n",
        "X_df = X_df.drop(TARGET_BF, axis=1)\n",
        "X_df = X_df.drop(TARGET_LA, axis=1)\n",
        "X_df.info()"
      ],
      "execution_count": null,
      "outputs": [
        {
          "output_type": "stream",
          "name": "stdout",
          "text": [
            "<class 'pandas.core.frame.DataFrame'>\n",
            "RangeIndex: 5960 entries, 0 to 5959\n",
            "Data columns (total 18 columns):\n",
            " #   Column              Non-Null Count  Dtype  \n",
            "---  ------              --------------  -----  \n",
            " 0   LOAN                5960 non-null   int64  \n",
            " 1   MORTDUE             5960 non-null   float64\n",
            " 2   VALUE               5960 non-null   float64\n",
            " 3   YOJ                 5960 non-null   float64\n",
            " 4   DEROG               5960 non-null   float64\n",
            " 5   DELINQ              5960 non-null   float64\n",
            " 6   CLAGE               5960 non-null   float64\n",
            " 7   NINQ                5960 non-null   float64\n",
            " 8   CLNO                5960 non-null   float64\n",
            " 9   DEBTINC             5960 non-null   float64\n",
            " 10  IMP_REASON_DebtCon  5960 non-null   uint8  \n",
            " 11  IMP_REASON_HomeImp  5960 non-null   uint8  \n",
            " 12  IMP_JOB_Mgr         5960 non-null   uint8  \n",
            " 13  IMP_JOB_Office      5960 non-null   uint8  \n",
            " 14  IMP_JOB_Other       5960 non-null   uint8  \n",
            " 15  IMP_JOB_ProfExe     5960 non-null   uint8  \n",
            " 16  IMP_JOB_Sales       5960 non-null   uint8  \n",
            " 17  IMP_JOB_Self        5960 non-null   uint8  \n",
            "dtypes: float64(9), int64(1), uint8(8)\n",
            "memory usage: 512.3 KB\n"
          ]
        }
      ]
    },
    {
      "cell_type": "markdown",
      "metadata": {
        "id": "xzyaEvyyWLAX"
      },
      "source": [
        "### Bookeeping\n",
        "---\n",
        "* Main DataFrame: df\n",
        "* All input variables DataFrame: X_df\n",
        "* Target Variables DataFrame: Y_df\n",
        "* dtypes: df_dtypes\n",
        "* We want to predict the likelihood of loan default\n",
        "* TARGET_LA = 'TARGET_LOSS_AMT' = loan default\n",
        "* numList = numeric variables excluding target variables"
      ]
    },
    {
      "cell_type": "code",
      "metadata": {
        "colab": {
          "base_uri": "https://localhost:8080/",
          "height": 108
        },
        "id": "8FdOLQHDwGz0",
        "outputId": "a674c308-86c5-4cb4-8907-410e5dda0413"
      },
      "source": [
        "# Create another DataFrame for target varibles\n",
        "Y_df = df[[TARGET_BF, TARGET_LA]]\n",
        "Y_df.head().T"
      ],
      "execution_count": null,
      "outputs": [
        {
          "output_type": "execute_result",
          "data": {
            "text/html": [
              "<div>\n",
              "<style scoped>\n",
              "    .dataframe tbody tr th:only-of-type {\n",
              "        vertical-align: middle;\n",
              "    }\n",
              "\n",
              "    .dataframe tbody tr th {\n",
              "        vertical-align: top;\n",
              "    }\n",
              "\n",
              "    .dataframe thead th {\n",
              "        text-align: right;\n",
              "    }\n",
              "</style>\n",
              "<table border=\"1\" class=\"dataframe\">\n",
              "  <thead>\n",
              "    <tr style=\"text-align: right;\">\n",
              "      <th></th>\n",
              "      <th>0</th>\n",
              "      <th>1</th>\n",
              "      <th>2</th>\n",
              "      <th>3</th>\n",
              "      <th>4</th>\n",
              "    </tr>\n",
              "  </thead>\n",
              "  <tbody>\n",
              "    <tr>\n",
              "      <th>TARGET_BAD_FLAG</th>\n",
              "      <td>1.0</td>\n",
              "      <td>1.0</td>\n",
              "      <td>1.0</td>\n",
              "      <td>1.0</td>\n",
              "      <td>0.0</td>\n",
              "    </tr>\n",
              "    <tr>\n",
              "      <th>TARGET_LOSS_AMT</th>\n",
              "      <td>641.0</td>\n",
              "      <td>1109.0</td>\n",
              "      <td>767.0</td>\n",
              "      <td>1425.0</td>\n",
              "      <td>11003.0</td>\n",
              "    </tr>\n",
              "  </tbody>\n",
              "</table>\n",
              "</div>"
            ],
            "text/plain": [
              "                     0       1      2       3        4\n",
              "TARGET_BAD_FLAG    1.0     1.0    1.0     1.0      0.0\n",
              "TARGET_LOSS_AMT  641.0  1109.0  767.0  1425.0  11003.0"
            ]
          },
          "metadata": {},
          "execution_count": 100
        }
      ]
    },
    {
      "cell_type": "code",
      "metadata": {
        "id": "DQTFIoRNwG2e"
      },
      "source": [
        "# Store column variables in varNames\n",
        "varNames = X_df.columns\n",
        "\n",
        "# Transform\n",
        "theScaler = MinMaxScaler()\n",
        "\n",
        "#theScaler = StandardScaler()\n",
        "theScaler.fit(X_df)\n",
        "X_TRN = theScaler.transform(X_df)"
      ],
      "execution_count": null,
      "outputs": []
    },
    {
      "cell_type": "code",
      "metadata": {
        "colab": {
          "base_uri": "https://localhost:8080/"
        },
        "id": "iHbD0VanwG5T",
        "outputId": "623ce21c-6055-4c29-d606-40bdf947425c"
      },
      "source": [
        "# Create new DataFrame\n",
        "X_TRN = pd.DataFrame(X_TRN)\n",
        "print(X_TRN.head())"
      ],
      "execution_count": null,
      "outputs": [
        {
          "output_type": "stream",
          "name": "stdout",
          "text": [
            "         0         1         2         3         4   ...   13   14   15   16   17\n",
            "0  0.000000  0.059869  0.036590  0.256098  0.000000  ...  0.0  1.0  0.0  0.0  0.0\n",
            "1  0.002252  0.171050  0.071234  0.170732  0.000000  ...  0.0  1.0  0.0  0.0  0.0\n",
            "2  0.004505  0.028773  0.010261  0.097561  0.000000  ...  0.0  1.0  0.0  0.0  0.0\n",
            "3  0.004505  0.158385  0.095807  0.217616  0.025457  ...  0.0  1.0  0.0  0.0  0.0\n",
            "4  0.006757  0.240856  0.122655  0.073171  0.000000  ...  1.0  0.0  0.0  0.0  0.0\n",
            "\n",
            "[5 rows x 18 columns]\n"
          ]
        }
      ]
    },
    {
      "cell_type": "code",
      "metadata": {
        "colab": {
          "base_uri": "https://localhost:8080/"
        },
        "id": "J2AYktU0wG78",
        "outputId": "e01019c0-7af7-4361-bc18-7b76f43bff52"
      },
      "source": [
        "# Create list of variable names\n",
        "varNames_trn = []\n",
        "\n",
        "for i in varNames :\n",
        "    newName = \"trn_\" + i\n",
        "    varNames_trn.append( newName )\n",
        "\n",
        "print(varNames_trn)\n",
        "\n",
        "X_TRN.columns = varNames_trn\n",
        "print(X_TRN.head())\n",
        "print(X_TRN.describe())"
      ],
      "execution_count": null,
      "outputs": [
        {
          "output_type": "stream",
          "name": "stdout",
          "text": [
            "['trn_LOAN', 'trn_MORTDUE', 'trn_VALUE', 'trn_YOJ', 'trn_DEROG', 'trn_DELINQ', 'trn_CLAGE', 'trn_NINQ', 'trn_CLNO', 'trn_DEBTINC', 'trn_IMP_REASON_DebtCon', 'trn_IMP_REASON_HomeImp', 'trn_IMP_JOB_Mgr', 'trn_IMP_JOB_Office', 'trn_IMP_JOB_Other', 'trn_IMP_JOB_ProfExe', 'trn_IMP_JOB_Sales', 'trn_IMP_JOB_Self']\n",
            "   trn_LOAN  trn_MORTDUE  ...  trn_IMP_JOB_Sales  trn_IMP_JOB_Self\n",
            "0  0.000000     0.059869  ...                0.0               0.0\n",
            "1  0.002252     0.171050  ...                0.0               0.0\n",
            "2  0.004505     0.028773  ...                0.0               0.0\n",
            "3  0.004505     0.158385  ...                0.0               0.0\n",
            "4  0.006757     0.240856  ...                0.0               0.0\n",
            "\n",
            "[5 rows x 18 columns]\n",
            "          trn_LOAN  trn_MORTDUE  ...  trn_IMP_JOB_Sales  trn_IMP_JOB_Self\n",
            "count  5960.000000  5960.000000  ...        5960.000000       5960.000000\n",
            "mean      0.197162     0.178466  ...           0.019631          0.035738\n",
            "std       0.126210     0.107054  ...           0.138740          0.185652\n",
            "min       0.000000     0.000000  ...           0.000000          0.000000\n",
            "25%       0.112613     0.115918  ...           0.000000          0.000000\n",
            "50%       0.171171     0.158385  ...           0.000000          0.000000\n",
            "75%       0.250000     0.216705  ...           0.000000          0.000000\n",
            "max       1.000000     1.000000  ...           1.000000          1.000000\n",
            "\n",
            "[8 rows x 18 columns]\n"
          ]
        }
      ]
    },
    {
      "cell_type": "markdown",
      "metadata": {
        "id": "OZvv5vm_tp1F"
      },
      "source": [
        "### Create a **TRAINING data set** and a **TEST data set**\n",
        "---"
      ]
    },
    {
      "cell_type": "code",
      "metadata": {
        "colab": {
          "base_uri": "https://localhost:8080/"
        },
        "id": "y76vju0JwG-o",
        "outputId": "136d6aa2-fdbc-4847-8e7e-e62e3fd185ea"
      },
      "source": [
        "# Split data\n",
        "X_train, X_test, Y_train, Y_test = train_test_split(X_df, Y_df, train_size=0.8,\n",
        "                                                    test_size=0.2, random_state=1)\n",
        "print('FLAG DATA:')\n",
        "print('TRAINING DATA = ', X_train.shape)\n",
        "print('TEST DATA = ', X_test.shape, '\\n')"
      ],
      "execution_count": null,
      "outputs": [
        {
          "output_type": "stream",
          "name": "stdout",
          "text": [
            "FLAG DATA:\n",
            "TRAINING DATA =  (4768, 18)\n",
            "TEST DATA =  (1192, 18) \n",
            "\n"
          ]
        }
      ]
    },
    {
      "cell_type": "markdown",
      "metadata": {
        "id": "Zp7g19hTV1Zu"
      },
      "source": [
        "### Bookeeping\n",
        "---\n",
        "* Main DataFrame: `df`\n",
        "* dtypes DataFrame: `dtypes_df`\n",
        "* all inputs variables DataFrame: `X_df`\n",
        "* X_train\n",
        "* X_test\n",
        "* Y_train\n",
        "* Y_test"
      ]
    },
    {
      "cell_type": "markdown",
      "metadata": {
        "id": "INxwshtoMORA"
      },
      "source": [
        "#### Custom Functions for Model Accuracy Metrics"
      ]
    },
    {
      "cell_type": "code",
      "metadata": {
        "id": "MfMkVzFoMMU8"
      },
      "source": [
        "# Custom functions from lecture notes\n",
        "def getProbAccuracyScores( NAME, MODEL, X, Y ) :\n",
        "  pred = MODEL.predict( X )\n",
        "  probs = MODEL.predict_proba( X )\n",
        "  acc_score = metrics.accuracy_score(Y, pred)\n",
        "  p1 = probs[:,1]\n",
        "  fpr, tpr, threshold = metrics.roc_curve( Y, p1)\n",
        "  auc = metrics.auc(fpr,tpr)\n",
        "  return [NAME, acc_score, fpr, tpr, auc]\n",
        "\n",
        "def getAmtAccuracyScores( NAME, MODEL, X, Y ) :\n",
        "  pred = MODEL.predict( X )\n",
        "  MEAN = Y.mean()\n",
        "  RMSE = math.sqrt( metrics.mean_squared_error( Y, pred))\n",
        "  return [NAME, RMSE, MEAN]\n",
        "\n",
        "def print_ROC_Curve( TITLE, LIST ) :\n",
        "  fig = plt.figure(figsize=(6,4))\n",
        "  plt.title( TITLE )\n",
        "  for theResults in LIST :\n",
        "      NAME = theResults[0]\n",
        "      fpr = theResults[2]\n",
        "      tpr = theResults[3]\n",
        "      auc = theResults[4]\n",
        "      theLabel = \"AUC \" + NAME + ' %0.2f' % auc\n",
        "      plt.plot(fpr, tpr, label = theLabel )\n",
        "  plt.legend(loc = 'lower right')\n",
        "  plt.plot([0, 1], [0, 1],'r--')\n",
        "  plt.xlim([0, 1])\n",
        "  plt.ylim([0, 1])\n",
        "  plt.ylabel('True Positive Rate')\n",
        "  plt.xlabel('False Positive Rate')\n",
        "  plt.show()\n",
        "\n",
        "def print_Accuracy( TITLE, LIST ) :\n",
        "  print( TITLE )\n",
        "  print( \"======\" )\n",
        "  for theResults in LIST :\n",
        "      NAME = theResults[0]\n",
        "      ACC = theResults[1]\n",
        "      print( NAME, \" = \", ACC )\n",
        "  print( \"------\\n\\n\" )\n",
        "\n",
        "def getCoefLogit( MODEL, TRAIN_DATA ) :\n",
        "    varNames = list( TRAIN_DATA.columns.values )\n",
        "    coef_dict = {}\n",
        "    coef_dict[\"INTERCEPT\"] = MODEL.intercept_[0]\n",
        "    for coef, feat in zip(MODEL.coef_[0],varNames):\n",
        "        coef_dict[feat] = coef\n",
        "    print(\"\\nLOAN DEFAULT\")\n",
        "    print(\"---------\")\n",
        "    print(\"Total Variables: \", len( coef_dict ) )\n",
        "    for i in coef_dict :\n",
        "        print( i, \" = \", coef_dict[i]  )\n",
        "\n",
        "def getCoefLinear( MODEL, TRAIN_DATA ) :\n",
        "    varNames = list( TRAIN_DATA.columns.values )\n",
        "    coef_dict = {}\n",
        "    coef_dict[\"INTERCEPT\"] = MODEL.intercept_\n",
        "    for coef, feat in zip(MODEL.coef_,varNames):\n",
        "        coef_dict[feat] = coef\n",
        "    print(\"\\nLOSS AMOUNT\")\n",
        "    print(\"---------\")\n",
        "    print(\"Total Variables: \", len( coef_dict ) )\n",
        "    for i in coef_dict :\n",
        "        print( i, \" = \", coef_dict[i]  )"
      ],
      "execution_count": null,
      "outputs": []
    },
    {
      "cell_type": "code",
      "metadata": {
        "id": "G284SuStTs4A"
      },
      "source": [
        "# Tree search\n",
        "def getTreeVars(TREE, varNames):\n",
        "  tree_ = TREE.tree_\n",
        "  varName = [varNames[i] if i != _tree.TREE_UNDEFINED else \"undefined!\" for i in tree_.feature]\n",
        "\n",
        "  nameSet = set()\n",
        "  for i in tree_.feature :\n",
        "      if i != _tree.TREE_UNDEFINED :\n",
        "          nameSet.add(i)\n",
        "  nameList = list(nameSet)\n",
        "  parameter_list = list()\n",
        "  for i in nameList :\n",
        "      parameter_list.append(varNames[i])\n",
        "  return parameter_list"
      ],
      "execution_count": null,
      "outputs": []
    },
    {
      "cell_type": "code",
      "metadata": {
        "id": "jqQn-9fFUSr_"
      },
      "source": [
        "# Create tree search function for Random Forests (from lecture notes)\n",
        "def getEnsembleTreeVars(ENSTREE, varNames) :\n",
        "    importance = ENSTREE.feature_importances_\n",
        "    index = np.argsort(importance)\n",
        "    theList = []\n",
        "    for i in index :\n",
        "        imp_val = importance[i]\n",
        "        if imp_val > np.average(ENSTREE.feature_importances_):\n",
        "            v = int(imp_val / np.max(ENSTREE.feature_importances_) * 100)\n",
        "            theList.append((varNames[i], v ))\n",
        "    theList = sorted(theList,key=itemgetter(1),reverse=True)\n",
        "    return theList"
      ],
      "execution_count": null,
      "outputs": []
    },
    {
      "cell_type": "markdown",
      "metadata": {
        "id": "dek62raiSUKr"
      },
      "source": [
        "### Initial Start Point Decision Trees\n",
        "* Finding Most Important Features"
      ]
    },
    {
      "cell_type": "code",
      "metadata": {
        "id": "kYZWsDjhTQzb"
      },
      "source": [
        "# Create a decision tree classifier with respect to TARGET_BF\n",
        "fm01_Tree = tree.DecisionTreeClassifier(random_state=4, max_depth=5)\n",
        "fm01_Tree = fm01_Tree.fit(X_train, Y_train[TARGET_BF])"
      ],
      "execution_count": null,
      "outputs": []
    },
    {
      "cell_type": "code",
      "metadata": {
        "id": "yAvOhnAkTQ7y"
      },
      "source": [
        "# Score predictions for Y_train and Y_test\n",
        "Y_pred_train = fm01_Tree.predict(X_train)\n",
        "Y_pred_test = fm01_Tree.predict(X_test)"
      ],
      "execution_count": null,
      "outputs": []
    },
    {
      "cell_type": "code",
      "metadata": {
        "colab": {
          "base_uri": "https://localhost:8080/"
        },
        "id": "KBjFTnpiTRCa",
        "outputId": "637ff130-ccd1-49a7-c0d3-1195e9915421"
      },
      "source": [
        "# Display accuracy of prediction\n",
        "print('Train Accuracy:', metrics.accuracy_score(Y_train[TARGET_BF], Y_pred_train))\n",
        "print('Test Accuracy (new data):', metrics.accuracy_score(Y_test[TARGET_BF], Y_pred_test))"
      ],
      "execution_count": null,
      "outputs": [
        {
          "output_type": "stream",
          "name": "stdout",
          "text": [
            "Train Accuracy: 0.893246644295302\n",
            "Test Accuracy (new data): 0.8850671140939598\n"
          ]
        }
      ]
    },
    {
      "cell_type": "markdown",
      "metadata": {
        "id": "q47hubRTTm4M"
      },
      "source": [
        "Notes:\n",
        "* `Y_train[TARGET_BF]` is what actually happened \n",
        "* `probs_grp1` is the associated probability value for what happened\n",
        " - Column 0 contains row data for Current\n",
        " - Column 1 contains row data for Loan Default\n",
        "threshold: acts like a trigger to initiate some action you want to perform"
      ]
    },
    {
      "cell_type": "markdown",
      "metadata": {
        "id": "dpfuJKh9TdBY"
      },
      "source": [
        "#### Simple Decision Tree (without Regression)"
      ]
    },
    {
      "cell_type": "code",
      "metadata": {
        "colab": {
          "base_uri": "https://localhost:8080/",
          "height": 522
        },
        "id": "raHOuH8FNQJq",
        "outputId": "405541ae-d3d7-4ec5-cad6-7cc2b493e90b"
      },
      "source": [
        "# Loan Default\n",
        "WHO = \"TREE\"\n",
        "\n",
        "CLM = tree.DecisionTreeClassifier(random_state=4, max_depth=5)\n",
        "CLM = CLM.fit(X_train, Y_train[TARGET_BF])\n",
        "\n",
        "TRAIN_CLM = getProbAccuracyScores(WHO + \"_Train\", CLM, X_train, Y_train[TARGET_BF])\n",
        "TEST_CLM = getProbAccuracyScores(WHO, CLM, X_test, Y_test[TARGET_BF])\n",
        "\n",
        "print_ROC_Curve(WHO, [TRAIN_CLM, TEST_CLM]) \n",
        "print_Accuracy(WHO + \" CLASSIFICATION ACCURACY\", [TRAIN_CLM, TEST_CLM])\n",
        "\n",
        "feature_cols = list(X_df.columns.values)\n",
        "tree.export_graphviz(CLM, out_file='tree_f.txt',filled=True,\n",
        "                     rounded=True, feature_names = feature_cols,\n",
        "                     impurity=False, class_names=[\"Good\",\"Bad\"])\n",
        "vars_tree_flag = getTreeVars(CLM, feature_cols) \n",
        "\n",
        "# Loss Amount\n",
        "AMT = tree.DecisionTreeRegressor(max_depth=4)\n",
        "AMT = AMT.fit(X_train, Y_train[TARGET_LA])\n",
        "\n",
        "TRAIN_AMT = getAmtAccuracyScores(WHO + \"_Train\", AMT, X_train, Y_train[TARGET_LA])\n",
        "TEST_AMT = getAmtAccuracyScores(WHO, AMT, X_test, Y_test[TARGET_LA])\n",
        "print_Accuracy(WHO + \" RMSE ACCURACY\", [TRAIN_AMT, TEST_AMT])\n",
        "\n",
        "feature_cols = list(X_df.columns.values)\n",
        "vars_tree_flag = getEnsembleTreeVars(CLM, feature_cols )\n",
        "\n",
        "TREE_CLM = TEST_CLM.copy()\n",
        "TREE_AMT = TEST_AMT.copy()"
      ],
      "execution_count": null,
      "outputs": [
        {
          "output_type": "display_data",
          "data": {
            "image/png": "[encoded data removed]",
            "text/plain": [
              "<Figure size 432x288 with 1 Axes>"
            ]
          },
          "metadata": {
            "needs_background": "light"
          }
        },
        {
          "output_type": "stream",
          "name": "stdout",
          "text": [
            "TREE CLASSIFICATION ACCURACY\n",
            "======\n",
            "TREE_Train  =  0.893246644295302\n",
            "TREE  =  0.8850671140939598\n",
            "------\n",
            "\n",
            "\n",
            "TREE RMSE ACCURACY\n",
            "======\n",
            "TREE_Train  =  3581.7014877036095\n",
            "TREE  =  4256.887056540744\n",
            "------\n",
            "\n",
            "\n"
          ]
        }
      ]
    },
    {
      "cell_type": "code",
      "metadata": {
        "colab": {
          "base_uri": "https://localhost:8080/"
        },
        "id": "w2TbrGe_TRJY",
        "outputId": "47fad9bd-cdd2-4c1e-badc-55b34ff03424"
      },
      "source": [
        "# Create a prediction using probability value \n",
        "print('Probability of Loan Default')\n",
        "probs = fm01_Tree.predict_proba(X_train)\n",
        "probs_grp1 = probs[0:10] # Lists first 10 people and their associated probability \n",
        "probs_grp1"
      ],
      "execution_count": null,
      "outputs": [
        {
          "output_type": "stream",
          "name": "stdout",
          "text": [
            "Probability of Loan Default\n"
          ]
        },
        {
          "output_type": "execute_result",
          "data": {
            "text/plain": [
              "array([[0.06870229, 0.93129771],\n",
              "       [0.23170732, 0.76829268],\n",
              "       [0.94667466, 0.05332534],\n",
              "       [0.40572792, 0.59427208],\n",
              "       [0.94667466, 0.05332534],\n",
              "       [0.94667466, 0.05332534],\n",
              "       [0.        , 1.        ],\n",
              "       [0.23170732, 0.76829268],\n",
              "       [0.96558989, 0.03441011],\n",
              "       [0.94667466, 0.05332534]])"
            ]
          },
          "metadata": {},
          "execution_count": 112
        }
      ]
    },
    {
      "cell_type": "code",
      "metadata": {
        "id": "tZfhyir3TRPZ"
      },
      "source": [
        "# Predict probability of outcomes\n",
        "probs = fm01_Tree.predict_proba(X_train)\n",
        "probs_grp2 = probs[:,1] # Look across all rows in Column 1 \n",
        "false_pos_rate_train, true_pos_rate_train, threshold = metrics.roc_curve(Y_train[TARGET_BF], probs_grp2)\n",
        "# print(probs_grp2[0:10],'\\n') # Grabs first 10 probabilites \n",
        "\n",
        "# Represents area under the ROC Curve (training data)\n",
        "roc_auc_train = metrics.auc(false_pos_rate_train, true_pos_rate_train)"
      ],
      "execution_count": null,
      "outputs": []
    },
    {
      "cell_type": "code",
      "metadata": {
        "id": "Ch8tul3XTRVu"
      },
      "source": [
        "# Predict probability of outcomes\n",
        "probs = fm01_Tree.predict_proba(X_test)\n",
        "probs_grp2 = probs[:,1] # Look across all rows in Column 1 \n",
        "false_pos_rate_test, true_pos_rate_test, threshold = metrics.roc_curve(Y_test[TARGET_BF], probs_grp2)\n",
        "\n",
        "# Represents area under the ROC Curve (test data)\n",
        "roc_auc_test = metrics.auc(false_pos_rate_test, true_pos_rate_test)"
      ],
      "execution_count": null,
      "outputs": []
    },
    {
      "cell_type": "code",
      "metadata": {
        "colab": {
          "base_uri": "https://localhost:8080/",
          "height": 295
        },
        "id": "Yg6b-nKpTssQ",
        "outputId": "7df4fc56-8616-4653-8f48-d45c412464a0"
      },
      "source": [
        "# Create ROC Curve\n",
        "plt.title('TREE ROC CURVE')\n",
        "plt.plot(false_pos_rate_train, true_pos_rate_train, 'b',\n",
        "         label='AUC TRAIN = %0.2f' % roc_auc_train, color='blue')\n",
        "plt.plot(false_pos_rate_test, true_pos_rate_test, 'b',\n",
        "         label='AUC TEST = %0.2f' % roc_auc_test, color='red')\n",
        "plt.legend(loc='lower right')\n",
        "plt.plot([0, 1], [0, 1], 'g--')\n",
        "plt.xlim([0, 1])\n",
        "plt.ylim([0, 1])\n",
        "plt.ylabel('True Positive Rate')\n",
        "plt.xlabel('False Positive Rate')\n",
        "plt.show()"
      ],
      "execution_count": null,
      "outputs": [
        {
          "output_type": "display_data",
          "data": {
            "image/png": "[encoded data removed]",
            "text/plain": [
              "<Figure size 432x288 with 1 Axes>"
            ]
          },
          "metadata": {
            "needs_background": "light"
          }
        }
      ]
    },
    {
      "cell_type": "markdown",
      "metadata": {
        "id": "2tpOuU95TwYu"
      },
      "source": [
        "###### RMSE of Decision Tree"
      ]
    },
    {
      "cell_type": "code",
      "metadata": {
        "id": "UzWqBTOITv-a"
      },
      "source": [
        "# Create a decision tree regressor with respect to TARGET_A\n",
        "amt_m01_Tree = tree.DecisionTreeRegressor(random_state=4, max_depth=5)\n",
        "amt_m01_Tree = amt_m01_Tree.fit(X_train, Y_train[TARGET_LA])"
      ],
      "execution_count": null,
      "outputs": []
    },
    {
      "cell_type": "code",
      "metadata": {
        "id": "HGVz5JgETwJG"
      },
      "source": [
        "# Score predictions for Y_pred_train and Y_pred_test\n",
        "Y_pred_train = fm01_Tree.predict(X_train)\n",
        "Y_pred_test = fm01_Tree.predict(X_test)"
      ],
      "execution_count": null,
      "outputs": []
    },
    {
      "cell_type": "code",
      "metadata": {
        "colab": {
          "base_uri": "https://localhost:8080/"
        },
        "id": "4f-RtVGFTwQq",
        "outputId": "37785e4e-9d67-4f78-c24b-49085300c028"
      },
      "source": [
        "# Inspect mean value for train and test\n",
        "print(\"MEAN Train\", Y_train[TARGET_LA].mean())\n",
        "print(\"MEAN Test\", Y_test[TARGET_LA].mean())"
      ],
      "execution_count": null,
      "outputs": [
        {
          "output_type": "stream",
          "name": "stdout",
          "text": [
            "MEAN Train 11480.337458053691\n",
            "MEAN Test 11499.157718120805\n"
          ]
        }
      ]
    },
    {
      "cell_type": "code",
      "metadata": {
        "colab": {
          "base_uri": "https://localhost:8080/"
        },
        "id": "ZYwD973PT74v",
        "outputId": "048e2eac-df82-4035-b5ce-692650e44f6b"
      },
      "source": [
        "# Perform RMSE\n",
        "RMSE_TRAIN = math.sqrt(metrics.mean_squared_error(Y_train[TARGET_LA], Y_pred_train))\n",
        "RMSE_TEST = math.sqrt(metrics.mean_squared_error(Y_test[TARGET_LA], Y_pred_test))\n",
        "print(\"TREE RMSE Train:\", RMSE_TRAIN)\n",
        "print(\"TREE RMSE Test:\", RMSE_TEST, '\\n')\n",
        "\n",
        "RMSE_TREE = RMSE_TEST\n",
        "feature_cols = list(X_df.columns.values)\n",
        "vars_tree_amt = getTreeVars(fm01_Tree, feature_cols)"
      ],
      "execution_count": null,
      "outputs": [
        {
          "output_type": "stream",
          "name": "stdout",
          "text": [
            "TREE RMSE Train: 12455.242717475097\n",
            "TREE RMSE Test: 12673.130102827317 \n",
            "\n"
          ]
        }
      ]
    },
    {
      "cell_type": "code",
      "metadata": {
        "colab": {
          "base_uri": "https://localhost:8080/",
          "height": 278
        },
        "id": "FAXrsamkT8E1",
        "outputId": "fe2e5000-9d06-4814-98ba-3cf70239b094"
      },
      "source": [
        "def feature_importance(model):\n",
        "  n_features = X_train.shape[1]\n",
        "  plt.barh(np.arange(n_features), model.feature_importances_, align='center')\n",
        "  plt.yticks(np.arange(n_features), X_train.columns)\n",
        "  plt.xlabel(\"Feature importance\")\n",
        "  plt.ylabel(\"Feature\")\n",
        "  plt.ylim(-1, n_features)\n",
        "feature_importance(fm01_Tree)"
      ],
      "execution_count": null,
      "outputs": [
        {
          "output_type": "display_data",
          "data": {
            "image/png": "[encoded data removed]",
            "text/plain": [
              "<Figure size 432x288 with 1 Axes>"
            ]
          },
          "metadata": {
            "needs_background": "light"
          }
        }
      ]
    },
    {
      "cell_type": "markdown",
      "metadata": {
        "id": "TFVE_LcsN_id"
      },
      "source": [
        "### Initial Start Point Random Forest\n",
        "* Finding Most Important Features"
      ]
    },
    {
      "cell_type": "code",
      "metadata": {
        "id": "Ytvl-7AMUZUo"
      },
      "source": [
        "# Create a RandomForestClassifier \n",
        "# Fit model to data (models are dynamic, data is static)\n",
        "fm01_RF = RandomForestClassifier(random_state=4, max_depth=5)\n",
        "fm01_RF = fm01_RF.fit(X_train, Y_train[TARGET_BF])"
      ],
      "execution_count": null,
      "outputs": []
    },
    {
      "cell_type": "code",
      "metadata": {
        "id": "InFffUJ1UZdA"
      },
      "source": [
        "# Predict probability of outcomes\n",
        "probs = fm01_RF.predict_proba(X_test)\n",
        "p1 = probs[:, 1]\n",
        "fpr_test, tpr_test, threshold = metrics.roc_curve(Y_test[TARGET_BF], p1)\n",
        "roc_auc_test = metrics.auc(fpr_test, tpr_test)"
      ],
      "execution_count": null,
      "outputs": []
    },
    {
      "cell_type": "code",
      "metadata": {
        "id": "tEisChqwUZqg"
      },
      "source": [
        "# Store variables values in new variables\n",
        "fpr_RF = fpr_test\n",
        "tpr_RF = tpr_test\n",
        "auc_RF = roc_auc_test"
      ],
      "execution_count": null,
      "outputs": []
    },
    {
      "cell_type": "code",
      "metadata": {
        "id": "79GJpsN1Ueza"
      },
      "source": [
        "# Predict probability of outcomes\n",
        "probs = fm01_RF.predict_proba(X_train)\n",
        "p1 = probs[:, 1]\n",
        "fpr_train, tpr_train, threshold = metrics.roc_curve(Y_train[TARGET_BF], p1)\n",
        "roc_auc_train = metrics.auc(fpr_train, tpr_train)"
      ],
      "execution_count": null,
      "outputs": []
    },
    {
      "cell_type": "code",
      "metadata": {
        "colab": {
          "base_uri": "https://localhost:8080/"
        },
        "id": "LfmGjuqdUe_T",
        "outputId": "153016d7-8928-462c-b927-2cca7d10d52a"
      },
      "source": [
        "# Gather relevant variables used in model prediction\n",
        "feature_cols = list(X_df.columns.values)\n",
        "vars_RF_flag = getEnsembleTreeVars(fm01_RF, feature_cols)\n",
        "\n",
        "# Output best predictor variable/s\n",
        "for i in vars_RF_flag :\n",
        "   print(i)"
      ],
      "execution_count": null,
      "outputs": [
        {
          "output_type": "stream",
          "name": "stdout",
          "text": [
            "('DEBTINC', 100)\n",
            "('DELINQ', 81)\n",
            "('DEROG', 49)\n",
            "('CLAGE', 25)\n",
            "('LOAN', 19)\n"
          ]
        }
      ]
    },
    {
      "cell_type": "code",
      "metadata": {
        "id": "A2Mb85eRUfH9"
      },
      "source": [
        "# Score predictions for Y_Pred_train and Y_Pred_test\n",
        "Y_Pred_train = fm01_RF.predict(X_train)\n",
        "Y_Pred_test = fm01_RF.predict(X_test)"
      ],
      "execution_count": null,
      "outputs": []
    },
    {
      "cell_type": "code",
      "metadata": {
        "colab": {
          "base_uri": "https://localhost:8080/"
        },
        "id": "TyeCfe_vUkZD",
        "outputId": "cc2b0613-f13c-457d-8ec4-68370c05fb96"
      },
      "source": [
        "print(\"RANDOM FOREST\\n\")\n",
        "print(\"Probability of Loan Default\")\n",
        "print(\"Train Accuracy:\",metrics.accuracy_score(Y_train[TARGET_BF], Y_Pred_train))\n",
        "print(\"Test Accuracy:\",metrics.accuracy_score(Y_test[TARGET_BF], Y_Pred_test))"
      ],
      "execution_count": null,
      "outputs": [
        {
          "output_type": "stream",
          "name": "stdout",
          "text": [
            "RANDOM FOREST\n",
            "\n",
            "Probability of Loan Default\n",
            "Train Accuracy: 0.8687080536912751\n",
            "Test Accuracy: 0.8364093959731543\n"
          ]
        }
      ]
    },
    {
      "cell_type": "code",
      "metadata": {
        "colab": {
          "base_uri": "https://localhost:8080/",
          "height": 295
        },
        "id": "Yig3A1uzUkqm",
        "outputId": "3457b98c-466e-4505-97ff-51d1cd10db60"
      },
      "source": [
        "# Create ROC Curve\n",
        "plt.title('RF ROC CURVE')\n",
        "plt.plot(fpr_train, tpr_train, 'b', label = 'AUC TRAIN = %0.2f' % roc_auc_train)\n",
        "plt.plot(fpr_test, tpr_test, 'b', label = 'AUC TEST = %0.2f' % roc_auc_test, color=\"red\")\n",
        "plt.legend(loc = 'lower right')\n",
        "plt.plot([0, 1], [0, 1],'g--')\n",
        "plt.xlim([0, 1])\n",
        "plt.ylim([0, 1])\n",
        "plt.ylabel('True Positive Rate')\n",
        "plt.xlabel('False Positive Rate')\n",
        "plt.show()"
      ],
      "execution_count": null,
      "outputs": [
        {
          "output_type": "display_data",
          "data": {
            "image/png": "[encoded data removed]",
            "text/plain": [
              "<Figure size 432x288 with 1 Axes>"
            ]
          },
          "metadata": {
            "needs_background": "light"
          }
        }
      ]
    },
    {
      "cell_type": "markdown",
      "metadata": {
        "id": "dwnNJJ2gUIsj"
      },
      "source": [
        "#### Random Forest (without Regression)"
      ]
    },
    {
      "cell_type": "code",
      "metadata": {
        "colab": {
          "base_uri": "https://localhost:8080/",
          "height": 522
        },
        "id": "h6IAb5OvN6Ak",
        "outputId": "033f3849-26d3-4916-e052-20a78e31df1b"
      },
      "source": [
        "# Loan Default\n",
        "WHO = \"RF\"\n",
        "\n",
        "CLM = RandomForestClassifier(random_state=4, max_depth=5)\n",
        "CLM = CLM.fit(X_train, Y_train[TARGET_BF])\n",
        "\n",
        "TRAIN_CLM = getProbAccuracyScores(WHO + \"_Train\", CLM, X_train, Y_train[ TARGET_BF])\n",
        "TEST_CLM = getProbAccuracyScores(WHO, CLM, X_test, Y_test[TARGET_BF])\n",
        "\n",
        "print_ROC_Curve(WHO, [TRAIN_CLM, TEST_CLM]) \n",
        "print_Accuracy(WHO + \" CLASSIFICATION ACCURACY\", [TRAIN_CLM, TEST_CLM])\n",
        "\n",
        "feature_cols = list(X_df.columns.values)\n",
        "vars_RF_flag = getEnsembleTreeVars(CLM, feature_cols)\n",
        "\n",
        "# Loss Amount\n",
        "AMT = RandomForestRegressor(n_estimators=100, random_state=4)\n",
        "AMT = AMT.fit( X_train, Y_train[TARGET_LA])\n",
        "\n",
        "TRAIN_AMT = getAmtAccuracyScores(WHO + \"_Train\", AMT, X_train, Y_train[TARGET_LA])\n",
        "TEST_AMT = getAmtAccuracyScores(WHO, AMT, X_test, Y_test[TARGET_LA])\n",
        "print_Accuracy(WHO + \" RMSE ACCURACY\", [TRAIN_AMT, TEST_AMT])\n",
        "\n",
        "feature_cols = list(X_df.columns.values)\n",
        "vars_tree_amt = getEnsembleTreeVars(AMT, feature_cols) \n",
        "\n",
        "## for i in vars_RF_amt:\n",
        "##   print(i)\n",
        "\n",
        "RF_CLM = TEST_CLM.copy()\n",
        "RF_AMT = TEST_AMT.copy()"
      ],
      "execution_count": null,
      "outputs": [
        {
          "output_type": "display_data",
          "data": {
            "image/png": "[encoded data removed]",
            "text/plain": [
              "<Figure size 432x288 with 1 Axes>"
            ]
          },
          "metadata": {
            "needs_background": "light"
          }
        },
        {
          "output_type": "stream",
          "name": "stdout",
          "text": [
            "RF CLASSIFICATION ACCURACY\n",
            "======\n",
            "RF_Train  =  0.8687080536912751\n",
            "RF  =  0.8364093959731543\n",
            "------\n",
            "\n",
            "\n",
            "RF RMSE ACCURACY\n",
            "======\n",
            "RF_Train  =  976.6989722123595\n",
            "RF  =  2568.5870853792712\n",
            "------\n",
            "\n",
            "\n"
          ]
        }
      ]
    },
    {
      "cell_type": "markdown",
      "metadata": {
        "id": "kifx24BRUqYc"
      },
      "source": [
        "##### RMSE of Random Forest"
      ]
    },
    {
      "cell_type": "code",
      "metadata": {
        "id": "IaK9zDD6UpSY"
      },
      "source": [
        "# Create a RandomForestRegressor with respect to TARGET_A\n",
        "# Fit model to data (models are dynamic, data is static)\n",
        "amt_m01_RF = RandomForestRegressor(random_state=4, max_depth=5)\n",
        "amt_m01_RF = amt_m01_RF.fit(X_train, Y_train[TARGET_LA])"
      ],
      "execution_count": null,
      "outputs": []
    },
    {
      "cell_type": "code",
      "metadata": {
        "id": "g2uolskcUpej"
      },
      "source": [
        "# Score predictions for X_train and X_test\n",
        "Y_Pred_train = amt_m01_Tree.predict(X_train)\n",
        "Y_Pred_test = amt_m01_Tree.predict(X_test)"
      ],
      "execution_count": null,
      "outputs": []
    },
    {
      "cell_type": "code",
      "metadata": {
        "colab": {
          "base_uri": "https://localhost:8080/"
        },
        "id": "vhu2Z98-Uw8R",
        "outputId": "8d7f5e18-c134-4833-98fd-85d06f0f9c6b"
      },
      "source": [
        "# Inspect mean value for train and test\n",
        "RMSE_TRAIN = math.sqrt(metrics.mean_squared_error(Y_train[TARGET_LA],\n",
        "                                                   Y_Pred_train))\n",
        "RMSE_TEST = math.sqrt(metrics.mean_squared_error(Y_test[TARGET_LA],\n",
        "                                                  Y_Pred_test))\n",
        "\n",
        "print(\"RF RMSE Train\", RMSE_TRAIN)\n",
        "print(\"RF RMSE Test\", RMSE_TEST)"
      ],
      "execution_count": null,
      "outputs": [
        {
          "output_type": "stream",
          "name": "stdout",
          "text": [
            "RF RMSE Train 3214.616729791754\n",
            "RF RMSE Test 3679.9310534755177\n"
          ]
        }
      ]
    },
    {
      "cell_type": "code",
      "metadata": {
        "colab": {
          "base_uri": "https://localhost:8080/"
        },
        "id": "WWeNryvQUxKb",
        "outputId": "9118884f-57ea-473b-f3b0-8e86d67ad218"
      },
      "source": [
        "# List the variables included in the Random Forest that predict loss amount\n",
        "RMSE_RF = RMSE_TEST\n",
        "feature_cols = list(X_df.columns.values)\n",
        "vars_RF_amt = getEnsembleTreeVars(amt_m01_RF, feature_cols)\n",
        "\n",
        "# Output best predictor variable/s\n",
        "for i in vars_RF_amt :\n",
        "   print(i)"
      ],
      "execution_count": null,
      "outputs": [
        {
          "output_type": "stream",
          "name": "stdout",
          "text": [
            "('LOAN', 100)\n",
            "('DELINQ', 74)\n",
            "('CLNO', 29)\n",
            "('DEBTINC', 24)\n"
          ]
        }
      ]
    },
    {
      "cell_type": "code",
      "metadata": {
        "colab": {
          "base_uri": "https://localhost:8080/",
          "height": 278
        },
        "id": "QgPboHO2UxYQ",
        "outputId": "67234d79-56ff-4123-8394-34d9d785cf2f"
      },
      "source": [
        "def feature_importance(model):\n",
        "  n_features = X_train.shape[1]\n",
        "  plt.barh(np.arange(n_features), model.feature_importances_, align='center')\n",
        "  plt.yticks(np.arange(n_features), X_train.columns)\n",
        "  plt.xlabel(\"Feature importance\")\n",
        "  plt.ylabel(\"Feature\")\n",
        "  plt.ylim(-1, n_features)\n",
        "feature_importance(fm01_RF)"
      ],
      "execution_count": null,
      "outputs": [
        {
          "output_type": "display_data",
          "data": {
            "image/png": "[encoded data removed]",
            "text/plain": [
              "<Figure size 432x288 with 1 Axes>"
            ]
          },
          "metadata": {
            "needs_background": "light"
          }
        }
      ]
    },
    {
      "cell_type": "markdown",
      "metadata": {
        "id": "r5vwiXQzO5Zn"
      },
      "source": [
        "### Initial Start Point Gradient Boosting\n",
        "* Finding Most Important Features"
      ]
    },
    {
      "cell_type": "code",
      "metadata": {
        "id": "RUygBWMHU2Tk"
      },
      "source": [
        "# Create a GradientBoostingClassifier with respect to TARGET_F\n",
        "fm01_GB = GradientBoostingClassifier(random_state=4, max_depth=5)\n",
        "fm01_GB = fm01_GB.fit(X_train, Y_train[TARGET_BF])"
      ],
      "execution_count": null,
      "outputs": []
    },
    {
      "cell_type": "code",
      "metadata": {
        "id": "63v303xgU2iV"
      },
      "source": [
        "# Create a GradientBoostingClassifier with respect to TARGET_F\n",
        "fm01_GB = GradientBoostingClassifier(random_state=4, max_depth=5)\n",
        "fm01_GB = fm01_GB.fit(X_train, Y_train[TARGET_BF])"
      ],
      "execution_count": null,
      "outputs": []
    },
    {
      "cell_type": "code",
      "metadata": {
        "id": "BiVu5kPLU3Zz"
      },
      "source": [
        "# Store variables values in new variables\n",
        "fpr_GB = fpr_test\n",
        "tpr_GB = tpr_test\n",
        "auc_GB = roc_auc_test"
      ],
      "execution_count": null,
      "outputs": []
    },
    {
      "cell_type": "code",
      "metadata": {
        "id": "DWSornXuU3h_"
      },
      "source": [
        "# Predict probability of outcomes\n",
        "probs = fm01_GB.predict_proba(X_train)\n",
        "p1 = probs[:,1]\n",
        "fpr_train, tpr_train, threshold = metrics.roc_curve( Y_train[TARGET_BF], p1)\n",
        "roc_auc_train = metrics.auc(fpr_train, tpr_train)"
      ],
      "execution_count": null,
      "outputs": []
    },
    {
      "cell_type": "code",
      "metadata": {
        "id": "Pjpem7HOVCR7"
      },
      "source": [
        "# Predict probability of outcomes\n",
        "probs = fm01_GB.predict_proba(X_test)\n",
        "p1 = probs[:,1]\n",
        "fpr_test, tpr_test, threshold = metrics.roc_curve( Y_test[TARGET_BF], p1)\n",
        "roc_auc_test = metrics.auc(fpr_test, tpr_test)"
      ],
      "execution_count": null,
      "outputs": []
    },
    {
      "cell_type": "code",
      "metadata": {
        "colab": {
          "base_uri": "https://localhost:8080/",
          "height": 295
        },
        "id": "mgmk-bpRVCiU",
        "outputId": "88ed5d15-ac31-45d3-f253-66816aa2b1c1"
      },
      "source": [
        "plt.title('GB ROC CURVE')\n",
        "plt.plot(fpr_train, tpr_train, 'b', label = 'AUC TRAIN = %0.2f' % roc_auc_train)\n",
        "plt.plot(fpr_test, tpr_test, 'b', label = 'AUC TEST = %0.2f' % roc_auc_test, color=\"red\")\n",
        "plt.legend(loc = 'lower right')\n",
        "plt.plot([0, 1], [0, 1],'g--')\n",
        "plt.xlim([0, 1])\n",
        "plt.ylim([0, 1])\n",
        "plt.ylabel('True Positive Rate')\n",
        "plt.xlabel('False Positive Rate')\n",
        "plt.show()"
      ],
      "execution_count": null,
      "outputs": [
        {
          "output_type": "display_data",
          "data": {
            "image/png": "[encoded data removed]",
            "text/plain": [
              "<Figure size 432x288 with 1 Axes>"
            ]
          },
          "metadata": {
            "needs_background": "light"
          }
        }
      ]
    },
    {
      "cell_type": "code",
      "metadata": {
        "colab": {
          "base_uri": "https://localhost:8080/"
        },
        "id": "x5apKNuoVCwJ",
        "outputId": "402e7c4c-07fc-482c-97b1-038aadf2ca22"
      },
      "source": [
        "# List the variables included in the Gradient Boosting that predict loss amount\n",
        "feature_cols = list(X_df.columns.values)\n",
        "vars_GB_flag = getEnsembleTreeVars(fm01_GB, feature_cols)\n",
        "\n",
        "# Output best predictor variable/s\n",
        "for i in vars_GB_flag :\n",
        "   print(i)"
      ],
      "execution_count": null,
      "outputs": [
        {
          "output_type": "stream",
          "name": "stdout",
          "text": [
            "('DEBTINC', 100)\n",
            "('DELINQ', 35)\n",
            "('CLAGE', 19)\n",
            "('VALUE', 13)\n"
          ]
        }
      ]
    },
    {
      "cell_type": "markdown",
      "metadata": {
        "id": "zrOvYJHaU4CJ"
      },
      "source": [
        "### Gradient Boosting (without Regression)"
      ]
    },
    {
      "cell_type": "code",
      "metadata": {
        "colab": {
          "base_uri": "https://localhost:8080/",
          "height": 522
        },
        "id": "5fZXx-6iPJoj",
        "outputId": "f07aeeb0-3fef-4e4a-f5ec-15620a21bbea"
      },
      "source": [
        "# Gradient Boosting\n",
        "WHO = \"GB\"\n",
        "\n",
        "CLM = GradientBoostingClassifier(random_state=4, max_depth=5)\n",
        "CLM = CLM.fit( X_train, Y_train[TARGET_BF])\n",
        "\n",
        "TRAIN_CLM = getProbAccuracyScores(WHO + \"_Train\", CLM, X_train, Y_train[TARGET_BF])\n",
        "TEST_CLM = getProbAccuracyScores(WHO, CLM, X_test, Y_test[TARGET_BF])\n",
        "\n",
        "print_ROC_Curve(WHO, [TRAIN_CLM, TEST_CLM]) \n",
        "print_Accuracy(WHO + \" CLASSIFICATION ACCURACY\", [TRAIN_CLM, TEST_CLM])\n",
        "\n",
        "feature_cols = list(X_df.columns.values)\n",
        "vars_GB_flag = getEnsembleTreeVars(CLM, feature_cols)\n",
        "\n",
        "# Loss Amount\n",
        "AMT = GradientBoostingRegressor(random_state=4, max_depth=5)\n",
        "AMT = AMT.fit(X_train, Y_train[TARGET_LA])\n",
        "\n",
        "TRAIN_AMT = getAmtAccuracyScores(WHO + \"_Train\", AMT, X_train, Y_train[TARGET_LA])\n",
        "TEST_AMT = getAmtAccuracyScores(WHO, AMT, X_test, Y_test[TARGET_LA])\n",
        "print_Accuracy(WHO + \" RMSE ACCURACY\", [TRAIN_AMT, TEST_AMT])\n",
        "\n",
        "feature_cols = list(X_df.columns.values )\n",
        "vars_GB_amt = getEnsembleTreeVars(AMT, feature_cols)\n",
        "\n",
        "##for i in vars_GB_amt :\n",
        "##    print( i )\n",
        "\n",
        "GB_CLM = TEST_CLM.copy()\n",
        "GB_AMT = TEST_AMT.copy()"
      ],
      "execution_count": null,
      "outputs": [
        {
          "output_type": "display_data",
          "data": {
            "image/png": "[encoded data removed]",
            "text/plain": [
              "<Figure size 432x288 with 1 Axes>"
            ]
          },
          "metadata": {
            "needs_background": "light"
          }
        },
        {
          "output_type": "stream",
          "name": "stdout",
          "text": [
            "GB CLASSIFICATION ACCURACY\n",
            "======\n",
            "GB_Train  =  0.9653942953020134\n",
            "GB  =  0.9177852348993288\n",
            "------\n",
            "\n",
            "\n",
            "GB RMSE ACCURACY\n",
            "======\n",
            "GB_Train  =  1433.629881914251\n",
            "GB  =  2425.064507048414\n",
            "------\n",
            "\n",
            "\n"
          ]
        }
      ]
    },
    {
      "cell_type": "markdown",
      "metadata": {
        "id": "7holpGJmVJ_U"
      },
      "source": [
        "##### RMSE of Gradient Boosting"
      ]
    },
    {
      "cell_type": "code",
      "metadata": {
        "id": "y5lsHhQ_VIiI"
      },
      "source": [
        "# Create a GradientBoostingRegressor with respect to TARGET_A\n",
        "# Fit model to data (models are dynamic, data is static)\n",
        "amt_m01_GB = GradientBoostingRegressor(random_state=4, max_depth=5)\n",
        "amt_m01_GB = amt_m01_GB.fit( X_train, Y_train[TARGET_LA])"
      ],
      "execution_count": null,
      "outputs": []
    },
    {
      "cell_type": "code",
      "metadata": {
        "id": "gFkjx5UmVIvy"
      },
      "source": [
        "# Score predictions for X_train and X_test\n",
        "Y_Pred_train = amt_m01_GB.predict(X_train)\n",
        "Y_Pred_test = amt_m01_GB.predict(X_test)"
      ],
      "execution_count": null,
      "outputs": []
    },
    {
      "cell_type": "code",
      "metadata": {
        "colab": {
          "base_uri": "https://localhost:8080/"
        },
        "id": "vzLski42VI-p",
        "outputId": "86147c2c-0141-4811-eaa2-6f563ed2f667"
      },
      "source": [
        "# Inspect mean value for train and test\n",
        "RMSE_TRAIN = math.sqrt(metrics.mean_squared_error(Y_train[TARGET_LA], Y_Pred_train))\n",
        "RMSE_TEST = math.sqrt(metrics.mean_squared_error(Y_test[TARGET_LA], Y_Pred_test))\n",
        "\n",
        "print(\"GB RMSE Train:\", RMSE_TRAIN)\n",
        "print(\"GB RMSE Test:\", RMSE_TEST)"
      ],
      "execution_count": null,
      "outputs": [
        {
          "output_type": "stream",
          "name": "stdout",
          "text": [
            "GB RMSE Train: 1433.629881914251\n",
            "GB RMSE Test: 2425.064507048414\n"
          ]
        }
      ]
    },
    {
      "cell_type": "code",
      "metadata": {
        "colab": {
          "base_uri": "https://localhost:8080/"
        },
        "id": "yxu7uyy9VJk-",
        "outputId": "80fb2be4-ad2a-491f-e34b-9574c0f14902"
      },
      "source": [
        "# List the variables included in the Gradient Boosting that predict loss amount\n",
        "RMSE_GB = RMSE_TEST\n",
        "feature_cols = list(X_df.columns.values)\n",
        "vars_GB_amt = getEnsembleTreeVars(amt_m01_GB, feature_cols)\n",
        "\n",
        "# Output best predictor variable/s\n",
        "for i in vars_GB_amt :\n",
        "   print(i)"
      ],
      "execution_count": null,
      "outputs": [
        {
          "output_type": "stream",
          "name": "stdout",
          "text": [
            "('LOAN', 100)\n",
            "('DELINQ', 63)\n",
            "('DEBTINC', 60)\n",
            "('CLNO', 32)\n",
            "('CLAGE', 26)\n"
          ]
        }
      ]
    },
    {
      "cell_type": "code",
      "metadata": {
        "colab": {
          "base_uri": "https://localhost:8080/",
          "height": 278
        },
        "id": "o9dXFcfsVJyX",
        "outputId": "b55e4e8c-84cb-4f84-e62d-c6b002585747"
      },
      "source": [
        "def feature_importance(model):\n",
        "  n_features = X_train.shape[1]\n",
        "  plt.barh(np.arange(n_features), model.feature_importances_, align='center')\n",
        "  plt.yticks(np.arange(n_features), X_train.columns)\n",
        "  plt.xlabel(\"Feature importance\")\n",
        "  plt.ylabel(\"Feature\")\n",
        "  plt.ylim(-1, n_features)\n",
        "feature_importance(fm01_GB)"
      ],
      "execution_count": null,
      "outputs": [
        {
          "output_type": "display_data",
          "data": {
            "image/png": "[encoded data removed]",
            "text/plain": [
              "<Figure size 432x288 with 1 Axes>"
            ]
          },
          "metadata": {
            "needs_background": "light"
          }
        }
      ]
    },
    {
      "cell_type": "markdown",
      "metadata": {
        "id": "FIp_Mq5PNDSI"
      },
      "source": [
        "## Applying Regression to all variables ('REG_ALL')\n",
        " - Using `LogisticRegression()` and `LinearRegression()` on `TARGET_LA` \n",
        " - Hyperparameters: `solver=newton-cg` outperformed `solver=liblinear`"
      ]
    },
    {
      "cell_type": "code",
      "metadata": {
        "colab": {
          "base_uri": "https://localhost:8080/",
          "height": 1000
        },
        "id": "C6f6W1VyMszy",
        "outputId": "a4824818-09d4-4029-a5d4-5e53519d00ef"
      },
      "source": [
        "# Apply regression to all variables \n",
        "WHO = \"REG_ALL\"\n",
        "\n",
        "CLM = LogisticRegression(solver='newton-cg', random_state=4, max_iter=1000)\n",
        "CLM = CLM.fit(X_train, Y_train[TARGET_BF])\n",
        "print(\"Number of features used: {}\".format(np.sum(CLM.coef_ !=0)),'\\n')\n",
        "\n",
        "TRAIN_CLM = getProbAccuracyScores(WHO + '_Train', CLM, X_train, Y_train[TARGET_BF])\n",
        "TEST_CLM = getProbAccuracyScores(WHO, CLM, X_test, Y_test[TARGET_BF])\n",
        "\n",
        "print_ROC_Curve(WHO, [TRAIN_CLM, TEST_CLM]) \n",
        "print_Accuracy(WHO + \" CLASSIFICATION ACCURACY\", [TRAIN_CLM, TEST_CLM])\n",
        "\n",
        "# Loss Amount \n",
        "AMT = LinearRegression()\n",
        "AMT = AMT.fit(X_train, Y_train[TARGET_LA])\n",
        "\n",
        "TRAIN_AMT = getAmtAccuracyScores(WHO + \"_Train\", AMT, X_train, Y_train[TARGET_LA])\n",
        "TEST_AMT = getAmtAccuracyScores(WHO, AMT, X_test, Y_test[TARGET_LA])\n",
        "print_Accuracy(WHO + \"RMSE ACCURACY\", [TRAIN_AMT, TEST_AMT])\n",
        "\n",
        "varNames = list(X_train.columns.values)\n",
        "\n",
        "REG_ALL_CLM_COEF = getCoefLogit(CLM, X_train)\n",
        "REG_ALL_AMT_COEF = getCoefLinear(AMT, X_train)\n",
        "\n",
        "REG_ALL_CLM = TEST_CLM.copy()\n",
        "REG_ALL_AMT = TEST_AMT.copy()"
      ],
      "execution_count": null,
      "outputs": [
        {
          "output_type": "stream",
          "name": "stdout",
          "text": [
            "Number of features used: 18 \n",
            "\n"
          ]
        },
        {
          "output_type": "display_data",
          "data": {
            "image/png": "[encoded data removed]",
            "text/plain": [
              "<Figure size 432x288 with 1 Axes>"
            ]
          },
          "metadata": {
            "needs_background": "light"
          }
        },
        {
          "output_type": "stream",
          "name": "stdout",
          "text": [
            "REG_ALL CLASSIFICATION ACCURACY\n",
            "======\n",
            "REG_ALL_Train  =  0.8414429530201343\n",
            "REG_ALL  =  0.8137583892617449\n",
            "------\n",
            "\n",
            "\n",
            "REG_ALLRMSE ACCURACY\n",
            "======\n",
            "REG_ALL_Train  =  4221.416785777394\n",
            "REG_ALL  =  4629.387168119021\n",
            "------\n",
            "\n",
            "\n",
            "\n",
            "LOAN DEFAULT\n",
            "---------\n",
            "Total Variables:  19\n",
            "INTERCEPT  =  -2.3845268579535706\n",
            "LOAN  =  -1.7521476006468197e-05\n",
            "MORTDUE  =  -4.201280867693599e-06\n",
            "VALUE  =  3.202417522965407e-06\n",
            "YOJ  =  -0.012244685876579954\n",
            "DEROG  =  0.561967003264887\n",
            "DELINQ  =  0.7534944905331438\n",
            "CLAGE  =  -0.005388714629619789\n",
            "NINQ  =  0.1666122758507772\n",
            "CLNO  =  -0.012663278577623399\n",
            "DEBTINC  =  0.056065241887610695\n",
            "IMP_REASON_DebtCon  =  -0.1797264490990743\n",
            "IMP_REASON_HomeImp  =  0.10462794336250522\n",
            "IMP_JOB_Mgr  =  -0.06382403552187577\n",
            "IMP_JOB_Office  =  -0.7270807913222278\n",
            "IMP_JOB_Other  =  -0.05192150407349553\n",
            "IMP_JOB_ProfExe  =  -0.1523013164079506\n",
            "IMP_JOB_Sales  =  0.6333510184616833\n",
            "IMP_JOB_Self  =  0.2866781231273013\n",
            "\n",
            "LOSS AMOUNT\n",
            "---------\n",
            "Total Variables:  19\n",
            "INTERCEPT  =  6369.2282014920265\n",
            "LOAN  =  0.14198836499535578\n",
            "MORTDUE  =  -0.0016788962015805223\n",
            "VALUE  =  0.00653738795748242\n",
            "YOJ  =  -7.770396982905444\n",
            "DEROG  =  377.57986623328344\n",
            "DELINQ  =  983.6736776081567\n",
            "CLAGE  =  -4.939396103501023\n",
            "NINQ  =  93.29268308464847\n",
            "CLNO  =  61.3060937524249\n",
            "DEBTINC  =  30.563808386923583\n",
            "IMP_REASON_DebtCon  =  354.30590015998985\n",
            "IMP_REASON_HomeImp  =  -354.3059001599896\n",
            "IMP_JOB_Mgr  =  -427.5998702068354\n",
            "IMP_JOB_Office  =  -193.36534508142327\n",
            "IMP_JOB_Other  =  -303.9777808542334\n",
            "IMP_JOB_ProfExe  =  -210.447974353396\n",
            "IMP_JOB_Sales  =  1387.3544690001243\n",
            "IMP_JOB_Self  =  -251.96349850423616\n"
          ]
        }
      ]
    },
    {
      "cell_type": "markdown",
      "metadata": {
        "id": "0DB0eH47LdFT"
      },
      "source": [
        "#### Decision Trees (with Regression)\n",
        " * REG_TREE"
      ]
    },
    {
      "cell_type": "code",
      "metadata": {
        "colab": {
          "base_uri": "https://localhost:8080/",
          "height": 1000
        },
        "id": "LwVm_QL7KLN8",
        "outputId": "a56aa807-3292-4cf6-eb10-c54a73713ed5"
      },
      "source": [
        "# Regression Decision Tree\n",
        "WHO = \"REG_TREE\"\n",
        "\n",
        "CLM = LogisticRegression(solver='newton-cg', max_iter=1000)\n",
        "CLM = CLM.fit(X_train, Y_train[TARGET_BF])\n",
        "\n",
        "TRAIN_CLM = getProbAccuracyScores(WHO + \"_Train\", CLM, X_train, Y_train[TARGET_BF])\n",
        "TEST_CLM = getProbAccuracyScores(WHO, CLM, X_test, Y_test[TARGET_BF])\n",
        "\n",
        "print_ROC_Curve(WHO, [TRAIN_CLM, TEST_CLM]) \n",
        "print_Accuracy(WHO + \" CLASSIFICATION ACCURACY\", [TRAIN_CLM, TEST_CLM])\n",
        "\n",
        "# Loss Amount\n",
        "AMT = LinearRegression()\n",
        "AMT = AMT.fit(X_train, Y_train[TARGET_LA])\n",
        "\n",
        "TRAIN_AMT = getAmtAccuracyScores(WHO + \"_Train\", AMT, X_train, Y_train[TARGET_LA])\n",
        "TEST_AMT = getAmtAccuracyScores(WHO, AMT, X_test, Y_test[TARGET_LA])\n",
        "print_Accuracy(WHO + \" RMSE ACCURACY\", [TRAIN_AMT, TEST_AMT])\n",
        "\n",
        "varNames = list(X_train.columns.values)\n",
        "\n",
        "REG_TREE_CLM_COEF = getCoefLogit(CLM, X_train)\n",
        "REG_TREE_AMT_COEF = getCoefLinear(AMT, X_train)\n",
        "\n",
        "REG_TREE_CLM = TEST_CLM.copy()\n",
        "REG_TREE_AMT = TEST_AMT.copy()"
      ],
      "execution_count": null,
      "outputs": [
        {
          "output_type": "display_data",
          "data": {
            "image/png": "[encoded data removed]",
            "text/plain": [
              "<Figure size 432x288 with 1 Axes>"
            ]
          },
          "metadata": {
            "needs_background": "light"
          }
        },
        {
          "output_type": "stream",
          "name": "stdout",
          "text": [
            "REG_TREE CLASSIFICATION ACCURACY\n",
            "======\n",
            "REG_TREE_Train  =  0.8414429530201343\n",
            "REG_TREE  =  0.8137583892617449\n",
            "------\n",
            "\n",
            "\n",
            "REG_TREE RMSE ACCURACY\n",
            "======\n",
            "REG_TREE_Train  =  4221.416785777394\n",
            "REG_TREE  =  4629.387168119021\n",
            "------\n",
            "\n",
            "\n",
            "\n",
            "LOAN DEFAULT\n",
            "---------\n",
            "Total Variables:  19\n",
            "INTERCEPT  =  -2.3845268579535706\n",
            "LOAN  =  -1.7521476006468197e-05\n",
            "MORTDUE  =  -4.201280867693599e-06\n",
            "VALUE  =  3.202417522965407e-06\n",
            "YOJ  =  -0.012244685876579954\n",
            "DEROG  =  0.561967003264887\n",
            "DELINQ  =  0.7534944905331438\n",
            "CLAGE  =  -0.005388714629619789\n",
            "NINQ  =  0.1666122758507772\n",
            "CLNO  =  -0.012663278577623399\n",
            "DEBTINC  =  0.056065241887610695\n",
            "IMP_REASON_DebtCon  =  -0.1797264490990743\n",
            "IMP_REASON_HomeImp  =  0.10462794336250522\n",
            "IMP_JOB_Mgr  =  -0.06382403552187577\n",
            "IMP_JOB_Office  =  -0.7270807913222278\n",
            "IMP_JOB_Other  =  -0.05192150407349553\n",
            "IMP_JOB_ProfExe  =  -0.1523013164079506\n",
            "IMP_JOB_Sales  =  0.6333510184616833\n",
            "IMP_JOB_Self  =  0.2866781231273013\n",
            "\n",
            "LOSS AMOUNT\n",
            "---------\n",
            "Total Variables:  19\n",
            "INTERCEPT  =  6369.2282014920265\n",
            "LOAN  =  0.14198836499535578\n",
            "MORTDUE  =  -0.0016788962015805223\n",
            "VALUE  =  0.00653738795748242\n",
            "YOJ  =  -7.770396982905444\n",
            "DEROG  =  377.57986623328344\n",
            "DELINQ  =  983.6736776081567\n",
            "CLAGE  =  -4.939396103501023\n",
            "NINQ  =  93.29268308464847\n",
            "CLNO  =  61.3060937524249\n",
            "DEBTINC  =  30.563808386923583\n",
            "IMP_REASON_DebtCon  =  354.30590015998985\n",
            "IMP_REASON_HomeImp  =  -354.3059001599896\n",
            "IMP_JOB_Mgr  =  -427.5998702068354\n",
            "IMP_JOB_Office  =  -193.36534508142327\n",
            "IMP_JOB_Other  =  -303.9777808542334\n",
            "IMP_JOB_ProfExe  =  -210.447974353396\n",
            "IMP_JOB_Sales  =  1387.3544690001243\n",
            "IMP_JOB_Self  =  -251.96349850423616\n"
          ]
        }
      ]
    },
    {
      "cell_type": "code",
      "metadata": {
        "id": "tdommH5_QZPh"
      },
      "source": [
        "# Tree search\n",
        "def getTreeVars(TREE, varNames):\n",
        "  tree_ = TREE.tree_\n",
        "  varName = [varNames[i] if i != _tree.TREE_UNDEFINED else \"undefined!\" for i in tree_.feature]\n",
        "\n",
        "  nameSet = set()\n",
        "  for i in tree_.feature :\n",
        "      if i != _tree.TREE_UNDEFINED :\n",
        "          nameSet.add(i)\n",
        "  nameList = list(nameSet)\n",
        "  parameter_list = list()\n",
        "  for i in nameList :\n",
        "      parameter_list.append(varNames[i])\n",
        "  return parameter_list"
      ],
      "execution_count": null,
      "outputs": []
    },
    {
      "cell_type": "markdown",
      "metadata": {
        "id": "X7FWAjb4LhY7"
      },
      "source": [
        "#### Random Forest (with Regression)\n",
        " * REG_RF"
      ]
    },
    {
      "cell_type": "code",
      "metadata": {
        "id": "oMG1gQxYKLQa"
      },
      "source": [
        "# getEnsembleTreeVars() works best for decision trees,\n",
        "# but not for linear regression and deep learning\n",
        "def getEnsembleTreeVars(ENSTREE, varNames):\n",
        "    importance = ENSTREE.feature_importances_\n",
        "    index = np.argsort(importance)\n",
        "    theList = []\n",
        "    for i in index :\n",
        "        imp_val = importance[i]\n",
        "        if imp_val > np.average( ENSTREE.feature_importances_ ) :\n",
        "            v = int( imp_val / np.max( ENSTREE.feature_importances_ ) * 100 )\n",
        "            theList.append( ( varNames[i], v ) )\n",
        "    theList = sorted(theList,key=itemgetter(1),reverse=True)\n",
        "    return theList"
      ],
      "execution_count": null,
      "outputs": []
    },
    {
      "cell_type": "code",
      "metadata": {
        "id": "fXxrZ1DEPVCV"
      },
      "source": [
        "# Create a RandomForestClassifier \n",
        "# Fit model to data (models are dynamic, data is static)\n",
        "fm01_RF = RandomForestClassifier(random_state=4, max_depth=5)\n",
        "fm01_RF = fm01_RF.fit(X_train, Y_train[TARGET_BF])"
      ],
      "execution_count": null,
      "outputs": []
    },
    {
      "cell_type": "code",
      "metadata": {
        "id": "zY73vsW2PVIj"
      },
      "source": [
        "# Predict probability of outcomes\n",
        "probs = fm01_RF.predict_proba(X_test)\n",
        "p1 = probs[:, 1]\n",
        "fpr_test, tpr_test, threshold = metrics.roc_curve(Y_test[TARGET_BF], p1)\n",
        "roc_auc_test = metrics.auc(fpr_test, tpr_test)"
      ],
      "execution_count": null,
      "outputs": []
    },
    {
      "cell_type": "code",
      "metadata": {
        "id": "siP68AMqPaF2"
      },
      "source": [
        "# Store variables values in new variables\n",
        "fpr_RF = fpr_test\n",
        "tpr_RF = tpr_test\n",
        "auc_RF = roc_auc_test"
      ],
      "execution_count": null,
      "outputs": []
    },
    {
      "cell_type": "code",
      "metadata": {
        "id": "RAW1kWevPcLi"
      },
      "source": [
        "# Predict probability of outcomes\n",
        "probs = fm01_RF.predict_proba(X_train)\n",
        "p1 = probs[:, 1]\n",
        "fpr_train, tpr_train, threshold = metrics.roc_curve(Y_train[TARGET_BF], p1)\n",
        "roc_auc_train = metrics.auc(fpr_train, tpr_train)"
      ],
      "execution_count": null,
      "outputs": []
    },
    {
      "cell_type": "code",
      "metadata": {
        "colab": {
          "base_uri": "https://localhost:8080/"
        },
        "id": "SA6qeUVuPe73",
        "outputId": "33ff09f5-10d0-4f3f-be70-a86e340211ea"
      },
      "source": [
        "# Gather relevant variables used in model prediction\n",
        "feature_cols = list(X_df.columns.values)\n",
        "vars_RF_flag = getEnsembleTreeVars(fm01_RF, feature_cols)\n",
        "\n",
        "# Output best predictor variable/s\n",
        "for i in vars_RF_flag :\n",
        "   print(i)"
      ],
      "execution_count": null,
      "outputs": [
        {
          "output_type": "stream",
          "name": "stdout",
          "text": [
            "('DEBTINC', 100)\n",
            "('DELINQ', 81)\n",
            "('DEROG', 49)\n",
            "('CLAGE', 25)\n",
            "('LOAN', 19)\n"
          ]
        }
      ]
    },
    {
      "cell_type": "code",
      "metadata": {
        "id": "xvWa9TPcPvVw"
      },
      "source": [
        "# Create a RandomForestRegressor with respect to TARGET_A\n",
        "# Fit model to data (models are dynamic, data is static)\n",
        "amt_m01_RF = RandomForestRegressor(random_state=4, max_depth=5)\n",
        "amt_m01_RF = amt_m01_RF.fit(X_train, Y_train[TARGET_LA])"
      ],
      "execution_count": null,
      "outputs": []
    },
    {
      "cell_type": "code",
      "metadata": {
        "id": "ysKTgbdKPvbz"
      },
      "source": [
        "# Score predictions for X_train and X_test\n",
        "Y_Pred_train = amt_m01_Tree.predict(X_train)\n",
        "Y_Pred_test = amt_m01_Tree.predict(X_test)"
      ],
      "execution_count": null,
      "outputs": []
    },
    {
      "cell_type": "code",
      "metadata": {
        "colab": {
          "base_uri": "https://localhost:8080/"
        },
        "id": "pbsr65VXPvj4",
        "outputId": "b8683b3e-4449-46e8-fd0f-52cecfc39e7f"
      },
      "source": [
        "# Inspect mean value for train and test\n",
        "RMSE_TRAIN = math.sqrt(metrics.mean_squared_error(Y_train[TARGET_LA],\n",
        "                                                   Y_Pred_train))\n",
        "RMSE_TEST = math.sqrt(metrics.mean_squared_error(Y_test[TARGET_LA],\n",
        "                                                  Y_Pred_test))\n",
        "\n",
        "print(\"RF RMSE Train\", RMSE_TRAIN)\n",
        "print(\"RF RMSE Test\", RMSE_TEST)"
      ],
      "execution_count": null,
      "outputs": [
        {
          "output_type": "stream",
          "name": "stdout",
          "text": [
            "RF RMSE Train 3214.616729791754\n",
            "RF RMSE Test 3679.9310534755177\n"
          ]
        }
      ]
    },
    {
      "cell_type": "code",
      "metadata": {
        "colab": {
          "base_uri": "https://localhost:8080/"
        },
        "id": "bJ2jmJeePzxi",
        "outputId": "30cb4b49-449a-4bc5-8455-fefdbc89eb08"
      },
      "source": [
        "# List the variables included in the Random Forest that predict loss amount\n",
        "RMSE_RF = RMSE_TEST\n",
        "feature_cols = list(X_df.columns.values)\n",
        "vars_RF_amt = getEnsembleTreeVars(amt_m01_RF, feature_cols)\n",
        "\n",
        "# Output best predictor variable/s\n",
        "for i in vars_RF_amt :\n",
        "   print(i)"
      ],
      "execution_count": null,
      "outputs": [
        {
          "output_type": "stream",
          "name": "stdout",
          "text": [
            "('LOAN', 100)\n",
            "('DELINQ', 74)\n",
            "('CLNO', 29)\n",
            "('DEBTINC', 24)\n"
          ]
        }
      ]
    },
    {
      "cell_type": "code",
      "metadata": {
        "colab": {
          "base_uri": "https://localhost:8080/",
          "height": 1000
        },
        "id": "zoPWR2rbO6L0",
        "outputId": "30ec0474-b0e8-4234-a452-3218e890f20a"
      },
      "source": [
        "# Random Forest\n",
        "WHO = \"REG_RF\"\n",
        "\n",
        "# Variable selection for TARGET_BF\n",
        "print('\\n')\n",
        "RF_flag = []\n",
        "for i in vars_RF_flag:\n",
        "    print(i)\n",
        "    theVar = i[0]\n",
        "    RF_flag.append(theVar)\n",
        "\n",
        "# Variable selection for TARGET_LA\n",
        "print('\\n')\n",
        "RF_amt = []\n",
        "for i in vars_RF_amt:\n",
        "    print(i)\n",
        "    theVar = i[0]\n",
        "    RF_amt.append(theVar)\n",
        "print('\\n')\n",
        "\n",
        "CLM = LogisticRegression(solver='newton-cg', max_iter=1000)\n",
        "CLM = CLM.fit(X_train[RF_flag], Y_train[TARGET_BF])\n",
        "\n",
        "TRAIN_CLM= getProbAccuracyScores(WHO + \"_Train\", CLM, X_train[RF_flag], Y_train[TARGET_BF])\n",
        "TEST_CLM= getProbAccuracyScores(WHO, CLM, X_test[RF_flag], Y_test[TARGET_BF])\n",
        "\n",
        "print_ROC_Curve(WHO, [TRAIN_CLM, TEST_CLM]) \n",
        "print_Accuracy(WHO + \" CLASSIFICATION ACCURACY\", [TRAIN_CLM, TEST_CLM])\n",
        "\n",
        "# Loss Amount\n",
        "AMT = LinearRegression()\n",
        "AMT = AMT.fit(X_train[RF_amt], Y_train[TARGET_LA])\n",
        "\n",
        "TRAIN_AMT = getAmtAccuracyScores(WHO + \"_Train\", AMT, X_train[RF_amt], Y_train[TARGET_LA])\n",
        "TEST_AMT = getAmtAccuracyScores(WHO, AMT, X_test[RF_amt], Y_test[TARGET_LA])\n",
        "print_Accuracy(WHO + \" RMSE ACCURACY\", [TRAIN_AMT, TEST_AMT])\n",
        "\n",
        "\n",
        "REG_RF_CLM_COEF = getCoefLogit(CLM, X_train[RF_flag])\n",
        "REG_RF_AMT_COEF = getCoefLinear(AMT, X_train[RF_amt])\n",
        "\n",
        "REG_RF_CLM = TEST_CLM.copy()\n",
        "REG_RF_AMT = TEST_AMT.copy()"
      ],
      "execution_count": null,
      "outputs": [
        {
          "output_type": "stream",
          "name": "stdout",
          "text": [
            "\n",
            "\n",
            "('DEBTINC', 100)\n",
            "('DELINQ', 81)\n",
            "('DEROG', 49)\n",
            "('CLAGE', 25)\n",
            "('LOAN', 19)\n",
            "\n",
            "\n",
            "('LOAN', 100)\n",
            "('DELINQ', 74)\n",
            "('CLNO', 29)\n",
            "('DEBTINC', 24)\n",
            "\n",
            "\n"
          ]
        },
        {
          "output_type": "display_data",
          "data": {
            "image/png": "[encoded data removed]",
            "text/plain": [
              "<Figure size 432x288 with 1 Axes>"
            ]
          },
          "metadata": {
            "needs_background": "light"
          }
        },
        {
          "output_type": "stream",
          "name": "stdout",
          "text": [
            "REG_RF CLASSIFICATION ACCURACY\n",
            "======\n",
            "REG_RF_Train  =  0.8395553691275168\n",
            "REG_RF  =  0.8104026845637584\n",
            "------\n",
            "\n",
            "\n",
            "REG_RF RMSE ACCURACY\n",
            "======\n",
            "REG_RF_Train  =  4287.923029642564\n",
            "REG_RF  =  4698.154210845632\n",
            "------\n",
            "\n",
            "\n",
            "\n",
            "LOAN DEFAULT\n",
            "---------\n",
            "Total Variables:  6\n",
            "INTERCEPT  =  -2.5174895862721245\n",
            "DEBTINC  =  0.05436999828065857\n",
            "DELINQ  =  0.7097927702749606\n",
            "DEROG  =  0.6088324276343252\n",
            "CLAGE  =  -0.00635120962093763\n",
            "LOAN  =  -1.737070495148116e-05\n",
            "\n",
            "LOSS AMOUNT\n",
            "---------\n",
            "Total Variables:  5\n",
            "INTERCEPT  =  5445.363431497909\n",
            "LOAN  =  0.15184399579180294\n",
            "DELINQ  =  1030.2012924569378\n",
            "CLNO  =  63.283914974745926\n",
            "DEBTINC  =  41.22886729817458\n"
          ]
        }
      ]
    },
    {
      "cell_type": "markdown",
      "metadata": {
        "id": "pJUzlb5fLmeY"
      },
      "source": [
        "#### Gradient Boosting (with Regression)"
      ]
    },
    {
      "cell_type": "code",
      "metadata": {
        "colab": {
          "base_uri": "https://localhost:8080/",
          "height": 1000
        },
        "id": "vIiPdVObKLTA",
        "outputId": "9f4532d9-8834-4ded-9117-ce456a88edeb"
      },
      "source": [
        "# Regression Gradient Boosting\n",
        "WHO = \"REG_GB\"\n",
        "\n",
        "# Variable selection for TARGET_BF\n",
        "print('\\n')\n",
        "GB_flag = []\n",
        "for i in vars_GB_flag:\n",
        "    print(i)\n",
        "    theVar = i[0]\n",
        "    GB_flag.append(theVar)\n",
        "\n",
        "# Variable selection for TARGET_LA\n",
        "print('\\n')\n",
        "GB_amt = []\n",
        "for i in vars_GB_amt:\n",
        "    print(i)\n",
        "    theVar = i[0]\n",
        "    GB_amt.append(theVar)\n",
        "print('\\n')\n",
        "\n",
        "CLM = LogisticRegression(solver='newton-cg', max_iter=1000)\n",
        "CLM = CLM.fit(X_train[GB_flag], Y_train[ TARGET_BF])\n",
        "\n",
        "TRAIN_CLM = getProbAccuracyScores(WHO + \"_Train\", CLM, X_train[GB_flag], Y_train[TARGET_BF])\n",
        "TEST_CLM = getProbAccuracyScores(WHO, CLM, X_test[GB_flag], Y_test[TARGET_BF])\n",
        "\n",
        "print_ROC_Curve(WHO, [TRAIN_CLM, TEST_CLM]) \n",
        "print_Accuracy(WHO + \" CLASSIFICATION ACCURACY\", [TRAIN_CLM, TEST_CLM])\n",
        "\n",
        "# Loan Default\n",
        "AMT = LinearRegression()\n",
        "AMT = AMT.fit(X_train[GB_amt], Y_train[TARGET_LA])\n",
        "\n",
        "TRAIN_AMT = getAmtAccuracyScores(WHO + \"_Train\", AMT, X_train[GB_amt], Y_train[TARGET_LA])\n",
        "TEST_AMT = getAmtAccuracyScores(WHO, AMT, X_test[GB_amt], Y_test[TARGET_LA])\n",
        "print_Accuracy(WHO + \" RMSE ACCURACY\", [TRAIN_AMT, TEST_AMT])\n",
        "\n",
        "REG_GB_CLM_COEF = getCoefLogit(CLM, X_train[GB_flag])\n",
        "REG_GB_AMT_COEF = getCoefLinear(AMT, X_train[GB_amt])\n",
        "\n",
        "REG_GB_CLM = TEST_CLM.copy()\n",
        "REG_GB_AMT = TEST_AMT.copy()"
      ],
      "execution_count": null,
      "outputs": [
        {
          "output_type": "stream",
          "name": "stdout",
          "text": [
            "\n",
            "\n",
            "('DEBTINC', 100)\n",
            "('DELINQ', 35)\n",
            "('CLAGE', 19)\n",
            "('VALUE', 13)\n",
            "\n",
            "\n",
            "('LOAN', 100)\n",
            "('DELINQ', 63)\n",
            "('DEBTINC', 60)\n",
            "('CLNO', 32)\n",
            "('CLAGE', 26)\n",
            "\n",
            "\n"
          ]
        },
        {
          "output_type": "display_data",
          "data": {
            "image/png": "[encoded data removed]",
            "text/plain": [
              "<Figure size 432x288 with 1 Axes>"
            ]
          },
          "metadata": {
            "needs_background": "light"
          }
        },
        {
          "output_type": "stream",
          "name": "stdout",
          "text": [
            "REG_GB CLASSIFICATION ACCURACY\n",
            "======\n",
            "REG_GB_Train  =  0.829488255033557\n",
            "REG_GB  =  0.8112416107382551\n",
            "------\n",
            "\n",
            "\n",
            "REG_GB RMSE ACCURACY\n",
            "======\n",
            "REG_GB_Train  =  4264.611779717563\n",
            "REG_GB  =  4660.879535990802\n",
            "------\n",
            "\n",
            "\n",
            "\n",
            "LOAN DEFAULT\n",
            "---------\n",
            "Total Variables:  5\n",
            "INTERCEPT  =  -2.390616602764303\n",
            "DEBTINC  =  0.051796126841496294\n",
            "DELINQ  =  0.7825024256559359\n",
            "CLAGE  =  -0.006832082389506327\n",
            "VALUE  =  -1.1063890110348983e-06\n",
            "\n",
            "LOSS AMOUNT\n",
            "---------\n",
            "Total Variables:  6\n",
            "INTERCEPT  =  6305.294651337504\n",
            "LOAN  =  0.15496195631153445\n",
            "DELINQ  =  1021.0884698980844\n",
            "DEBTINC  =  36.246496228702554\n",
            "CLNO  =  74.69555690853672\n",
            "CLAGE  =  -5.50736345240648\n"
          ]
        }
      ]
    },
    {
      "cell_type": "markdown",
      "metadata": {
        "id": "G_ZWmpm3L3O9"
      },
      "source": [
        "#### Stepwise (with Regression)"
      ]
    },
    {
      "cell_type": "code",
      "metadata": {
        "colab": {
          "base_uri": "https://localhost:8080/",
          "height": 668
        },
        "id": "ujQvdYssKLVm",
        "outputId": "9950a0da-f023-4a40-9b70-b8791b994205"
      },
      "source": [
        "U_train = X_train\n",
        "stepVarNames = list(U_train.columns.values)\n",
        "maxCols = U_train.shape[1]\n",
        "\n",
        "sfs = SFS(LogisticRegression(solver='newton-cg', max_iter=1000),\n",
        "           k_features=(1, maxCols),\n",
        "           forward=True,\n",
        "           floating=False,\n",
        "           cv=3\n",
        "           )\n",
        "sfs.fit(U_train.values, Y_train[ TARGET_BF].values)\n",
        "\n",
        "theFigure = plot_sfs(sfs.get_metric_dict(), kind=None)\n",
        "plt.title('DEFAULT PROBABILITY Sequential Forward Selection (w. StdErr)')\n",
        "plt.grid()\n",
        "plt.show()\n",
        "\n",
        "dfm = pd.DataFrame.from_dict( sfs.get_metric_dict()).T\n",
        "dfm = dfm[['feature_names', 'avg_score']]\n",
        "dfm.avg_score = dfm.avg_score.astype(float)\n",
        "\n",
        "print(\" ................... \")\n",
        "maxIndex = dfm.avg_score.argmax()\n",
        "print(\"argmax\")\n",
        "print( dfm.iloc[maxIndex, ] )\n",
        "print(\" ................... \")\n",
        "\n",
        "stepVars = dfm.iloc[maxIndex, ]\n",
        "stepVars = stepVars.feature_names\n",
        "print(stepVars)\n",
        "\n",
        "finalStepVars = []\n",
        "for i in stepVars:\n",
        "    index = int(i)\n",
        "    try:\n",
        "        theName = stepVarNames[index]\n",
        "        finalStepVars.append(theName)\n",
        "    except:\n",
        "        pass\n",
        "\n",
        "for i in finalStepVars:\n",
        "    print(i)\n",
        "\n",
        "print('\\n')\n",
        "%timeit sum(range(100))\n",
        "%memit"
      ],
      "execution_count": null,
      "outputs": [
        {
          "output_type": "display_data",
          "data": {
            "image/png": "[encoded data removed]",
            "text/plain": [
              "<Figure size 432x288 with 1 Axes>"
            ]
          },
          "metadata": {
            "needs_background": "light"
          }
        },
        {
          "output_type": "stream",
          "name": "stdout",
          "text": [
            " ................... \n",
            "argmax\n",
            "feature_names    (0, 1, 2, 3, 4, 5, 6, 7, 8, 9, 13, 17)\n",
            "avg_score                                       0.84375\n",
            "Name: 12, dtype: object\n",
            " ................... \n",
            "('0', '1', '2', '3', '4', '5', '6', '7', '8', '9', '13', '17')\n",
            "LOAN\n",
            "MORTDUE\n",
            "VALUE\n",
            "YOJ\n",
            "DEROG\n",
            "DELINQ\n",
            "CLAGE\n",
            "NINQ\n",
            "CLNO\n",
            "DEBTINC\n",
            "IMP_JOB_Office\n",
            "IMP_JOB_Self\n",
            "\n",
            "\n",
            "1000000 loops, best of 5: 1.03 µs per loop\n",
            "peak memory: 545.60 MiB, increment: 0.07 MiB\n"
          ]
        }
      ]
    },
    {
      "cell_type": "code",
      "metadata": {
        "colab": {
          "base_uri": "https://localhost:8080/",
          "height": 473
        },
        "id": "d8U1tcA-_S27",
        "outputId": "908008cd-a897-4908-a784-d236d30acaa5"
      },
      "source": [
        "# Reduces number of features used\n",
        "U_train = X_train[finalStepVars]\n",
        "U_test = X_test[finalStepVars]\n",
        "\n",
        "V_train = X_train[GB_amt]\n",
        "stepVarNames = list(V_train.columns.values)\n",
        "maxCols = V_train.shape[1]\n",
        "\n",
        "sfs = SFS( LinearRegression(),\n",
        "           k_features=(1, maxCols),\n",
        "           forward=True,\n",
        "           floating=False,\n",
        "           scoring = 'r2',\n",
        "           cv=5\n",
        "           )\n",
        "sfs.fit(V_train.values, Y_train[TARGET_LA].values)\n",
        "\n",
        "theFigure = plot_sfs(sfs.get_metric_dict(), kind=None )\n",
        "plt.title('Loss Amount Sequential Forward Selection (w. StdErr)')\n",
        "plt.grid()\n",
        "plt.show()\n",
        "\n",
        "dfm = pd.DataFrame.from_dict(sfs.get_metric_dict()).T\n",
        "dfm = dfm[['feature_names', 'avg_score']]\n",
        "dfm.avg_score = dfm.avg_score.astype(float)\n",
        "\n",
        "print(\" ................... \")\n",
        "maxIndex = dfm.avg_score.argmax()\n",
        "print(\"argmax\")\n",
        "print(dfm.iloc[maxIndex, ] )\n",
        "print(\" ................... \")\n",
        "\n",
        "stepVars = dfm.iloc[maxIndex, ]\n",
        "stepVars = stepVars.feature_names\n",
        "print(stepVars)\n",
        "\n",
        "finalStepVars = []\n",
        "for i in stepVars:\n",
        "    index = int(i)\n",
        "    try:\n",
        "        theName = stepVarNames[index]\n",
        "        finalStepVars.append(theName)\n",
        "    except:\n",
        "        pass\n",
        "\n",
        "for i in finalStepVars:\n",
        "    print(i)\n",
        "\n",
        "V_train = X_train[finalStepVars]\n",
        "V_test = X_test[finalStepVars]"
      ],
      "execution_count": null,
      "outputs": [
        {
          "output_type": "display_data",
          "data": {
            "image/png": "[encoded data removed]",
            "text/plain": [
              "<Figure size 432x288 with 1 Axes>"
            ]
          },
          "metadata": {
            "needs_background": "light"
          }
        },
        {
          "output_type": "stream",
          "name": "stdout",
          "text": [
            " ................... \n",
            "argmax\n",
            "feature_names    (0, 1, 3, 4)\n",
            "avg_score            0.208153\n",
            "Name: 4, dtype: object\n",
            " ................... \n",
            "('0', '1', '3', '4')\n",
            "LOAN\n",
            "DELINQ\n",
            "CLNO\n",
            "CLAGE\n"
          ]
        }
      ]
    },
    {
      "cell_type": "markdown",
      "metadata": {
        "id": "qS-QeaMkx2JM"
      },
      "source": [
        "# <a name=\"1\">Create a TensorFlow Model To Predict Loan Defaults:</a>\n",
        "\n",
        "* For your model, do the following:\n",
        "  - Try at least three different Activation Functions\n",
        "  - Try one and two hidden layers\n",
        "  - Try using a Dropout Layer\n",
        "  - Explore using a variable selection technique\n",
        "\n",
        "* For each of the models\n",
        "  - Calculate the accuracy of the model on both the training and test data set\n",
        "  - Create a graph that shows the ROC curves for both the training and test data set. \n",
        "  - Clearly label each curve and display the Area Under the ROC curve.\n",
        "  - Display a ROC curve for the test data with all your models on the same graph (tree based, regression, and TF). \n",
        "  - Discuss which one is the most accurate. Which one would you recommend using?"
      ]
    },
    {
      "cell_type": "markdown",
      "metadata": {
        "id": "JFH1qmbodowQ"
      },
      "source": [
        "## Neural Network (PREDICT LOAN DEFAULT)\n",
        "* Input Layer\n",
        "* 1st Hidden Layer\n",
        "* Single Dropout Layer\n",
        "* 2nd Hidden Layer\n",
        "* Output Layer\n",
        "* **relu** and **softmax** Activation Functions\n",
        "* Calculate model accuracy on **TRAINING** and **TEST** data\n",
        "* Create a ROC curve for **TRAINING** and **TEST** data\n",
        "* Display ROC curve for **TEST** data with all models on same graph\n"
      ]
    },
    {
      "cell_type": "code",
      "metadata": {
        "colab": {
          "base_uri": "https://localhost:8080/"
        },
        "id": "zw5BL3RC7FtQ",
        "outputId": "f58dd12d-60a5-4ed9-82eb-ffad972d0f2d"
      },
      "source": [
        "theScaler = MinMaxScaler()\n",
        "theScaler.fit(X_train)"
      ],
      "execution_count": null,
      "outputs": [
        {
          "output_type": "execute_result",
          "data": {
            "text/plain": [
              "MinMaxScaler(copy=True, feature_range=(0, 1))"
            ]
          },
          "metadata": {},
          "execution_count": 165
        }
      ]
    },
    {
      "cell_type": "markdown",
      "metadata": {
        "id": "bfaF79Xq-yiS"
      },
      "source": [
        "##### Notes on function() below\n",
        "* predict.proba() is deprecated, adjusted to use predict()"
      ]
    },
    {
      "cell_type": "code",
      "metadata": {
        "id": "ln_ES632ww0B"
      },
      "source": [
        "# Fuction to predict accuracy of scores\n",
        "def get_TF_ProbAccuracyScores( NAME, MODEL, X, Y ) :\n",
        "    probs = MODEL.predict( X )\n",
        "    pred_list = []\n",
        "    for p in probs :\n",
        "        pred_list.append( np.argmax( p ) )\n",
        "    pred = np.array( pred_list )\n",
        "    acc_score = metrics.accuracy_score(Y, pred)\n",
        "    p1 = probs[:,1]\n",
        "    fpr, tpr, threshold = metrics.roc_curve( Y, p1)\n",
        "    auc = metrics.auc(fpr,tpr)\n",
        "    return [NAME, acc_score, fpr, tpr, auc]"
      ],
      "execution_count": null,
      "outputs": []
    },
    {
      "cell_type": "code",
      "metadata": {
        "id": "-hCjuwo993Ks"
      },
      "source": [
        "# Callable bookeeping technique\n",
        "WHO = \"TensorFlow\"   "
      ],
      "execution_count": null,
      "outputs": []
    },
    {
      "cell_type": "code",
      "metadata": {
        "id": "zvwVTZ1X7v47"
      },
      "source": [
        "# Standardize\n",
        "U_train = theScaler.transform(X_train)\n",
        "U_test = theScaler.transform(X_test)\n",
        "\n",
        "U_train = pd.DataFrame( U_train )\n",
        "U_test = pd.DataFrame( U_test )\n",
        "\n",
        "U_train.columns = list( X_train.columns.values )\n",
        "U_test.columns = list( X_train.columns.values )\n",
        "\n",
        "U_train = U_train[ GB_flag ]\n",
        "U_test = U_test[ GB_flag ]"
      ],
      "execution_count": null,
      "outputs": []
    },
    {
      "cell_type": "code",
      "metadata": {
        "id": "XWUWcwu_8-HW"
      },
      "source": [
        "# Define variable functions\n",
        "F_theShapeSize = U_train.shape[1]\n",
        "F_theActivation = tf.keras.activations.relu\n",
        "F_theLossMetric = tf.keras.losses.SparseCategoricalCrossentropy()\n",
        "F_theOptimizer = tf.keras.optimizers.Adam()\n",
        "F_theEpochs = 100\n",
        "\n",
        "F_theUnits = int( 2*F_theShapeSize )\n",
        "F_LAYER_01 = tf.keras.layers.Dense( units=F_theUnits, activation=F_theActivation,\n",
        "                                   input_dim=F_theShapeSize )\n",
        "F_LAYER_DROP = tf.keras.layers.Dropout( 0.2 )\n",
        "F_LAYER_02 = tf.keras.layers.Dense( units=F_theUnits, activation=F_theActivation )\n",
        "F_LAYER_OUTPUT = tf.keras.layers.Dense( units=2, activation=tf.keras.activations.softmax )"
      ],
      "execution_count": null,
      "outputs": []
    },
    {
      "cell_type": "code",
      "metadata": {
        "colab": {
          "base_uri": "https://localhost:8080/",
          "height": 522
        },
        "id": "DF7vDsYqxLYn",
        "outputId": "623b7b6e-ad03-4e8c-8d3a-b32b2cd7b158"
      },
      "source": [
        "# Define NN\n",
        "CLM = tf.keras.Sequential()\n",
        "CLM.add( F_LAYER_01 )\n",
        "CLM.add( F_LAYER_DROP )\n",
        "CLM.add( F_LAYER_02 )\n",
        "CLM.add( F_LAYER_OUTPUT )\n",
        "CLM.compile( loss=F_theLossMetric, optimizer=F_theOptimizer)\n",
        "CLM.fit( U_train, Y_train[TARGET_BF], epochs=F_theEpochs, verbose=False )\n",
        "\n",
        "# Determine Probabilities\n",
        "TRAIN_CLM = get_TF_ProbAccuracyScores( WHO + \"_Train\", CLM, U_train, Y_train[ TARGET_BF ] )\n",
        "TEST_CLM = get_TF_ProbAccuracyScores( WHO, CLM, U_test, Y_test[ TARGET_BF ] )\n",
        "\n",
        "# Display ROC Curve\n",
        "print_ROC_Curve( WHO, [ TRAIN_CLM, TEST_CLM ] ) \n",
        "print_Accuracy( WHO + \" CLASSIFICATION ACCURACY\", [ TRAIN_CLM, TEST_CLM ] )\n",
        "\n",
        "# Display Accuracy\n",
        "print_Accuracy( WHO + \" RMSE ACCURACY\", [ TRAIN_AMT, TEST_AMT ] )\n",
        "TF_CLM = TEST_CLM.copy()\n",
        "TF_AMT = TEST_AMT.copy()"
      ],
      "execution_count": null,
      "outputs": [
        {
          "output_type": "display_data",
          "data": {
            "image/png": "[encoded data removed]",
            "text/plain": [
              "<Figure size 432x288 with 1 Axes>"
            ]
          },
          "metadata": {
            "needs_background": "light"
          }
        },
        {
          "output_type": "stream",
          "name": "stdout",
          "text": [
            "TensorFlow CLASSIFICATION ACCURACY\n",
            "======\n",
            "TensorFlow_Train  =  0.832005033557047\n",
            "TensorFlow  =  0.8171140939597316\n",
            "------\n",
            "\n",
            "\n",
            "TensorFlow RMSE ACCURACY\n",
            "======\n",
            "TensorFlow_Train  =  11256.989695010208\n",
            "TensorFlow  =  11495.455512442735\n",
            "------\n",
            "\n",
            "\n"
          ]
        }
      ]
    },
    {
      "cell_type": "markdown",
      "metadata": {
        "id": "CQd_LkCYX6oM"
      },
      "source": [
        "# <a name=\"2\">Create a TensorFlow Model to Predict Loss Given Default</a>"
      ]
    },
    {
      "cell_type": "markdown",
      "metadata": {
        "id": "JFUPrPhcf0Q6"
      },
      "source": [
        "## Neural Network (PREDICT LOSS AMT GIVEN DEFAULT)\n",
        "* Input Layer\n",
        "* Single Hidden Layer\n",
        "* No Dropout Layer\n",
        "* **Sigmoid** and **softplus** Activation Functions\n",
        "* Calculate model accuracy on **TRAINING** and **TEST** data\n",
        "* Create a ROC curve for **TRAINING** and **TEST** data\n",
        "* Display ROC curve for **TEST** data with all models on same graph\n"
      ]
    },
    {
      "cell_type": "code",
      "metadata": {
        "id": "KSgBijYoABTK"
      },
      "source": [
        "# Standardize\n",
        "V_train = theScaler.transform( X_train )\n",
        "V_test = theScaler.transform( X_test )\n",
        "\n",
        "V_train = pd.DataFrame( V_train )\n",
        "V_test = pd.DataFrame( V_test )\n",
        "\n",
        "V_train.columns = list( X_train.columns.values )\n",
        "V_test.columns = list( X_train.columns.values )\n",
        "\n",
        "V_train = V_train[ GB_amt ]\n",
        "V_test = V_test[ GB_amt ]"
      ],
      "execution_count": null,
      "outputs": []
    },
    {
      "cell_type": "code",
      "metadata": {
        "id": "gOXgXlyUB2Bp"
      },
      "source": [
        "# Define variable functions\n",
        "A_theShapeSize = V_train.shape[1]\n",
        "A_theActivation = tf.keras.activations.sigmoid\n",
        "A_theLossMetric = tf.keras.losses.MeanSquaredError()\n",
        "A_theOptimizer = tf.keras.optimizers.Adam()\n",
        "A_theEpochs = 800\n",
        "\n",
        "A_theUnits = int( 2*A_theShapeSize  )\n",
        "A_LAYER_01 = tf.keras.layers.Dense( units=A_theUnits, activation=A_theActivation,\n",
        "                                   input_dim=A_theShapeSize )\n",
        "A_LAYER_OUTPUT = tf.keras.layers.Dense( units=1, activation=tf.keras.activations.softplus )"
      ],
      "execution_count": null,
      "outputs": []
    },
    {
      "cell_type": "code",
      "metadata": {
        "colab": {
          "base_uri": "https://localhost:8080/",
          "height": 522
        },
        "id": "vYd5izBJABkD",
        "outputId": "969c8ee9-25aa-4293-d3a9-22fd89b08b8d"
      },
      "source": [
        "# Define NN\n",
        "AMT = tf.keras.Sequential()\n",
        "AMT.add( A_LAYER_01 )\n",
        "AMT.add( A_LAYER_OUTPUT )\n",
        "AMT.compile( loss=A_theLossMetric, optimizer=A_theOptimizer)\n",
        "AMT.fit( V_train, Y_train[TARGET_LA], epochs=A_theEpochs, verbose=False )\n",
        "\n",
        "# Determine Probabilities\n",
        "TRAIN_AMT = getAmtAccuracyScores( WHO + \"_Train\", AMT, V_train[GB_amt], Y_train[TARGET_LA] )\n",
        "TEST_AMT = getAmtAccuracyScores( WHO, AMT, V_test[GB_amt], Y_test[TARGET_LA] )\n",
        "\n",
        "# Display ROC Curve\n",
        "print_ROC_Curve( WHO, [ TRAIN_CLM, TEST_CLM ] ) \n",
        "print_Accuracy( WHO + \" CLASSIFICATION ACCURACY\", [ TRAIN_CLM, TEST_CLM ] )\n",
        "\n",
        "# Display Accuracy\n",
        "print_Accuracy( WHO + \" RMSE ACCURACY\", [ TRAIN_AMT, TEST_AMT ] )\n",
        "TF_CLM = TEST_CLM.copy()\n",
        "TF_AMT = TEST_AMT.copy()"
      ],
      "execution_count": null,
      "outputs": [
        {
          "output_type": "display_data",
          "data": {
            "image/png": "[encoded data removed]",
            "text/plain": [
              "<Figure size 432x288 with 1 Axes>"
            ]
          },
          "metadata": {
            "needs_background": "light"
          }
        },
        {
          "output_type": "stream",
          "name": "stdout",
          "text": [
            "TensorFlow CLASSIFICATION ACCURACY\n",
            "======\n",
            "TensorFlow_Train  =  0.8309563758389261\n",
            "TensorFlow  =  0.8187919463087249\n",
            "------\n",
            "\n",
            "\n",
            "TensorFlow RMSE ACCURACY\n",
            "======\n",
            "TensorFlow_Train  =  11256.989695010208\n",
            "TensorFlow  =  11495.455512442735\n",
            "------\n",
            "\n",
            "\n"
          ]
        }
      ]
    },
    {
      "cell_type": "markdown",
      "metadata": {
        "id": "td2eo4eOLlrb"
      },
      "source": [
        "# <a name=\"3\">Best Model Explanation</a>\n",
        "## Consolidated ROC Curve (Best Model)\n",
        "### The Gradient Boosting model outperformed the Neural Network in test accuracy (by +19%). TensorFlow RMSE was significantly higher. I suspect this is because of the learning process required to produce the target output. It is not a precise science. \n",
        "### A lot of \"trial and error\" is required - which is similar to how humans learn (as ANNs are based on a human's brain / neural network).\n",
        "### This does feel disappointing because I expected a much more \"magical\" outcome using a NN considering the buzz the term carries in the industry. But once you dive deep, and understand what it is, how it works, and why it doesn't for certain applications, the \"hype\" fades and I begin thinking more critically about how and when I would actually need to implement a NN to solve a real-world problem.\n",
        "### Decisions Trees and Linear Regression are hard to beat"
      ]
    },
    {
      "cell_type": "code",
      "metadata": {
        "colab": {
          "base_uri": "https://localhost:8080/",
          "height": 717
        },
        "id": "otzejDD3LhmD",
        "outputId": "7fdd96d7-3379-4842-864b-8a46a775b85e"
      },
      "source": [
        "ALL_CLM = [ TREE_CLM, RF_CLM, GB_CLM, REG_ALL_CLM, REG_TREE_CLM, REG_RF_CLM, \n",
        "REG_GB_CLM, TF_CLM ]\n",
        "\n",
        "ALL_CLM = sorted( ALL_CLM, key = lambda x: x[4], reverse=True )\n",
        "\n",
        "print_ROC_Curve( WHO, ALL_CLM ) \n",
        "\n",
        "ALL_CLM = sorted( ALL_CLM, key = lambda x: x[1], reverse=True )\n",
        "\n",
        "print_Accuracy( \"ALL CLASSIFICATION ACCURACY\", ALL_CLM )\n",
        "\n",
        "ALL_AMT = [ TREE_AMT, RF_AMT, GB_AMT, REG_ALL_AMT, REG_TREE_AMT, REG_RF_AMT, \n",
        "REG_GB_AMT, TF_AMT ]\n",
        "\n",
        "ALL_AMT = sorted( ALL_AMT, key = lambda x: x[1] )\n",
        "\n",
        "print_Accuracy( \"ALL DAMAGE MODEL ACCURACY\", ALL_AMT )"
      ],
      "execution_count": null,
      "outputs": [
        {
          "output_type": "display_data",
          "data": {
            "image/png": "[encoded data removed]",
            "text/plain": [
              "<Figure size 432x288 with 1 Axes>"
            ]
          },
          "metadata": {
            "needs_background": "light"
          }
        },
        {
          "output_type": "stream",
          "name": "stdout",
          "text": [
            "ALL CLASSIFICATION ACCURACY\n",
            "======\n",
            "GB  =  0.9177852348993288\n",
            "TREE  =  0.8850671140939598\n",
            "RF  =  0.8364093959731543\n",
            "TensorFlow  =  0.8187919463087249\n",
            "REG_ALL  =  0.8137583892617449\n",
            "REG_TREE  =  0.8137583892617449\n",
            "REG_GB  =  0.8112416107382551\n",
            "REG_RF  =  0.8104026845637584\n",
            "------\n",
            "\n",
            "\n",
            "ALL DAMAGE MODEL ACCURACY\n",
            "======\n",
            "GB  =  2425.064507048414\n",
            "RF  =  2568.5870853792712\n",
            "TREE  =  4256.887056540744\n",
            "REG_ALL  =  4629.387168119021\n",
            "REG_TREE  =  4629.387168119021\n",
            "REG_GB  =  4660.879535990802\n",
            "REG_RF  =  4698.154210845632\n",
            "TensorFlow  =  11495.455512442735\n",
            "------\n",
            "\n",
            "\n"
          ]
        }
      ]
    },
    {
      "cell_type": "code",
      "metadata": {
        "id": "yZWl-gQNw7X8"
      },
      "source": [
        ""
      ],
      "execution_count": null,
      "outputs": []
    }
  ]
}