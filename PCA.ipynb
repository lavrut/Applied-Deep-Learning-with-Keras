{
  "nbformat": 4,
  "nbformat_minor": 0,
  "metadata": {
    "colab": {
      "name": "PCA.ipynb",
      "provenance": [],
      "collapsed_sections": [],
      "authorship_tag": "ABX9TyMIyOdGFEl0OX1jagu/WUBu"
    },
    "kernelspec": {
      "display_name": "Python 3",
      "language": "python",
      "name": "python3"
    },
    "language_info": {
      "codemirror_mode": {
        "name": "ipython",
        "version": 3
      },
      "file_extension": ".py",
      "mimetype": "text/x-python",
      "name": "python",
      "nbconvert_exporter": "python",
      "pygments_lexer": "ipython3",
      "version": "3.8.8"
    }
  },
  "cells": [
    {
      "cell_type": "markdown",
      "metadata": {
        "id": "_Ei_vo9ryK9r"
      },
      "source": [
        "## PCA on Home Equity Loan Dataset\n",
        "\n",
        "* Download the HMEQ Data set\n",
        "* Impute any missing numeric values. You may use a simple approach such as the mean or median.\n",
        "* Create a new Data Frame that only has numeric input variables. (i.e., remove the Target variables and the categorical variables)\n",
        " \n",
        "#### STANDARDIZE THE DATA\n",
        "* Use StandardScaler to standardize the numeric data.\n",
        " \n",
        "#### PRINCIPAL COMPONENT ANALYSIS\n",
        "* Calculate the Principal Components for your numeric data.\n",
        "* Use a Scree Plot (or some other approach) to determine the appropriate number of Principal Components. **Note that you will need at LEAST 2 Principal Components to complete this assignment. So choose a value of at least 2.**\n",
        "* Convert your Principal Component data set into a Data Frame\n",
        "* Reduce the size of your Data Frame to the number of PC's that you decided upon\n",
        "* Name the columns PC_1, PC_2, etc.\n",
        "* Append the Targets Variables and the Categorical Variables\n",
        "\n",
        "* **Interpret the PRINCIPAL COMPONENTS**\n",
        "* Select at least one of the principal components, print it's weight values\n",
        "* Attempt to interpret the coefficients. In other words, does it tell a story?\n",
        "\n",
        "* **Plot the PRINCIPAL COMPONENTS**\n",
        "* Create a scatter plot with PC_1 as the X-Axis and PC_2 as the Y_Axis.\n",
        "* Using one of the categorical variables (or the Target Flag), color the dots in the scatter plot.\n",
        "  - Note whether or not the Principal Components predict the categorical variables.\n",
        "  - If you selected more than 2 PC's, feel free to experiment by using different PC's and determining if they predict the target."
      ]
    },
    {
      "cell_type": "code",
      "metadata": {
        "id": "f7PYgbkYx7Ky"
      },
      "source": [
        "# Load Packages\n",
        "import numpy as np\n",
        "import pandas as pd\n",
        "import matplotlib.pyplot as plt\n",
        "import seaborn as sns\n",
        "from sklearn.preprocessing import StandardScaler\n",
        "from sklearn.decomposition import PCA"
      ],
      "execution_count": null,
      "outputs": []
    },
    {
      "cell_type": "code",
      "metadata": {
        "id": "1fldbzPGykND"
      },
      "source": [
        "# Read in dataset\n",
        "HMEQ = 'HMEQ_Loss.csv'\n",
        "X_df = pd.read_csv(HMEQ)"
      ],
      "execution_count": null,
      "outputs": []
    },
    {
      "cell_type": "code",
      "metadata": {
        "colab": {
          "base_uri": "https://localhost:8080/",
          "height": 222
        },
        "id": "7LV5bjnE5ofC",
        "outputId": "8ce2d4de-0d8a-47ea-daea-d9f657345a9e"
      },
      "source": [
        "# Inspect DataFrame\n",
        "X_df.head()"
      ],
      "execution_count": null,
      "outputs": [
        {
          "data": {
            "text/html": [
              "<div>\n",
              "<style scoped>\n",
              "    .dataframe tbody tr th:only-of-type {\n",
              "        vertical-align: middle;\n",
              "    }\n",
              "\n",
              "    .dataframe tbody tr th {\n",
              "        vertical-align: top;\n",
              "    }\n",
              "\n",
              "    .dataframe thead th {\n",
              "        text-align: right;\n",
              "    }\n",
              "</style>\n",
              "<table border=\"1\" class=\"dataframe\">\n",
              "  <thead>\n",
              "    <tr style=\"text-align: right;\">\n",
              "      <th></th>\n",
              "      <th>TARGET_BAD_FLAG</th>\n",
              "      <th>TARGET_LOSS_AMT</th>\n",
              "      <th>LOAN</th>\n",
              "      <th>MORTDUE</th>\n",
              "      <th>VALUE</th>\n",
              "      <th>REASON</th>\n",
              "      <th>JOB</th>\n",
              "      <th>YOJ</th>\n",
              "      <th>DEROG</th>\n",
              "      <th>DELINQ</th>\n",
              "      <th>CLAGE</th>\n",
              "      <th>NINQ</th>\n",
              "      <th>CLNO</th>\n",
              "      <th>DEBTINC</th>\n",
              "    </tr>\n",
              "  </thead>\n",
              "  <tbody>\n",
              "    <tr>\n",
              "      <th>0</th>\n",
              "      <td>1</td>\n",
              "      <td>641.0</td>\n",
              "      <td>1100</td>\n",
              "      <td>25860.0</td>\n",
              "      <td>39025.0</td>\n",
              "      <td>HomeImp</td>\n",
              "      <td>Other</td>\n",
              "      <td>10.5</td>\n",
              "      <td>0.0</td>\n",
              "      <td>0.0</td>\n",
              "      <td>94.366667</td>\n",
              "      <td>1.0</td>\n",
              "      <td>9.0</td>\n",
              "      <td>NaN</td>\n",
              "    </tr>\n",
              "    <tr>\n",
              "      <th>1</th>\n",
              "      <td>1</td>\n",
              "      <td>1109.0</td>\n",
              "      <td>1300</td>\n",
              "      <td>70053.0</td>\n",
              "      <td>68400.0</td>\n",
              "      <td>HomeImp</td>\n",
              "      <td>Other</td>\n",
              "      <td>7.0</td>\n",
              "      <td>0.0</td>\n",
              "      <td>2.0</td>\n",
              "      <td>121.833333</td>\n",
              "      <td>0.0</td>\n",
              "      <td>14.0</td>\n",
              "      <td>NaN</td>\n",
              "    </tr>\n",
              "    <tr>\n",
              "      <th>2</th>\n",
              "      <td>1</td>\n",
              "      <td>767.0</td>\n",
              "      <td>1500</td>\n",
              "      <td>13500.0</td>\n",
              "      <td>16700.0</td>\n",
              "      <td>HomeImp</td>\n",
              "      <td>Other</td>\n",
              "      <td>4.0</td>\n",
              "      <td>0.0</td>\n",
              "      <td>0.0</td>\n",
              "      <td>149.466667</td>\n",
              "      <td>1.0</td>\n",
              "      <td>10.0</td>\n",
              "      <td>NaN</td>\n",
              "    </tr>\n",
              "    <tr>\n",
              "      <th>3</th>\n",
              "      <td>1</td>\n",
              "      <td>1425.0</td>\n",
              "      <td>1500</td>\n",
              "      <td>NaN</td>\n",
              "      <td>NaN</td>\n",
              "      <td>NaN</td>\n",
              "      <td>NaN</td>\n",
              "      <td>NaN</td>\n",
              "      <td>NaN</td>\n",
              "      <td>NaN</td>\n",
              "      <td>NaN</td>\n",
              "      <td>NaN</td>\n",
              "      <td>NaN</td>\n",
              "      <td>NaN</td>\n",
              "    </tr>\n",
              "    <tr>\n",
              "      <th>4</th>\n",
              "      <td>0</td>\n",
              "      <td>NaN</td>\n",
              "      <td>1700</td>\n",
              "      <td>97800.0</td>\n",
              "      <td>112000.0</td>\n",
              "      <td>HomeImp</td>\n",
              "      <td>Office</td>\n",
              "      <td>3.0</td>\n",
              "      <td>0.0</td>\n",
              "      <td>0.0</td>\n",
              "      <td>93.333333</td>\n",
              "      <td>0.0</td>\n",
              "      <td>14.0</td>\n",
              "      <td>NaN</td>\n",
              "    </tr>\n",
              "  </tbody>\n",
              "</table>\n",
              "</div>"
            ],
            "text/plain": [
              "   TARGET_BAD_FLAG  TARGET_LOSS_AMT  LOAN  ...  NINQ  CLNO DEBTINC\n",
              "0                1            641.0  1100  ...   1.0   9.0     NaN\n",
              "1                1           1109.0  1300  ...   0.0  14.0     NaN\n",
              "2                1            767.0  1500  ...   1.0  10.0     NaN\n",
              "3                1           1425.0  1500  ...   NaN   NaN     NaN\n",
              "4                0              NaN  1700  ...   0.0  14.0     NaN\n",
              "\n",
              "[5 rows x 14 columns]"
            ]
          },
          "execution_count": 5,
          "metadata": {},
          "output_type": "execute_result"
        }
      ]
    },
    {
      "cell_type": "code",
      "metadata": {
        "colab": {
          "base_uri": "https://localhost:8080/"
        },
        "id": "Qdv67pXGzrTN",
        "outputId": "b4e9c108-e155-45a7-cd7e-3a70916c8493"
      },
      "source": [
        "# Store column names in new variable\n",
        "varNames = X_df.columns\n",
        "varNames"
      ],
      "execution_count": null,
      "outputs": [
        {
          "data": {
            "text/plain": [
              "Index(['TARGET_BAD_FLAG', 'TARGET_LOSS_AMT', 'LOAN', 'MORTDUE', 'VALUE',\n",
              "       'REASON', 'JOB', 'YOJ', 'DEROG', 'DELINQ', 'CLAGE', 'NINQ', 'CLNO',\n",
              "       'DEBTINC'],\n",
              "      dtype='object')"
            ]
          },
          "execution_count": 6,
          "metadata": {},
          "output_type": "execute_result"
        }
      ]
    },
    {
      "cell_type": "code",
      "metadata": {
        "id": "GjB-bHno-vrx"
      },
      "source": [
        "# Remove string object variables\n",
        "TARGET_BF = 'TARGET_BAD_FLAG'\n",
        "TARGET_LA = 'TARGET_LOSS_AMT'\n",
        "REASON = 'REASON'\n",
        "JOB = 'JOB'"
      ],
      "execution_count": null,
      "outputs": []
    },
    {
      "cell_type": "code",
      "metadata": {
        "id": "b4dPkgQ--7Gl"
      },
      "source": [
        "# Remove target variables and categorical variables\n",
        "X_df = X_df.drop([TARGET_BF, TARGET_LA, REASON, JOB], axis=1)"
      ],
      "execution_count": null,
      "outputs": []
    },
    {
      "cell_type": "code",
      "metadata": {
        "colab": {
          "base_uri": "https://localhost:8080/",
          "height": 202
        },
        "id": "twGiSzP6_RmP",
        "outputId": "82b663a0-1d17-4607-8d92-d3e291231c22"
      },
      "source": [
        "# Verify Drop\n",
        "X_df.head()"
      ],
      "execution_count": null,
      "outputs": [
        {
          "data": {
            "text/html": [
              "<div>\n",
              "<style scoped>\n",
              "    .dataframe tbody tr th:only-of-type {\n",
              "        vertical-align: middle;\n",
              "    }\n",
              "\n",
              "    .dataframe tbody tr th {\n",
              "        vertical-align: top;\n",
              "    }\n",
              "\n",
              "    .dataframe thead th {\n",
              "        text-align: right;\n",
              "    }\n",
              "</style>\n",
              "<table border=\"1\" class=\"dataframe\">\n",
              "  <thead>\n",
              "    <tr style=\"text-align: right;\">\n",
              "      <th></th>\n",
              "      <th>LOAN</th>\n",
              "      <th>MORTDUE</th>\n",
              "      <th>VALUE</th>\n",
              "      <th>YOJ</th>\n",
              "      <th>DEROG</th>\n",
              "      <th>DELINQ</th>\n",
              "      <th>CLAGE</th>\n",
              "      <th>NINQ</th>\n",
              "      <th>CLNO</th>\n",
              "      <th>DEBTINC</th>\n",
              "    </tr>\n",
              "  </thead>\n",
              "  <tbody>\n",
              "    <tr>\n",
              "      <th>0</th>\n",
              "      <td>1100</td>\n",
              "      <td>25860.0</td>\n",
              "      <td>39025.0</td>\n",
              "      <td>10.5</td>\n",
              "      <td>0.0</td>\n",
              "      <td>0.0</td>\n",
              "      <td>94.366667</td>\n",
              "      <td>1.0</td>\n",
              "      <td>9.0</td>\n",
              "      <td>NaN</td>\n",
              "    </tr>\n",
              "    <tr>\n",
              "      <th>1</th>\n",
              "      <td>1300</td>\n",
              "      <td>70053.0</td>\n",
              "      <td>68400.0</td>\n",
              "      <td>7.0</td>\n",
              "      <td>0.0</td>\n",
              "      <td>2.0</td>\n",
              "      <td>121.833333</td>\n",
              "      <td>0.0</td>\n",
              "      <td>14.0</td>\n",
              "      <td>NaN</td>\n",
              "    </tr>\n",
              "    <tr>\n",
              "      <th>2</th>\n",
              "      <td>1500</td>\n",
              "      <td>13500.0</td>\n",
              "      <td>16700.0</td>\n",
              "      <td>4.0</td>\n",
              "      <td>0.0</td>\n",
              "      <td>0.0</td>\n",
              "      <td>149.466667</td>\n",
              "      <td>1.0</td>\n",
              "      <td>10.0</td>\n",
              "      <td>NaN</td>\n",
              "    </tr>\n",
              "    <tr>\n",
              "      <th>3</th>\n",
              "      <td>1500</td>\n",
              "      <td>NaN</td>\n",
              "      <td>NaN</td>\n",
              "      <td>NaN</td>\n",
              "      <td>NaN</td>\n",
              "      <td>NaN</td>\n",
              "      <td>NaN</td>\n",
              "      <td>NaN</td>\n",
              "      <td>NaN</td>\n",
              "      <td>NaN</td>\n",
              "    </tr>\n",
              "    <tr>\n",
              "      <th>4</th>\n",
              "      <td>1700</td>\n",
              "      <td>97800.0</td>\n",
              "      <td>112000.0</td>\n",
              "      <td>3.0</td>\n",
              "      <td>0.0</td>\n",
              "      <td>0.0</td>\n",
              "      <td>93.333333</td>\n",
              "      <td>0.0</td>\n",
              "      <td>14.0</td>\n",
              "      <td>NaN</td>\n",
              "    </tr>\n",
              "  </tbody>\n",
              "</table>\n",
              "</div>"
            ],
            "text/plain": [
              "   LOAN  MORTDUE     VALUE   YOJ  ...       CLAGE  NINQ  CLNO  DEBTINC\n",
              "0  1100  25860.0   39025.0  10.5  ...   94.366667   1.0   9.0      NaN\n",
              "1  1300  70053.0   68400.0   7.0  ...  121.833333   0.0  14.0      NaN\n",
              "2  1500  13500.0   16700.0   4.0  ...  149.466667   1.0  10.0      NaN\n",
              "3  1500      NaN       NaN   NaN  ...         NaN   NaN   NaN      NaN\n",
              "4  1700  97800.0  112000.0   3.0  ...   93.333333   0.0  14.0      NaN\n",
              "\n",
              "[5 rows x 10 columns]"
            ]
          },
          "execution_count": 9,
          "metadata": {},
          "output_type": "execute_result"
        }
      ]
    },
    {
      "cell_type": "markdown",
      "metadata": {
        "id": "gyg-ZxA7IcO-"
      },
      "source": [
        "### Impute Missing Values\n",
        "* Must do before standardizing dataset\n",
        "\n",
        "NOTES:\n",
        "* Main DataFrame: X_df\n",
        "* dtypes stored in: X\n",
        "* Numeric list object: X_numList"
      ]
    },
    {
      "cell_type": "code",
      "metadata": {
        "colab": {
          "base_uri": "https://localhost:8080/"
        },
        "id": "rDJ3nLHwBEeg",
        "outputId": "60a41b82-9a9e-475e-8965-1ebd770536f6"
      },
      "source": [
        "# Create new DataFrame of num dtypes\n",
        "X = X_df.dtypes\n",
        "\n",
        "# Store num types in numList\n",
        "X_numList = []\n",
        "\n",
        "# Loop through index and store in numList\n",
        "# Remove \n",
        "for i in X.index:\n",
        "  if i in ([TARGET_BF, TARGET_LA, JOB, REASON]): continue\n",
        "  if X[i] in (['float64', 'int64']): X_numList.append(i)\n",
        "\n",
        "print('Numeric variables:\\n', X_numList)"
      ],
      "execution_count": null,
      "outputs": [
        {
          "name": "stdout",
          "output_type": "stream",
          "text": [
            "Numeric variables:\n",
            " ['LOAN', 'MORTDUE', 'VALUE', 'YOJ', 'DEROG', 'DELINQ', 'CLAGE', 'NINQ', 'CLNO', 'DEBTINC']\n"
          ]
        }
      ]
    },
    {
      "cell_type": "code",
      "metadata": {
        "id": "yK-txcHZBFMw"
      },
      "source": [
        "# Fill in missing values using an appropiate method\n",
        "for i in X_numList: \n",
        "  '''CLAGE is credit line age in months'''\n",
        "  if X_df[i].isna().sum() == 0: continue\n",
        "  mean_value = X_df['CLAGE'].mean()\n",
        "  X_df['CLAGE'] = X_df['CLAGE'].fillna(value=mean_value)\n",
        "\n",
        "  '''CLNO is # of credit lines'''\n",
        "  mean_value = X_df['CLNO'].mean()\n",
        "  X_df['CLNO'] = X_df['CLNO'].fillna(value=mean_value)\n",
        "\n",
        "  '''NINQ is # of credit inquiries'''\n",
        "  mean_value = X_df['NINQ'].mean()\n",
        "  X_df['NINQ'] = X_df['NINQ'].fillna(value=mean_value)\n",
        "\n",
        "  '''DELINQ is # of delinquencies on credit report (last 3 yrs)'''\n",
        "  mean_value = X_df['DELINQ'].mean()\n",
        "  X_df['DELINQ'] = X_df['DELINQ'].fillna(value=mean_value)\n",
        "\n",
        "  '''DEBTINC is DTI ratio (%)'''\n",
        "  mean_value = X_df['DEBTINC'].mean()\n",
        "  X_df['DEBTINC'] = X_df['DEBTINC'].fillna(value=mean_value)\n",
        "\n",
        "  '''DEROG is # of bad marks on credit report (last 7 yrs)'''\n",
        "  mean_value = X_df['DEROG'].mean()\n",
        "  X_df['DEROG'] = X_df['DEROG'].fillna(value=mean_value)\n",
        "\n",
        "  '''YOJ is # yrs of employment'''\n",
        "  mean_value = X_df['YOJ'].mean()\n",
        "  X_df['YOJ'] = X_df['YOJ'].fillna(value=mean_value)\n",
        "  \n",
        "  '''VALUE is # yrs of employment'''\n",
        "  mean_value = X_df['VALUE'].mean()\n",
        "  X_df['VALUE'] = X_df['VALUE'].fillna(value=mean_value)\n",
        "\n",
        "  '''MORTDUE amount of mortgage owed'''\n",
        "  mean_value = X_df['MORTDUE'].mean()\n",
        "  X_df['MORTDUE'] = X_df['MORTDUE'].fillna(value=mean_value)\n",
        "\n",
        "  '''LOAN amount of mortgage owed'''\n",
        "  mean_value = X_df['LOAN'].mean()\n",
        "  X_df['LOAN'] = X_df['LOAN'].fillna(value=mean_value)\n",
        "  break"
      ],
      "execution_count": null,
      "outputs": []
    },
    {
      "cell_type": "code",
      "metadata": {
        "colab": {
          "base_uri": "https://localhost:8080/"
        },
        "id": "norBCUsfHPOB",
        "outputId": "1151625a-5645-4913-b2e4-e357cbd5fa98"
      },
      "source": [
        "# Verify fillna\n",
        "X_df.isna().sum()"
      ],
      "execution_count": null,
      "outputs": [
        {
          "data": {
            "text/plain": [
              "LOAN       0\n",
              "MORTDUE    0\n",
              "VALUE      0\n",
              "YOJ        0\n",
              "DEROG      0\n",
              "DELINQ     0\n",
              "CLAGE      0\n",
              "NINQ       0\n",
              "CLNO       0\n",
              "DEBTINC    0\n",
              "dtype: int64"
            ]
          },
          "execution_count": 12,
          "metadata": {},
          "output_type": "execute_result"
        }
      ]
    },
    {
      "cell_type": "markdown",
      "metadata": {
        "id": "jLVAY9IH6cev"
      },
      "source": [
        "### Standardize Dataset\n",
        " * Must do before PCA \n",
        "\n",
        "Notes: \n",
        "  * Array that stores the scaled and transformed X_df data: X_STD "
      ]
    },
    {
      "cell_type": "code",
      "metadata": {
        "colab": {
          "base_uri": "https://localhost:8080/"
        },
        "id": "LtRHB0Yg0Gqi",
        "outputId": "6c99a1f2-14a9-4442-cf06-bc65df33d989"
      },
      "source": [
        "# Standardize the data (i.e., substract mean, divide stddev, +/- 3)\n",
        "# This method rescales variables\n",
        "theScaler = StandardScaler()\n",
        "theScaler.fit(X_df)"
      ],
      "execution_count": null,
      "outputs": [
        {
          "data": {
            "text/plain": [
              "StandardScaler(copy=True, with_mean=True, with_std=True)"
            ]
          },
          "execution_count": 13,
          "metadata": {},
          "output_type": "execute_result"
        }
      ]
    },
    {
      "cell_type": "code",
      "metadata": {
        "id": "cIewIjoAIOmp"
      },
      "source": [
        "X_STD = theScaler.transform(X_df)"
      ],
      "execution_count": null,
      "outputs": []
    },
    {
      "cell_type": "code",
      "metadata": {
        "colab": {
          "base_uri": "https://localhost:8080/"
        },
        "id": "VeUMbNyC6Zie",
        "outputId": "a1cd6101-3ba0-4bcf-dec2-c5a0b21db515"
      },
      "source": [
        "# Confirms number of variables to perform PCA\n",
        "MAX_N = X_STD.shape[1]\n",
        "MAX_N"
      ],
      "execution_count": null,
      "outputs": [
        {
          "data": {
            "text/plain": [
              "10"
            ]
          },
          "execution_count": 15,
          "metadata": {},
          "output_type": "execute_result"
        }
      ]
    },
    {
      "cell_type": "code",
      "metadata": {
        "colab": {
          "base_uri": "https://localhost:8080/"
        },
        "id": "bUkhwQSENzQP",
        "outputId": "a99e6d6c-2a33-47b8-f30a-d312b0a9024e"
      },
      "source": [
        "type(X_STD)"
      ],
      "execution_count": null,
      "outputs": [
        {
          "data": {
            "text/plain": [
              "numpy.ndarray"
            ]
          },
          "execution_count": 16,
          "metadata": {},
          "output_type": "execute_result"
        }
      ]
    },
    {
      "cell_type": "markdown",
      "metadata": {
        "id": "AQZtY9Y6AuOc"
      },
      "source": [
        "### Perform PCA"
      ]
    },
    {
      "cell_type": "code",
      "metadata": {
        "colab": {
          "base_uri": "https://localhost:8080/"
        },
        "id": "M0-johAj6ZlX",
        "outputId": "d8bccf13-b79c-4a96-e485-84f4826907f2"
      },
      "source": [
        "# Create PCs\n",
        "pca = PCA(n_components=MAX_N)\n",
        "pca.fit(X_STD)"
      ],
      "execution_count": null,
      "outputs": [
        {
          "data": {
            "text/plain": [
              "PCA(copy=True, iterated_power='auto', n_components=10, random_state=None,\n",
              "    svd_solver='auto', tol=0.0, whiten=False)"
            ]
          },
          "execution_count": 17,
          "metadata": {},
          "output_type": "execute_result"
        }
      ]
    },
    {
      "cell_type": "code",
      "metadata": {
        "colab": {
          "base_uri": "https://localhost:8080/"
        },
        "id": "VvPgDlPc6Zp0",
        "outputId": "bc11ecc4-9a45-4ac2-ee02-049276329aba"
      },
      "source": [
        "# Inspect eigenvalues\n",
        "# This tells us how much information is in each PC\n",
        "eigenval = pca.explained_variance_\n",
        "print('Eigen Values:')\n",
        "print(eigenval)"
      ],
      "execution_count": null,
      "outputs": [
        {
          "name": "stdout",
          "output_type": "stream",
          "text": [
            "Eigen Values:\n",
            "[2.20903156 1.40677622 1.24252493 1.00465852 0.96795576 0.84522852\n",
            " 0.77582273 0.71390901 0.63053507 0.20523582]\n"
          ]
        }
      ]
    },
    {
      "cell_type": "code",
      "metadata": {
        "colab": {
          "base_uri": "https://localhost:8080/"
        },
        "id": "ISaPqw8X6ZvS",
        "outputId": "9b4170de-ca4b-4bf5-dd67-5f4a628ab11e"
      },
      "source": [
        "# Identify relevant PCs for analysis\n",
        "varPCT = []\n",
        "totPCT = []\n",
        "total = 0\n",
        "\n",
        "for i in eigenval:\n",
        "  total = total + i\n",
        "  VAR = int(i / len(eigenval) * 100)\n",
        "  PCT = int(total / len(eigenval) * 100)\n",
        "  varPCT.append(VAR)\n",
        "  totPCT.append(PCT)\n",
        "  print(round(i, 2), 'variation=', VAR, '%', 'total=', PCT, '%')"
      ],
      "execution_count": null,
      "outputs": [
        {
          "name": "stdout",
          "output_type": "stream",
          "text": [
            "2.21 variation= 22 % total= 22 %\n",
            "1.41 variation= 14 % total= 36 %\n",
            "1.24 variation= 12 % total= 48 %\n",
            "1.0 variation= 10 % total= 58 %\n",
            "0.97 variation= 9 % total= 68 %\n",
            "0.85 variation= 8 % total= 76 %\n",
            "0.78 variation= 7 % total= 84 %\n",
            "0.71 variation= 7 % total= 91 %\n",
            "0.63 variation= 6 % total= 97 %\n",
            "0.21 variation= 2 % total= 100 %\n"
          ]
        }
      ]
    },
    {
      "cell_type": "markdown",
      "metadata": {
        "id": "SRbejvIHOxDj"
      },
      "source": [
        "### SCREE Plot\n",
        "* Visualize eigenvalues or PCs"
      ]
    },
    {
      "cell_type": "code",
      "metadata": {
        "colab": {
          "base_uri": "https://localhost:8080/",
          "height": 851
        },
        "id": "Tu6MSSuQ6ZyH",
        "outputId": "634d4f9f-1ad0-4a55-e102-c35b97c48b5d"
      },
      "source": [
        "# Create SCREE Plot\n",
        "# Notes: arange will give you 0-10(MAX_N of PCs); +1 will give 0-11 but capture 10th PCs\n",
        "PC_NUM = np.arange(MAX_N) + 1\n",
        "plt.plot(PC_NUM , eigenval, 'ro-', linewidth=2)\n",
        "plt.title('Scree Plot')\n",
        "plt.xlabel('Principal Component')\n",
        "plt.ylabel('Eigenvalue')\n",
        "plt.show()\n",
        "\n",
        "PC_NUM = np.arange(MAX_N) + 1\n",
        "plt.plot(PC_NUM, varPCT, 'ro-', linewidth=2)\n",
        "plt.title('Scree Plot')\n",
        "plt.xlabel('Principal Component')\n",
        "plt.ylabel('Variance Explained')\n",
        "plt.show()\n",
        "\n",
        "\n",
        "PC_NUM = np.arange(MAX_N) + 1\n",
        "plt.plot(PC_NUM, totPCT, 'ro-', linewidth=2)\n",
        "plt.title('Scree Plot')\n",
        "plt.xlabel('Principal Component')\n",
        "plt.ylabel('Total Variance Explained')\n",
        "plt.show()"
      ],
      "execution_count": null,
      "outputs": [
        {
          "data": {
            "image/png": "[encoded data removed]",
            "text/plain": [
              "<Figure size 432x288 with 1 Axes>"
            ]
          },
          "metadata": {
            "needs_background": "light"
          },
          "output_type": "display_data"
        },
        {
          "data": {
            "image/png": "[encoded data removed]",
            "text/plain": [
              "<Figure size 432x288 with 1 Axes>"
            ]
          },
          "metadata": {
            "needs_background": "light"
          },
          "output_type": "display_data"
        },
        {
          "data": {
            "image/png": "[encoded data removed]",
            "text/plain": [
              "<Figure size 432x288 with 1 Axes>"
            ]
          },
          "metadata": {
            "needs_background": "light"
          },
          "output_type": "display_data"
        }
      ]
    },
    {
      "cell_type": "markdown",
      "metadata": {
        "id": "HA5gG6DoZwXW"
      },
      "source": [
        "### Convert PC dataset (eigenval) into a DataFrame"
      ]
    },
    {
      "cell_type": "code",
      "metadata": {
        "colab": {
          "base_uri": "https://localhost:8080/"
        },
        "id": "FxPEFiit6Z1d",
        "outputId": "c0aae8a7-cc11-4dc8-8741-03a12f0295ae"
      },
      "source": [
        "# Convert PC dataset (eigenval) into a DataFrame\n",
        "dfc = pd.DataFrame(pca.components_)\n",
        "dfc.columns = list(X_df.columns)\n",
        "print(dfc.T)"
      ],
      "execution_count": null,
      "outputs": [
        {
          "name": "stdout",
          "output_type": "stream",
          "text": [
            "                0         1         2  ...         7         8         9\n",
            "LOAN     0.316157 -0.085506 -0.058048  ... -0.559959 -0.216561 -0.104324\n",
            "MORTDUE  0.572706  0.012686 -0.210628  ...  0.241614  0.131950 -0.690655\n",
            "VALUE    0.587073 -0.058910 -0.172060  ...  0.203326  0.143431  0.710782\n",
            "YOJ      0.028198 -0.328279  0.507770  ...  0.565175 -0.077200 -0.060564\n",
            "DEROG   -0.028835  0.511672  0.229386  ...  0.310006  0.053617 -0.013955\n",
            "DELINQ   0.039820  0.367929  0.508660  ... -0.278075  0.193360  0.002574\n",
            "CLAGE    0.234275 -0.329736  0.476089  ... -0.291827  0.511347 -0.021518\n",
            "NINQ     0.040901  0.507145 -0.043158  ... -0.032243  0.196703  0.024526\n",
            "CLNO     0.367464  0.184683  0.334482  ... -0.053116 -0.718996  0.044354\n",
            "DEBTINC  0.180551  0.289968 -0.114357  ...  0.069643  0.227533  0.001035\n",
            "\n",
            "[10 rows x 10 columns]\n"
          ]
        }
      ]
    },
    {
      "cell_type": "code",
      "metadata": {
        "id": "_49l5KxLZ56T"
      },
      "source": [
        "# Generate PC values\n",
        "X_PCA = pca.transform(X_STD) \n",
        "\n",
        "# Create PC DataFrame\n",
        "X_PCA = pd.DataFrame(X_PCA)"
      ],
      "execution_count": null,
      "outputs": []
    },
    {
      "cell_type": "code",
      "metadata": {
        "colab": {
          "base_uri": "https://localhost:8080/",
          "height": 202
        },
        "id": "h17y8AlCO0a8",
        "outputId": "30acb3d0-53e0-4a26-bde2-8e60f11fe6fe"
      },
      "source": [
        "# Inspect DataFrame\n",
        "# Read PCs row-wise PC0, PC1, PC2.....\n",
        "X_PCA.head()"
      ],
      "execution_count": null,
      "outputs": [
        {
          "data": {
            "text/html": [
              "<div>\n",
              "<style scoped>\n",
              "    .dataframe tbody tr th:only-of-type {\n",
              "        vertical-align: middle;\n",
              "    }\n",
              "\n",
              "    .dataframe tbody tr th {\n",
              "        vertical-align: top;\n",
              "    }\n",
              "\n",
              "    .dataframe thead th {\n",
              "        text-align: right;\n",
              "    }\n",
              "</style>\n",
              "<table border=\"1\" class=\"dataframe\">\n",
              "  <thead>\n",
              "    <tr style=\"text-align: right;\">\n",
              "      <th></th>\n",
              "      <th>0</th>\n",
              "      <th>1</th>\n",
              "      <th>2</th>\n",
              "      <th>3</th>\n",
              "      <th>4</th>\n",
              "      <th>5</th>\n",
              "      <th>6</th>\n",
              "      <th>7</th>\n",
              "      <th>8</th>\n",
              "      <th>9</th>\n",
              "    </tr>\n",
              "  </thead>\n",
              "  <tbody>\n",
              "    <tr>\n",
              "      <th>0</th>\n",
              "      <td>-2.487482</td>\n",
              "      <td>-0.154033</td>\n",
              "      <td>-0.553363</td>\n",
              "      <td>-0.236149</td>\n",
              "      <td>0.481440</td>\n",
              "      <td>0.143878</td>\n",
              "      <td>-0.390052</td>\n",
              "      <td>0.885953</td>\n",
              "      <td>0.260009</td>\n",
              "      <td>0.111701</td>\n",
              "    </tr>\n",
              "    <tr>\n",
              "      <th>1</th>\n",
              "      <td>-1.284904</td>\n",
              "      <td>0.350671</td>\n",
              "      <td>0.192724</td>\n",
              "      <td>-1.378032</td>\n",
              "      <td>-0.098753</td>\n",
              "      <td>1.157048</td>\n",
              "      <td>-1.009796</td>\n",
              "      <td>0.336696</td>\n",
              "      <td>0.553678</td>\n",
              "      <td>-0.206891</td>\n",
              "    </tr>\n",
              "    <tr>\n",
              "      <th>2</th>\n",
              "      <td>-2.707319</td>\n",
              "      <td>-0.041734</td>\n",
              "      <td>-0.534944</td>\n",
              "      <td>-0.713565</td>\n",
              "      <td>0.575454</td>\n",
              "      <td>-0.200819</td>\n",
              "      <td>0.113075</td>\n",
              "      <td>0.010519</td>\n",
              "      <td>0.491793</td>\n",
              "      <td>0.074416</td>\n",
              "    </tr>\n",
              "    <tr>\n",
              "      <th>3</th>\n",
              "      <td>-0.482648</td>\n",
              "      <td>0.130534</td>\n",
              "      <td>0.088617</td>\n",
              "      <td>-1.009364</td>\n",
              "      <td>0.238630</td>\n",
              "      <td>-0.295851</td>\n",
              "      <td>-0.209732</td>\n",
              "      <td>0.854837</td>\n",
              "      <td>0.330604</td>\n",
              "      <td>0.159261</td>\n",
              "    </tr>\n",
              "    <tr>\n",
              "      <th>4</th>\n",
              "      <td>-0.619048</td>\n",
              "      <td>-0.082542</td>\n",
              "      <td>-1.471846</td>\n",
              "      <td>-1.376582</td>\n",
              "      <td>-0.174272</td>\n",
              "      <td>0.441983</td>\n",
              "      <td>-0.276338</td>\n",
              "      <td>0.937055</td>\n",
              "      <td>0.249294</td>\n",
              "      <td>-0.080535</td>\n",
              "    </tr>\n",
              "  </tbody>\n",
              "</table>\n",
              "</div>"
            ],
            "text/plain": [
              "          0         1         2  ...         7         8         9\n",
              "0 -2.487482 -0.154033 -0.553363  ...  0.885953  0.260009  0.111701\n",
              "1 -1.284904  0.350671  0.192724  ...  0.336696  0.553678 -0.206891\n",
              "2 -2.707319 -0.041734 -0.534944  ...  0.010519  0.491793  0.074416\n",
              "3 -0.482648  0.130534  0.088617  ...  0.854837  0.330604  0.159261\n",
              "4 -0.619048 -0.082542 -1.471846  ...  0.937055  0.249294 -0.080535\n",
              "\n",
              "[5 rows x 10 columns]"
            ]
          },
          "execution_count": 23,
          "metadata": {},
          "output_type": "execute_result"
        }
      ]
    },
    {
      "cell_type": "code",
      "metadata": {
        "colab": {
          "base_uri": "https://localhost:8080/",
          "height": 414
        },
        "id": "IXp99hM_i94V",
        "outputId": "071e5276-ecfd-4b7c-aede-c79ff819d917"
      },
      "source": [
        "# Another way of viewing PCs via slicing\n",
        "X_PCA = X_PCA.iloc[:,:]\n",
        "X_PCA"
      ],
      "execution_count": null,
      "outputs": [
        {
          "data": {
            "text/html": [
              "<div>\n",
              "<style scoped>\n",
              "    .dataframe tbody tr th:only-of-type {\n",
              "        vertical-align: middle;\n",
              "    }\n",
              "\n",
              "    .dataframe tbody tr th {\n",
              "        vertical-align: top;\n",
              "    }\n",
              "\n",
              "    .dataframe thead th {\n",
              "        text-align: right;\n",
              "    }\n",
              "</style>\n",
              "<table border=\"1\" class=\"dataframe\">\n",
              "  <thead>\n",
              "    <tr style=\"text-align: right;\">\n",
              "      <th></th>\n",
              "      <th>0</th>\n",
              "      <th>1</th>\n",
              "      <th>2</th>\n",
              "      <th>3</th>\n",
              "      <th>4</th>\n",
              "      <th>5</th>\n",
              "      <th>6</th>\n",
              "      <th>7</th>\n",
              "      <th>8</th>\n",
              "      <th>9</th>\n",
              "    </tr>\n",
              "  </thead>\n",
              "  <tbody>\n",
              "    <tr>\n",
              "      <th>0</th>\n",
              "      <td>-2.487482</td>\n",
              "      <td>-0.154033</td>\n",
              "      <td>-0.553363</td>\n",
              "      <td>-0.236149</td>\n",
              "      <td>0.481440</td>\n",
              "      <td>0.143878</td>\n",
              "      <td>-0.390052</td>\n",
              "      <td>0.885953</td>\n",
              "      <td>0.260009</td>\n",
              "      <td>0.111701</td>\n",
              "    </tr>\n",
              "    <tr>\n",
              "      <th>1</th>\n",
              "      <td>-1.284904</td>\n",
              "      <td>0.350671</td>\n",
              "      <td>0.192724</td>\n",
              "      <td>-1.378032</td>\n",
              "      <td>-0.098753</td>\n",
              "      <td>1.157048</td>\n",
              "      <td>-1.009796</td>\n",
              "      <td>0.336696</td>\n",
              "      <td>0.553678</td>\n",
              "      <td>-0.206891</td>\n",
              "    </tr>\n",
              "    <tr>\n",
              "      <th>2</th>\n",
              "      <td>-2.707319</td>\n",
              "      <td>-0.041734</td>\n",
              "      <td>-0.534944</td>\n",
              "      <td>-0.713565</td>\n",
              "      <td>0.575454</td>\n",
              "      <td>-0.200819</td>\n",
              "      <td>0.113075</td>\n",
              "      <td>0.010519</td>\n",
              "      <td>0.491793</td>\n",
              "      <td>0.074416</td>\n",
              "    </tr>\n",
              "    <tr>\n",
              "      <th>3</th>\n",
              "      <td>-0.482648</td>\n",
              "      <td>0.130534</td>\n",
              "      <td>0.088617</td>\n",
              "      <td>-1.009364</td>\n",
              "      <td>0.238630</td>\n",
              "      <td>-0.295851</td>\n",
              "      <td>-0.209732</td>\n",
              "      <td>0.854837</td>\n",
              "      <td>0.330604</td>\n",
              "      <td>0.159261</td>\n",
              "    </tr>\n",
              "    <tr>\n",
              "      <th>4</th>\n",
              "      <td>-0.619048</td>\n",
              "      <td>-0.082542</td>\n",
              "      <td>-1.471846</td>\n",
              "      <td>-1.376582</td>\n",
              "      <td>-0.174272</td>\n",
              "      <td>0.441983</td>\n",
              "      <td>-0.276338</td>\n",
              "      <td>0.937055</td>\n",
              "      <td>0.249294</td>\n",
              "      <td>-0.080535</td>\n",
              "    </tr>\n",
              "    <tr>\n",
              "      <th>...</th>\n",
              "      <td>...</td>\n",
              "      <td>...</td>\n",
              "      <td>...</td>\n",
              "      <td>...</td>\n",
              "      <td>...</td>\n",
              "      <td>...</td>\n",
              "      <td>...</td>\n",
              "      <td>...</td>\n",
              "      <td>...</td>\n",
              "      <td>...</td>\n",
              "    </tr>\n",
              "    <tr>\n",
              "      <th>5955</th>\n",
              "      <td>1.609102</td>\n",
              "      <td>-1.708184</td>\n",
              "      <td>0.019748</td>\n",
              "      <td>4.558041</td>\n",
              "      <td>-0.471808</td>\n",
              "      <td>1.605427</td>\n",
              "      <td>1.183277</td>\n",
              "      <td>-3.151797</td>\n",
              "      <td>-1.044195</td>\n",
              "      <td>-0.638631</td>\n",
              "    </tr>\n",
              "    <tr>\n",
              "      <th>5956</th>\n",
              "      <td>1.524419</td>\n",
              "      <td>-1.688994</td>\n",
              "      <td>-0.080352</td>\n",
              "      <td>4.621401</td>\n",
              "      <td>-0.537516</td>\n",
              "      <td>1.674541</td>\n",
              "      <td>1.120154</td>\n",
              "      <td>-3.113391</td>\n",
              "      <td>-1.063049</td>\n",
              "      <td>-0.562558</td>\n",
              "    </tr>\n",
              "    <tr>\n",
              "      <th>5957</th>\n",
              "      <td>1.521755</td>\n",
              "      <td>-1.670999</td>\n",
              "      <td>-0.123875</td>\n",
              "      <td>4.558714</td>\n",
              "      <td>-0.582825</td>\n",
              "      <td>1.636267</td>\n",
              "      <td>1.158370</td>\n",
              "      <td>-3.219827</td>\n",
              "      <td>-1.045020</td>\n",
              "      <td>-0.548547</td>\n",
              "    </tr>\n",
              "    <tr>\n",
              "      <th>5958</th>\n",
              "      <td>1.486962</td>\n",
              "      <td>-1.664210</td>\n",
              "      <td>-0.114658</td>\n",
              "      <td>4.495590</td>\n",
              "      <td>-0.687929</td>\n",
              "      <td>1.541891</td>\n",
              "      <td>1.183681</td>\n",
              "      <td>-3.374657</td>\n",
              "      <td>-1.158700</td>\n",
              "      <td>-0.495428</td>\n",
              "    </tr>\n",
              "    <tr>\n",
              "      <th>5959</th>\n",
              "      <td>1.463889</td>\n",
              "      <td>-1.721520</td>\n",
              "      <td>0.000631</td>\n",
              "      <td>4.568634</td>\n",
              "      <td>-0.624034</td>\n",
              "      <td>1.539388</td>\n",
              "      <td>1.195903</td>\n",
              "      <td>-3.338747</td>\n",
              "      <td>-1.141716</td>\n",
              "      <td>-0.517419</td>\n",
              "    </tr>\n",
              "  </tbody>\n",
              "</table>\n",
              "<p>5960 rows × 10 columns</p>\n",
              "</div>"
            ],
            "text/plain": [
              "             0         1         2  ...         7         8         9\n",
              "0    -2.487482 -0.154033 -0.553363  ...  0.885953  0.260009  0.111701\n",
              "1    -1.284904  0.350671  0.192724  ...  0.336696  0.553678 -0.206891\n",
              "2    -2.707319 -0.041734 -0.534944  ...  0.010519  0.491793  0.074416\n",
              "3    -0.482648  0.130534  0.088617  ...  0.854837  0.330604  0.159261\n",
              "4    -0.619048 -0.082542 -1.471846  ...  0.937055  0.249294 -0.080535\n",
              "...        ...       ...       ...  ...       ...       ...       ...\n",
              "5955  1.609102 -1.708184  0.019748  ... -3.151797 -1.044195 -0.638631\n",
              "5956  1.524419 -1.688994 -0.080352  ... -3.113391 -1.063049 -0.562558\n",
              "5957  1.521755 -1.670999 -0.123875  ... -3.219827 -1.045020 -0.548547\n",
              "5958  1.486962 -1.664210 -0.114658  ... -3.374657 -1.158700 -0.495428\n",
              "5959  1.463889 -1.721520  0.000631  ... -3.338747 -1.141716 -0.517419\n",
              "\n",
              "[5960 rows x 10 columns]"
            ]
          },
          "execution_count": 24,
          "metadata": {},
          "output_type": "execute_result"
        }
      ]
    },
    {
      "cell_type": "code",
      "metadata": {
        "colab": {
          "base_uri": "https://localhost:8080/"
        },
        "id": "fKU7Kxn_jKEF",
        "outputId": "8e261374-6034-4578-e42a-3c5f53db86f2"
      },
      "source": [
        "# Name PCs for ease of viewing\n",
        "colNames = X_PCA\n",
        "pcaNames = []\n",
        "\n",
        "# Loop through list\n",
        "for i in colNames:\n",
        "  index = int(i) + 1 #Python starts at 0, but we want to start at 1\n",
        "  theName = 'PC_' + str(index)\n",
        "  pcaNames.append(theName)\n",
        "\n",
        "# Append list of pcaNames to X_PCA.columns\n",
        "X_PCA.columns = pcaNames\n",
        "print(X_PCA.head())"
      ],
      "execution_count": null,
      "outputs": [
        {
          "name": "stdout",
          "output_type": "stream",
          "text": [
            "       PC_1      PC_2      PC_3  ...      PC_8      PC_9     PC_10\n",
            "0 -2.487482 -0.154033 -0.553363  ...  0.885953  0.260009  0.111701\n",
            "1 -1.284904  0.350671  0.192724  ...  0.336696  0.553678 -0.206891\n",
            "2 -2.707319 -0.041734 -0.534944  ...  0.010519  0.491793  0.074416\n",
            "3 -0.482648  0.130534  0.088617  ...  0.854837  0.330604  0.159261\n",
            "4 -0.619048 -0.082542 -1.471846  ...  0.937055  0.249294 -0.080535\n",
            "\n",
            "[5 rows x 10 columns]\n"
          ]
        }
      ]
    },
    {
      "cell_type": "code",
      "metadata": {
        "id": "g_dfD8QZj7FJ"
      },
      "source": [
        "# Append target variables (for flag and loss) and categorical variables REASON and JOB to X_PCA\n",
        "df = pd.read_csv(HMEQ)\n",
        "X_PCA['TARGET_BF'] = df.TARGET_BAD_FLAG\n",
        "X_PCA['TARGET_LA'] = df.TARGET_LOSS_AMT\n",
        "X_PCA['REASON'] = df.REASON\n",
        "X_PCA['JOB'] = df.JOB"
      ],
      "execution_count": null,
      "outputs": []
    },
    {
      "cell_type": "code",
      "metadata": {
        "colab": {
          "base_uri": "https://localhost:8080/"
        },
        "id": "cs63y_J6mMpo",
        "outputId": "6fd2a7f7-ec4a-49d7-85f6-072cf9d14341"
      },
      "source": [
        "# Impute missing values for target and categorical variables\n",
        "df_dtypes = df.dtypes\n",
        "\n",
        "objList = []\n",
        "\n",
        "for i in df_dtypes.index:\n",
        "  if i in ([TARGET_BF, TARGET_LA]): continue\n",
        "  if df_dtypes[i] in (['object']): objList.append(i)\n",
        "\n",
        "print('Non-numeric variables:\\n', objList,'\\n')"
      ],
      "execution_count": null,
      "outputs": [
        {
          "name": "stdout",
          "output_type": "stream",
          "text": [
            "Non-numeric variables:\n",
            " ['REASON', 'JOB'] \n",
            "\n"
          ]
        }
      ]
    },
    {
      "cell_type": "markdown",
      "metadata": {
        "id": "-dX2OAJJo_MN"
      },
      "source": [
        "### Impute missing values for any target and categorical variables and append to X_PCA DataFrame"
      ]
    },
    {
      "cell_type": "code",
      "metadata": {
        "id": "6Xsc2ASImiSs"
      },
      "source": [
        "# Fill in missing values for objList\n",
        "for i in objList:\n",
        "  '''REASON is purpose of loan request'''\n",
        "  X_PCA['REASON'] = X_PCA['REASON'].fillna(method='ffill')\n",
        " \n",
        "  '''JOB is applicant's occupation'''\n",
        "  X_PCA['JOB'] = X_PCA['JOB'].fillna(method='ffill')\n",
        "  break\n",
        "\n",
        "# Fill in missing values for TARGET_LA or TARGET_LOSS_AMT\n",
        "median_value = X_PCA['TARGET_LA'].median()\n",
        "X_PCA['TARGET_LA'] = X_PCA['TARGET_LA'].fillna(value=median_value)"
      ],
      "execution_count": null,
      "outputs": []
    },
    {
      "cell_type": "code",
      "metadata": {
        "colab": {
          "base_uri": "https://localhost:8080/",
          "height": 222
        },
        "id": "Ma5lzXRykFcu",
        "outputId": "34fc0a9a-5a1d-4b66-942f-8be27dda4990"
      },
      "source": [
        "# Verify target and categorical variables were added to X_PCA\n",
        "X_PCA.head()"
      ],
      "execution_count": null,
      "outputs": [
        {
          "data": {
            "text/html": [
              "<div>\n",
              "<style scoped>\n",
              "    .dataframe tbody tr th:only-of-type {\n",
              "        vertical-align: middle;\n",
              "    }\n",
              "\n",
              "    .dataframe tbody tr th {\n",
              "        vertical-align: top;\n",
              "    }\n",
              "\n",
              "    .dataframe thead th {\n",
              "        text-align: right;\n",
              "    }\n",
              "</style>\n",
              "<table border=\"1\" class=\"dataframe\">\n",
              "  <thead>\n",
              "    <tr style=\"text-align: right;\">\n",
              "      <th></th>\n",
              "      <th>PC_1</th>\n",
              "      <th>PC_2</th>\n",
              "      <th>PC_3</th>\n",
              "      <th>PC_4</th>\n",
              "      <th>PC_5</th>\n",
              "      <th>PC_6</th>\n",
              "      <th>PC_7</th>\n",
              "      <th>PC_8</th>\n",
              "      <th>PC_9</th>\n",
              "      <th>PC_10</th>\n",
              "      <th>TARGET_BF</th>\n",
              "      <th>TARGET_LA</th>\n",
              "      <th>REASON</th>\n",
              "      <th>JOB</th>\n",
              "    </tr>\n",
              "  </thead>\n",
              "  <tbody>\n",
              "    <tr>\n",
              "      <th>0</th>\n",
              "      <td>-2.487482</td>\n",
              "      <td>-0.154033</td>\n",
              "      <td>-0.553363</td>\n",
              "      <td>-0.236149</td>\n",
              "      <td>0.481440</td>\n",
              "      <td>0.143878</td>\n",
              "      <td>-0.390052</td>\n",
              "      <td>0.885953</td>\n",
              "      <td>0.260009</td>\n",
              "      <td>0.111701</td>\n",
              "      <td>1</td>\n",
              "      <td>641.0</td>\n",
              "      <td>HomeImp</td>\n",
              "      <td>Other</td>\n",
              "    </tr>\n",
              "    <tr>\n",
              "      <th>1</th>\n",
              "      <td>-1.284904</td>\n",
              "      <td>0.350671</td>\n",
              "      <td>0.192724</td>\n",
              "      <td>-1.378032</td>\n",
              "      <td>-0.098753</td>\n",
              "      <td>1.157048</td>\n",
              "      <td>-1.009796</td>\n",
              "      <td>0.336696</td>\n",
              "      <td>0.553678</td>\n",
              "      <td>-0.206891</td>\n",
              "      <td>1</td>\n",
              "      <td>1109.0</td>\n",
              "      <td>HomeImp</td>\n",
              "      <td>Other</td>\n",
              "    </tr>\n",
              "    <tr>\n",
              "      <th>2</th>\n",
              "      <td>-2.707319</td>\n",
              "      <td>-0.041734</td>\n",
              "      <td>-0.534944</td>\n",
              "      <td>-0.713565</td>\n",
              "      <td>0.575454</td>\n",
              "      <td>-0.200819</td>\n",
              "      <td>0.113075</td>\n",
              "      <td>0.010519</td>\n",
              "      <td>0.491793</td>\n",
              "      <td>0.074416</td>\n",
              "      <td>1</td>\n",
              "      <td>767.0</td>\n",
              "      <td>HomeImp</td>\n",
              "      <td>Other</td>\n",
              "    </tr>\n",
              "    <tr>\n",
              "      <th>3</th>\n",
              "      <td>-0.482648</td>\n",
              "      <td>0.130534</td>\n",
              "      <td>0.088617</td>\n",
              "      <td>-1.009364</td>\n",
              "      <td>0.238630</td>\n",
              "      <td>-0.295851</td>\n",
              "      <td>-0.209732</td>\n",
              "      <td>0.854837</td>\n",
              "      <td>0.330604</td>\n",
              "      <td>0.159261</td>\n",
              "      <td>1</td>\n",
              "      <td>1425.0</td>\n",
              "      <td>HomeImp</td>\n",
              "      <td>Other</td>\n",
              "    </tr>\n",
              "    <tr>\n",
              "      <th>4</th>\n",
              "      <td>-0.619048</td>\n",
              "      <td>-0.082542</td>\n",
              "      <td>-1.471846</td>\n",
              "      <td>-1.376582</td>\n",
              "      <td>-0.174272</td>\n",
              "      <td>0.441983</td>\n",
              "      <td>-0.276338</td>\n",
              "      <td>0.937055</td>\n",
              "      <td>0.249294</td>\n",
              "      <td>-0.080535</td>\n",
              "      <td>0</td>\n",
              "      <td>11003.0</td>\n",
              "      <td>HomeImp</td>\n",
              "      <td>Office</td>\n",
              "    </tr>\n",
              "  </tbody>\n",
              "</table>\n",
              "</div>"
            ],
            "text/plain": [
              "       PC_1      PC_2      PC_3  ...  TARGET_LA   REASON     JOB\n",
              "0 -2.487482 -0.154033 -0.553363  ...      641.0  HomeImp   Other\n",
              "1 -1.284904  0.350671  0.192724  ...     1109.0  HomeImp   Other\n",
              "2 -2.707319 -0.041734 -0.534944  ...      767.0  HomeImp   Other\n",
              "3 -0.482648  0.130534  0.088617  ...     1425.0  HomeImp   Other\n",
              "4 -0.619048 -0.082542 -1.471846  ...    11003.0  HomeImp  Office\n",
              "\n",
              "[5 rows x 14 columns]"
            ]
          },
          "execution_count": 29,
          "metadata": {},
          "output_type": "execute_result"
        }
      ]
    },
    {
      "cell_type": "markdown",
      "metadata": {
        "id": "7WjVc3a2sGkb"
      },
      "source": [
        "### Create a scatter plot with PC_1 as X-Axis and PC_2 as Y-Axis; select a categorical variable or target variable, color dots in the scatter plot "
      ]
    },
    {
      "cell_type": "code",
      "metadata": {
        "id": "elMiyrflpTS2"
      },
      "source": [
        "# for Name, Group in X_PCA.groupby('TARGET_LA'):\n",
        "#   print(Group.head(1).T)"
      ],
      "execution_count": null,
      "outputs": []
    },
    {
      "cell_type": "code",
      "metadata": {
        "colab": {
          "base_uri": "https://localhost:8080/",
          "height": 280
        },
        "id": "UzACXbinvDOh",
        "outputId": "6a90397a-3d4b-4bc0-d842-08502ae9db4b"
      },
      "source": [
        "for Name, Group in X_PCA.groupby('TARGET_BF'):\n",
        "  sns.scatterplot(x = Group.PC_1, y = Group.PC_2)"
      ],
      "execution_count": null,
      "outputs": [
        {
          "data": {
            "image/png": "[encoded data removed]",
            "text/plain": [
              "<Figure size 432x288 with 1 Axes>"
            ]
          },
          "metadata": {
            "needs_background": "light"
          },
          "output_type": "display_data"
        }
      ]
    },
    {
      "cell_type": "code",
      "metadata": {
        "colab": {
          "base_uri": "https://localhost:8080/",
          "height": 578
        },
        "id": "95_hIiwk2r0g",
        "outputId": "8d505ec4-de1f-408b-eb92-8442cf5c0e8a"
      },
      "source": [
        "for Name, Group in X_PCA.groupby('TARGET_BF'):\n",
        "  plt.scatter(x = Group.PC_1, y = Group.PC_2)\n",
        "  plt.xlabel('PC_1')\n",
        "  plt.ylabel('PC_2')\n",
        "  # plt.legend() # No handles with labels found to put in legend\n",
        "  plt.show()"
      ],
      "execution_count": null,
      "outputs": [
        {
          "name": "stderr",
          "output_type": "stream",
          "text": [
            "No handles with labels found to put in legend.\n"
          ]
        },
        {
          "data": {
            "image/png": "[encoded data removed]",
            "text/plain": [
              "<Figure size 432x288 with 1 Axes>"
            ]
          },
          "metadata": {
            "needs_background": "light"
          },
          "output_type": "display_data"
        },
        {
          "name": "stderr",
          "output_type": "stream",
          "text": [
            "No handles with labels found to put in legend.\n"
          ]
        },
        {
          "data": {
            "image/png": "[encoded data removed]",
            "text/plain": [
              "<Figure size 432x288 with 1 Axes>"
            ]
          },
          "metadata": {
            "needs_background": "light"
          },
          "output_type": "display_data"
        }
      ]
    },
    {
      "cell_type": "code",
      "metadata": {
        "colab": {
          "base_uri": "https://localhost:8080/",
          "height": 543
        },
        "id": "vVWgW1nbrHVd",
        "outputId": "2773b580-145d-411d-e08d-6f88e4182fa0"
      },
      "source": [
        "for Name, Group in X_PCA.groupby(['REASON']):\n",
        "  plt.scatter(Group.PC_1, Group.PC_2, label=Name)\n",
        "  plt.xlabel('PC_1')\n",
        "  plt.ylabel('PC_2')\n",
        "  plt.legend()\n",
        "  plt.show()"
      ],
      "execution_count": null,
      "outputs": [
        {
          "data": {
            "image/png": "[encoded data removed]",
            "text/plain": [
              "<Figure size 432x288 with 1 Axes>"
            ]
          },
          "metadata": {
            "needs_background": "light"
          },
          "output_type": "display_data"
        },
        {
          "data": {
            "image/png": "[encoded data removed]",
            "text/plain": [
              "<Figure size 432x288 with 1 Axes>"
            ]
          },
          "metadata": {
            "needs_background": "light"
          },
          "output_type": "display_data"
        }
      ]
    },
    {
      "cell_type": "code",
      "metadata": {
        "colab": {
          "base_uri": "https://localhost:8080/",
          "height": 1000
        },
        "id": "2JFnuMuqvYrv",
        "outputId": "d080b846-65ab-4991-eba3-af197a5ad05e"
      },
      "source": [
        "for Name, Group in X_PCA.groupby(['JOB']):\n",
        "  plt.scatter(Group.PC_1, Group.PC_2, label=Name)\n",
        "  plt.xlabel('PC_1')\n",
        "  plt.ylabel('PC_2')\n",
        "  plt.legend()\n",
        "  plt.show()"
      ],
      "execution_count": null,
      "outputs": [
        {
          "data": {
            "image/png": "[encoded data removed]",
            "text/plain": [
              "<Figure size 432x288 with 1 Axes>"
            ]
          },
          "metadata": {
            "needs_background": "light"
          },
          "output_type": "display_data"
        },
        {
          "data": {
            "image/png": "[encoded data removed]",
            "text/plain": [
              "<Figure size 432x288 with 1 Axes>"
            ]
          },
          "metadata": {
            "needs_background": "light"
          },
          "output_type": "display_data"
        },
        {
          "data": {
            "image/png": "[encoded data removed]",
            "text/plain": [
              "<Figure size 432x288 with 1 Axes>"
            ]
          },
          "metadata": {
            "needs_background": "light"
          },
          "output_type": "display_data"
        },
        {
          "data": {
            "image/png": "[encoded data removed]",
            "text/plain": [
              "<Figure size 432x288 with 1 Axes>"
            ]
          },
          "metadata": {
            "needs_background": "light"
          },
          "output_type": "display_data"
        },
        {
          "data": {
            "image/png": "[encoded data removed]",
            "text/plain": [
              "<Figure size 432x288 with 1 Axes>"
            ]
          },
          "metadata": {
            "needs_background": "light"
          },
          "output_type": "display_data"
        },
        {
          "data": {
            "image/png": "[encoded data removed]",
            "text/plain": [
              "<Figure size 432x288 with 1 Axes>"
            ]
          },
          "metadata": {
            "needs_background": "light"
          },
          "output_type": "display_data"
        }
      ]
    }
  ]
}