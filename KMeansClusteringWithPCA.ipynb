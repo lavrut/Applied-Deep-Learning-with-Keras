{
  "nbformat": 4,
  "nbformat_minor": 0,
  "metadata": {
    "colab": {
      "name": "BINGOBONUS_KMeansClustering_Rutledge_LaVon.ipynb",
      "provenance": [],
      "collapsed_sections": [],
      "toc_visible": true,
      "authorship_tag": "ABX9TyOZmkPFJJ/3voPh8264KkYU"
    },
    "kernelspec": {
      "name": "python3",
      "display_name": "Python 3"
    },
    "language_info": {
      "name": "python"
    }
  },
  "cells": [
    {
      "cell_type": "markdown",
      "metadata": {
        "id": "Ry_EM9Gyph3M"
      },
      "source": [
        "TRANSFORM THE DATA\n",
        "* Use StandardScaler or MinMaxScaler to transform the numeric data.\n",
        " \n",
        "SELECT VARIABLES\n",
        "* Select three or more variables for clustering. Try to select variables based on a theme (i.e. variables convey similar type of information).\n",
        "\n",
        "* **DO NOT USE TARGET VARIABLES TO CREATE CLUSTERS.\n",
        "Hint: Try to avoid categorical variables or binary variables, they usually produce bad results.**\n",
        " \n",
        "\n",
        "DETERMINE THE NUMBER OF CLUSTERS\n",
        "* Calculate Intertia, Silhouette, and/or Calinski Harabaz scores.\n",
        "* Graph the results of your scores.\n",
        "* Determine a good number of clusters to use.\n",
        " \n",
        "\n",
        "FIND THE KMEANS CLUSTERS\n",
        "* Find the KMeans Clusters\n",
        "* Using \"groupby\", profile the cluster centers.\n",
        "* If possible, try to tell a story of the people who are members of each cluster. Do the clusters make sense?\n",
        "* Determine if the clusters can be used to determine the Probability of Loan Default and Loss Amount given default."
      ]
    },
    {
      "cell_type": "code",
      "metadata": {
        "id": "-vZpsCt2YLV0"
      },
      "source": [
        "# Load Packages\n",
        "import numpy as np\n",
        "import pandas as pd\n",
        "\n",
        "from sklearn.preprocessing import MinMaxScaler\n",
        "from sklearn.preprocessing import StandardScaler\n",
        "\n",
        "import matplotlib.pyplot as plt\n",
        "import seaborn as sns\n",
        "\n",
        "from sklearn.cluster import KMeans\n",
        "from sklearn.metrics import silhouette_score\n",
        "from sklearn.metrics import calinski_harabaz_score\n",
        "\n",
        "from sklearn.preprocessing import StandardScaler\n",
        "from sklearn.decomposition import PCA\n",
        "\n",
        "import warnings\n",
        "warnings.filterwarnings(\"ignore\")"
      ],
      "execution_count": 257,
      "outputs": []
    },
    {
      "cell_type": "code",
      "metadata": {
        "id": "p0VortH4YsHp"
      },
      "source": [
        "# Load dataset\n",
        "FILE = 'HMEQ_Loss.csv'\n",
        "\n",
        "# Create DataFrame\n",
        "df = pd.read_csv(FILE)\n",
        "\n",
        "# Store dtypes in new variable for later use\n",
        "df_dtypes = df.dtypes"
      ],
      "execution_count": 258,
      "outputs": []
    },
    {
      "cell_type": "code",
      "metadata": {
        "colab": {
          "base_uri": "https://localhost:8080/",
          "height": 130
        },
        "id": "Ib422ByAZxIe",
        "outputId": "d0384074-9862-4525-eeb6-e724b9726e45"
      },
      "source": [
        "# Inspect DataFrame\n",
        "df.head(2)"
      ],
      "execution_count": 259,
      "outputs": [
        {
          "output_type": "execute_result",
          "data": {
            "text/html": [
              "<div>\n",
              "<style scoped>\n",
              "    .dataframe tbody tr th:only-of-type {\n",
              "        vertical-align: middle;\n",
              "    }\n",
              "\n",
              "    .dataframe tbody tr th {\n",
              "        vertical-align: top;\n",
              "    }\n",
              "\n",
              "    .dataframe thead th {\n",
              "        text-align: right;\n",
              "    }\n",
              "</style>\n",
              "<table border=\"1\" class=\"dataframe\">\n",
              "  <thead>\n",
              "    <tr style=\"text-align: right;\">\n",
              "      <th></th>\n",
              "      <th>TARGET_BAD_FLAG</th>\n",
              "      <th>TARGET_LOSS_AMT</th>\n",
              "      <th>LOAN</th>\n",
              "      <th>MORTDUE</th>\n",
              "      <th>VALUE</th>\n",
              "      <th>REASON</th>\n",
              "      <th>JOB</th>\n",
              "      <th>YOJ</th>\n",
              "      <th>DEROG</th>\n",
              "      <th>DELINQ</th>\n",
              "      <th>CLAGE</th>\n",
              "      <th>NINQ</th>\n",
              "      <th>CLNO</th>\n",
              "      <th>DEBTINC</th>\n",
              "    </tr>\n",
              "  </thead>\n",
              "  <tbody>\n",
              "    <tr>\n",
              "      <th>0</th>\n",
              "      <td>1</td>\n",
              "      <td>641.0</td>\n",
              "      <td>1100</td>\n",
              "      <td>25860.0</td>\n",
              "      <td>39025.0</td>\n",
              "      <td>HomeImp</td>\n",
              "      <td>Other</td>\n",
              "      <td>10.5</td>\n",
              "      <td>0.0</td>\n",
              "      <td>0.0</td>\n",
              "      <td>94.366667</td>\n",
              "      <td>1.0</td>\n",
              "      <td>9.0</td>\n",
              "      <td>NaN</td>\n",
              "    </tr>\n",
              "    <tr>\n",
              "      <th>1</th>\n",
              "      <td>1</td>\n",
              "      <td>1109.0</td>\n",
              "      <td>1300</td>\n",
              "      <td>70053.0</td>\n",
              "      <td>68400.0</td>\n",
              "      <td>HomeImp</td>\n",
              "      <td>Other</td>\n",
              "      <td>7.0</td>\n",
              "      <td>0.0</td>\n",
              "      <td>2.0</td>\n",
              "      <td>121.833333</td>\n",
              "      <td>0.0</td>\n",
              "      <td>14.0</td>\n",
              "      <td>NaN</td>\n",
              "    </tr>\n",
              "  </tbody>\n",
              "</table>\n",
              "</div>"
            ],
            "text/plain": [
              "   TARGET_BAD_FLAG  TARGET_LOSS_AMT  LOAN  ...  NINQ  CLNO DEBTINC\n",
              "0                1            641.0  1100  ...   1.0   9.0     NaN\n",
              "1                1           1109.0  1300  ...   0.0  14.0     NaN\n",
              "\n",
              "[2 rows x 14 columns]"
            ]
          },
          "metadata": {},
          "execution_count": 259
        }
      ]
    },
    {
      "cell_type": "code",
      "metadata": {
        "colab": {
          "base_uri": "https://localhost:8080/"
        },
        "id": "HbuTKaXjZxPV",
        "outputId": "a6ee5d47-0200-4cc8-bd4d-3703a75b14e7"
      },
      "source": [
        "# Inspect dtype\n",
        "df.info()"
      ],
      "execution_count": 260,
      "outputs": [
        {
          "output_type": "stream",
          "name": "stdout",
          "text": [
            "<class 'pandas.core.frame.DataFrame'>\n",
            "RangeIndex: 5960 entries, 0 to 5959\n",
            "Data columns (total 14 columns):\n",
            " #   Column           Non-Null Count  Dtype  \n",
            "---  ------           --------------  -----  \n",
            " 0   TARGET_BAD_FLAG  5960 non-null   int64  \n",
            " 1   TARGET_LOSS_AMT  1189 non-null   float64\n",
            " 2   LOAN             5960 non-null   int64  \n",
            " 3   MORTDUE          5442 non-null   float64\n",
            " 4   VALUE            5848 non-null   float64\n",
            " 5   REASON           5708 non-null   object \n",
            " 6   JOB              5681 non-null   object \n",
            " 7   YOJ              5445 non-null   float64\n",
            " 8   DEROG            5252 non-null   float64\n",
            " 9   DELINQ           5380 non-null   float64\n",
            " 10  CLAGE            5652 non-null   float64\n",
            " 11  NINQ             5450 non-null   float64\n",
            " 12  CLNO             5738 non-null   float64\n",
            " 13  DEBTINC          4693 non-null   float64\n",
            "dtypes: float64(10), int64(2), object(2)\n",
            "memory usage: 652.0+ KB\n"
          ]
        }
      ]
    },
    {
      "cell_type": "code",
      "metadata": {
        "id": "bduDwX2TZNQg"
      },
      "source": [
        "# Exclude target variables for now\n",
        "# Create new variables names for target variables\n",
        "TARGET_BF = 'TARGET_BAD_FLAG'\n",
        "TARGET_LA = 'TARGET_LOSS_AMT'"
      ],
      "execution_count": 261,
      "outputs": []
    },
    {
      "cell_type": "code",
      "metadata": {
        "id": "T1comCd_Z572"
      },
      "source": [
        "# Create two lists to store objects by dtypes\n",
        "objList = []\n",
        "numList = []\n",
        "\n",
        "for i in df_dtypes.index:\n",
        "  if i in ([TARGET_BF, TARGET_LA]): continue\n",
        "  if df_dtypes[i] in (['object']): objList.append(i)\n",
        "  if df_dtypes[i] in (['float64', 'int64']): numList.append(i)  "
      ],
      "execution_count": 262,
      "outputs": []
    },
    {
      "cell_type": "code",
      "metadata": {
        "colab": {
          "base_uri": "https://localhost:8080/"
        },
        "id": "aAybyHS0Z6BL",
        "outputId": "ba6ae36c-010d-4c10-d082-57487a7361da"
      },
      "source": [
        "print('List of objects:\\n', objList, '\\n')\n",
        "print('List of numeric dtypes:\\n', numList, '\\n')"
      ],
      "execution_count": 263,
      "outputs": [
        {
          "output_type": "stream",
          "name": "stdout",
          "text": [
            "List of objects:\n",
            " ['REASON', 'JOB'] \n",
            "\n",
            "List of numeric dtypes:\n",
            " ['LOAN', 'MORTDUE', 'VALUE', 'YOJ', 'DEROG', 'DELINQ', 'CLAGE', 'NINQ', 'CLNO', 'DEBTINC'] \n",
            "\n"
          ]
        }
      ]
    },
    {
      "cell_type": "code",
      "metadata": {
        "colab": {
          "base_uri": "https://localhost:8080/"
        },
        "id": "a1TZ9bImZk9j",
        "outputId": "eeec0212-3270-47c1-e9f5-ce614d856840"
      },
      "source": [
        "# Inspect all dtypes in objList \n",
        "for i in objList:\n",
        "  show_me = df[i].value_counts(dropna=False)\n",
        "  print('\\n')\n",
        "  print(show_me)"
      ],
      "execution_count": 264,
      "outputs": [
        {
          "output_type": "stream",
          "name": "stdout",
          "text": [
            "\n",
            "\n",
            "DebtCon    3928\n",
            "HomeImp    1780\n",
            "NaN         252\n",
            "Name: REASON, dtype: int64\n",
            "\n",
            "\n",
            "Other      2388\n",
            "ProfExe    1276\n",
            "Office      948\n",
            "Mgr         767\n",
            "NaN         279\n",
            "Self        193\n",
            "Sales       109\n",
            "Name: JOB, dtype: int64\n"
          ]
        }
      ]
    },
    {
      "cell_type": "code",
      "metadata": {
        "colab": {
          "base_uri": "https://localhost:8080/"
        },
        "id": "jOrsORI8Z5-d",
        "outputId": "19c88126-4770-4c0a-b13b-98967567827b"
      },
      "source": [
        "# Percent of missing values by dtype\n",
        "df.isna().sum() / len(df)"
      ],
      "execution_count": 265,
      "outputs": [
        {
          "output_type": "execute_result",
          "data": {
            "text/plain": [
              "TARGET_BAD_FLAG    0.000000\n",
              "TARGET_LOSS_AMT    0.800503\n",
              "LOAN               0.000000\n",
              "MORTDUE            0.086913\n",
              "VALUE              0.018792\n",
              "REASON             0.042282\n",
              "JOB                0.046812\n",
              "YOJ                0.086409\n",
              "DEROG              0.118792\n",
              "DELINQ             0.097315\n",
              "CLAGE              0.051678\n",
              "NINQ               0.085570\n",
              "CLNO               0.037248\n",
              "DEBTINC            0.212584\n",
              "dtype: float64"
            ]
          },
          "metadata": {},
          "execution_count": 265
        }
      ]
    },
    {
      "cell_type": "code",
      "metadata": {
        "colab": {
          "base_uri": "https://localhost:8080/"
        },
        "id": "5zxLtrUvaEti",
        "outputId": "8faae23d-2062-40cf-e948-df0d03c9552e"
      },
      "source": [
        "# Total missing values by dtypes\n",
        "df.isna().sum()"
      ],
      "execution_count": 266,
      "outputs": [
        {
          "output_type": "execute_result",
          "data": {
            "text/plain": [
              "TARGET_BAD_FLAG       0\n",
              "TARGET_LOSS_AMT    4771\n",
              "LOAN                  0\n",
              "MORTDUE             518\n",
              "VALUE               112\n",
              "REASON              252\n",
              "JOB                 279\n",
              "YOJ                 515\n",
              "DEROG               708\n",
              "DELINQ              580\n",
              "CLAGE               308\n",
              "NINQ                510\n",
              "CLNO                222\n",
              "DEBTINC            1267\n",
              "dtype: int64"
            ]
          },
          "metadata": {},
          "execution_count": 266
        }
      ]
    },
    {
      "cell_type": "code",
      "metadata": {
        "id": "4umUdW-maExA"
      },
      "source": [
        "# Impute missing values for objects with NaNs in objList\n",
        "for i in objList:\n",
        "  df['REASON'] = df['REASON'].fillna(method='ffill')\n",
        "  df['JOB'] = df['JOB'].fillna(method='ffill')"
      ],
      "execution_count": 267,
      "outputs": []
    },
    {
      "cell_type": "code",
      "metadata": {
        "id": "uSx_VV2zaIok"
      },
      "source": [
        "# Impute missing values for objects with NaNs in numList\n",
        "for i in numList:\n",
        "  median_value = df['LOAN'].median()\n",
        "  df['LOAN'] = df['LOAN'].fillna(value=median_value)\n",
        "\n",
        "  median_value = df['MORTDUE'].median()\n",
        "  df['MORTDUE'] = df['MORTDUE'].fillna(value=median_value)\n",
        "\n",
        "  median_value = df['VALUE'].median()\n",
        "  df['VALUE'] = df['VALUE'].fillna(value=median_value)\n",
        "\n",
        "  mean_value = df['YOJ'].mean()\n",
        "  df['YOJ'] = df['YOJ'].fillna(value=mean_value)\n",
        "\n",
        "  mean_value = df['DEROG'].mean()\n",
        "  df['DEROG'] = df['DEROG'].fillna(value=mean_value)\n",
        "\n",
        "  mean_value = df['DELINQ'].mean()\n",
        "  df['DELINQ'] = df['DELINQ'].fillna(value=mean_value)\n",
        "  \n",
        "  mean_value = df['CLAGE'].mean()\n",
        "  df['CLAGE'] = df['CLAGE'].fillna(value=mean_value)\n",
        "\n",
        "  mean_value = df['NINQ'].mean()\n",
        "  df['NINQ'] = df['NINQ'].fillna(value=mean_value)\n",
        "\n",
        "  mean_value = df['CLNO'].mean()\n",
        "  df['CLNO'] = df['CLNO'].fillna(value=mean_value)\n",
        "\n",
        "  mean_value = df['DEBTINC'].mean()\n",
        "  df['DEBTINC'] = df['DEBTINC'].fillna(value=mean_value)"
      ],
      "execution_count": 268,
      "outputs": []
    },
    {
      "cell_type": "code",
      "metadata": {
        "id": "vQw71VAwaM8b"
      },
      "source": [
        "# Impute missing values for target variables \n",
        "median_value = df['TARGET_LOSS_AMT'].median()\n",
        "df['TARGET_LOSS_AMT'] = df['TARGET_LOSS_AMT'].fillna(value=median_value)"
      ],
      "execution_count": 269,
      "outputs": []
    },
    {
      "cell_type": "code",
      "metadata": {
        "colab": {
          "base_uri": "https://localhost:8080/"
        },
        "id": "Q-swb9kDaN31",
        "outputId": "1746adbd-be75-4596-d0e7-e793c12b48f6"
      },
      "source": [
        "# Verify all missing values have been imputed\n",
        "df.isna().sum()"
      ],
      "execution_count": 270,
      "outputs": [
        {
          "output_type": "execute_result",
          "data": {
            "text/plain": [
              "TARGET_BAD_FLAG    0\n",
              "TARGET_LOSS_AMT    0\n",
              "LOAN               0\n",
              "MORTDUE            0\n",
              "VALUE              0\n",
              "REASON             0\n",
              "JOB                0\n",
              "YOJ                0\n",
              "DEROG              0\n",
              "DELINQ             0\n",
              "CLAGE              0\n",
              "NINQ               0\n",
              "CLNO               0\n",
              "DEBTINC            0\n",
              "dtype: int64"
            ]
          },
          "metadata": {},
          "execution_count": 270
        }
      ]
    },
    {
      "cell_type": "code",
      "metadata": {
        "colab": {
          "base_uri": "https://localhost:8080/"
        },
        "id": "cr4UHGR1aN6x",
        "outputId": "ab24f498-1871-40a4-bc69-d2e788e8b493"
      },
      "source": [
        "# Perform one-hot-encoding on objList to convert object variables to numeric\n",
        "# Loop through each object list (objList and numList)\n",
        "for i in objList :\n",
        "  print(\"Class = \", i)\n",
        "  thePrefix = \"IMP_\" + i\n",
        "  print(thePrefix)\n",
        "  y = pd.get_dummies(df[i], prefix = thePrefix, dummy_na = False)\n",
        "  print(type(y))\n",
        "  print(y.head().T)\n",
        "  df = pd.concat([df, y], axis = 1)\n",
        "  df = df.drop(i, axis = 1)\n",
        "\n",
        "print(df.head().T)"
      ],
      "execution_count": 271,
      "outputs": [
        {
          "output_type": "stream",
          "name": "stdout",
          "text": [
            "Class =  REASON\n",
            "IMP_REASON\n",
            "<class 'pandas.core.frame.DataFrame'>\n",
            "                    0  1  2  3  4\n",
            "IMP_REASON_DebtCon  0  0  0  0  0\n",
            "IMP_REASON_HomeImp  1  1  1  1  1\n",
            "Class =  JOB\n",
            "IMP_JOB\n",
            "<class 'pandas.core.frame.DataFrame'>\n",
            "                 0  1  2  3  4\n",
            "IMP_JOB_Mgr      0  0  0  0  0\n",
            "IMP_JOB_Office   0  0  0  0  1\n",
            "IMP_JOB_Other    1  1  1  1  0\n",
            "IMP_JOB_ProfExe  0  0  0  0  0\n",
            "IMP_JOB_Sales    0  0  0  0  0\n",
            "IMP_JOB_Self     0  0  0  0  0\n",
            "                               0             1  ...             3              4\n",
            "TARGET_BAD_FLAG         1.000000      1.000000  ...      1.000000       0.000000\n",
            "TARGET_LOSS_AMT       641.000000   1109.000000  ...   1425.000000   11003.000000\n",
            "LOAN                 1100.000000   1300.000000  ...   1500.000000    1700.000000\n",
            "MORTDUE             25860.000000  70053.000000  ...  65019.000000   97800.000000\n",
            "VALUE               39025.000000  68400.000000  ...  89235.500000  112000.000000\n",
            "YOJ                    10.500000      7.000000  ...      8.922268       3.000000\n",
            "DEROG                   0.000000      0.000000  ...      0.254570       0.000000\n",
            "DELINQ                  0.000000      2.000000  ...      0.449442       0.000000\n",
            "CLAGE                  94.366667    121.833333  ...    179.766275      93.333333\n",
            "NINQ                    1.000000      0.000000  ...      1.186055       0.000000\n",
            "CLNO                    9.000000     14.000000  ...     21.296096      14.000000\n",
            "DEBTINC                33.779915     33.779915  ...     33.779915      33.779915\n",
            "IMP_REASON_DebtCon      0.000000      0.000000  ...      0.000000       0.000000\n",
            "IMP_REASON_HomeImp      1.000000      1.000000  ...      1.000000       1.000000\n",
            "IMP_JOB_Mgr             0.000000      0.000000  ...      0.000000       0.000000\n",
            "IMP_JOB_Office          0.000000      0.000000  ...      0.000000       1.000000\n",
            "IMP_JOB_Other           1.000000      1.000000  ...      1.000000       0.000000\n",
            "IMP_JOB_ProfExe         0.000000      0.000000  ...      0.000000       0.000000\n",
            "IMP_JOB_Sales           0.000000      0.000000  ...      0.000000       0.000000\n",
            "IMP_JOB_Self            0.000000      0.000000  ...      0.000000       0.000000\n",
            "\n",
            "[20 rows x 5 columns]\n"
          ]
        }
      ]
    },
    {
      "cell_type": "code",
      "metadata": {
        "colab": {
          "base_uri": "https://localhost:8080/"
        },
        "id": "mG9ABOWgaN9d",
        "outputId": "9545f583-6017-4536-d862-c747c954ec5b"
      },
      "source": [
        "# Copy Main DataFrame df to X_df\n",
        "X_df = df.copy()\n",
        "X_df = X_df.drop(TARGET_BF, axis=1)\n",
        "X_df = X_df.drop(TARGET_LA, axis=1)\n",
        "X_df.info()"
      ],
      "execution_count": 272,
      "outputs": [
        {
          "output_type": "stream",
          "name": "stdout",
          "text": [
            "<class 'pandas.core.frame.DataFrame'>\n",
            "RangeIndex: 5960 entries, 0 to 5959\n",
            "Data columns (total 18 columns):\n",
            " #   Column              Non-Null Count  Dtype  \n",
            "---  ------              --------------  -----  \n",
            " 0   LOAN                5960 non-null   int64  \n",
            " 1   MORTDUE             5960 non-null   float64\n",
            " 2   VALUE               5960 non-null   float64\n",
            " 3   YOJ                 5960 non-null   float64\n",
            " 4   DEROG               5960 non-null   float64\n",
            " 5   DELINQ              5960 non-null   float64\n",
            " 6   CLAGE               5960 non-null   float64\n",
            " 7   NINQ                5960 non-null   float64\n",
            " 8   CLNO                5960 non-null   float64\n",
            " 9   DEBTINC             5960 non-null   float64\n",
            " 10  IMP_REASON_DebtCon  5960 non-null   uint8  \n",
            " 11  IMP_REASON_HomeImp  5960 non-null   uint8  \n",
            " 12  IMP_JOB_Mgr         5960 non-null   uint8  \n",
            " 13  IMP_JOB_Office      5960 non-null   uint8  \n",
            " 14  IMP_JOB_Other       5960 non-null   uint8  \n",
            " 15  IMP_JOB_ProfExe     5960 non-null   uint8  \n",
            " 16  IMP_JOB_Sales       5960 non-null   uint8  \n",
            " 17  IMP_JOB_Self        5960 non-null   uint8  \n",
            "dtypes: float64(9), int64(1), uint8(8)\n",
            "memory usage: 512.3 KB\n"
          ]
        }
      ]
    },
    {
      "cell_type": "code",
      "metadata": {
        "colab": {
          "base_uri": "https://localhost:8080/",
          "height": 110
        },
        "id": "IOr6k5g-aOAB",
        "outputId": "1e518fd5-b40d-41e2-9ae8-5f278d93e288"
      },
      "source": [
        "# Create another DataFrame for target varibles\n",
        "Y_df = df[[TARGET_BF, TARGET_LA]]\n",
        "Y_df.head().T"
      ],
      "execution_count": 273,
      "outputs": [
        {
          "output_type": "execute_result",
          "data": {
            "text/html": [
              "<div>\n",
              "<style scoped>\n",
              "    .dataframe tbody tr th:only-of-type {\n",
              "        vertical-align: middle;\n",
              "    }\n",
              "\n",
              "    .dataframe tbody tr th {\n",
              "        vertical-align: top;\n",
              "    }\n",
              "\n",
              "    .dataframe thead th {\n",
              "        text-align: right;\n",
              "    }\n",
              "</style>\n",
              "<table border=\"1\" class=\"dataframe\">\n",
              "  <thead>\n",
              "    <tr style=\"text-align: right;\">\n",
              "      <th></th>\n",
              "      <th>0</th>\n",
              "      <th>1</th>\n",
              "      <th>2</th>\n",
              "      <th>3</th>\n",
              "      <th>4</th>\n",
              "    </tr>\n",
              "  </thead>\n",
              "  <tbody>\n",
              "    <tr>\n",
              "      <th>TARGET_BAD_FLAG</th>\n",
              "      <td>1.0</td>\n",
              "      <td>1.0</td>\n",
              "      <td>1.0</td>\n",
              "      <td>1.0</td>\n",
              "      <td>0.0</td>\n",
              "    </tr>\n",
              "    <tr>\n",
              "      <th>TARGET_LOSS_AMT</th>\n",
              "      <td>641.0</td>\n",
              "      <td>1109.0</td>\n",
              "      <td>767.0</td>\n",
              "      <td>1425.0</td>\n",
              "      <td>11003.0</td>\n",
              "    </tr>\n",
              "  </tbody>\n",
              "</table>\n",
              "</div>"
            ],
            "text/plain": [
              "                     0       1      2       3        4\n",
              "TARGET_BAD_FLAG    1.0     1.0    1.0     1.0      0.0\n",
              "TARGET_LOSS_AMT  641.0  1109.0  767.0  1425.0  11003.0"
            ]
          },
          "metadata": {},
          "execution_count": 273
        }
      ]
    },
    {
      "cell_type": "code",
      "metadata": {
        "id": "N0bg5KK7ahh2"
      },
      "source": [
        "# Store column variables in varNames\n",
        "varNames = X_df.columns\n",
        "\n",
        "# Transform\n",
        "theScaler = MinMaxScaler()\n",
        "##theScaler = StandardScaler()\n",
        "theScaler.fit(X_df)\n",
        "X_TRN = theScaler.transform(X_df)"
      ],
      "execution_count": 274,
      "outputs": []
    },
    {
      "cell_type": "code",
      "metadata": {
        "colab": {
          "base_uri": "https://localhost:8080/"
        },
        "id": "_U6_ewpKahkv",
        "outputId": "bc5faa74-ff0d-4708-a3fd-b78230546800"
      },
      "source": [
        "# Create new DataFrame\n",
        "X_TRN = pd.DataFrame(X_TRN)\n",
        "print(X_TRN.head())"
      ],
      "execution_count": 275,
      "outputs": [
        {
          "output_type": "stream",
          "name": "stdout",
          "text": [
            "         0         1         2         3         4   ...   13   14   15   16   17\n",
            "0  0.000000  0.059869  0.036590  0.256098  0.000000  ...  0.0  1.0  0.0  0.0  0.0\n",
            "1  0.002252  0.171050  0.071234  0.170732  0.000000  ...  0.0  1.0  0.0  0.0  0.0\n",
            "2  0.004505  0.028773  0.010261  0.097561  0.000000  ...  0.0  1.0  0.0  0.0  0.0\n",
            "3  0.004505  0.158385  0.095807  0.217616  0.025457  ...  0.0  1.0  0.0  0.0  0.0\n",
            "4  0.006757  0.240856  0.122655  0.073171  0.000000  ...  1.0  0.0  0.0  0.0  0.0\n",
            "\n",
            "[5 rows x 18 columns]\n"
          ]
        }
      ]
    },
    {
      "cell_type": "code",
      "metadata": {
        "colab": {
          "base_uri": "https://localhost:8080/"
        },
        "id": "moVrbyrbahne",
        "outputId": "e9798674-8d74-474e-a90c-11db926f713a"
      },
      "source": [
        "# Create list of variable names\n",
        "varNames_trn = []\n",
        "\n",
        "for i in varNames :\n",
        "    newName = \"trn_\" + i\n",
        "    varNames_trn.append( newName )\n",
        "\n",
        "print(varNames_trn)\n",
        "\n",
        "X_TRN.columns = varNames_trn\n",
        "print(X_TRN.head())\n",
        "print(X_TRN.describe())"
      ],
      "execution_count": 276,
      "outputs": [
        {
          "output_type": "stream",
          "name": "stdout",
          "text": [
            "['trn_LOAN', 'trn_MORTDUE', 'trn_VALUE', 'trn_YOJ', 'trn_DEROG', 'trn_DELINQ', 'trn_CLAGE', 'trn_NINQ', 'trn_CLNO', 'trn_DEBTINC', 'trn_IMP_REASON_DebtCon', 'trn_IMP_REASON_HomeImp', 'trn_IMP_JOB_Mgr', 'trn_IMP_JOB_Office', 'trn_IMP_JOB_Other', 'trn_IMP_JOB_ProfExe', 'trn_IMP_JOB_Sales', 'trn_IMP_JOB_Self']\n",
            "   trn_LOAN  trn_MORTDUE  ...  trn_IMP_JOB_Sales  trn_IMP_JOB_Self\n",
            "0  0.000000     0.059869  ...                0.0               0.0\n",
            "1  0.002252     0.171050  ...                0.0               0.0\n",
            "2  0.004505     0.028773  ...                0.0               0.0\n",
            "3  0.004505     0.158385  ...                0.0               0.0\n",
            "4  0.006757     0.240856  ...                0.0               0.0\n",
            "\n",
            "[5 rows x 18 columns]\n",
            "          trn_LOAN  trn_MORTDUE  ...  trn_IMP_JOB_Sales  trn_IMP_JOB_Self\n",
            "count  5960.000000  5960.000000  ...        5960.000000       5960.000000\n",
            "mean      0.197162     0.178466  ...           0.019631          0.035738\n",
            "std       0.126210     0.107054  ...           0.138740          0.185652\n",
            "min       0.000000     0.000000  ...           0.000000          0.000000\n",
            "25%       0.112613     0.115918  ...           0.000000          0.000000\n",
            "50%       0.171171     0.158385  ...           0.000000          0.000000\n",
            "75%       0.250000     0.216705  ...           0.000000          0.000000\n",
            "max       1.000000     1.000000  ...           1.000000          1.000000\n",
            "\n",
            "[8 rows x 18 columns]\n"
          ]
        }
      ]
    },
    {
      "cell_type": "markdown",
      "metadata": {
        "id": "8kanIsDo1VHb"
      },
      "source": [
        "## Clustering using KMeans (Directly)"
      ]
    },
    {
      "cell_type": "code",
      "metadata": {
        "id": "2qudaO6Gahp2"
      },
      "source": [
        "# Creating clusters to identify best number of clusters\n",
        "K_LIST = []\n",
        "I_LIST = []\n",
        "S_LIST = []\n",
        "C_LIST = []\n",
        "\n",
        "for K in range(3, 12) :\n",
        "    km = KMeans(n_clusters=K, random_state = 1)\n",
        "    km.fit(X_TRN)\n",
        "    #Y = km.predict( X_TRN )\n",
        "    K_LIST.append(K)\n",
        "    I_LIST.append(km.inertia_)\n",
        "    S_LIST.append(silhouette_score(X_TRN,km.labels_))\n",
        "    C_LIST.append(calinski_harabaz_score(X_TRN,km.labels_))\n",
        "\n",
        "def drawElbow(K, SCORE, LABEL):\n",
        "    plt.plot(K , SCORE, 'ro-', linewidth=2)\n",
        "    plt.title(LABEL)\n",
        "    plt.xlabel('Clusters')\n",
        "    plt.ylabel('Score')\n",
        "    plt.show()"
      ],
      "execution_count": 277,
      "outputs": []
    },
    {
      "cell_type": "code",
      "metadata": {
        "colab": {
          "base_uri": "https://localhost:8080/",
          "height": 851
        },
        "id": "AhHYBXKgahsY",
        "outputId": "22b670e9-a60f-45c6-f139-d9c454059964"
      },
      "source": [
        "drawElbow(K_LIST, I_LIST, \"Inertia\")\n",
        "drawElbow(K_LIST, S_LIST, \"Silhouette\")\n",
        "drawElbow(K_LIST, C_LIST, \"Calinski\")"
      ],
      "execution_count": 278,
      "outputs": [
        {
          "output_type": "display_data",
          "data": {
            "image/png": "[encoded data removed]",
            "text/plain": [
              "<Figure size 432x288 with 1 Axes>"
            ]
          },
          "metadata": {
            "needs_background": "light"
          }
        },
        {
          "output_type": "display_data",
          "data": {
            "image/png": "[encoded data removed]",
            "text/plain": [
              "<Figure size 432x288 with 1 Axes>"
            ]
          },
          "metadata": {
            "needs_background": "light"
          }
        },
        {
          "output_type": "display_data",
          "data": {
            "image/png": "[encoded data removed]",
            "text/plain": [
              "<Figure size 432x288 with 1 Axes>"
            ]
          },
          "metadata": {
            "needs_background": "light"
          }
        }
      ]
    },
    {
      "cell_type": "markdown",
      "metadata": {
        "id": "W3ik_GNrn-Qn"
      },
      "source": [
        "### ClusterData() to identify Current Accounts (value: 0) vs default account (value: 1)\n",
        "Notes: \n",
        "* 6 Clusers works best as it reduces *messiness* of within each cluster\n",
        "* Experiment with `random_state=`"
      ]
    },
    {
      "cell_type": "code",
      "metadata": {
        "colab": {
          "base_uri": "https://localhost:8080/"
        },
        "id": "HypFcdcgljIC",
        "outputId": "bc03515c-36e7-42f4-acc5-3cea38d3d267"
      },
      "source": [
        "# To predict current account (0) vs default account (1)\n",
        "TARGET = 'TARGET_BF' \n",
        "\n",
        "def clusterData( DATA, TRN_DATA, K, TARGET ) :\n",
        "    print(\"\\n\\n\\n\")\n",
        "    print(\"K = \", K)\n",
        "    print(\"=======\")\n",
        "    km = KMeans( n_clusters=K, random_state = 1 )\n",
        "    km.fit( TRN_DATA )\n",
        "    Y = km.predict( TRN_DATA )\n",
        "    DATA[\"CLUSTER\"] = Y\n",
        "    print( DATA.head() )\n",
        "\n",
        "    G = DATA.groupby(\"CLUSTER\")\n",
        "    print( G.mean() )\n",
        "    print(\"\\n\\n\\n\")\n",
        "    print( G[TARGET_BF].value_counts() )\n",
        "\n",
        "clusterData(df, X_TRN, 3, TARGET)\n",
        "clusterData(df, X_TRN, 4, TARGET)\n",
        "clusterData(df, X_TRN, 6, TARGET)\n",
        "# clusterData(df, X_TRN, 7, TARGET)\n",
        "# clusterData(df, X_TRN, 8, TARGET)\n",
        "# clusterData(df, X_TRN, 9, TARGET)\n",
        "# clusterData(df, X_TRN, 10, TARGET)"
      ],
      "execution_count": 279,
      "outputs": [
        {
          "output_type": "stream",
          "name": "stdout",
          "text": [
            "\n",
            "\n",
            "\n",
            "\n",
            "K =  3\n",
            "=======\n",
            "   TARGET_BAD_FLAG  TARGET_LOSS_AMT  LOAN  ...  IMP_JOB_Sales  IMP_JOB_Self  CLUSTER\n",
            "0                1            641.0  1100  ...              0             0        1\n",
            "1                1           1109.0  1300  ...              0             0        1\n",
            "2                1            767.0  1500  ...              0             0        1\n",
            "3                1           1425.0  1500  ...              0             0        1\n",
            "4                0          11003.0  1700  ...              0             0        1\n",
            "\n",
            "[5 rows x 21 columns]\n",
            "         TARGET_BAD_FLAG  TARGET_LOSS_AMT  ...  IMP_JOB_Sales  IMP_JOB_Self\n",
            "CLUSTER                                    ...                             \n",
            "0               0.201153     11721.004611  ...       0.000000      0.000000\n",
            "1               0.221983     10464.024784  ...       0.008082      0.070043\n",
            "2               0.180667     12109.781342  ...       0.043056      0.035036\n",
            "\n",
            "[3 rows x 20 columns]\n",
            "\n",
            "\n",
            "\n",
            "\n",
            "CLUSTER  TARGET_BAD_FLAG\n",
            "0        0                  1386\n",
            "         1                   349\n",
            "1        0                  1444\n",
            "         1                   412\n",
            "2        0                  1941\n",
            "         1                   428\n",
            "Name: TARGET_BAD_FLAG, dtype: int64\n",
            "\n",
            "\n",
            "\n",
            "\n",
            "K =  4\n",
            "=======\n",
            "   TARGET_BAD_FLAG  TARGET_LOSS_AMT  LOAN  ...  IMP_JOB_Sales  IMP_JOB_Self  CLUSTER\n",
            "0                1            641.0  1100  ...              0             0        2\n",
            "1                1           1109.0  1300  ...              0             0        2\n",
            "2                1            767.0  1500  ...              0             0        2\n",
            "3                1           1425.0  1500  ...              0             0        2\n",
            "4                0          11003.0  1700  ...              0             0        2\n",
            "\n",
            "[5 rows x 21 columns]\n",
            "         TARGET_BAD_FLAG  TARGET_LOSS_AMT  ...  IMP_JOB_Sales  IMP_JOB_Self\n",
            "CLUSTER                                    ...                             \n",
            "0               0.139640     11673.779279  ...       0.000000      0.000000\n",
            "1               0.201153     11721.004611  ...       0.000000      0.000000\n",
            "2               0.221983     10464.024784  ...       0.008082      0.070043\n",
            "3               0.196712     12280.290664  ...       0.059894      0.048738\n",
            "\n",
            "[4 rows x 20 columns]\n",
            "\n",
            "\n",
            "\n",
            "\n",
            "CLUSTER  TARGET_BAD_FLAG\n",
            "0        0                   573\n",
            "         1                    93\n",
            "1        0                  1386\n",
            "         1                   349\n",
            "2        0                  1444\n",
            "         1                   412\n",
            "3        0                  1368\n",
            "         1                   335\n",
            "Name: TARGET_BAD_FLAG, dtype: int64\n",
            "\n",
            "\n",
            "\n",
            "\n",
            "K =  6\n",
            "=======\n",
            "   TARGET_BAD_FLAG  TARGET_LOSS_AMT  LOAN  ...  IMP_JOB_Sales  IMP_JOB_Self  CLUSTER\n",
            "0                1            641.0  1100  ...              0             0        1\n",
            "1                1           1109.0  1300  ...              0             0        1\n",
            "2                1            767.0  1500  ...              0             0        1\n",
            "3                1           1425.0  1500  ...              0             0        1\n",
            "4                0          11003.0  1700  ...              0             0        5\n",
            "\n",
            "[5 rows x 21 columns]\n",
            "         TARGET_BAD_FLAG  TARGET_LOSS_AMT  ...  IMP_JOB_Sales  IMP_JOB_Self\n",
            "CLUSTER                                    ...                             \n",
            "0               0.201153     11721.004611  ...       0.000000      0.000000\n",
            "1               0.276265      9869.163424  ...       0.000000      0.000000\n",
            "2               0.191539     12236.784959  ...       0.119859      0.097532\n",
            "3               0.156798     12033.517544  ...       0.000000      0.000000\n",
            "4               0.201320     12046.204620  ...       0.000000      0.000000\n",
            "5               0.183410     10886.732719  ...       0.013825      0.119816\n",
            "\n",
            "[6 rows x 20 columns]\n",
            "\n",
            "\n",
            "\n",
            "\n",
            "CLUSTER  TARGET_BAD_FLAG\n",
            "0        0                  1386\n",
            "         1                   349\n",
            "1        0                   558\n",
            "         1                   213\n",
            "2        0                   688\n",
            "         1                   163\n",
            "3        0                   769\n",
            "         1                   143\n",
            "4        0                   484\n",
            "         1                   122\n",
            "5        0                   886\n",
            "         1                   199\n",
            "Name: TARGET_BAD_FLAG, dtype: int64\n"
          ]
        }
      ]
    },
    {
      "cell_type": "markdown",
      "metadata": {
        "id": "5qhY0KS71xkF"
      },
      "source": [
        "## Using PCA and KMeans Clustering"
      ]
    },
    {
      "cell_type": "code",
      "metadata": {
        "id": "ZikZ_54K-ugU"
      },
      "source": [
        "# Main DataFrame\n",
        "df = pd.read_csv('HMEQ_Loss.csv')"
      ],
      "execution_count": 280,
      "outputs": []
    },
    {
      "cell_type": "code",
      "metadata": {
        "id": "y-0Azkfs8lOy"
      },
      "source": [
        "# Read in dataset\n",
        "FILE = 'HMEQ_Loss.csv'\n",
        "X_df = pd.read_csv(FILE)"
      ],
      "execution_count": 281,
      "outputs": []
    },
    {
      "cell_type": "code",
      "metadata": {
        "colab": {
          "base_uri": "https://localhost:8080/"
        },
        "id": "1n35qURf8icF",
        "outputId": "8fa22a3d-feba-4b3e-f904-3375065f3d80"
      },
      "source": [
        "# Store column names in new variable\n",
        "varNames = X_df.columns\n",
        "varNames"
      ],
      "execution_count": 282,
      "outputs": [
        {
          "output_type": "execute_result",
          "data": {
            "text/plain": [
              "Index(['TARGET_BAD_FLAG', 'TARGET_LOSS_AMT', 'LOAN', 'MORTDUE', 'VALUE',\n",
              "       'REASON', 'JOB', 'YOJ', 'DEROG', 'DELINQ', 'CLAGE', 'NINQ', 'CLNO',\n",
              "       'DEBTINC'],\n",
              "      dtype='object')"
            ]
          },
          "metadata": {},
          "execution_count": 282
        }
      ]
    },
    {
      "cell_type": "code",
      "metadata": {
        "id": "QkVPygrB8aS3"
      },
      "source": [
        "# Remove string object variables\n",
        "TARGET_BF = 'TARGET_BAD_FLAG'\n",
        "TARGET_LA = 'TARGET_LOSS_AMT'\n",
        "REASON = 'REASON'\n",
        "JOB = 'JOB'"
      ],
      "execution_count": 283,
      "outputs": []
    },
    {
      "cell_type": "code",
      "metadata": {
        "id": "shumHM8I7Q7q"
      },
      "source": [
        "# Remove target variables and categorical variables\n",
        "X_df = X_df.drop([TARGET_BF, TARGET_LA, REASON, JOB], axis=1)"
      ],
      "execution_count": 284,
      "outputs": []
    },
    {
      "cell_type": "code",
      "metadata": {
        "colab": {
          "base_uri": "https://localhost:8080/",
          "height": 202
        },
        "id": "wuldEI3988It",
        "outputId": "3641bdc1-d3bc-43a3-9ccd-8f753f2951fa"
      },
      "source": [
        "# Verify Drop\n",
        "X_df.head()"
      ],
      "execution_count": 285,
      "outputs": [
        {
          "output_type": "execute_result",
          "data": {
            "text/html": [
              "<div>\n",
              "<style scoped>\n",
              "    .dataframe tbody tr th:only-of-type {\n",
              "        vertical-align: middle;\n",
              "    }\n",
              "\n",
              "    .dataframe tbody tr th {\n",
              "        vertical-align: top;\n",
              "    }\n",
              "\n",
              "    .dataframe thead th {\n",
              "        text-align: right;\n",
              "    }\n",
              "</style>\n",
              "<table border=\"1\" class=\"dataframe\">\n",
              "  <thead>\n",
              "    <tr style=\"text-align: right;\">\n",
              "      <th></th>\n",
              "      <th>LOAN</th>\n",
              "      <th>MORTDUE</th>\n",
              "      <th>VALUE</th>\n",
              "      <th>YOJ</th>\n",
              "      <th>DEROG</th>\n",
              "      <th>DELINQ</th>\n",
              "      <th>CLAGE</th>\n",
              "      <th>NINQ</th>\n",
              "      <th>CLNO</th>\n",
              "      <th>DEBTINC</th>\n",
              "    </tr>\n",
              "  </thead>\n",
              "  <tbody>\n",
              "    <tr>\n",
              "      <th>0</th>\n",
              "      <td>1100</td>\n",
              "      <td>25860.0</td>\n",
              "      <td>39025.0</td>\n",
              "      <td>10.5</td>\n",
              "      <td>0.0</td>\n",
              "      <td>0.0</td>\n",
              "      <td>94.366667</td>\n",
              "      <td>1.0</td>\n",
              "      <td>9.0</td>\n",
              "      <td>NaN</td>\n",
              "    </tr>\n",
              "    <tr>\n",
              "      <th>1</th>\n",
              "      <td>1300</td>\n",
              "      <td>70053.0</td>\n",
              "      <td>68400.0</td>\n",
              "      <td>7.0</td>\n",
              "      <td>0.0</td>\n",
              "      <td>2.0</td>\n",
              "      <td>121.833333</td>\n",
              "      <td>0.0</td>\n",
              "      <td>14.0</td>\n",
              "      <td>NaN</td>\n",
              "    </tr>\n",
              "    <tr>\n",
              "      <th>2</th>\n",
              "      <td>1500</td>\n",
              "      <td>13500.0</td>\n",
              "      <td>16700.0</td>\n",
              "      <td>4.0</td>\n",
              "      <td>0.0</td>\n",
              "      <td>0.0</td>\n",
              "      <td>149.466667</td>\n",
              "      <td>1.0</td>\n",
              "      <td>10.0</td>\n",
              "      <td>NaN</td>\n",
              "    </tr>\n",
              "    <tr>\n",
              "      <th>3</th>\n",
              "      <td>1500</td>\n",
              "      <td>NaN</td>\n",
              "      <td>NaN</td>\n",
              "      <td>NaN</td>\n",
              "      <td>NaN</td>\n",
              "      <td>NaN</td>\n",
              "      <td>NaN</td>\n",
              "      <td>NaN</td>\n",
              "      <td>NaN</td>\n",
              "      <td>NaN</td>\n",
              "    </tr>\n",
              "    <tr>\n",
              "      <th>4</th>\n",
              "      <td>1700</td>\n",
              "      <td>97800.0</td>\n",
              "      <td>112000.0</td>\n",
              "      <td>3.0</td>\n",
              "      <td>0.0</td>\n",
              "      <td>0.0</td>\n",
              "      <td>93.333333</td>\n",
              "      <td>0.0</td>\n",
              "      <td>14.0</td>\n",
              "      <td>NaN</td>\n",
              "    </tr>\n",
              "  </tbody>\n",
              "</table>\n",
              "</div>"
            ],
            "text/plain": [
              "   LOAN  MORTDUE     VALUE   YOJ  ...       CLAGE  NINQ  CLNO  DEBTINC\n",
              "0  1100  25860.0   39025.0  10.5  ...   94.366667   1.0   9.0      NaN\n",
              "1  1300  70053.0   68400.0   7.0  ...  121.833333   0.0  14.0      NaN\n",
              "2  1500  13500.0   16700.0   4.0  ...  149.466667   1.0  10.0      NaN\n",
              "3  1500      NaN       NaN   NaN  ...         NaN   NaN   NaN      NaN\n",
              "4  1700  97800.0  112000.0   3.0  ...   93.333333   0.0  14.0      NaN\n",
              "\n",
              "[5 rows x 10 columns]"
            ]
          },
          "metadata": {},
          "execution_count": 285
        }
      ]
    },
    {
      "cell_type": "markdown",
      "metadata": {
        "id": "Bn2Ivkvp9Cm7"
      },
      "source": [
        "### Impute Missing Values\n",
        "* Must do before standardizing dataset\n",
        "\n",
        "NOTES:\n",
        "* Main DataFrame: `pca_km_df`\n",
        "* Test DataFrame: `X_df`\n",
        "* `varNames` stores X_df.columns"
      ]
    },
    {
      "cell_type": "code",
      "metadata": {
        "colab": {
          "base_uri": "https://localhost:8080/"
        },
        "id": "P6sH6dPz9fOk",
        "outputId": "bd91d210-1f3f-4ad0-8aba-14d79e8b7675"
      },
      "source": [
        "# Create new DataFrame of num dtypes\n",
        "X = X_df.dtypes\n",
        "\n",
        "# Store num types in numList\n",
        "X_numList = []\n",
        "\n",
        "# Loop through index and store in numList\n",
        "# Remove \n",
        "for i in X.index:\n",
        "  if i in ([TARGET_BF, TARGET_LA, JOB, REASON]): continue\n",
        "  if X[i] in (['float64', 'int64']): X_numList.append(i)\n",
        "\n",
        "print('Numeric variables:\\n', X_numList)"
      ],
      "execution_count": 286,
      "outputs": [
        {
          "output_type": "stream",
          "name": "stdout",
          "text": [
            "Numeric variables:\n",
            " ['LOAN', 'MORTDUE', 'VALUE', 'YOJ', 'DEROG', 'DELINQ', 'CLAGE', 'NINQ', 'CLNO', 'DEBTINC']\n"
          ]
        }
      ]
    },
    {
      "cell_type": "code",
      "metadata": {
        "id": "60UasNLp9tSk"
      },
      "source": [
        "# Fill in missing values using an appropiate method\n",
        "for i in X_numList: \n",
        "  '''CLAGE is credit line age in months'''\n",
        "  if X_df[i].isna().sum() == 0: continue\n",
        "  mean_value = X_df['CLAGE'].mean()\n",
        "  X_df['CLAGE'] = X_df['CLAGE'].fillna(value=mean_value)\n",
        "\n",
        "  '''CLNO is # of credit lines'''\n",
        "  mean_value = X_df['CLNO'].mean()\n",
        "  X_df['CLNO'] = X_df['CLNO'].fillna(value=mean_value)\n",
        "\n",
        "  '''NINQ is # of credit inquiries'''\n",
        "  mean_value = X_df['NINQ'].mean()\n",
        "  X_df['NINQ'] = X_df['NINQ'].fillna(value=mean_value)\n",
        "\n",
        "  '''DELINQ is # of delinquencies on credit report (last 3 yrs)'''\n",
        "  mean_value = X_df['DELINQ'].mean()\n",
        "  X_df['DELINQ'] = X_df['DELINQ'].fillna(value=mean_value)\n",
        "\n",
        "  '''DEBTINC is DTI ratio (%)'''\n",
        "  mean_value = X_df['DEBTINC'].mean()\n",
        "  X_df['DEBTINC'] = X_df['DEBTINC'].fillna(value=mean_value)\n",
        "\n",
        "  '''DEROG is # of bad marks on credit report (last 7 yrs)'''\n",
        "  mean_value = X_df['DEROG'].mean()\n",
        "  X_df['DEROG'] = X_df['DEROG'].fillna(value=mean_value)\n",
        "\n",
        "  '''YOJ is # yrs of employment'''\n",
        "  mean_value = X_df['YOJ'].mean()\n",
        "  X_df['YOJ'] = X_df['YOJ'].fillna(value=mean_value)\n",
        "  \n",
        "  '''VALUE is # yrs of employment'''\n",
        "  mean_value = X_df['VALUE'].mean()\n",
        "  X_df['VALUE'] = X_df['VALUE'].fillna(value=mean_value)\n",
        "\n",
        "  '''MORTDUE amount of mortgage owed'''\n",
        "  mean_value = X_df['MORTDUE'].mean()\n",
        "  X_df['MORTDUE'] = X_df['MORTDUE'].fillna(value=mean_value)\n",
        "\n",
        "  '''LOAN amount of mortgage owed'''\n",
        "  mean_value = X_df['LOAN'].mean()\n",
        "  X_df['LOAN'] = X_df['LOAN'].fillna(value=mean_value)\n",
        "  break"
      ],
      "execution_count": 287,
      "outputs": []
    },
    {
      "cell_type": "code",
      "metadata": {
        "colab": {
          "base_uri": "https://localhost:8080/"
        },
        "id": "tQH7hkA29xha",
        "outputId": "37e7f711-ee01-4136-d30c-f91337ba8797"
      },
      "source": [
        "# Verify fillna\n",
        "X_df.isna().sum()"
      ],
      "execution_count": 288,
      "outputs": [
        {
          "output_type": "execute_result",
          "data": {
            "text/plain": [
              "LOAN       0\n",
              "MORTDUE    0\n",
              "VALUE      0\n",
              "YOJ        0\n",
              "DEROG      0\n",
              "DELINQ     0\n",
              "CLAGE      0\n",
              "NINQ       0\n",
              "CLNO       0\n",
              "DEBTINC    0\n",
              "dtype: int64"
            ]
          },
          "metadata": {},
          "execution_count": 288
        }
      ]
    },
    {
      "cell_type": "markdown",
      "metadata": {
        "id": "x05FOhKL2GLM"
      },
      "source": [
        "### Standardize Dataset\n",
        " * Must do before PCA \n",
        "\n",
        "Notes: \n",
        "  * Array that stores the scaled and transformed `X_df` data: `X_STD` "
      ]
    },
    {
      "cell_type": "code",
      "metadata": {
        "id": "v8mQLx4Z03i8"
      },
      "source": [
        "# Standardize the data (i.e., substract mean, divide stddev, +/- 3)\n",
        "# This method rescales variables\n",
        "theScaler = StandardScaler()\n",
        "theScaler.fit(X_df)\n",
        "X_STD = theScaler.transform(X_df)"
      ],
      "execution_count": 289,
      "outputs": []
    },
    {
      "cell_type": "code",
      "metadata": {
        "colab": {
          "base_uri": "https://localhost:8080/"
        },
        "id": "eDL_0xUN03gG",
        "outputId": "a04954fc-4a4f-4397-9cbc-1ce1e8cd74ad"
      },
      "source": [
        "# Confirms number of variables to perform PCA\n",
        "MAX_N = X_STD.shape[1]\n",
        "MAX_N"
      ],
      "execution_count": 290,
      "outputs": [
        {
          "output_type": "execute_result",
          "data": {
            "text/plain": [
              "10"
            ]
          },
          "metadata": {},
          "execution_count": 290
        }
      ]
    },
    {
      "cell_type": "code",
      "metadata": {
        "colab": {
          "base_uri": "https://localhost:8080/"
        },
        "id": "vLNs6nPT00W5",
        "outputId": "4d9628bd-3335-416e-cd7c-f8dc473a644e"
      },
      "source": [
        "# Create PCs\n",
        "pca = PCA(n_components=MAX_N)\n",
        "pca.fit(X_STD)"
      ],
      "execution_count": 291,
      "outputs": [
        {
          "output_type": "execute_result",
          "data": {
            "text/plain": [
              "PCA(copy=True, iterated_power='auto', n_components=10, random_state=None,\n",
              "    svd_solver='auto', tol=0.0, whiten=False)"
            ]
          },
          "metadata": {},
          "execution_count": 291
        }
      ]
    },
    {
      "cell_type": "code",
      "metadata": {
        "colab": {
          "base_uri": "https://localhost:8080/"
        },
        "id": "ynMZq2JC03mM",
        "outputId": "74e2ebaa-8a28-4888-a8fa-5bfdbb9f0148"
      },
      "source": [
        "# Inspect eigenvalues\n",
        "# This tells us how much information is in each PC\n",
        "eigenval = pca.explained_variance_\n",
        "print('Eigen Values:')\n",
        "print(eigenval)"
      ],
      "execution_count": 292,
      "outputs": [
        {
          "output_type": "stream",
          "name": "stdout",
          "text": [
            "Eigen Values:\n",
            "[2.20903156 1.40677622 1.24252493 1.00465852 0.96795576 0.84522852\n",
            " 0.77582273 0.71390901 0.63053507 0.20523582]\n"
          ]
        }
      ]
    },
    {
      "cell_type": "code",
      "metadata": {
        "colab": {
          "base_uri": "https://localhost:8080/"
        },
        "id": "l5LotH8I2P31",
        "outputId": "e410ea0a-4dde-4fd5-d7b8-04e9ed118bec"
      },
      "source": [
        "# Identify relevant PCs for analysis\n",
        "varPCT = []\n",
        "totPCT = []\n",
        "total = 0\n",
        "\n",
        "for i in eigenval:\n",
        "  total = total + i\n",
        "  VAR = int(i / len(eigenval) * 100)\n",
        "  PCT = int(total / len(eigenval) * 100)\n",
        "  varPCT.append(VAR)\n",
        "  totPCT.append(PCT)\n",
        "  print(round(i, 2), 'variation=', VAR, '%', 'total=', PCT, '%')"
      ],
      "execution_count": 293,
      "outputs": [
        {
          "output_type": "stream",
          "name": "stdout",
          "text": [
            "2.21 variation= 22 % total= 22 %\n",
            "1.41 variation= 14 % total= 36 %\n",
            "1.24 variation= 12 % total= 48 %\n",
            "1.0 variation= 10 % total= 58 %\n",
            "0.97 variation= 9 % total= 68 %\n",
            "0.85 variation= 8 % total= 76 %\n",
            "0.78 variation= 7 % total= 84 %\n",
            "0.71 variation= 7 % total= 91 %\n",
            "0.63 variation= 6 % total= 97 %\n",
            "0.21 variation= 2 % total= 100 %\n"
          ]
        }
      ]
    },
    {
      "cell_type": "code",
      "metadata": {
        "colab": {
          "base_uri": "https://localhost:8080/",
          "height": 851
        },
        "id": "g86wPQYe2P8s",
        "outputId": "914e6bc6-fe55-41b8-a543-dcb86a6f73da"
      },
      "source": [
        "# Create SCREE Plot\n",
        "# Notes: arange will give you 0-10(MAX_N of PCs); +1 will give 0-11 but capture 10th PCs\n",
        "PC_NUM = np.arange(MAX_N) + 1\n",
        "plt.plot(PC_NUM , eigenval, 'ro-', linewidth=2)\n",
        "plt.title('Scree Plot')\n",
        "plt.xlabel('Principal Component')\n",
        "plt.ylabel('Eigenvalue')\n",
        "plt.show()\n",
        "\n",
        "PC_NUM = np.arange(MAX_N) + 1\n",
        "plt.plot(PC_NUM, varPCT, 'ro-', linewidth=2)\n",
        "plt.title('Scree Plot')\n",
        "plt.xlabel('Principal Component')\n",
        "plt.ylabel('Variance Explained')\n",
        "plt.show()\n",
        "\n",
        "\n",
        "PC_NUM = np.arange(MAX_N) + 1\n",
        "plt.plot(PC_NUM, totPCT, 'ro-', linewidth=2)\n",
        "plt.title('Scree Plot')\n",
        "plt.xlabel('Principal Component')\n",
        "plt.ylabel('Total Variance Explained')\n",
        "plt.show()"
      ],
      "execution_count": 294,
      "outputs": [
        {
          "output_type": "display_data",
          "data": {
            "image/png": "[encoded data removed]",
            "text/plain": [
              "<Figure size 432x288 with 1 Axes>"
            ]
          },
          "metadata": {
            "needs_background": "light"
          }
        },
        {
          "output_type": "display_data",
          "data": {
            "image/png": "[encoded data removed]",
            "text/plain": [
              "<Figure size 432x288 with 1 Axes>"
            ]
          },
          "metadata": {
            "needs_background": "light"
          }
        },
        {
          "output_type": "display_data",
          "data": {
            "image/png": "[encoded data removed]",
            "text/plain": [
              "<Figure size 432x288 with 1 Axes>"
            ]
          },
          "metadata": {
            "needs_background": "light"
          }
        }
      ]
    },
    {
      "cell_type": "markdown",
      "metadata": {
        "id": "iu5tc6vl2yzP"
      },
      "source": [
        "### Convert PC dataset (eigenval) into a DataFrame"
      ]
    },
    {
      "cell_type": "code",
      "metadata": {
        "colab": {
          "base_uri": "https://localhost:8080/"
        },
        "id": "qgym9nMq20GC",
        "outputId": "666a4638-aad7-4cbd-8960-df43f037db41"
      },
      "source": [
        "# Convert PC dataset (eigenval) into a DataFrame\n",
        "dfc = pd.DataFrame(pca.components_)\n",
        "dfc.columns = list(X_df.columns)\n",
        "print(dfc.T)"
      ],
      "execution_count": 295,
      "outputs": [
        {
          "output_type": "stream",
          "name": "stdout",
          "text": [
            "                0         1         2  ...         7         8         9\n",
            "LOAN     0.316157 -0.085506 -0.058048  ... -0.559959 -0.216561 -0.104324\n",
            "MORTDUE  0.572706  0.012686 -0.210628  ...  0.241614  0.131950 -0.690655\n",
            "VALUE    0.587073 -0.058910 -0.172060  ...  0.203326  0.143431  0.710782\n",
            "YOJ      0.028198 -0.328279  0.507770  ...  0.565175 -0.077200 -0.060564\n",
            "DEROG   -0.028835  0.511672  0.229386  ...  0.310006  0.053617 -0.013955\n",
            "DELINQ   0.039820  0.367929  0.508660  ... -0.278075  0.193360  0.002574\n",
            "CLAGE    0.234275 -0.329736  0.476089  ... -0.291827  0.511347 -0.021518\n",
            "NINQ     0.040901  0.507145 -0.043158  ... -0.032243  0.196703  0.024526\n",
            "CLNO     0.367464  0.184683  0.334482  ... -0.053116 -0.718996  0.044354\n",
            "DEBTINC  0.180551  0.289968 -0.114357  ...  0.069643  0.227533  0.001035\n",
            "\n",
            "[10 rows x 10 columns]\n"
          ]
        }
      ]
    },
    {
      "cell_type": "code",
      "metadata": {
        "id": "GdpW7UTg2QB7"
      },
      "source": [
        "# Generate PC values\n",
        "X_PCA = pca.transform(X_STD) \n",
        "\n",
        "# Create PC DataFrame\n",
        "X_PCA = pd.DataFrame(X_PCA)"
      ],
      "execution_count": 296,
      "outputs": []
    },
    {
      "cell_type": "code",
      "metadata": {
        "colab": {
          "base_uri": "https://localhost:8080/",
          "height": 222
        },
        "id": "rYhCZdbp2z_R",
        "outputId": "1e110b9a-a1eb-49df-ac7a-3448bc608b7b"
      },
      "source": [
        "# Inspect DataFrame\n",
        "# Read PCs row-wise PC0, PC1, PC2.....\n",
        "X_PCA.head()"
      ],
      "execution_count": 297,
      "outputs": [
        {
          "output_type": "execute_result",
          "data": {
            "text/html": [
              "<div>\n",
              "<style scoped>\n",
              "    .dataframe tbody tr th:only-of-type {\n",
              "        vertical-align: middle;\n",
              "    }\n",
              "\n",
              "    .dataframe tbody tr th {\n",
              "        vertical-align: top;\n",
              "    }\n",
              "\n",
              "    .dataframe thead th {\n",
              "        text-align: right;\n",
              "    }\n",
              "</style>\n",
              "<table border=\"1\" class=\"dataframe\">\n",
              "  <thead>\n",
              "    <tr style=\"text-align: right;\">\n",
              "      <th></th>\n",
              "      <th>0</th>\n",
              "      <th>1</th>\n",
              "      <th>2</th>\n",
              "      <th>3</th>\n",
              "      <th>4</th>\n",
              "      <th>5</th>\n",
              "      <th>6</th>\n",
              "      <th>7</th>\n",
              "      <th>8</th>\n",
              "      <th>9</th>\n",
              "    </tr>\n",
              "  </thead>\n",
              "  <tbody>\n",
              "    <tr>\n",
              "      <th>0</th>\n",
              "      <td>-2.487482</td>\n",
              "      <td>-0.154033</td>\n",
              "      <td>-0.553363</td>\n",
              "      <td>-0.236149</td>\n",
              "      <td>0.481440</td>\n",
              "      <td>0.143878</td>\n",
              "      <td>-0.390052</td>\n",
              "      <td>0.885953</td>\n",
              "      <td>0.260009</td>\n",
              "      <td>0.111701</td>\n",
              "    </tr>\n",
              "    <tr>\n",
              "      <th>1</th>\n",
              "      <td>-1.284904</td>\n",
              "      <td>0.350671</td>\n",
              "      <td>0.192724</td>\n",
              "      <td>-1.378032</td>\n",
              "      <td>-0.098753</td>\n",
              "      <td>1.157048</td>\n",
              "      <td>-1.009796</td>\n",
              "      <td>0.336696</td>\n",
              "      <td>0.553678</td>\n",
              "      <td>-0.206891</td>\n",
              "    </tr>\n",
              "    <tr>\n",
              "      <th>2</th>\n",
              "      <td>-2.707319</td>\n",
              "      <td>-0.041734</td>\n",
              "      <td>-0.534944</td>\n",
              "      <td>-0.713565</td>\n",
              "      <td>0.575454</td>\n",
              "      <td>-0.200819</td>\n",
              "      <td>0.113075</td>\n",
              "      <td>0.010519</td>\n",
              "      <td>0.491793</td>\n",
              "      <td>0.074416</td>\n",
              "    </tr>\n",
              "    <tr>\n",
              "      <th>3</th>\n",
              "      <td>-0.482648</td>\n",
              "      <td>0.130534</td>\n",
              "      <td>0.088617</td>\n",
              "      <td>-1.009364</td>\n",
              "      <td>0.238630</td>\n",
              "      <td>-0.295851</td>\n",
              "      <td>-0.209732</td>\n",
              "      <td>0.854837</td>\n",
              "      <td>0.330604</td>\n",
              "      <td>0.159261</td>\n",
              "    </tr>\n",
              "    <tr>\n",
              "      <th>4</th>\n",
              "      <td>-0.619048</td>\n",
              "      <td>-0.082542</td>\n",
              "      <td>-1.471846</td>\n",
              "      <td>-1.376582</td>\n",
              "      <td>-0.174272</td>\n",
              "      <td>0.441983</td>\n",
              "      <td>-0.276338</td>\n",
              "      <td>0.937055</td>\n",
              "      <td>0.249294</td>\n",
              "      <td>-0.080535</td>\n",
              "    </tr>\n",
              "  </tbody>\n",
              "</table>\n",
              "</div>"
            ],
            "text/plain": [
              "          0         1         2  ...         7         8         9\n",
              "0 -2.487482 -0.154033 -0.553363  ...  0.885953  0.260009  0.111701\n",
              "1 -1.284904  0.350671  0.192724  ...  0.336696  0.553678 -0.206891\n",
              "2 -2.707319 -0.041734 -0.534944  ...  0.010519  0.491793  0.074416\n",
              "3 -0.482648  0.130534  0.088617  ...  0.854837  0.330604  0.159261\n",
              "4 -0.619048 -0.082542 -1.471846  ...  0.937055  0.249294 -0.080535\n",
              "\n",
              "[5 rows x 10 columns]"
            ]
          },
          "metadata": {},
          "execution_count": 297
        }
      ]
    },
    {
      "cell_type": "code",
      "metadata": {
        "colab": {
          "base_uri": "https://localhost:8080/"
        },
        "id": "mUvvIjiQ2QF2",
        "outputId": "13e0d6ea-5d66-4ffe-ad51-c6afb3b517e8"
      },
      "source": [
        "# Name PCs for ease of viewing\n",
        "colNames = X_PCA\n",
        "pcaNames = []\n",
        "\n",
        "# Loop through list\n",
        "for i in colNames:\n",
        "  index = int(i) + 1 #Python starts at 0, but we want to start at 1\n",
        "  theName = 'PC_' + str(index)\n",
        "  pcaNames.append(theName)\n",
        "\n",
        "# Append list of pcaNames to X_PCA.columns\n",
        "X_PCA.columns = pcaNames\n",
        "print(X_PCA.head())"
      ],
      "execution_count": 298,
      "outputs": [
        {
          "output_type": "stream",
          "name": "stdout",
          "text": [
            "       PC_1      PC_2      PC_3  ...      PC_8      PC_9     PC_10\n",
            "0 -2.487482 -0.154033 -0.553363  ...  0.885953  0.260009  0.111701\n",
            "1 -1.284904  0.350671  0.192724  ...  0.336696  0.553678 -0.206891\n",
            "2 -2.707319 -0.041734 -0.534944  ...  0.010519  0.491793  0.074416\n",
            "3 -0.482648  0.130534  0.088617  ...  0.854837  0.330604  0.159261\n",
            "4 -0.619048 -0.082542 -1.471846  ...  0.937055  0.249294 -0.080535\n",
            "\n",
            "[5 rows x 10 columns]\n"
          ]
        }
      ]
    },
    {
      "cell_type": "code",
      "metadata": {
        "id": "MhxAgzUW3GwZ"
      },
      "source": [
        "# Append target variables (for flag and loss) and categorical variables REASON and JOB to X_PCA\n",
        "X_PCA['TARGET_BF'] = df.TARGET_BAD_FLAG\n",
        "X_PCA['TARGET_LA'] = df.TARGET_LOSS_AMT\n",
        "X_PCA['REASON'] = df.REASON\n",
        "X_PCA['JOB'] = df.JOB"
      ],
      "execution_count": 299,
      "outputs": []
    },
    {
      "cell_type": "code",
      "metadata": {
        "colab": {
          "base_uri": "https://localhost:8080/"
        },
        "id": "txF-n6TI3G0C",
        "outputId": "9db77eb4-c5d7-4e40-f98c-97f67bf137e2"
      },
      "source": [
        "# Impute missing values for target and categorical variables\n",
        "df_dtypes = df.dtypes\n",
        "\n",
        "objList = []\n",
        "\n",
        "for i in df_dtypes.index:\n",
        "  if i in ([TARGET_BF, TARGET_LA]): continue\n",
        "  if df_dtypes[i] in (['object']): objList.append(i)\n",
        "\n",
        "print('Non-numeric variables:\\n', objList,'\\n')"
      ],
      "execution_count": 300,
      "outputs": [
        {
          "output_type": "stream",
          "name": "stdout",
          "text": [
            "Non-numeric variables:\n",
            " ['REASON', 'JOB'] \n",
            "\n"
          ]
        }
      ]
    },
    {
      "cell_type": "code",
      "metadata": {
        "id": "4wqJtzyj3fJ1"
      },
      "source": [
        "# Fill in missing values for objList\n",
        "for i in objList:\n",
        "  '''REASON is purpose of loan request'''\n",
        "  X_PCA['REASON'] = X_PCA['REASON'].fillna(method='ffill')\n",
        " \n",
        "  '''JOB is applicant's occupation'''\n",
        "  X_PCA['JOB'] = X_PCA['JOB'].fillna(method='ffill')\n",
        "  break\n",
        "\n",
        "# Fill in missing values for TARGET_LA or TARGET_LOSS_AMT\n",
        "median_value = X_PCA['TARGET_LA'].median()\n",
        "X_PCA['TARGET_LA'] = X_PCA['TARGET_LA'].fillna(value=median_value)"
      ],
      "execution_count": 301,
      "outputs": []
    },
    {
      "cell_type": "code",
      "metadata": {
        "colab": {
          "base_uri": "https://localhost:8080/",
          "height": 222
        },
        "id": "hqCAvshm3geb",
        "outputId": "54c7bb76-d817-438f-b929-9c9da64a1cf4"
      },
      "source": [
        "# Verify target and categorical variables were added to X_PCA\n",
        "X_PCA.head()"
      ],
      "execution_count": 302,
      "outputs": [
        {
          "output_type": "execute_result",
          "data": {
            "text/html": [
              "<div>\n",
              "<style scoped>\n",
              "    .dataframe tbody tr th:only-of-type {\n",
              "        vertical-align: middle;\n",
              "    }\n",
              "\n",
              "    .dataframe tbody tr th {\n",
              "        vertical-align: top;\n",
              "    }\n",
              "\n",
              "    .dataframe thead th {\n",
              "        text-align: right;\n",
              "    }\n",
              "</style>\n",
              "<table border=\"1\" class=\"dataframe\">\n",
              "  <thead>\n",
              "    <tr style=\"text-align: right;\">\n",
              "      <th></th>\n",
              "      <th>PC_1</th>\n",
              "      <th>PC_2</th>\n",
              "      <th>PC_3</th>\n",
              "      <th>PC_4</th>\n",
              "      <th>PC_5</th>\n",
              "      <th>PC_6</th>\n",
              "      <th>PC_7</th>\n",
              "      <th>PC_8</th>\n",
              "      <th>PC_9</th>\n",
              "      <th>PC_10</th>\n",
              "      <th>TARGET_BF</th>\n",
              "      <th>TARGET_LA</th>\n",
              "      <th>REASON</th>\n",
              "      <th>JOB</th>\n",
              "    </tr>\n",
              "  </thead>\n",
              "  <tbody>\n",
              "    <tr>\n",
              "      <th>0</th>\n",
              "      <td>-2.487482</td>\n",
              "      <td>-0.154033</td>\n",
              "      <td>-0.553363</td>\n",
              "      <td>-0.236149</td>\n",
              "      <td>0.481440</td>\n",
              "      <td>0.143878</td>\n",
              "      <td>-0.390052</td>\n",
              "      <td>0.885953</td>\n",
              "      <td>0.260009</td>\n",
              "      <td>0.111701</td>\n",
              "      <td>1</td>\n",
              "      <td>641.0</td>\n",
              "      <td>HomeImp</td>\n",
              "      <td>Other</td>\n",
              "    </tr>\n",
              "    <tr>\n",
              "      <th>1</th>\n",
              "      <td>-1.284904</td>\n",
              "      <td>0.350671</td>\n",
              "      <td>0.192724</td>\n",
              "      <td>-1.378032</td>\n",
              "      <td>-0.098753</td>\n",
              "      <td>1.157048</td>\n",
              "      <td>-1.009796</td>\n",
              "      <td>0.336696</td>\n",
              "      <td>0.553678</td>\n",
              "      <td>-0.206891</td>\n",
              "      <td>1</td>\n",
              "      <td>1109.0</td>\n",
              "      <td>HomeImp</td>\n",
              "      <td>Other</td>\n",
              "    </tr>\n",
              "    <tr>\n",
              "      <th>2</th>\n",
              "      <td>-2.707319</td>\n",
              "      <td>-0.041734</td>\n",
              "      <td>-0.534944</td>\n",
              "      <td>-0.713565</td>\n",
              "      <td>0.575454</td>\n",
              "      <td>-0.200819</td>\n",
              "      <td>0.113075</td>\n",
              "      <td>0.010519</td>\n",
              "      <td>0.491793</td>\n",
              "      <td>0.074416</td>\n",
              "      <td>1</td>\n",
              "      <td>767.0</td>\n",
              "      <td>HomeImp</td>\n",
              "      <td>Other</td>\n",
              "    </tr>\n",
              "    <tr>\n",
              "      <th>3</th>\n",
              "      <td>-0.482648</td>\n",
              "      <td>0.130534</td>\n",
              "      <td>0.088617</td>\n",
              "      <td>-1.009364</td>\n",
              "      <td>0.238630</td>\n",
              "      <td>-0.295851</td>\n",
              "      <td>-0.209732</td>\n",
              "      <td>0.854837</td>\n",
              "      <td>0.330604</td>\n",
              "      <td>0.159261</td>\n",
              "      <td>1</td>\n",
              "      <td>1425.0</td>\n",
              "      <td>HomeImp</td>\n",
              "      <td>Other</td>\n",
              "    </tr>\n",
              "    <tr>\n",
              "      <th>4</th>\n",
              "      <td>-0.619048</td>\n",
              "      <td>-0.082542</td>\n",
              "      <td>-1.471846</td>\n",
              "      <td>-1.376582</td>\n",
              "      <td>-0.174272</td>\n",
              "      <td>0.441983</td>\n",
              "      <td>-0.276338</td>\n",
              "      <td>0.937055</td>\n",
              "      <td>0.249294</td>\n",
              "      <td>-0.080535</td>\n",
              "      <td>0</td>\n",
              "      <td>11003.0</td>\n",
              "      <td>HomeImp</td>\n",
              "      <td>Office</td>\n",
              "    </tr>\n",
              "  </tbody>\n",
              "</table>\n",
              "</div>"
            ],
            "text/plain": [
              "       PC_1      PC_2      PC_3  ...  TARGET_LA   REASON     JOB\n",
              "0 -2.487482 -0.154033 -0.553363  ...      641.0  HomeImp   Other\n",
              "1 -1.284904  0.350671  0.192724  ...     1109.0  HomeImp   Other\n",
              "2 -2.707319 -0.041734 -0.534944  ...      767.0  HomeImp   Other\n",
              "3 -0.482648  0.130534  0.088617  ...     1425.0  HomeImp   Other\n",
              "4 -0.619048 -0.082542 -1.471846  ...    11003.0  HomeImp  Office\n",
              "\n",
              "[5 rows x 14 columns]"
            ]
          },
          "metadata": {},
          "execution_count": 302
        }
      ]
    },
    {
      "cell_type": "markdown",
      "metadata": {
        "id": "xJYMdrZb3lXM"
      },
      "source": [
        "### Create list with the number of PCs to train"
      ]
    },
    {
      "cell_type": "code",
      "metadata": {
        "colab": {
          "base_uri": "https://localhost:8080/"
        },
        "id": "xqn08Cl83gaZ",
        "outputId": "ef4b385c-d948-4c57-e78e-a13488e2c35e"
      },
      "source": [
        "varNames_trn = []\n",
        "for i in range(X_TRN.shape[1]) :\n",
        "    index = str(i+1)\n",
        "    newName = \"PC_\" + index\n",
        "    varNames_trn.append( newName )\n",
        "\n",
        "X_TRN.columns = varNames_trn\n",
        "print( X_TRN.head() )\n",
        "print( \"\\n\\n\")\n",
        "\n",
        "X_TRN = X_TRN.iloc[:,0:6]\n",
        "print( X_TRN.head() )\n",
        "print( \"\\n\\n\")"
      ],
      "execution_count": 303,
      "outputs": [
        {
          "output_type": "stream",
          "name": "stdout",
          "text": [
            "       PC_1      PC_2      PC_3      PC_4  ...  PC_15  PC_16  PC_17  PC_18\n",
            "0  0.000000  0.059869  0.036590  0.256098  ...    1.0    0.0    0.0    0.0\n",
            "1  0.002252  0.171050  0.071234  0.170732  ...    1.0    0.0    0.0    0.0\n",
            "2  0.004505  0.028773  0.010261  0.097561  ...    1.0    0.0    0.0    0.0\n",
            "3  0.004505  0.158385  0.095807  0.217616  ...    1.0    0.0    0.0    0.0\n",
            "4  0.006757  0.240856  0.122655  0.073171  ...    0.0    0.0    0.0    0.0\n",
            "\n",
            "[5 rows x 18 columns]\n",
            "\n",
            "\n",
            "\n",
            "       PC_1      PC_2      PC_3      PC_4      PC_5      PC_6\n",
            "0  0.000000  0.059869  0.036590  0.256098  0.000000  0.000000\n",
            "1  0.002252  0.171050  0.071234  0.170732  0.000000  0.133333\n",
            "2  0.004505  0.028773  0.010261  0.097561  0.000000  0.000000\n",
            "3  0.004505  0.158385  0.095807  0.217616  0.025457  0.029963\n",
            "4  0.006757  0.240856  0.122655  0.073171  0.000000  0.000000\n",
            "\n",
            "\n",
            "\n"
          ]
        }
      ]
    },
    {
      "cell_type": "code",
      "metadata": {
        "id": "SsTH5-wF4UuP"
      },
      "source": [
        "# Creating clusters to identify best number of clusters\n",
        "K_LIST = []\n",
        "I_LIST = []\n",
        "S_LIST = []\n",
        "C_LIST = []\n",
        "\n",
        "for K in range(3, 12) :\n",
        "    km = KMeans(n_clusters=K, random_state = 1)\n",
        "    km.fit(X_TRN)\n",
        "    #Y = km.predict( X_TRN )\n",
        "    K_LIST.append(K)\n",
        "    I_LIST.append(km.inertia_)\n",
        "    S_LIST.append(silhouette_score(X_TRN,km.labels_))\n",
        "    C_LIST.append(calinski_harabaz_score(X_TRN,km.labels_))\n",
        "\n",
        "def drawElbow(K, SCORE, LABEL):\n",
        "    plt.plot(K , SCORE, 'ro-', linewidth=2)\n",
        "    plt.title(LABEL)\n",
        "    plt.xlabel('Clusters')\n",
        "    plt.ylabel('Score')\n",
        "    plt.show()"
      ],
      "execution_count": 304,
      "outputs": []
    },
    {
      "cell_type": "code",
      "metadata": {
        "colab": {
          "base_uri": "https://localhost:8080/",
          "height": 851
        },
        "id": "5rmW5xlb4Uxw",
        "outputId": "02f6f86a-0566-45db-877c-091b90430196"
      },
      "source": [
        "drawElbow( K_LIST, I_LIST, \"Inertia\" )\n",
        "drawElbow( K_LIST, S_LIST, \"Silhouette\" )\n",
        "drawElbow( K_LIST, C_LIST, \"Calinski\" )"
      ],
      "execution_count": 305,
      "outputs": [
        {
          "output_type": "display_data",
          "data": {
            "image/png": "[encoded data removed]",
            "text/plain": [
              "<Figure size 432x288 with 1 Axes>"
            ]
          },
          "metadata": {
            "needs_background": "light"
          }
        },
        {
          "output_type": "display_data",
          "data": {
            "image/png": "[encoded data removed]",
            "text/plain": [
              "<Figure size 432x288 with 1 Axes>"
            ]
          },
          "metadata": {
            "needs_background": "light"
          }
        },
        {
          "output_type": "display_data",
          "data": {
            "image/png": "[encoded data removed]",
            "text/plain": [
              "<Figure size 432x288 with 1 Axes>"
            ]
          },
          "metadata": {
            "needs_background": "light"
          }
        }
      ]
    },
    {
      "cell_type": "code",
      "metadata": {
        "colab": {
          "base_uri": "https://localhost:8080/"
        },
        "id": "uhroCYWcAipC",
        "outputId": "64c59103-5f2f-4bff-b5b1-0b8da1e37e42"
      },
      "source": [
        "# To predict current account (0) vs default account (1)\n",
        "TARGET = 'TARGET_BF' \n",
        "\n",
        "def clusterData( DATA, TRN_DATA, K, TARGET ) :\n",
        "    print(\"\\n\\n\\n\")\n",
        "    print(\"K = \", K)\n",
        "    print(\"=======\")\n",
        "    km = KMeans( n_clusters=K, random_state = 1 )\n",
        "    km.fit( TRN_DATA )\n",
        "    Y = km.predict( TRN_DATA )\n",
        "    DATA[\"CLUSTER\"] = Y\n",
        "    print( DATA.head() )\n",
        "\n",
        "    G = DATA.groupby(\"CLUSTER\")\n",
        "    print( G.mean() )\n",
        "    print(\"\\n\\n\\n\")\n",
        "    print( G[TARGET_BF].value_counts() )\n",
        "\n",
        "clusterData(df, X_TRN, 3, TARGET)\n",
        "clusterData(df, X_TRN, 4, TARGET)\n",
        "clusterData(df, X_TRN, 6, TARGET)\n",
        "# clusterData(df, X_TRN, 7, TARGET)\n",
        "# clusterData(df, X_TRN, 8, TARGET)\n",
        "# clusterData(df, X_TRN, 9, TARGET)\n",
        "# clusterData(df, X_TRN, 10, TARGET)"
      ],
      "execution_count": 306,
      "outputs": [
        {
          "output_type": "stream",
          "name": "stdout",
          "text": [
            "\n",
            "\n",
            "\n",
            "\n",
            "K =  3\n",
            "=======\n",
            "   TARGET_BAD_FLAG  TARGET_LOSS_AMT  LOAN  ...  CLNO  DEBTINC CLUSTER\n",
            "0                1            641.0  1100  ...   9.0      NaN       0\n",
            "1                1           1109.0  1300  ...  14.0      NaN       0\n",
            "2                1            767.0  1500  ...  10.0      NaN       0\n",
            "3                1           1425.0  1500  ...   NaN      NaN       0\n",
            "4                0              NaN  1700  ...  14.0      NaN       0\n",
            "\n",
            "[5 rows x 15 columns]\n",
            "         TARGET_BAD_FLAG  TARGET_LOSS_AMT  ...       CLNO    DEBTINC\n",
            "CLUSTER                                    ...                      \n",
            "0               0.217306     10575.177835  ...  19.951393  33.642604\n",
            "1               0.173485     12239.179039  ...  21.135321  32.863545\n",
            "2               0.172123     26852.293478  ...  25.791667  35.288589\n",
            "\n",
            "[3 rows x 12 columns]\n",
            "\n",
            "\n",
            "\n",
            "\n",
            "CLUSTER  TARGET_BAD_FLAG\n",
            "0        0                  2795\n",
            "         1                   776\n",
            "1        0                  1091\n",
            "         1                   229\n",
            "2        0                   885\n",
            "         1                   184\n",
            "Name: TARGET_BAD_FLAG, dtype: int64\n",
            "\n",
            "\n",
            "\n",
            "\n",
            "K =  4\n",
            "=======\n",
            "   TARGET_BAD_FLAG  TARGET_LOSS_AMT  LOAN  ...  CLNO  DEBTINC CLUSTER\n",
            "0                1            641.0  1100  ...   9.0      NaN       0\n",
            "1                1           1109.0  1300  ...  14.0      NaN       0\n",
            "2                1            767.0  1500  ...  10.0      NaN       0\n",
            "3                1           1425.0  1500  ...   NaN      NaN       0\n",
            "4                0              NaN  1700  ...  14.0      NaN       0\n",
            "\n",
            "[5 rows x 15 columns]\n",
            "         TARGET_BAD_FLAG  TARGET_LOSS_AMT  ...       CLNO    DEBTINC\n",
            "CLUSTER                                    ...                      \n",
            "0               0.215423     10766.460441  ...  20.128698  33.658379\n",
            "1               0.176426     11777.211207  ...  21.225806  32.800503\n",
            "2               0.177686     21768.852713  ...  27.586592  36.136951\n",
            "3               0.167647     36991.157895  ...  19.923529  33.641683\n",
            "\n",
            "[4 rows x 12 columns]\n",
            "\n",
            "\n",
            "\n",
            "\n",
            "CLUSTER  TARGET_BAD_FLAG\n",
            "0        0                  2808\n",
            "         1                   771\n",
            "1        0                  1083\n",
            "         1                   232\n",
            "2        0                   597\n",
            "         1                   129\n",
            "3        0                   283\n",
            "         1                    57\n",
            "Name: TARGET_BAD_FLAG, dtype: int64\n",
            "\n",
            "\n",
            "\n",
            "\n",
            "K =  6\n",
            "=======\n",
            "   TARGET_BAD_FLAG  TARGET_LOSS_AMT  LOAN  ...  CLNO  DEBTINC CLUSTER\n",
            "0                1            641.0  1100  ...   9.0      NaN       3\n",
            "1                1           1109.0  1300  ...  14.0      NaN       3\n",
            "2                1            767.0  1500  ...  10.0      NaN       2\n",
            "3                1           1425.0  1500  ...   NaN      NaN       3\n",
            "4                0              NaN  1700  ...  14.0      NaN       2\n",
            "\n",
            "[5 rows x 15 columns]\n",
            "         TARGET_BAD_FLAG  TARGET_LOSS_AMT  ...       CLNO    DEBTINC\n",
            "CLUSTER                                    ...                      \n",
            "0               0.155814     12122.962687  ...  21.256169  32.763981\n",
            "1               0.168790     23219.330189  ...  28.323200  35.925721\n",
            "2               0.216885     10351.760626  ...  19.664677  34.012015\n",
            "3               0.181910     11006.104972  ...  20.707810  33.285365\n",
            "4               0.162162     38302.125000  ...  19.591216  33.678189\n",
            "5               0.736000     15372.358696  ...  25.320000  34.325429\n",
            "\n",
            "[6 rows x 12 columns]\n",
            "\n",
            "\n",
            "\n",
            "\n",
            "CLUSTER  TARGET_BAD_FLAG\n",
            "0        0                   726\n",
            "         1                   134\n",
            "1        0                   522\n",
            "         1                   106\n",
            "2        0                  1614\n",
            "         1                   447\n",
            "3        0                  1628\n",
            "         1                   362\n",
            "4        0                   248\n",
            "         1                    48\n",
            "5        1                    92\n",
            "         0                    33\n",
            "Name: TARGET_BAD_FLAG, dtype: int64\n"
          ]
        }
      ]
    }
  ]
}