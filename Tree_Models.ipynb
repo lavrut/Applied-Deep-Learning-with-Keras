{
  "nbformat": 4,
  "nbformat_minor": 0,
  "metadata": {
    "colab": {
      "name": "Rutledge_LaVon_Assignment02.ipynb",
      "provenance": [],
      "collapsed_sections": [],
      "toc_visible": true
    },
    "kernelspec": {
      "display_name": "Python 3",
      "language": "python",
      "name": "python3"
    },
    "language_info": {
      "codemirror_mode": {
        "name": "ipython",
        "version": 3
      },
      "file_extension": ".py",
      "mimetype": "text/x-python",
      "name": "python",
      "nbconvert_exporter": "python",
      "pygments_lexer": "ipython3",
      "version": "3.8.8"
    }
  },
  "cells": [
    {
      "cell_type": "markdown",
      "metadata": {
        "id": "cJicvL6PM0qK"
      },
      "source": [
        "## Create a Training and Test Data Set:\n",
        "### Decision Trees:\n",
        "**Develop a decision tree to predict the probability of default**\n",
        "  - Calculate the accuracy of the model on both the training and test data set\n",
        "  - Create a graph that shows the ROC curves for both the training and test data set.\n",
        "  - Clearly label each curve and display the Area Under the ROC curve.\n",
        "  - Display the Decision Tree using a Graphviz program\n",
        "  - List the variables included in the decision tree that predict loan default.\n",
        "\n",
        "**Develop a decision tree to predict the loss amount assuming that the loan defaults**\n",
        "  - Calculate the RMSE for both the training data set and the test data set\n",
        "  - Display the Decision Tree using a Graphviz program\n",
        "  - List the variables included in the decision tree that predict loss amount.\n",
        "\n",
        "### Random Forests:\n",
        "**Develop a Random Forest to predict the probability of default**\n",
        "  - Calculate the accuracy of the model on both the training and test data set\n",
        "  - Create a graph that shows the ROC curves for both the training and test data set.\n",
        "  - Clearly label each curve and display the Area Under the ROC curve.\n",
        "  - List the variables included in the Random Forest that predict loan default.\n",
        "  - Develop a Random Forest to predict the loss amount assuming that the loan defaults\n",
        "  - Calculate the RMSE for both the training data set and the test data set\n",
        "  - List the variables included in the Random Forest that predict loss amount.\n",
        "\n",
        "### Gradient Boosting:\n",
        "**Develop a Gradient Boosting model to predict the probability of default**\n",
        "  - Calculate the accuracy of the model on both the training and test data set\n",
        "  - Create a graph that shows the ROC curves for both the training and test data set. \n",
        "  - Clearly label each curve and display the Area Under the ROC curve.\n",
        "  - List the variables included in the Gradient Boosting that predict loan default.\n",
        "\n",
        "**Develop a Gradient Boosting to predict the loss amount assuming that the loan defaults**\n",
        "  - Calculate the RMSE for both the training data set and the test data set\n",
        "  - List the variables included in the Gradient Boosting that predict loss amount.\n",
        "\n",
        "### ROC Curves:\n",
        "  - Generate a ROC curve for the Decision Tree, Random Forest, and Gradient Boosting models using the Test Data Set\n",
        "  - Use different colors for each curve and clearly label them\n",
        "  - Include the Area under the ROC Curve (AUC) on the graph."
      ]
    },
    {
      "cell_type": "code",
      "metadata": {
        "id": "6VjgyDREHHgJ"
      },
      "source": [
        "# Load packages\n",
        "import math\n",
        "import pandas as pd\n",
        "import numpy as np\n",
        "import matplotlib.pyplot as plt\n",
        "import seaborn as sns\n",
        "from sklearn.model_selection import train_test_split\n",
        "import sklearn.metrics as metrics\n",
        "from sklearn import tree\n",
        "from sklearn.tree import _tree\n",
        "from sklearn.ensemble import RandomForestRegressor\n",
        "from sklearn.ensemble import RandomForestClassifier\n",
        "from sklearn.ensemble import GradientBoostingRegressor\n",
        "from sklearn.ensemble import GradientBoostingClassifier\n",
        "from operator import itemgetter"
      ],
      "execution_count": null,
      "outputs": []
    },
    {
      "cell_type": "code",
      "metadata": {
        "id": "nPm5RWiSIpNM"
      },
      "source": [
        "# Read in dataset and create dataframe\n",
        "INFILE = '/content/sample_data/HMEQ_Loss.csv'\n",
        "main_df = pd.read_csv('/content/sample_data/HMEQ_Loss.csv')\n",
        "main_dtype = main_df.dtypes"
      ],
      "execution_count": null,
      "outputs": []
    },
    {
      "cell_type": "code",
      "metadata": {
        "colab": {
          "base_uri": "https://localhost:8080/",
          "height": 130
        },
        "id": "bzWCQvyDJRFG",
        "outputId": "313dfeec-dbae-4fd3-fe46-16928741bc51"
      },
      "source": [
        "# Inspect dataframe\n",
        "main_df.head(2)"
      ],
      "execution_count": null,
      "outputs": [
        {
          "output_type": "execute_result",
          "data": {
            "text/html": [
              "<div>\n",
              "<style scoped>\n",
              "    .dataframe tbody tr th:only-of-type {\n",
              "        vertical-align: middle;\n",
              "    }\n",
              "\n",
              "    .dataframe tbody tr th {\n",
              "        vertical-align: top;\n",
              "    }\n",
              "\n",
              "    .dataframe thead th {\n",
              "        text-align: right;\n",
              "    }\n",
              "</style>\n",
              "<table border=\"1\" class=\"dataframe\">\n",
              "  <thead>\n",
              "    <tr style=\"text-align: right;\">\n",
              "      <th></th>\n",
              "      <th>TARGET_BAD_FLAG</th>\n",
              "      <th>TARGET_LOSS_AMT</th>\n",
              "      <th>LOAN</th>\n",
              "      <th>MORTDUE</th>\n",
              "      <th>VALUE</th>\n",
              "      <th>REASON</th>\n",
              "      <th>JOB</th>\n",
              "      <th>YOJ</th>\n",
              "      <th>DEROG</th>\n",
              "      <th>DELINQ</th>\n",
              "      <th>CLAGE</th>\n",
              "      <th>NINQ</th>\n",
              "      <th>CLNO</th>\n",
              "      <th>DEBTINC</th>\n",
              "    </tr>\n",
              "  </thead>\n",
              "  <tbody>\n",
              "    <tr>\n",
              "      <th>0</th>\n",
              "      <td>1</td>\n",
              "      <td>641.0</td>\n",
              "      <td>1100</td>\n",
              "      <td>25860.0</td>\n",
              "      <td>39025.0</td>\n",
              "      <td>HomeImp</td>\n",
              "      <td>Other</td>\n",
              "      <td>10.5</td>\n",
              "      <td>0.0</td>\n",
              "      <td>0.0</td>\n",
              "      <td>94.366667</td>\n",
              "      <td>1.0</td>\n",
              "      <td>9.0</td>\n",
              "      <td>NaN</td>\n",
              "    </tr>\n",
              "    <tr>\n",
              "      <th>1</th>\n",
              "      <td>1</td>\n",
              "      <td>1109.0</td>\n",
              "      <td>1300</td>\n",
              "      <td>70053.0</td>\n",
              "      <td>68400.0</td>\n",
              "      <td>HomeImp</td>\n",
              "      <td>Other</td>\n",
              "      <td>7.0</td>\n",
              "      <td>0.0</td>\n",
              "      <td>2.0</td>\n",
              "      <td>121.833333</td>\n",
              "      <td>0.0</td>\n",
              "      <td>14.0</td>\n",
              "      <td>NaN</td>\n",
              "    </tr>\n",
              "  </tbody>\n",
              "</table>\n",
              "</div>"
            ],
            "text/plain": [
              "   TARGET_BAD_FLAG  TARGET_LOSS_AMT  LOAN  ...  NINQ  CLNO DEBTINC\n",
              "0                1            641.0  1100  ...   1.0   9.0     NaN\n",
              "1                1           1109.0  1300  ...   0.0  14.0     NaN\n",
              "\n",
              "[2 rows x 14 columns]"
            ]
          },
          "metadata": {},
          "execution_count": 3
        }
      ]
    },
    {
      "cell_type": "code",
      "metadata": {
        "colab": {
          "base_uri": "https://localhost:8080/"
        },
        "id": "VDU7kfvRJRhR",
        "outputId": "36897fb0-e8c5-4ff5-b184-d240aed5a24e"
      },
      "source": [
        "# Inspect datatypes\n",
        "main_df.info()"
      ],
      "execution_count": null,
      "outputs": [
        {
          "output_type": "stream",
          "name": "stdout",
          "text": [
            "<class 'pandas.core.frame.DataFrame'>\n",
            "RangeIndex: 5960 entries, 0 to 5959\n",
            "Data columns (total 14 columns):\n",
            " #   Column           Non-Null Count  Dtype  \n",
            "---  ------           --------------  -----  \n",
            " 0   TARGET_BAD_FLAG  5960 non-null   int64  \n",
            " 1   TARGET_LOSS_AMT  1189 non-null   float64\n",
            " 2   LOAN             5960 non-null   int64  \n",
            " 3   MORTDUE          5442 non-null   float64\n",
            " 4   VALUE            5848 non-null   float64\n",
            " 5   REASON           5708 non-null   object \n",
            " 6   JOB              5681 non-null   object \n",
            " 7   YOJ              5445 non-null   float64\n",
            " 8   DEROG            5252 non-null   float64\n",
            " 9   DELINQ           5380 non-null   float64\n",
            " 10  CLAGE            5652 non-null   float64\n",
            " 11  NINQ             5450 non-null   float64\n",
            " 12  CLNO             5738 non-null   float64\n",
            " 13  DEBTINC          4693 non-null   float64\n",
            "dtypes: float64(10), int64(2), object(2)\n",
            "memory usage: 652.0+ KB\n"
          ]
        }
      ]
    },
    {
      "cell_type": "code",
      "metadata": {
        "id": "MF6E-w5QJwaW"
      },
      "source": [
        "# Exclude target variables\n",
        "# Create new dataframe of only datatypes\n",
        "TARGET_F = 'TARGET_BAD_FLAG'\n",
        "TARGET_A = 'TARGET_LOSS_AMT'"
      ],
      "execution_count": null,
      "outputs": []
    },
    {
      "cell_type": "code",
      "metadata": {
        "id": "jFIr6AaILHeg"
      },
      "source": [
        "# Create two lists to store objects by datatype\n",
        "objList = []\n",
        "numList = []\n",
        "\n",
        "for i in main_dtype.index:\n",
        "  if i in ([TARGET_F, TARGET_A]): continue\n",
        "  if main_dtype[i] in (['object']): objList.append(i)\n",
        "  if main_dtype[i] in (['float64', 'int64']): numList.append(i) "
      ],
      "execution_count": null,
      "outputs": []
    },
    {
      "cell_type": "code",
      "metadata": {
        "colab": {
          "base_uri": "https://localhost:8080/"
        },
        "id": "QpZdzahuKx4M",
        "outputId": "c51ae442-3bd8-48c9-b918-8b5a99007c28"
      },
      "source": [
        "print('List of objects:\\n', objList, '\\n')\n",
        "print('List of numeric dtypes:\\n', numList)"
      ],
      "execution_count": null,
      "outputs": [
        {
          "output_type": "stream",
          "name": "stdout",
          "text": [
            "List of objects:\n",
            " ['REASON', 'JOB'] \n",
            "\n",
            "List of numeric dtypes:\n",
            " ['LOAN', 'MORTDUE', 'VALUE', 'YOJ', 'DEROG', 'DELINQ', 'CLAGE', 'NINQ', 'CLNO', 'DEBTINC']\n"
          ]
        }
      ]
    },
    {
      "cell_type": "code",
      "metadata": {
        "colab": {
          "base_uri": "https://localhost:8080/"
        },
        "id": "-_je9gH4MsCY",
        "outputId": "919cf308-7769-4a4c-fb0f-ef1c34d70289"
      },
      "source": [
        "# Inspect all datatypes in objList\n",
        "for i in objList:\n",
        "  show_me = main_df[i].value_counts(dropna=False)\n",
        "  print('\\n')\n",
        "  print(show_me)"
      ],
      "execution_count": null,
      "outputs": [
        {
          "output_type": "stream",
          "name": "stdout",
          "text": [
            "\n",
            "\n",
            "DebtCon    3928\n",
            "HomeImp    1780\n",
            "NaN         252\n",
            "Name: REASON, dtype: int64\n",
            "\n",
            "\n",
            "Other      2388\n",
            "ProfExe    1276\n",
            "Office      948\n",
            "Mgr         767\n",
            "NaN         279\n",
            "Self        193\n",
            "Sales       109\n",
            "Name: JOB, dtype: int64\n"
          ]
        }
      ]
    },
    {
      "cell_type": "code",
      "metadata": {
        "colab": {
          "base_uri": "https://localhost:8080/"
        },
        "id": "Q0bf5rJ0R9N4",
        "outputId": "48d2da3f-8584-4c87-883b-754013e44f95"
      },
      "source": [
        "# Percent of missing values by datatype\n",
        "main_df.isna().sum() / len(main_df)"
      ],
      "execution_count": null,
      "outputs": [
        {
          "output_type": "execute_result",
          "data": {
            "text/plain": [
              "TARGET_BAD_FLAG    0.000000\n",
              "TARGET_LOSS_AMT    0.800503\n",
              "LOAN               0.000000\n",
              "MORTDUE            0.086913\n",
              "VALUE              0.018792\n",
              "REASON             0.042282\n",
              "JOB                0.046812\n",
              "YOJ                0.086409\n",
              "DEROG              0.118792\n",
              "DELINQ             0.097315\n",
              "CLAGE              0.051678\n",
              "NINQ               0.085570\n",
              "CLNO               0.037248\n",
              "DEBTINC            0.212584\n",
              "dtype: float64"
            ]
          },
          "metadata": {},
          "execution_count": 9
        }
      ]
    },
    {
      "cell_type": "code",
      "metadata": {
        "colab": {
          "base_uri": "https://localhost:8080/"
        },
        "id": "7oBpVtikSQtG",
        "outputId": "3bd72bb6-886a-4531-df09-4a2dfaf62a99"
      },
      "source": [
        "# Total missing values by datatype\n",
        "main_df.isna().sum()"
      ],
      "execution_count": null,
      "outputs": [
        {
          "output_type": "execute_result",
          "data": {
            "text/plain": [
              "TARGET_BAD_FLAG       0\n",
              "TARGET_LOSS_AMT    4771\n",
              "LOAN                  0\n",
              "MORTDUE             518\n",
              "VALUE               112\n",
              "REASON              252\n",
              "JOB                 279\n",
              "YOJ                 515\n",
              "DEROG               708\n",
              "DELINQ              580\n",
              "CLAGE               308\n",
              "NINQ                510\n",
              "CLNO                222\n",
              "DEBTINC            1267\n",
              "dtype: int64"
            ]
          },
          "metadata": {},
          "execution_count": 10
        }
      ]
    },
    {
      "cell_type": "code",
      "metadata": {
        "id": "oTNyxEL2RDF5"
      },
      "source": [
        "# Impute missing values for objects with NaNs in objList\n",
        "for i in objList:\n",
        "  main_df['REASON'] = main_df['REASON'].fillna(method='ffill')\n",
        "  main_df['JOB'] = main_df['JOB'].fillna(method='ffill')"
      ],
      "execution_count": null,
      "outputs": []
    },
    {
      "cell_type": "code",
      "metadata": {
        "id": "3LTz7Kd1UNsq"
      },
      "source": [
        "# Impute missing values for objects with NaNs in numList\n",
        "for i in numList:\n",
        "  median_value = main_df['LOAN'].median()\n",
        "  main_df['LOAN'] = main_df['LOAN'].fillna(value=median_value)\n",
        "\n",
        "  median_value = main_df['MORTDUE'].median()\n",
        "  main_df['MORTDUE'] = main_df['MORTDUE'].fillna(value=median_value)\n",
        "\n",
        "  median_value = main_df['VALUE'].median()\n",
        "  main_df['VALUE'] = main_df['VALUE'].fillna(value=median_value)\n",
        "\n",
        "  mean_value = main_df['YOJ'].mean()\n",
        "  main_df['YOJ'] = main_df['YOJ'].fillna(value=mean_value)\n",
        "\n",
        "  mean_value = main_df['DEROG'].mean()\n",
        "  main_df['DEROG'] = main_df['DEROG'].fillna(value=mean_value)\n",
        "\n",
        "  mean_value = main_df['DELINQ'].mean()\n",
        "  main_df['DELINQ'] = main_df['DELINQ'].fillna(value=mean_value)\n",
        "  \n",
        "  mean_value = main_df['CLAGE'].mean()\n",
        "  main_df['CLAGE'] = main_df['CLAGE'].fillna(value=mean_value)\n",
        "\n",
        "  mean_value = main_df['NINQ'].mean()\n",
        "  main_df['NINQ'] = main_df['NINQ'].fillna(value=mean_value)\n",
        "\n",
        "  mean_value = main_df['CLNO'].mean()\n",
        "  main_df['CLNO'] = main_df['CLNO'].fillna(value=mean_value)\n",
        "\n",
        "  mean_value = main_df['DEBTINC'].mean()\n",
        "  main_df['DEBTINC'] = main_df['DEBTINC'].fillna(value=mean_value)"
      ],
      "execution_count": null,
      "outputs": []
    },
    {
      "cell_type": "code",
      "metadata": {
        "id": "f5C9-rDuVJVZ"
      },
      "source": [
        "# Impute missing values for target variables TARGET_F, TARGET_A\n",
        "median_value = main_df['TARGET_LOSS_AMT'].median()\n",
        "main_df['TARGET_LOSS_AMT'] = main_df['TARGET_LOSS_AMT'].fillna(value=median_value)"
      ],
      "execution_count": null,
      "outputs": []
    },
    {
      "cell_type": "code",
      "metadata": {
        "colab": {
          "base_uri": "https://localhost:8080/"
        },
        "id": "9YxsBD7gQzvF",
        "outputId": "8e05f5dc-5736-4a11-e068-77accbb163c5"
      },
      "source": [
        "# Verify all missing values have been imputed\n",
        "main_df.isna().sum()"
      ],
      "execution_count": null,
      "outputs": [
        {
          "output_type": "execute_result",
          "data": {
            "text/plain": [
              "TARGET_BAD_FLAG    0\n",
              "TARGET_LOSS_AMT    0\n",
              "LOAN               0\n",
              "MORTDUE            0\n",
              "VALUE              0\n",
              "REASON             0\n",
              "JOB                0\n",
              "YOJ                0\n",
              "DEROG              0\n",
              "DELINQ             0\n",
              "CLAGE              0\n",
              "NINQ               0\n",
              "CLNO               0\n",
              "DEBTINC            0\n",
              "dtype: int64"
            ]
          },
          "metadata": {},
          "execution_count": 14
        }
      ]
    },
    {
      "cell_type": "code",
      "metadata": {
        "colab": {
          "base_uri": "https://localhost:8080/"
        },
        "id": "TjZfTMsnVukr",
        "outputId": "d5e5e0cf-7921-4701-adc5-dd42f5cbc787"
      },
      "source": [
        "# Convert object variables to numeric variables; use one-hot-encoding method\n",
        "# Loop through each object list (objList and numList)\n",
        "for i in objList :\n",
        "  print(\"Class = \", i )\n",
        "  thePrefix = \"IMP_\" + i\n",
        "  print( thePrefix )\n",
        "  y = pd.get_dummies(main_df[i], prefix = thePrefix, dummy_na = False)\n",
        "  print(type(y) )\n",
        "  print(y.head().T )\n",
        "  main_df = pd.concat([main_df, y], axis = 1 )\n",
        "  main_df = main_df.drop(i, axis = 1 )\n",
        "\n",
        "print(main_df.head().T)"
      ],
      "execution_count": null,
      "outputs": [
        {
          "output_type": "stream",
          "name": "stdout",
          "text": [
            "Class =  REASON\n",
            "IMP_REASON\n",
            "<class 'pandas.core.frame.DataFrame'>\n",
            "                    0  1  2  3  4\n",
            "IMP_REASON_DebtCon  0  0  0  0  0\n",
            "IMP_REASON_HomeImp  1  1  1  1  1\n",
            "Class =  JOB\n",
            "IMP_JOB\n",
            "<class 'pandas.core.frame.DataFrame'>\n",
            "                 0  1  2  3  4\n",
            "IMP_JOB_Mgr      0  0  0  0  0\n",
            "IMP_JOB_Office   0  0  0  0  1\n",
            "IMP_JOB_Other    1  1  1  1  0\n",
            "IMP_JOB_ProfExe  0  0  0  0  0\n",
            "IMP_JOB_Sales    0  0  0  0  0\n",
            "IMP_JOB_Self     0  0  0  0  0\n",
            "                               0             1  ...             3              4\n",
            "TARGET_BAD_FLAG         1.000000      1.000000  ...      1.000000       0.000000\n",
            "TARGET_LOSS_AMT       641.000000   1109.000000  ...   1425.000000   11003.000000\n",
            "LOAN                 1100.000000   1300.000000  ...   1500.000000    1700.000000\n",
            "MORTDUE             25860.000000  70053.000000  ...  65019.000000   97800.000000\n",
            "VALUE               39025.000000  68400.000000  ...  89235.500000  112000.000000\n",
            "YOJ                    10.500000      7.000000  ...      8.922268       3.000000\n",
            "DEROG                   0.000000      0.000000  ...      0.254570       0.000000\n",
            "DELINQ                  0.000000      2.000000  ...      0.449442       0.000000\n",
            "CLAGE                  94.366667    121.833333  ...    179.766275      93.333333\n",
            "NINQ                    1.000000      0.000000  ...      1.186055       0.000000\n",
            "CLNO                    9.000000     14.000000  ...     21.296096      14.000000\n",
            "DEBTINC                33.779915     33.779915  ...     33.779915      33.779915\n",
            "IMP_REASON_DebtCon      0.000000      0.000000  ...      0.000000       0.000000\n",
            "IMP_REASON_HomeImp      1.000000      1.000000  ...      1.000000       1.000000\n",
            "IMP_JOB_Mgr             0.000000      0.000000  ...      0.000000       0.000000\n",
            "IMP_JOB_Office          0.000000      0.000000  ...      0.000000       1.000000\n",
            "IMP_JOB_Other           1.000000      1.000000  ...      1.000000       0.000000\n",
            "IMP_JOB_ProfExe         0.000000      0.000000  ...      0.000000       0.000000\n",
            "IMP_JOB_Sales           0.000000      0.000000  ...      0.000000       0.000000\n",
            "IMP_JOB_Self            0.000000      0.000000  ...      0.000000       0.000000\n",
            "\n",
            "[20 rows x 5 columns]\n"
          ]
        }
      ]
    },
    {
      "cell_type": "markdown",
      "metadata": {
        "id": "K_SDO8MnaXT9"
      },
      "source": [
        "## Split Data into **Training** and **Test** Data Set"
      ]
    },
    {
      "cell_type": "markdown",
      "metadata": {
        "id": "COzs1fTIcKCb"
      },
      "source": [
        "Notes: \n",
        "* Main DataFrame: `main_df`\n",
        "* Datatype DataFrame: `main_dtype`"
      ]
    },
    {
      "cell_type": "code",
      "metadata": {
        "id": "UCAyHk6WaW9J"
      },
      "source": [
        "# Make a copy of main_df \n",
        "# Exclude target variables TARGET_F, TARGET_A\n",
        "X_df = main_df.copy()\n",
        "X_df = X_df.drop(TARGET_F, axis=1)\n",
        "X_df = X_df.drop(TARGET_A, axis=1)"
      ],
      "execution_count": null,
      "outputs": []
    },
    {
      "cell_type": "code",
      "metadata": {
        "colab": {
          "base_uri": "https://localhost:8080/",
          "height": 110
        },
        "id": "WrCr1rKFfPha",
        "outputId": "04a8eb0e-82e2-40e0-8d3a-e11263648638"
      },
      "source": [
        "# Create another dataframe for Y_df\n",
        "# This holds info in target variables\n",
        "Y_df = main_df[[TARGET_F, TARGET_A]]\n",
        "Y_df.head().T"
      ],
      "execution_count": null,
      "outputs": [
        {
          "output_type": "execute_result",
          "data": {
            "text/html": [
              "<div>\n",
              "<style scoped>\n",
              "    .dataframe tbody tr th:only-of-type {\n",
              "        vertical-align: middle;\n",
              "    }\n",
              "\n",
              "    .dataframe tbody tr th {\n",
              "        vertical-align: top;\n",
              "    }\n",
              "\n",
              "    .dataframe thead th {\n",
              "        text-align: right;\n",
              "    }\n",
              "</style>\n",
              "<table border=\"1\" class=\"dataframe\">\n",
              "  <thead>\n",
              "    <tr style=\"text-align: right;\">\n",
              "      <th></th>\n",
              "      <th>0</th>\n",
              "      <th>1</th>\n",
              "      <th>2</th>\n",
              "      <th>3</th>\n",
              "      <th>4</th>\n",
              "    </tr>\n",
              "  </thead>\n",
              "  <tbody>\n",
              "    <tr>\n",
              "      <th>TARGET_BAD_FLAG</th>\n",
              "      <td>1.0</td>\n",
              "      <td>1.0</td>\n",
              "      <td>1.0</td>\n",
              "      <td>1.0</td>\n",
              "      <td>0.0</td>\n",
              "    </tr>\n",
              "    <tr>\n",
              "      <th>TARGET_LOSS_AMT</th>\n",
              "      <td>641.0</td>\n",
              "      <td>1109.0</td>\n",
              "      <td>767.0</td>\n",
              "      <td>1425.0</td>\n",
              "      <td>11003.0</td>\n",
              "    </tr>\n",
              "  </tbody>\n",
              "</table>\n",
              "</div>"
            ],
            "text/plain": [
              "                     0       1      2       3        4\n",
              "TARGET_BAD_FLAG    1.0     1.0    1.0     1.0      0.0\n",
              "TARGET_LOSS_AMT  641.0  1109.0  767.0  1425.0  11003.0"
            ]
          },
          "metadata": {},
          "execution_count": 17
        }
      ]
    },
    {
      "cell_type": "code",
      "metadata": {
        "colab": {
          "base_uri": "https://localhost:8080/"
        },
        "id": "GygV_HbBgIcs",
        "outputId": "b268b439-5155-409a-8b2e-8c8b07b16c58"
      },
      "source": [
        "# Split data\n",
        "'''\n",
        "Use X_df data to predict Y_df\n",
        "Randomly split dataset into Training and Test \n",
        "train_test_split(...,random_state=# allows for reproducibility,....)\n",
        "TRAINING DATA: 80%\n",
        "TEST DATA: 20%\n",
        "'''\n",
        "X_train, X_test, Y_train, Y_test = train_test_split(X_df, Y_df, train_size=0.8,\n",
        "                                                    test_size=0.2, random_state=1)\n",
        "print('FLAG DATA:')\n",
        "print('TRAINING DATA = ', X_train.shape)\n",
        "print('TEST DATA = ', X_test.shape, '\\n')"
      ],
      "execution_count": null,
      "outputs": [
        {
          "output_type": "stream",
          "name": "stdout",
          "text": [
            "FLAG DATA:\n",
            "TRAINING DATA =  (4768, 18)\n",
            "TEST DATA =  (1192, 18) \n",
            "\n"
          ]
        }
      ]
    },
    {
      "cell_type": "markdown",
      "metadata": {
        "id": "FyryBOMQiOg5"
      },
      "source": [
        "Notes:\n",
        "* X_train\n",
        "* X_test\n",
        "\n",
        "* Y_train\n",
        "* Y_test "
      ]
    },
    {
      "cell_type": "markdown",
      "metadata": {
        "id": "edDJHtmmmvih"
      },
      "source": [
        "## Decision Trees for Classification"
      ]
    },
    {
      "cell_type": "code",
      "metadata": {
        "colab": {
          "base_uri": "https://localhost:8080/"
        },
        "id": "87ZzIBAbm2yt",
        "outputId": "900ddacd-9120-4361-91c4-a4e49da595d9"
      },
      "source": [
        "# Create a decision tree classifier with respect to TARGET_F\n",
        "flag_model_01 = tree.DecisionTreeClassifier(max_depth=5)\n",
        "flag_model_01 = flag_model_01.fit(X_train, Y_train[TARGET_F])\n",
        "\n",
        "# Exploring time and memory usage\n",
        "%timeit sum(range(100))\n",
        "# !pip install memory_profiler\n",
        "%load_ext memory_profiler\n",
        "%memit"
      ],
      "execution_count": null,
      "outputs": [
        {
          "output_type": "stream",
          "name": "stdout",
          "text": [
            "1000000 loops, best of 5: 1.03 µs per loop\n",
            "peak memory: 167.17 MiB, increment: 0.11 MiB\n"
          ]
        }
      ]
    },
    {
      "cell_type": "code",
      "metadata": {
        "colab": {
          "base_uri": "https://localhost:8080/"
        },
        "id": "kq-l9Wiqn_0f",
        "outputId": "57ec97a8-d976-42c4-9e17-99b2ff46090f"
      },
      "source": [
        "# Score predictions for Y_train and Y_test\n",
        "Y_pred_train = flag_model_01.predict(X_train)\n",
        "Y_pred_test = flag_model_01.predict(X_test)\n",
        "\n",
        "%timeit sum(range(100))\n",
        "%memit"
      ],
      "execution_count": null,
      "outputs": [
        {
          "output_type": "stream",
          "name": "stdout",
          "text": [
            "1000000 loops, best of 5: 1.02 µs per loop\n",
            "peak memory: 167.42 MiB, increment: 0.03 MiB\n"
          ]
        }
      ]
    },
    {
      "cell_type": "code",
      "metadata": {
        "colab": {
          "base_uri": "https://localhost:8080/"
        },
        "id": "Kpb8owkhofE9",
        "outputId": "c7455b78-14c1-4a02-9c35-bd4273b54568"
      },
      "source": [
        "# Display accuracy of prediction\n",
        "print('Train Accuracy:', metrics.accuracy_score(Y_train[TARGET_F], Y_pred_train))\n",
        "print('Test Accuracy (new data):', metrics.accuracy_score(Y_test[TARGET_F], Y_pred_test))"
      ],
      "execution_count": null,
      "outputs": [
        {
          "output_type": "stream",
          "name": "stdout",
          "text": [
            "Train Accuracy: 0.893246644295302\n",
            "Test Accuracy (new data): 0.8850671140939598\n"
          ]
        }
      ]
    },
    {
      "cell_type": "code",
      "metadata": {
        "colab": {
          "base_uri": "https://localhost:8080/"
        },
        "id": "I0Vn3FjZmtht",
        "outputId": "931940aa-2cfc-410b-bcfa-03d88b53add7"
      },
      "source": [
        "# Create a prediction using probability value \n",
        "print('Probability of Loan Default')\n",
        "probs = flag_model_01.predict_proba(X_train)\n",
        "probs_grp1 = probs[0:10] # Lists first 10 people and their associated probability \n",
        "probs_grp1"
      ],
      "execution_count": null,
      "outputs": [
        {
          "output_type": "stream",
          "name": "stdout",
          "text": [
            "Probability of Loan Default\n"
          ]
        },
        {
          "output_type": "execute_result",
          "data": {
            "text/plain": [
              "array([[0.06870229, 0.93129771],\n",
              "       [0.23170732, 0.76829268],\n",
              "       [0.94667466, 0.05332534],\n",
              "       [0.40572792, 0.59427208],\n",
              "       [0.94667466, 0.05332534],\n",
              "       [0.94667466, 0.05332534],\n",
              "       [0.        , 1.        ],\n",
              "       [0.23170732, 0.76829268],\n",
              "       [0.96558989, 0.03441011],\n",
              "       [0.94667466, 0.05332534]])"
            ]
          },
          "metadata": {},
          "execution_count": 22
        }
      ]
    },
    {
      "cell_type": "markdown",
      "metadata": {
        "id": "REivOz3awlnF"
      },
      "source": [
        "### ROC Curve\n",
        "* The higher the curve the better\n",
        "* Use to determine most accurate data set: train vs test"
      ]
    },
    {
      "cell_type": "code",
      "metadata": {
        "id": "ioBOFhqKsrL2"
      },
      "source": [
        "'''\n",
        "Y_train[TARGET_F]: this is what actually happened \n",
        "probs_grp1: this is the associated probability value for what happened\n",
        "Column 0 contains row data for Current\n",
        "Column 1 contains row data for Loan Default\n",
        "threshold: acts like a trigger to initiate some action you want to perform\n",
        "'''\n",
        "# Predict probability of outcomes\n",
        "probs = flag_model_01.predict_proba(X_train)\n",
        "probs_grp2 = probs[:,1] # Look across all rows in Column 1 \n",
        "false_pos_rate_train, true_pos_rate_train, threshold = metrics.roc_curve(Y_train[TARGET_F], probs_grp2)\n",
        "# print(probs_grp2[0:10],'\\n') # Grabs first 10 probabilites \n",
        "\n",
        "# Represents area under the ROC Curve (training data)\n",
        "roc_auc_train = metrics.auc(false_pos_rate_train, true_pos_rate_train)"
      ],
      "execution_count": null,
      "outputs": []
    },
    {
      "cell_type": "code",
      "metadata": {
        "id": "vUwTCqvp1yQu"
      },
      "source": [
        "# Predict probability of outcomes\n",
        "probs = flag_model_01.predict_proba(X_test)\n",
        "probs_grp2 = probs[:,1] # Look across all rows in Column 1 \n",
        "false_pos_rate_test, true_pos_rate_test, threshold = metrics.roc_curve(Y_test[TARGET_F], probs_grp2)\n",
        "\n",
        "# Represents area under the ROC Curve (test data)\n",
        "roc_auc_test = metrics.auc(false_pos_rate_test, true_pos_rate_test)"
      ],
      "execution_count": null,
      "outputs": []
    },
    {
      "cell_type": "code",
      "metadata": {
        "colab": {
          "base_uri": "https://localhost:8080/"
        },
        "id": "bb5Kj8uGv2Uy",
        "outputId": "266fcfda-6ee9-4f47-f79f-ab648bb75128"
      },
      "source": [
        "# False Positive Rate for first 10 people (with training data)\n",
        "print(false_pos_rate_train[0:10], '\\n')\n",
        "\n",
        "# True Positive Rate for first 10 people (with training data)\n",
        "print(true_pos_rate_train[0:10], '\\n')\n",
        "\n",
        "# False Positive Rate for first 10 people (with test data)\n",
        "print(false_pos_rate_test[0:10], '\\n')\n",
        "\n",
        "# True Positive Rate for first 10 people (with test data)\n",
        "print(true_pos_rate_test[0:10], '\\n')"
      ],
      "execution_count": null,
      "outputs": [
        {
          "output_type": "stream",
          "name": "stdout",
          "text": [
            "[0.         0.         0.00235171 0.01724588 0.01750719 0.0619284\n",
            " 0.0621897  0.1019075  0.17298145 0.17481056] \n",
            "\n",
            "[0.         0.11370882 0.24335813 0.44420829 0.44633369 0.7109458\n",
            " 0.7120085  0.78320935 0.83103082 0.83209352] \n",
            "\n",
            "[0.         0.00105932 0.00423729 0.01694915 0.01694915 0.05402542\n",
            " 0.09533898 0.1684322  0.16949153 0.20762712] \n",
            "\n",
            "[0.         0.0766129  0.18145161 0.35887097 0.36290323 0.65322581\n",
            " 0.71370968 0.77016129 0.77016129 0.80645161] \n",
            "\n"
          ]
        }
      ]
    },
    {
      "cell_type": "code",
      "metadata": {
        "id": "bot3LZg0xxaB"
      },
      "source": [
        "'''\n",
        "We will save test datasets to compare methods later \n",
        "in order to find the best model/approach.\n",
        "We will use test data for that purpose.\n",
        "Save false_pos_rate_train to fpr_test\n",
        "Save true_pos_rate_train to tpr_test\n",
        "auc_tree = roc_auc_test\n",
        "'''\n",
        "fpr_tree = false_pos_rate_test\n",
        "tpr_tree = true_pos_rate_test\n",
        "auc_tree = roc_auc_test"
      ],
      "execution_count": null,
      "outputs": []
    },
    {
      "cell_type": "code",
      "metadata": {
        "colab": {
          "base_uri": "https://localhost:8080/",
          "height": 294
        },
        "id": "fQMJweJpyYH5",
        "outputId": "65a69b1b-da02-4a2f-ec60-f81a8d5c5e4f"
      },
      "source": [
        "'''\n",
        "To test model stability, adjust random_state= paramenter in train_test_split()\n",
        "See Split Data into Training and Test Data Set\n",
        "'''\n",
        "# Create ROC Curve\n",
        "plt.title('TREE ROC CURVE')\n",
        "plt.plot(false_pos_rate_train, true_pos_rate_train, 'b',\n",
        "         label='AUC TRAIN = %0.2f' % roc_auc_train, color='blue')\n",
        "plt.plot(false_pos_rate_test, true_pos_rate_test, 'b',\n",
        "         label='AUC TEST = %0.2f' % roc_auc_test, color='red')\n",
        "plt.legend(loc='lower right')\n",
        "plt.plot([0, 1], [0, 1], 'g--')\n",
        "plt.xlim([0, 1])\n",
        "plt.ylim([0, 1])\n",
        "plt.ylabel('True Positive Rate')\n",
        "plt.xlabel('False Positive Rate')\n",
        "plt.show()"
      ],
      "execution_count": null,
      "outputs": [
        {
          "output_type": "display_data",
          "data": {
            "image/png": "[encoded data removed]",
            "text/plain": [
              "<Figure size 432x288 with 1 Axes>"
            ]
          },
          "metadata": {
            "needs_background": "light"
          }
        }
      ]
    },
    {
      "cell_type": "markdown",
      "metadata": {
        "id": "3cIaY7at6kEt"
      },
      "source": [
        "### Display the Decision Tree using a Graphviz program\n",
        "* graphviz is not portable and looks at all files on hard drive for graphical files or libraries for displaying files. Running on one machine may be fine, but on another computer, could raise errors depending on what files/libraries are already stored on that machine's harddrive\n",
        "* Download graphviz.msi file for Win10 or use free web-based version\n",
        "* Copy and paste output in tree.f.txt into graphviz application\n",
        "  - Select Layout\n",
        "  - Select desired output file type\n",
        "  - Select desired location to store file"
      ]
    },
    {
      "cell_type": "code",
      "metadata": {
        "id": "7wXZ6iOo6hQA"
      },
      "source": [
        "'''\n",
        "In Google Collab, this will save to temp location on google servers.\n",
        "Download tree_f.txt file and upload to Google Drive for permanent store'''\n",
        "# Create graphviz\n",
        "feature_cols = list(X_df.columns.values)\n",
        "tree.export_graphviz(flag_model_01,out_file='decision_tree_f.txt',filled=True, rounded=True, \n",
        "                      feature_names = feature_cols, impurity=False, precision=0)"
      ],
      "execution_count": null,
      "outputs": []
    },
    {
      "cell_type": "markdown",
      "metadata": {
        "id": "kdMl7cTjBqMk"
      },
      "source": [
        "#### Selecting Variables in a Model\n",
        "* Decision trees can narrow the number of variables one needs to focus in on\n",
        "* Finding tree variables, create a custom function to search"
      ]
    },
    {
      "cell_type": "markdown",
      "metadata": {
        "id": "NoYcDAc-8uXP"
      },
      "source": [
        "**PROBLEM 1:** `getTreeVars()` loops through varNames[i] which stores X_df.columns (so these are all the variables in play within our dataset). \n",
        "  - My assumption was that `getTreeVars()` would grab multiple variables from `varNames` and `append()` them to a `nameList` to show all the most relevant variables used in making the prediction"
      ]
    },
    {
      "cell_type": "code",
      "metadata": {
        "id": "VZOhEetoBIp8"
      },
      "source": [
        "# Create tree search function (from lecture notes)\n",
        "def getTreeVars(TREE, varNames):\n",
        "  tree_ = TREE.tree_\n",
        "  varName = [varNames[i] \n",
        "             if i != _tree.TREE_UNDEFINED \n",
        "             else \"undefined!\"\n",
        "             for i in tree_.feature]\n",
        "  \n",
        "  nameSet = set()\n",
        "  for i in tree_.feature:\n",
        "    if i != _tree.TREE_UNDEFINED:\n",
        "      nameSet.add(i)\n",
        "    nameList = list(nameSet)\n",
        "    parameter_list = list()\n",
        "    for i in nameList:\n",
        "      parameter_list.append(varNames[i])\n",
        "    return parameter_list"
      ],
      "execution_count": null,
      "outputs": []
    },
    {
      "cell_type": "code",
      "metadata": {
        "colab": {
          "base_uri": "https://localhost:8080/"
        },
        "id": "jgljyGGoEV_j",
        "outputId": "3fa1446e-795d-4483-b63f-74097dd6009a"
      },
      "source": [
        "# Output best predictor variable\n",
        "vars_tree_flag = getTreeVars(flag_model_01, feature_cols)\n",
        "\n",
        "for i in vars_tree_flag:\n",
        "  print(i)"
      ],
      "execution_count": null,
      "outputs": [
        {
          "output_type": "stream",
          "name": "stdout",
          "text": [
            "DELINQ\n"
          ]
        }
      ]
    },
    {
      "cell_type": "markdown",
      "metadata": {
        "id": "hajx97MSGrcq"
      },
      "source": [
        "### Develop a decision tree to predict the loss amount assuming that the loan defaults\n",
        "\n",
        "  - Calculate the RMSE for both the training data set and the test data set\n",
        "  - Display the Decision Tree using a Graphviz program\n",
        "  - List the variables included in the decision tree that predict loss amount.\n",
        "  * Ensure NaNs were removed"
      ]
    },
    {
      "cell_type": "code",
      "metadata": {
        "colab": {
          "base_uri": "https://localhost:8080/"
        },
        "id": "dNYGJ5smHKPJ",
        "outputId": "4dbc2c5a-a1b8-484f-c9d1-918e87c6e0cf"
      },
      "source": [
        "# Display output of decision tree using regression models\n",
        "# First, inspect for NaNs\n",
        "print('NaN count for Y_train:\\n')\n",
        "print(Y_train.isna().sum(),'\\n') # No missing values confirmed\n",
        "print('NaN count for X_train:\\n')\n",
        "print(X_train.isna().sum()) # No missing values confirmed"
      ],
      "execution_count": null,
      "outputs": [
        {
          "output_type": "stream",
          "name": "stdout",
          "text": [
            "NaN count for Y_train:\n",
            "\n",
            "TARGET_BAD_FLAG    0\n",
            "TARGET_LOSS_AMT    0\n",
            "dtype: int64 \n",
            "\n",
            "NaN count for X_train:\n",
            "\n",
            "LOAN                  0\n",
            "MORTDUE               0\n",
            "VALUE                 0\n",
            "YOJ                   0\n",
            "DEROG                 0\n",
            "DELINQ                0\n",
            "CLAGE                 0\n",
            "NINQ                  0\n",
            "CLNO                  0\n",
            "DEBTINC               0\n",
            "IMP_REASON_DebtCon    0\n",
            "IMP_REASON_HomeImp    0\n",
            "IMP_JOB_Mgr           0\n",
            "IMP_JOB_Office        0\n",
            "IMP_JOB_Other         0\n",
            "IMP_JOB_ProfExe       0\n",
            "IMP_JOB_Sales         0\n",
            "IMP_JOB_Self          0\n",
            "dtype: int64\n"
          ]
        }
      ]
    },
    {
      "cell_type": "code",
      "metadata": {
        "id": "iKJz2lq-PDGH"
      },
      "source": [
        "# Create a decision tree regressor with respect to TARGET_A\n",
        "amt_m01_Tree = tree.DecisionTreeRegressor(max_depth= 5)\n",
        "amt_m01_Tree = amt_m01_Tree.fit(X_train, Y_train[TARGET_A])"
      ],
      "execution_count": null,
      "outputs": []
    },
    {
      "cell_type": "code",
      "metadata": {
        "colab": {
          "base_uri": "https://localhost:8080/"
        },
        "id": "8wwsPmqWPRqk",
        "outputId": "67524bde-8862-4e6d-b7df-2ff4868f39a4"
      },
      "source": [
        "# Score predictions for Y_pred_train and Y_pred_test\n",
        "Y_pred_train = flag_model_01.predict(X_train)\n",
        "Y_pred_test = flag_model_01.predict(X_test)\n",
        "%memit"
      ],
      "execution_count": null,
      "outputs": [
        {
          "output_type": "stream",
          "name": "stdout",
          "text": [
            "peak memory: 170.72 MiB, increment: 0.00 MiB\n"
          ]
        }
      ]
    },
    {
      "cell_type": "code",
      "metadata": {
        "colab": {
          "base_uri": "https://localhost:8080/"
        },
        "id": "GkEZHoHfH4BC",
        "outputId": "66eefac7-905a-4069-e02e-52c064633454"
      },
      "source": [
        "# Inspect mean value for train and test\n",
        "print(\"MEAN Train\", Y_train[TARGET_A].mean())\n",
        "print(\"MEAN Test\", Y_test[TARGET_A].mean())"
      ],
      "execution_count": null,
      "outputs": [
        {
          "output_type": "stream",
          "name": "stdout",
          "text": [
            "MEAN Train 11480.337458053691\n",
            "MEAN Test 11499.157718120805\n"
          ]
        }
      ]
    },
    {
      "cell_type": "code",
      "metadata": {
        "colab": {
          "base_uri": "https://localhost:8080/"
        },
        "id": "I3dX1QEUP1v6",
        "outputId": "e03a9e3b-b68d-49da-aed7-b5aadb3b976f"
      },
      "source": [
        "# Perform RMSE\n",
        "RMSE_TRAIN = math.sqrt( metrics.mean_squared_error(Y_train[TARGET_A], Y_pred_train))\n",
        "RMSE_TEST = math.sqrt( metrics.mean_squared_error(Y_test[TARGET_A], Y_pred_test))\n",
        "print(\"TREE RMSE Train:\", RMSE_TRAIN)\n",
        "print(\"TREE RMSE Test:\", RMSE_TEST, '\\n')\n",
        "\n",
        "RMSE_TREE = RMSE_TEST\n",
        "feature_cols = list(X_df.columns.values)\n",
        "vars_tree_amt = getTreeVars( flag_model_01, feature_cols)"
      ],
      "execution_count": null,
      "outputs": [
        {
          "output_type": "stream",
          "name": "stdout",
          "text": [
            "TREE RMSE Train: 12455.242717475097\n",
            "TREE RMSE Test: 12673.130102827317 \n",
            "\n"
          ]
        }
      ]
    },
    {
      "cell_type": "markdown",
      "metadata": {
        "id": "xs7AH44pxTpW"
      },
      "source": [
        "### Display the Decision Tree using a Graphviz program\n",
        "* graphviz is not portable and looks at all files on hard drive for graphical files or libraries for displaying files. Running on one machine may be fine, but on another computer, could raise errors depending on what files/libraries are already stored on that machine's harddrive\n",
        "* Download graphviz.msi file for Win10 or use free web-based version\n",
        "* Copy and paste output in tree.f.txt into graphviz application\n",
        "  - Select Layout\n",
        "  - Select desired output file type\n",
        "  - Select desired location to store file"
      ]
    },
    {
      "cell_type": "code",
      "metadata": {
        "id": "YtnfOI5gw3M8"
      },
      "source": [
        "# Create graphviz \n",
        "feature_cols = list(X_df.columns.values)\n",
        "tree.export_graphviz(flag_model_01, out_file='decision_tree_a.txt', filled=True, rounded=True,\n",
        "                     feature_names = feature_cols, impurity=False, precision=0)"
      ],
      "execution_count": null,
      "outputs": []
    },
    {
      "cell_type": "code",
      "metadata": {
        "colab": {
          "base_uri": "https://localhost:8080/"
        },
        "id": "TfZrvLZuwxNg",
        "outputId": "094191b5-ca6a-4597-d99b-dcf9bfc87eb7"
      },
      "source": [
        "# Display relevant variables for model prediction\n",
        "# vars_tree_amt stores flag_model_01 and feature_cols\n",
        "for i in vars_tree_amt :\n",
        "  print(i)\n",
        "print(\"FLAG=\",vars_tree_flag)"
      ],
      "execution_count": null,
      "outputs": [
        {
          "output_type": "stream",
          "name": "stdout",
          "text": [
            "DELINQ\n",
            "FLAG= ['DELINQ']\n"
          ]
        }
      ]
    },
    {
      "cell_type": "markdown",
      "metadata": {
        "id": "Nyp8fiKPc5iZ"
      },
      "source": [
        "## Random Forests\n",
        "### Develop a Random Forest to predict the probability of default\n",
        "\n",
        "* Calculate the accuracy of the model on both the training and test data set\n",
        "* Create a graph that shows the ROC curves for both the training and test data set. Clearly label each curve and display the Area Under the ROC curve.\n",
        "* List the variables included in the Random Forest that predict loan default."
      ]
    },
    {
      "cell_type": "code",
      "metadata": {
        "colab": {
          "base_uri": "https://localhost:8080/"
        },
        "id": "m9Yq3zgccwjZ",
        "outputId": "25ca19db-cbed-474a-ff2f-fc019aceb853"
      },
      "source": [
        "# Create a RandomForestClassifier with respect to TARGET_F\n",
        "# Fit model to data (models are dynamic, data is static)\n",
        "fm01_RF = RandomForestClassifier(n_estimators = 100, random_state=1)\n",
        "fm01_RF = fm01_RF.fit(X_train, Y_train[ TARGET_F])\n",
        "%timeit sum(range(100))\n",
        "%memit"
      ],
      "execution_count": null,
      "outputs": [
        {
          "output_type": "stream",
          "name": "stdout",
          "text": [
            "1000000 loops, best of 5: 1.02 µs per loop\n",
            "peak memory: 174.31 MiB, increment: 0.00 MiB\n"
          ]
        }
      ]
    },
    {
      "cell_type": "code",
      "metadata": {
        "colab": {
          "base_uri": "https://localhost:8080/"
        },
        "id": "RMTUSWb8jfpz",
        "outputId": "c5849647-f1ff-4b23-ea8c-714d5598319c"
      },
      "source": [
        "# Score predictions for Y_Pred_train and Y_Pred_test\n",
        "Y_Pred_train = fm01_RF.predict(X_train)\n",
        "Y_Pred_test = fm01_RF.predict(X_test)\n",
        "%timeit sum(range(100))\n",
        "%memit"
      ],
      "execution_count": null,
      "outputs": [
        {
          "output_type": "stream",
          "name": "stdout",
          "text": [
            "1000000 loops, best of 5: 1.03 µs per loop\n",
            "peak memory: 174.92 MiB, increment: 0.00 MiB\n"
          ]
        }
      ]
    },
    {
      "cell_type": "code",
      "metadata": {
        "colab": {
          "base_uri": "https://localhost:8080/"
        },
        "id": "D3-u0FnFkEQO",
        "outputId": "485681bb-5345-478b-e501-a39851a709e8"
      },
      "source": [
        "# Caculate model accuracy on both train and test data\n",
        "'''\n",
        "Interesting, train accuracy is 100% test accuracy is 92%\n",
        "How does one know that we're not overfitting? That's why we have test data.\n",
        "Could possibly answer that question by continuous model training\n",
        "Could possible change random_state= parameter in RandomForestClassifer object\n",
        "Could also change/specify depth= paramenter in RandomForestClassifier object\n",
        "'''\n",
        "print(\"RANDOM FOREST\\n\")\n",
        "print(\"Probability of Loan Default\")\n",
        "print(\"Train Accuracy:\",metrics.accuracy_score(Y_train[TARGET_F], Y_Pred_train))\n",
        "print(\"Test Accuracy:\",metrics.accuracy_score(Y_test[TARGET_F], Y_Pred_test))"
      ],
      "execution_count": null,
      "outputs": [
        {
          "output_type": "stream",
          "name": "stdout",
          "text": [
            "RANDOM FOREST\n",
            "\n",
            "Probability of Loan Default\n",
            "Train Accuracy: 1.0\n",
            "Test Accuracy: 0.924496644295302\n"
          ]
        }
      ]
    },
    {
      "cell_type": "code",
      "metadata": {
        "id": "QRlWN5_coSxt"
      },
      "source": [
        "# Predict probability of outcomes\n",
        "probs = fm01_RF.predict_proba(X_train)\n",
        "p1 = probs[:,1]\n",
        "fpr_train, tpr_train, threshold = metrics.roc_curve( Y_train[TARGET_F], p1)\n",
        "roc_auc_train = metrics.auc(fpr_train, tpr_train)"
      ],
      "execution_count": null,
      "outputs": []
    },
    {
      "cell_type": "code",
      "metadata": {
        "id": "WbIJiKW6oqNd"
      },
      "source": [
        "# Predict probability of outcomes\n",
        "probs = fm01_RF.predict_proba(X_test)\n",
        "p1 = probs[:,1]\n",
        "fpr_test, tpr_test, threshold = metrics.roc_curve( Y_test[TARGET_F], p1)\n",
        "roc_auc_test = metrics.auc(fpr_test, tpr_test)"
      ],
      "execution_count": null,
      "outputs": []
    },
    {
      "cell_type": "code",
      "metadata": {
        "colab": {
          "base_uri": "https://localhost:8080/"
        },
        "id": "4XYIE07coyXZ",
        "outputId": "e7220e61-c228-49c4-c0cf-ada063fb004e"
      },
      "source": [
        "# False Positive Rate for first 10 people (with training data)\n",
        "print(fpr_train[0:10], '\\n')\n",
        "\n",
        "# True Positive Rate for first 10 people (with training data)\n",
        "print(tpr_train[0:10], '\\n')\n",
        "\n",
        "# False Positive Rate for first 10 people (with test data)\n",
        "print(fpr_test[0:10], '\\n')\n",
        "\n",
        "# True Positive Rate for first 10 people (with test data)\n",
        "print(tpr_test[0:10], '\\n')"
      ],
      "execution_count": null,
      "outputs": [
        {
          "output_type": "stream",
          "name": "stdout",
          "text": [
            "[0. 0. 0. 0. 0. 0. 0. 0. 0. 0.] \n",
            "\n",
            "[0.         0.0031881  0.01806589 0.04994687 0.09351753 0.13390011\n",
            " 0.18490967 0.22210414 0.2794899  0.31880978] \n",
            "\n",
            "[0. 0. 0. 0. 0. 0. 0. 0. 0. 0.] \n",
            "\n",
            "[0.         0.01612903 0.02419355 0.02822581 0.03629032 0.04032258\n",
            " 0.06048387 0.08467742 0.09274194 0.11290323] \n",
            "\n"
          ]
        }
      ]
    },
    {
      "cell_type": "code",
      "metadata": {
        "id": "9TlxeAaTpDYB"
      },
      "source": [
        "'''\n",
        "We will save test datasets to compare methods later \n",
        "in order to find the best model/approach.\n",
        "We will use test data for that purpose.\n",
        "Save fpr_test to fpr_RF\n",
        "Save tpr_test to tpr_RF\n",
        "roc_auc_test = auc_RF\n",
        "'''\n",
        "fpr_RF = fpr_test\n",
        "tpr_RF = tpr_test\n",
        "auc_RF = roc_auc_test"
      ],
      "execution_count": null,
      "outputs": []
    },
    {
      "cell_type": "markdown",
      "metadata": {
        "id": "kPpezNIC4pNT"
      },
      "source": [
        "### ROC Curve\n",
        "* The higher the curve the better\n",
        "* Use to determine most accurate data set: train vs test"
      ]
    },
    {
      "cell_type": "code",
      "metadata": {
        "colab": {
          "base_uri": "https://localhost:8080/",
          "height": 294
        },
        "id": "h_CGnPxvpUaS",
        "outputId": "4946c5b0-c860-4335-f9bc-ef6d74585242"
      },
      "source": [
        "# Create ROC Curve\n",
        "plt.title('RF ROC CURVE')\n",
        "plt.plot(fpr_train, tpr_train, 'b', label = 'AUC TRAIN = %0.2f' % roc_auc_train)\n",
        "plt.plot(fpr_test, tpr_test, 'b', label = 'AUC TEST = %0.2f' % roc_auc_test, color=\"red\")\n",
        "plt.legend(loc = 'lower right')\n",
        "plt.plot([0, 1], [0, 1],'g--')\n",
        "plt.xlim([0, 1])\n",
        "plt.ylim([0, 1])\n",
        "plt.ylabel('True Positive Rate')\n",
        "plt.xlabel('False Positive Rate')\n",
        "plt.show()"
      ],
      "execution_count": null,
      "outputs": [
        {
          "output_type": "display_data",
          "data": {
            "image/png": "[encoded data removed]",
            "text/plain": [
              "<Figure size 432x288 with 1 Axes>"
            ]
          },
          "metadata": {
            "needs_background": "light"
          }
        }
      ]
    },
    {
      "cell_type": "markdown",
      "metadata": {
        "id": "gaIzsNFvrsd6"
      },
      "source": [
        "#### Selecting Variables in a Model\n",
        "* Random Forests can narrow the number of variables one needs to focus in on\n",
        "* Finding tree variables, create a custom function to search"
      ]
    },
    {
      "cell_type": "code",
      "metadata": {
        "id": "_I1_qLGsdprR"
      },
      "source": [
        "# Create tree search function for Random Forests (from lecture notes)\n",
        "def getEnsembleTreeVars(ENSTREE, varNames) :\n",
        "    importance = ENSTREE.feature_importances_\n",
        "    index = np.argsort(importance)\n",
        "    theList = []\n",
        "    for i in index :\n",
        "        imp_val = importance[i]\n",
        "        if imp_val > np.average( ENSTREE.feature_importances_):\n",
        "            v = int(imp_val / np.max( ENSTREE.feature_importances_) * 100)\n",
        "            theList.append((varNames[i], v ))\n",
        "    theList = sorted(theList,key=itemgetter(1),reverse=True)\n",
        "    return theList"
      ],
      "execution_count": null,
      "outputs": []
    },
    {
      "cell_type": "code",
      "metadata": {
        "colab": {
          "base_uri": "https://localhost:8080/"
        },
        "id": "_8biXXeSrMfm",
        "outputId": "4f44fbe1-4fb7-4715-8a8b-4cc354d16835"
      },
      "source": [
        "# Gather relevant variables used in model prediction\n",
        "feature_cols = list(X_df.columns.values)\n",
        "vars_RF_flag = getEnsembleTreeVars(fm01_RF, feature_cols)\n",
        "\n",
        "# Output best predictor variable/s\n",
        "for i in vars_RF_flag :\n",
        "   print(i)"
      ],
      "execution_count": null,
      "outputs": [
        {
          "output_type": "stream",
          "name": "stdout",
          "text": [
            "('DEBTINC', 100)\n",
            "('DELINQ', 45)\n",
            "('CLAGE', 42)\n",
            "('VALUE', 40)\n",
            "('LOAN', 39)\n",
            "('CLNO', 35)\n",
            "('MORTDUE', 34)\n",
            "('DEROG', 28)\n",
            "('YOJ', 27)\n"
          ]
        }
      ]
    },
    {
      "cell_type": "markdown",
      "metadata": {
        "id": "MvHpGw2ZdPFi"
      },
      "source": [
        "### Develop a Random Forest to predict the loss amount assuming that the loan defaults\n",
        "* Calculate the RMSE for both the training data set and the test data set\n",
        "* List the variables included in the Random Forest that predict loss amount."
      ]
    },
    {
      "cell_type": "code",
      "metadata": {
        "id": "WWoXruAcvkJr"
      },
      "source": [
        "# Create a RandomForestRegressor with respect to TARGET_A\n",
        "# Fit model to data (models are dynamic, data is static)\n",
        "amt_m01_RF = RandomForestRegressor(n_estimators = 100, random_state=1)\n",
        "amt_m01_RF = amt_m01_RF.fit(X_train, Y_train[TARGET_A])"
      ],
      "execution_count": null,
      "outputs": []
    },
    {
      "cell_type": "code",
      "metadata": {
        "id": "N8thXD600Y5c"
      },
      "source": [
        "# Score predictions for X_train and X_test\n",
        "Y_Pred_train = amt_m01_Tree.predict(X_train)\n",
        "Y_Pred_test = amt_m01_Tree.predict(X_test)"
      ],
      "execution_count": null,
      "outputs": []
    },
    {
      "cell_type": "code",
      "metadata": {
        "colab": {
          "base_uri": "https://localhost:8080/"
        },
        "id": "k-De5P2XwGjq",
        "outputId": "8f946f56-1b19-4816-e133-a7b865a9800c"
      },
      "source": [
        "# Inspect mean value for train and test\n",
        "RMSE_TRAIN = math.sqrt(metrics.mean_squared_error(Y_train[TARGET_A],\n",
        "                                                   Y_Pred_train))\n",
        "RMSE_TEST = math.sqrt(metrics.mean_squared_error(Y_test[TARGET_A],\n",
        "                                                  Y_Pred_test))\n",
        "\n",
        "print(\"RF RMSE Train\", RMSE_TRAIN)\n",
        "print(\"RF RMSE Test\", RMSE_TEST)"
      ],
      "execution_count": null,
      "outputs": [
        {
          "output_type": "stream",
          "name": "stdout",
          "text": [
            "RF RMSE Train 3214.616729791754\n",
            "RF RMSE Test 3679.9310534755177\n"
          ]
        }
      ]
    },
    {
      "cell_type": "code",
      "metadata": {
        "colab": {
          "base_uri": "https://localhost:8080/"
        },
        "id": "G6i8k0GNzdiI",
        "outputId": "dff09278-d445-4ec6-8533-348414241944"
      },
      "source": [
        "# List the variables included in the Random Forest that predict loss amount\n",
        "RMSE_RF = RMSE_TEST\n",
        "feature_cols = list(X_df.columns.values)\n",
        "vars_RF_amt = getEnsembleTreeVars(amt_m01_RF, feature_cols)\n",
        "\n",
        "# Output best predictor variable/s\n",
        "for i in vars_RF_amt :\n",
        "   print(i)"
      ],
      "execution_count": null,
      "outputs": [
        {
          "output_type": "stream",
          "name": "stdout",
          "text": [
            "('LOAN', 100)\n",
            "('DELINQ', 63)\n",
            "('DEBTINC', 42)\n",
            "('CLNO', 42)\n",
            "('CLAGE', 30)\n"
          ]
        }
      ]
    },
    {
      "cell_type": "markdown",
      "metadata": {
        "id": "1N38LnK-dw8i"
      },
      "source": [
        "## Gradient Boosting\n",
        "### Develop a Gradient Boosting model to predict the loss amount assuming that the loan defaults\n",
        "* Calculate the accuracy of the model on both the training and test data set\n",
        "* Create a graph that shows the ROC curves for both the training and test data set. Clearly label each curve and display the Area Under the ROC curve.\n",
        "* List the variables included in the Gradient Boosting that predict loan default."
      ]
    },
    {
      "cell_type": "code",
      "metadata": {
        "colab": {
          "base_uri": "https://localhost:8080/"
        },
        "id": "uPcNKfIedxEY",
        "outputId": "581b1cab-6f14-4a77-fe4e-10d805c7b1e6"
      },
      "source": [
        "# Create a GradientBoostingClassifier with respect to TARGET_F\n",
        "fm01_GB = GradientBoostingClassifier(random_state=1, max_depth=5)\n",
        "fm01_GB = fm01_GB.fit(X_train, Y_train[TARGET_F])\n",
        "\n",
        "# Exploring time and memory usage\n",
        "%timeit sum(range(100))\n",
        "# !pip install memory_profiler\n",
        "# %load_ext memory_profiler\n",
        "%memit"
      ],
      "execution_count": null,
      "outputs": [
        {
          "output_type": "stream",
          "name": "stdout",
          "text": [
            "The slowest run took 4.15 times longer than the fastest. This could mean that an intermediate result is being cached.\n",
            "1000000 loops, best of 5: 1.03 µs per loop\n",
            "peak memory: 187.06 MiB, increment: 0.00 MiB\n"
          ]
        }
      ]
    },
    {
      "cell_type": "code",
      "metadata": {
        "colab": {
          "base_uri": "https://localhost:8080/"
        },
        "id": "Md7zhmzR2fIz",
        "outputId": "9acdd54c-9b9f-4197-f041-c154c3b0a738"
      },
      "source": [
        "Y_Pred_train = fm01_GB.predict(X_train)\n",
        "Y_Pred_test = fm01_GB.predict(X_test)\n",
        "\n",
        "%timeit\n",
        "%memit"
      ],
      "execution_count": null,
      "outputs": [
        {
          "output_type": "stream",
          "name": "stdout",
          "text": [
            "peak memory: 187.71 MiB, increment: 0.00 MiB\n"
          ]
        }
      ]
    },
    {
      "cell_type": "code",
      "metadata": {
        "colab": {
          "base_uri": "https://localhost:8080/"
        },
        "id": "KatifQ0s2oAT",
        "outputId": "cb77df2a-787b-4239-ece6-5935ba9120a4"
      },
      "source": [
        "# Display accuracy of prediction\n",
        "print(\"GRADIENT BOOSTING\\n\")\n",
        "print(\"Probability of Loan Default\")\n",
        "print(\"Train Accuracy:\",metrics.accuracy_score(Y_train[TARGET_F], Y_Pred_train))\n",
        "print(\"Test Accuracy:\",metrics.accuracy_score(Y_test[TARGET_F], Y_Pred_test))"
      ],
      "execution_count": null,
      "outputs": [
        {
          "output_type": "stream",
          "name": "stdout",
          "text": [
            "GRADIENT BOOSTING\n",
            "\n",
            "Probability of Loan Default\n",
            "Train Accuracy: 0.9653942953020134\n",
            "Test Accuracy: 0.9110738255033557\n"
          ]
        }
      ]
    },
    {
      "cell_type": "code",
      "metadata": {
        "id": "NKRRrtcJ2oiM"
      },
      "source": [
        "# Predict probability of outcomes\n",
        "probs = fm01_GB.predict_proba(X_train)\n",
        "p1 = probs[:,1]\n",
        "fpr_train, tpr_train, threshold = metrics.roc_curve( Y_train[TARGET_F], p1)\n",
        "roc_auc_train = metrics.auc(fpr_train, tpr_train)"
      ],
      "execution_count": null,
      "outputs": []
    },
    {
      "cell_type": "code",
      "metadata": {
        "id": "5CTs3vtD2ooc"
      },
      "source": [
        "# Predict probability of outcomes\n",
        "probs = fm01_GB.predict_proba(X_test)\n",
        "p1 = probs[:,1]\n",
        "fpr_test, tpr_test, threshold = metrics.roc_curve( Y_test[TARGET_F], p1)\n",
        "roc_auc_test = metrics.auc(fpr_test, tpr_test)"
      ],
      "execution_count": null,
      "outputs": []
    },
    {
      "cell_type": "code",
      "metadata": {
        "id": "CWXwWb8q3RA5"
      },
      "source": [
        "'''\n",
        "We will save test datasets to compare methods later \n",
        "in order to find the best model/approach.\n",
        "We will use test data for that purpose.\n",
        "Save fpr_test to fpr_GB\n",
        "Save tpr_test to tpr_GB\n",
        "roc_auc_test = auc_GB\n",
        "'''\n",
        "fpr_GB = fpr_test\n",
        "tpr_GB = tpr_test\n",
        "auc_GB = roc_auc_test"
      ],
      "execution_count": null,
      "outputs": []
    },
    {
      "cell_type": "markdown",
      "metadata": {
        "id": "xCc6Lez24gmq"
      },
      "source": [
        "### ROC Curve\n",
        "* The higher the curve the better\n",
        "* Use to determine most accurate data set: train vs test"
      ]
    },
    {
      "cell_type": "code",
      "metadata": {
        "colab": {
          "base_uri": "https://localhost:8080/",
          "height": 294
        },
        "id": "s2D2-eQT3RL0",
        "outputId": "6a6573ef-2aa4-4fa5-e344-db58852ef651"
      },
      "source": [
        "plt.title('GB ROC CURVE')\n",
        "plt.plot(fpr_train, tpr_train, 'b', label = 'AUC TRAIN = %0.2f' % roc_auc_train)\n",
        "plt.plot(fpr_test, tpr_test, 'b', label = 'AUC TEST = %0.2f' % roc_auc_test, color=\"red\")\n",
        "plt.legend(loc = 'lower right')\n",
        "plt.plot([0, 1], [0, 1],'g--')\n",
        "plt.xlim([0, 1])\n",
        "plt.ylim([0, 1])\n",
        "plt.ylabel('True Positive Rate')\n",
        "plt.xlabel('False Positive Rate')\n",
        "plt.show()"
      ],
      "execution_count": null,
      "outputs": [
        {
          "output_type": "display_data",
          "data": {
            "image/png": "[encoded data removed]",
            "text/plain": [
              "<Figure size 432x288 with 1 Axes>"
            ]
          },
          "metadata": {
            "needs_background": "light"
          }
        }
      ]
    },
    {
      "cell_type": "code",
      "metadata": {
        "colab": {
          "base_uri": "https://localhost:8080/"
        },
        "id": "XQl7At2W3RGZ",
        "outputId": "ddda6f8a-4cca-4035-ae1d-bd3746b785be"
      },
      "source": [
        "# List the variables included in the Gradient Boosting that predict loss amount\n",
        "feature_cols = list(X_df.columns.values)\n",
        "vars_GB_flag = getEnsembleTreeVars(fm01_GB, feature_cols)\n",
        "\n",
        "# Output best predictor variable/s\n",
        "for i in vars_GB_flag :\n",
        "   print(i)"
      ],
      "execution_count": null,
      "outputs": [
        {
          "output_type": "stream",
          "name": "stdout",
          "text": [
            "('DEBTINC', 100)\n",
            "('DELINQ', 35)\n",
            "('CLAGE', 19)\n",
            "('VALUE', 13)\n"
          ]
        }
      ]
    },
    {
      "cell_type": "markdown",
      "metadata": {
        "id": "n39bUQ_xdxLg"
      },
      "source": [
        "### Develop a Gradient Boosting model to predict the loss amount assuming that the loan defaults\n",
        "* Calculate the RMSE for both the training data set and the test data set\n",
        "* List the variables included in the decision tree that predict loss amount."
      ]
    },
    {
      "cell_type": "code",
      "metadata": {
        "id": "k_zvXd_JdxUQ"
      },
      "source": [
        "# Create a GradientBoostingRegressor with respect to TARGET_A\n",
        "# Fit model to data (models are dynamic, data is static)\n",
        "amt_m01_GB = GradientBoostingRegressor(random_state=1)\n",
        "amt_m01_GB = amt_m01_GB.fit( X_train, Y_train[TARGET_A])"
      ],
      "execution_count": null,
      "outputs": []
    },
    {
      "cell_type": "code",
      "metadata": {
        "id": "rbZO8eWJ5EPr"
      },
      "source": [
        "# Score predictions for X_train and X_test\n",
        "Y_Pred_train = amt_m01_GB.predict(X_train)\n",
        "Y_Pred_test = amt_m01_GB.predict(X_test)"
      ],
      "execution_count": null,
      "outputs": []
    },
    {
      "cell_type": "code",
      "metadata": {
        "colab": {
          "base_uri": "https://localhost:8080/"
        },
        "id": "B7Q_dgh45EVS",
        "outputId": "2ed433c7-aa43-44ab-854f-8f5ef24824c1"
      },
      "source": [
        "# Inspect mean value for train and test\n",
        "RMSE_TRAIN = math.sqrt(metrics.mean_squared_error(Y_train[TARGET_A], Y_Pred_train))\n",
        "RMSE_TEST = math.sqrt(metrics.mean_squared_error(Y_test[TARGET_A], Y_Pred_test))\n",
        "\n",
        "print(\"GB RMSE Train:\", RMSE_TRAIN)\n",
        "print(\"GB RMSE Test:\", RMSE_TEST)"
      ],
      "execution_count": null,
      "outputs": [
        {
          "output_type": "stream",
          "name": "stdout",
          "text": [
            "GB RMSE Train: 2320.4856880672837\n",
            "GB RMSE Test: 3198.418830258002\n"
          ]
        }
      ]
    },
    {
      "cell_type": "code",
      "metadata": {
        "colab": {
          "base_uri": "https://localhost:8080/"
        },
        "id": "5Y9L2Wbi5Emg",
        "outputId": "b55034d7-f89e-4109-b368-1c9ba8946284"
      },
      "source": [
        "# List the variables included in the Gradient Boosting that predict loss amount\n",
        "RMSE_GB = RMSE_TEST\n",
        "feature_cols = list(X_df.columns.values)\n",
        "vars_GB_amt = getEnsembleTreeVars(amt_m01_GB, feature_cols)\n",
        "\n",
        "# Output best predictor variable/s\n",
        "for i in vars_GB_amt :\n",
        "   print(i)"
      ],
      "execution_count": null,
      "outputs": [
        {
          "output_type": "stream",
          "name": "stdout",
          "text": [
            "('LOAN', 100)\n",
            "('DELINQ', 68)\n",
            "('DEBTINC', 58)\n",
            "('CLNO', 32)\n"
          ]
        }
      ]
    }
  ]
}