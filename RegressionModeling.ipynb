{
  "nbformat": 4,
  "nbformat_minor": 0,
  "metadata": {
    "colab": {
      "name": "Rutledge_LaVon_A3_AND_Bingo_Bonus.ipynb",
      "provenance": [],
      "collapsed_sections": [],
      "toc_visible": true,
      "authorship_tag": "ABX9TyNwaixuG4pm91q+WDwGFiyQ"
    },
    "kernelspec": {
      "name": "python3",
      "display_name": "Python 3"
    },
    "language_info": {
      "name": "python"
    }
  },
  "cells": [
    {
      "cell_type": "markdown",
      "metadata": {
        "id": "qSu9qVlXqqSK"
      },
      "source": [
        "## Create a Training and Test Data Set:\n",
        "\n",
        "Logistic Regression:\n",
        "\n",
        "* Develop a logistic regression model to determine the probability of a loan default. Use all of the variables.\n",
        "* Develop a logistic regression model to determine the probability of a loan default. Use the variables that were selected by a DECISION TREE.\n",
        "* Develop a logistic regression model to determine the probability of a loan default. Use the variables that were selected by a RANDOM FOREST.\n",
        "* Develop a logistic regression model to determine the probability of a loan default. Use the variables that were selected by a GRADIENT BOOSTING model.\n",
        "* Develop a logistic regression model to determine the probability of a loan default. Use the variables that were selected by STEPWISE SELECTION.\n",
        "* For each of the models\n",
        " - Calculate the accuracy of the model on both the training and test data set\n",
        " - Create a graph that shows the ROC curves for both the training and test data set. Clearly label each curve and display the Area Under the ROC curve.\n",
        " - Display a ROC curve for the test data with all your models on the same graph (tree based and regression). Discuss which one is the most accurate. Which one would you recommend using?\n",
        " - For one of the Regression Models, print the coefficients. Do the variables make sense? If not, what would you recommend?\n",
        " \n",
        "Linear Regression:\n",
        "\n",
        "* Develop a linear regression model to determine the expected loss if the loan defaults. Use all of the variables.\n",
        "* Develop a linear regression model to determine the expected loss if the loan defaults. Use the variables that were selected by a DECISION TREE.\n",
        "* Develop a linear regression model to determine the expected loss if the loan defaults. Use the variables that were selected by a RANDOM FOREST.\n",
        "* Develop a linear regression model to determine the expected loss if the loan defaults. Use the variables that were selected by a GRADIENT BOOSTING model.\n",
        "* Develop a linear regression model to determine the expected loss if the loan defaults. Use the variables that were selected by STEPWISE SELECTION.\n",
        "* For each of the models\n",
        " - Calculate the RMSE for both the training data set and the test data set\n",
        " - List the RMSE for the test data set for all of the models created (tree based and regression).  \n",
        " - Discuss which one is the most accurate. Which one would you recommend using?\n",
        " - For one of the Regression Models, print the coefficients. Do the variables make sense? If not, what would you recommend?"
      ]
    },
    {
      "cell_type": "code",
      "metadata": {
        "id": "8gP7Xd76tVcV"
      },
      "source": [
        "# Load Packages\n",
        "import math\n",
        "import pandas as pd\n",
        "import numpy as np\n",
        "import matplotlib.pyplot as plt\n",
        "import seaborn as sns\n",
        "from operator import itemgetter\n",
        "from sklearn.model_selection import train_test_split\n",
        "import sklearn.metrics as metrics\n",
        "from sklearn import tree\n",
        "from sklearn.tree import _tree\n",
        "from sklearn.ensemble import RandomForestRegressor \n",
        "from sklearn.ensemble import RandomForestClassifier \n",
        "from sklearn.ensemble import GradientBoostingRegressor \n",
        "from sklearn.ensemble import GradientBoostingClassifier\n",
        "from sklearn.linear_model import LinearRegression\n",
        "from sklearn.linear_model import LogisticRegression\n",
        "from sklearn.metrics import classification_report, confusion_matrix\n",
        "from mlxtend.feature_selection import SequentialFeatureSelector as SFS\n",
        "from mlxtend.plotting import plot_sequential_feature_selection as plot_sfs\n",
        "# !pip install memory_profiler\n",
        "# %load_ext memory_profiler\n",
        "\n",
        "import warnings\n",
        "warnings.filterwarnings(\"ignore\")"
      ],
      "execution_count": 6,
      "outputs": []
    },
    {
      "cell_type": "code",
      "metadata": {
        "id": "BPVu9nlPun6v"
      },
      "source": [
        "# Read in dataset and create DataFrame\n",
        "HMEQ = 'HMEQ_Loss.csv'\n",
        "df = pd.read_csv(HMEQ)\n",
        "\n",
        "# Store dtypes in new variable for later use\n",
        "df_dtypes = df.dtypes"
      ],
      "execution_count": 7,
      "outputs": []
    },
    {
      "cell_type": "code",
      "metadata": {
        "colab": {
          "base_uri": "https://localhost:8080/",
          "height": 130
        },
        "id": "Fn4F82w4un9o",
        "outputId": "1712f485-1181-4051-86c6-e00e891f6d95"
      },
      "source": [
        "# Inspect DataFrame\n",
        "df.head(2)"
      ],
      "execution_count": 8,
      "outputs": [
        {
          "output_type": "execute_result",
          "data": {
            "text/html": [
              "<div>\n",
              "<style scoped>\n",
              "    .dataframe tbody tr th:only-of-type {\n",
              "        vertical-align: middle;\n",
              "    }\n",
              "\n",
              "    .dataframe tbody tr th {\n",
              "        vertical-align: top;\n",
              "    }\n",
              "\n",
              "    .dataframe thead th {\n",
              "        text-align: right;\n",
              "    }\n",
              "</style>\n",
              "<table border=\"1\" class=\"dataframe\">\n",
              "  <thead>\n",
              "    <tr style=\"text-align: right;\">\n",
              "      <th></th>\n",
              "      <th>TARGET_BAD_FLAG</th>\n",
              "      <th>TARGET_LOSS_AMT</th>\n",
              "      <th>LOAN</th>\n",
              "      <th>MORTDUE</th>\n",
              "      <th>VALUE</th>\n",
              "      <th>REASON</th>\n",
              "      <th>JOB</th>\n",
              "      <th>YOJ</th>\n",
              "      <th>DEROG</th>\n",
              "      <th>DELINQ</th>\n",
              "      <th>CLAGE</th>\n",
              "      <th>NINQ</th>\n",
              "      <th>CLNO</th>\n",
              "      <th>DEBTINC</th>\n",
              "    </tr>\n",
              "  </thead>\n",
              "  <tbody>\n",
              "    <tr>\n",
              "      <th>0</th>\n",
              "      <td>1</td>\n",
              "      <td>641.0</td>\n",
              "      <td>1100</td>\n",
              "      <td>25860.0</td>\n",
              "      <td>39025.0</td>\n",
              "      <td>HomeImp</td>\n",
              "      <td>Other</td>\n",
              "      <td>10.5</td>\n",
              "      <td>0.0</td>\n",
              "      <td>0.0</td>\n",
              "      <td>94.366667</td>\n",
              "      <td>1.0</td>\n",
              "      <td>9.0</td>\n",
              "      <td>NaN</td>\n",
              "    </tr>\n",
              "    <tr>\n",
              "      <th>1</th>\n",
              "      <td>1</td>\n",
              "      <td>1109.0</td>\n",
              "      <td>1300</td>\n",
              "      <td>70053.0</td>\n",
              "      <td>68400.0</td>\n",
              "      <td>HomeImp</td>\n",
              "      <td>Other</td>\n",
              "      <td>7.0</td>\n",
              "      <td>0.0</td>\n",
              "      <td>2.0</td>\n",
              "      <td>121.833333</td>\n",
              "      <td>0.0</td>\n",
              "      <td>14.0</td>\n",
              "      <td>NaN</td>\n",
              "    </tr>\n",
              "  </tbody>\n",
              "</table>\n",
              "</div>"
            ],
            "text/plain": [
              "   TARGET_BAD_FLAG  TARGET_LOSS_AMT  LOAN  ...  NINQ  CLNO DEBTINC\n",
              "0                1            641.0  1100  ...   1.0   9.0     NaN\n",
              "1                1           1109.0  1300  ...   0.0  14.0     NaN\n",
              "\n",
              "[2 rows x 14 columns]"
            ]
          },
          "metadata": {},
          "execution_count": 8
        }
      ]
    },
    {
      "cell_type": "code",
      "metadata": {
        "colab": {
          "base_uri": "https://localhost:8080/"
        },
        "id": "-OYrfUervFmT",
        "outputId": "fe9436e0-f677-4bce-872c-a11aa46e8b3e"
      },
      "source": [
        "# Inspect dtype\n",
        "df.info()"
      ],
      "execution_count": 9,
      "outputs": [
        {
          "output_type": "stream",
          "name": "stdout",
          "text": [
            "<class 'pandas.core.frame.DataFrame'>\n",
            "RangeIndex: 5960 entries, 0 to 5959\n",
            "Data columns (total 14 columns):\n",
            " #   Column           Non-Null Count  Dtype  \n",
            "---  ------           --------------  -----  \n",
            " 0   TARGET_BAD_FLAG  5960 non-null   int64  \n",
            " 1   TARGET_LOSS_AMT  1189 non-null   float64\n",
            " 2   LOAN             5960 non-null   int64  \n",
            " 3   MORTDUE          5442 non-null   float64\n",
            " 4   VALUE            5848 non-null   float64\n",
            " 5   REASON           5708 non-null   object \n",
            " 6   JOB              5681 non-null   object \n",
            " 7   YOJ              5445 non-null   float64\n",
            " 8   DEROG            5252 non-null   float64\n",
            " 9   DELINQ           5380 non-null   float64\n",
            " 10  CLAGE            5652 non-null   float64\n",
            " 11  NINQ             5450 non-null   float64\n",
            " 12  CLNO             5738 non-null   float64\n",
            " 13  DEBTINC          4693 non-null   float64\n",
            "dtypes: float64(10), int64(2), object(2)\n",
            "memory usage: 652.0+ KB\n"
          ]
        }
      ]
    },
    {
      "cell_type": "code",
      "metadata": {
        "id": "vTgI-MYhvFo2"
      },
      "source": [
        "# Exclude target variables for now\n",
        "# Create new variables names for target variables\n",
        "TARGET_BF = 'TARGET_BAD_FLAG'\n",
        "TARGET_LA = 'TARGET_LOSS_AMT'"
      ],
      "execution_count": 10,
      "outputs": []
    },
    {
      "cell_type": "code",
      "metadata": {
        "id": "nKo-g-lhvFsP"
      },
      "source": [
        "# Create two lists to store objects by dtypes\n",
        "objList = []\n",
        "numList = []\n",
        "\n",
        "for i in df_dtypes.index:\n",
        "  if i in ([TARGET_BF, TARGET_LA]): continue\n",
        "  if df_dtypes[i] in (['object']): objList.append(i)\n",
        "  if df_dtypes[i] in (['float64', 'int64']): numList.append(i)  "
      ],
      "execution_count": 11,
      "outputs": []
    },
    {
      "cell_type": "code",
      "metadata": {
        "colab": {
          "base_uri": "https://localhost:8080/"
        },
        "id": "V1sAytvPvFuT",
        "outputId": "375cd833-0f33-4749-c3c0-e8b2633d0018"
      },
      "source": [
        "print('List of objects:\\n', objList, '\\n')\n",
        "print('List of numeric dtypes:\\n', numList, '\\n')"
      ],
      "execution_count": 12,
      "outputs": [
        {
          "output_type": "stream",
          "name": "stdout",
          "text": [
            "List of objects:\n",
            " ['REASON', 'JOB'] \n",
            "\n",
            "List of numeric dtypes:\n",
            " ['LOAN', 'MORTDUE', 'VALUE', 'YOJ', 'DEROG', 'DELINQ', 'CLAGE', 'NINQ', 'CLNO', 'DEBTINC'] \n",
            "\n"
          ]
        }
      ]
    },
    {
      "cell_type": "code",
      "metadata": {
        "colab": {
          "base_uri": "https://localhost:8080/"
        },
        "id": "KGj6s_o_wcQS",
        "outputId": "a84d815a-c4d5-4b3f-ec9a-1369558aa90d"
      },
      "source": [
        "# Inspect all dtypes in objList \n",
        "for i in objList:\n",
        "  show_me = df[i].value_counts(dropna=False)\n",
        "  print('\\n')\n",
        "  print(show_me)"
      ],
      "execution_count": 13,
      "outputs": [
        {
          "output_type": "stream",
          "name": "stdout",
          "text": [
            "\n",
            "\n",
            "DebtCon    3928\n",
            "HomeImp    1780\n",
            "NaN         252\n",
            "Name: REASON, dtype: int64\n",
            "\n",
            "\n",
            "Other      2388\n",
            "ProfExe    1276\n",
            "Office      948\n",
            "Mgr         767\n",
            "NaN         279\n",
            "Self        193\n",
            "Sales       109\n",
            "Name: JOB, dtype: int64\n"
          ]
        }
      ]
    },
    {
      "cell_type": "code",
      "metadata": {
        "colab": {
          "base_uri": "https://localhost:8080/"
        },
        "id": "yOqNugXWwcSk",
        "outputId": "5992259d-4bc3-44a2-cac9-6c49ff3a1cb8"
      },
      "source": [
        "# Percent of missing values by dtype\n",
        "df.isna().sum() / len(df)"
      ],
      "execution_count": 14,
      "outputs": [
        {
          "output_type": "execute_result",
          "data": {
            "text/plain": [
              "TARGET_BAD_FLAG    0.000000\n",
              "TARGET_LOSS_AMT    0.800503\n",
              "LOAN               0.000000\n",
              "MORTDUE            0.086913\n",
              "VALUE              0.018792\n",
              "REASON             0.042282\n",
              "JOB                0.046812\n",
              "YOJ                0.086409\n",
              "DEROG              0.118792\n",
              "DELINQ             0.097315\n",
              "CLAGE              0.051678\n",
              "NINQ               0.085570\n",
              "CLNO               0.037248\n",
              "DEBTINC            0.212584\n",
              "dtype: float64"
            ]
          },
          "metadata": {},
          "execution_count": 14
        }
      ]
    },
    {
      "cell_type": "code",
      "metadata": {
        "colab": {
          "base_uri": "https://localhost:8080/"
        },
        "id": "2Ft1CYUtwcVM",
        "outputId": "1e699171-3748-4588-b05d-0ec79d42a748"
      },
      "source": [
        "# Total missing values by dtypes\n",
        "df.isna().sum()"
      ],
      "execution_count": 15,
      "outputs": [
        {
          "output_type": "execute_result",
          "data": {
            "text/plain": [
              "TARGET_BAD_FLAG       0\n",
              "TARGET_LOSS_AMT    4771\n",
              "LOAN                  0\n",
              "MORTDUE             518\n",
              "VALUE               112\n",
              "REASON              252\n",
              "JOB                 279\n",
              "YOJ                 515\n",
              "DEROG               708\n",
              "DELINQ              580\n",
              "CLAGE               308\n",
              "NINQ                510\n",
              "CLNO                222\n",
              "DEBTINC            1267\n",
              "dtype: int64"
            ]
          },
          "metadata": {},
          "execution_count": 15
        }
      ]
    },
    {
      "cell_type": "code",
      "metadata": {
        "id": "yFDHUZ3WxCiM"
      },
      "source": [
        "# Impute missing values for objects with NaNs in objList\n",
        "for i in objList:\n",
        "  df['REASON'] = df['REASON'].fillna(method='ffill')\n",
        "  df['JOB'] = df['JOB'].fillna(method='ffill')"
      ],
      "execution_count": 16,
      "outputs": []
    },
    {
      "cell_type": "markdown",
      "metadata": {
        "id": "LBJCLR9xhX3C"
      },
      "source": [
        "Notes: \n",
        "* Alternative approach to imputing missing values in numList\n",
        "```\n",
        "for i in numList :\n",
        "    theMean = df[i].mean()\n",
        "    theSD = df[i].std()\n",
        "    theMax = df[i].max()\n",
        "    theCutoff = round( theMean + 3*theSD )\n",
        "    if theMax < theCutoff : continue\n",
        "    FLAG = \"O_\" + i\n",
        "    TRUNC = \"TRUNC_\" + i\n",
        "    df[ FLAG ] = ( df[i] > theCutoff )+ 0\n",
        "    df[ TRUNC ] = df[ i ]\n",
        "    df.loc[ df[TRUNC] > theCutoff, TRUNC ] = theCutoff\n",
        "    df = df.drop( i, axis=1 )\n",
        "```\n",
        "\n"
      ]
    },
    {
      "cell_type": "code",
      "metadata": {
        "id": "8fueBqdNxClT"
      },
      "source": [
        "# Impute missing values for objects with NaNs in numList\n",
        "for i in numList:\n",
        "  median_value = df['LOAN'].median()\n",
        "  df['LOAN'] = df['LOAN'].fillna(value=median_value)\n",
        "\n",
        "  median_value = df['MORTDUE'].median()\n",
        "  df['MORTDUE'] = df['MORTDUE'].fillna(value=median_value)\n",
        "\n",
        "  median_value = df['VALUE'].median()\n",
        "  df['VALUE'] = df['VALUE'].fillna(value=median_value)\n",
        "\n",
        "  mean_value = df['YOJ'].mean()\n",
        "  df['YOJ'] = df['YOJ'].fillna(value=mean_value)\n",
        "\n",
        "  mean_value = df['DEROG'].mean()\n",
        "  df['DEROG'] = df['DEROG'].fillna(value=mean_value)\n",
        "\n",
        "  mean_value = df['DELINQ'].mean()\n",
        "  df['DELINQ'] = df['DELINQ'].fillna(value=mean_value)\n",
        "  \n",
        "  mean_value = df['CLAGE'].mean()\n",
        "  df['CLAGE'] = df['CLAGE'].fillna(value=mean_value)\n",
        "\n",
        "  mean_value = df['NINQ'].mean()\n",
        "  df['NINQ'] = df['NINQ'].fillna(value=mean_value)\n",
        "\n",
        "  mean_value = df['CLNO'].mean()\n",
        "  df['CLNO'] = df['CLNO'].fillna(value=mean_value)\n",
        "\n",
        "  mean_value = df['DEBTINC'].mean()\n",
        "  df['DEBTINC'] = df['DEBTINC'].fillna(value=mean_value)"
      ],
      "execution_count": 17,
      "outputs": []
    },
    {
      "cell_type": "code",
      "metadata": {
        "id": "7mnedZE5xCo1"
      },
      "source": [
        "# Impute missing values for target variables \n",
        "median_value = df['TARGET_LOSS_AMT'].median()\n",
        "df['TARGET_LOSS_AMT'] = df['TARGET_LOSS_AMT'].fillna(value=median_value)"
      ],
      "execution_count": 18,
      "outputs": []
    },
    {
      "cell_type": "code",
      "metadata": {
        "colab": {
          "base_uri": "https://localhost:8080/"
        },
        "id": "OuY0mRUZxCrm",
        "outputId": "7b470b8f-0237-4a7a-e323-41d0681d406c"
      },
      "source": [
        "# Verify all missing values have been imputed\n",
        "df.isna().sum()"
      ],
      "execution_count": 19,
      "outputs": [
        {
          "output_type": "execute_result",
          "data": {
            "text/plain": [
              "TARGET_BAD_FLAG    0\n",
              "TARGET_LOSS_AMT    0\n",
              "LOAN               0\n",
              "MORTDUE            0\n",
              "VALUE              0\n",
              "REASON             0\n",
              "JOB                0\n",
              "YOJ                0\n",
              "DEROG              0\n",
              "DELINQ             0\n",
              "CLAGE              0\n",
              "NINQ               0\n",
              "CLNO               0\n",
              "DEBTINC            0\n",
              "dtype: int64"
            ]
          },
          "metadata": {},
          "execution_count": 19
        }
      ]
    },
    {
      "cell_type": "markdown",
      "metadata": {
        "id": "Nv0ppxGFYugW"
      },
      "source": [
        "Notes:\n",
        "* To prevent a ValueError later when applying regression to all variables\n"
      ]
    },
    {
      "cell_type": "code",
      "metadata": {
        "colab": {
          "base_uri": "https://localhost:8080/"
        },
        "id": "pOHIrO-xZ7Ub",
        "outputId": "6e30f5c9-9fa2-4aa5-f975-39c411906930"
      },
      "source": [
        "# Perform one-hot-encoding on objList to convert object variables to numeric\n",
        "# Loop through each object list (objList and numList)\n",
        "for i in objList :\n",
        "  print(\"Class = \", i )\n",
        "  thePrefix = \"IMP_\" + i\n",
        "  print( thePrefix )\n",
        "  y = pd.get_dummies(df[i], prefix = thePrefix, dummy_na = False)\n",
        "  print(type(y) )\n",
        "  print(y.head().T )\n",
        "  df = pd.concat([df, y], axis = 1 )\n",
        "  df = df.drop(i, axis = 1 )\n",
        "\n",
        "print(df.head().T)"
      ],
      "execution_count": 20,
      "outputs": [
        {
          "output_type": "stream",
          "name": "stdout",
          "text": [
            "Class =  REASON\n",
            "IMP_REASON\n",
            "<class 'pandas.core.frame.DataFrame'>\n",
            "                    0  1  2  3  4\n",
            "IMP_REASON_DebtCon  0  0  0  0  0\n",
            "IMP_REASON_HomeImp  1  1  1  1  1\n",
            "Class =  JOB\n",
            "IMP_JOB\n",
            "<class 'pandas.core.frame.DataFrame'>\n",
            "                 0  1  2  3  4\n",
            "IMP_JOB_Mgr      0  0  0  0  0\n",
            "IMP_JOB_Office   0  0  0  0  1\n",
            "IMP_JOB_Other    1  1  1  1  0\n",
            "IMP_JOB_ProfExe  0  0  0  0  0\n",
            "IMP_JOB_Sales    0  0  0  0  0\n",
            "IMP_JOB_Self     0  0  0  0  0\n",
            "                               0             1  ...             3              4\n",
            "TARGET_BAD_FLAG         1.000000      1.000000  ...      1.000000       0.000000\n",
            "TARGET_LOSS_AMT       641.000000   1109.000000  ...   1425.000000   11003.000000\n",
            "LOAN                 1100.000000   1300.000000  ...   1500.000000    1700.000000\n",
            "MORTDUE             25860.000000  70053.000000  ...  65019.000000   97800.000000\n",
            "VALUE               39025.000000  68400.000000  ...  89235.500000  112000.000000\n",
            "YOJ                    10.500000      7.000000  ...      8.922268       3.000000\n",
            "DEROG                   0.000000      0.000000  ...      0.254570       0.000000\n",
            "DELINQ                  0.000000      2.000000  ...      0.449442       0.000000\n",
            "CLAGE                  94.366667    121.833333  ...    179.766275      93.333333\n",
            "NINQ                    1.000000      0.000000  ...      1.186055       0.000000\n",
            "CLNO                    9.000000     14.000000  ...     21.296096      14.000000\n",
            "DEBTINC                33.779915     33.779915  ...     33.779915      33.779915\n",
            "IMP_REASON_DebtCon      0.000000      0.000000  ...      0.000000       0.000000\n",
            "IMP_REASON_HomeImp      1.000000      1.000000  ...      1.000000       1.000000\n",
            "IMP_JOB_Mgr             0.000000      0.000000  ...      0.000000       0.000000\n",
            "IMP_JOB_Office          0.000000      0.000000  ...      0.000000       1.000000\n",
            "IMP_JOB_Other           1.000000      1.000000  ...      1.000000       0.000000\n",
            "IMP_JOB_ProfExe         0.000000      0.000000  ...      0.000000       0.000000\n",
            "IMP_JOB_Sales           0.000000      0.000000  ...      0.000000       0.000000\n",
            "IMP_JOB_Self            0.000000      0.000000  ...      0.000000       0.000000\n",
            "\n",
            "[20 rows x 5 columns]\n"
          ]
        }
      ]
    },
    {
      "cell_type": "markdown",
      "metadata": {
        "id": "MMOApxRgZNA7"
      },
      "source": [
        "### Split Data into **Training** and **Test** Data Set\n",
        "---\n",
        "* Main DataFrame: `df`\n",
        "* dtypes DataFrame: `dtypes_df`\n",
        "* all inputs variables DataFrame: `X_df`\n",
        "\n",
        "* X_train\n",
        "* X_test\n",
        "* Y_train\n",
        "* Y_test"
      ]
    },
    {
      "cell_type": "code",
      "metadata": {
        "colab": {
          "base_uri": "https://localhost:8080/"
        },
        "id": "D1dL5f8MWZZd",
        "outputId": "eaae951e-2381-44ad-8478-b49a069cb548"
      },
      "source": [
        "X_df = df.copy()\n",
        "X_df = X_df.drop(TARGET_BF, axis=1)\n",
        "X_df = X_df.drop(TARGET_LA, axis=1)\n",
        "X_df.info()"
      ],
      "execution_count": 21,
      "outputs": [
        {
          "output_type": "stream",
          "name": "stdout",
          "text": [
            "<class 'pandas.core.frame.DataFrame'>\n",
            "RangeIndex: 5960 entries, 0 to 5959\n",
            "Data columns (total 18 columns):\n",
            " #   Column              Non-Null Count  Dtype  \n",
            "---  ------              --------------  -----  \n",
            " 0   LOAN                5960 non-null   int64  \n",
            " 1   MORTDUE             5960 non-null   float64\n",
            " 2   VALUE               5960 non-null   float64\n",
            " 3   YOJ                 5960 non-null   float64\n",
            " 4   DEROG               5960 non-null   float64\n",
            " 5   DELINQ              5960 non-null   float64\n",
            " 6   CLAGE               5960 non-null   float64\n",
            " 7   NINQ                5960 non-null   float64\n",
            " 8   CLNO                5960 non-null   float64\n",
            " 9   DEBTINC             5960 non-null   float64\n",
            " 10  IMP_REASON_DebtCon  5960 non-null   uint8  \n",
            " 11  IMP_REASON_HomeImp  5960 non-null   uint8  \n",
            " 12  IMP_JOB_Mgr         5960 non-null   uint8  \n",
            " 13  IMP_JOB_Office      5960 non-null   uint8  \n",
            " 14  IMP_JOB_Other       5960 non-null   uint8  \n",
            " 15  IMP_JOB_ProfExe     5960 non-null   uint8  \n",
            " 16  IMP_JOB_Sales       5960 non-null   uint8  \n",
            " 17  IMP_JOB_Self        5960 non-null   uint8  \n",
            "dtypes: float64(9), int64(1), uint8(8)\n",
            "memory usage: 512.3 KB\n"
          ]
        }
      ]
    },
    {
      "cell_type": "code",
      "metadata": {
        "colab": {
          "base_uri": "https://localhost:8080/",
          "height": 110
        },
        "id": "EZGamp325xw5",
        "outputId": "6efd20c2-2fee-4c45-acb2-6262f7bb220b"
      },
      "source": [
        "# Create another DataFrame for target varibles\n",
        "Y_df = df[[TARGET_BF, TARGET_LA]]\n",
        "Y_df.head().T"
      ],
      "execution_count": 22,
      "outputs": [
        {
          "output_type": "execute_result",
          "data": {
            "text/html": [
              "<div>\n",
              "<style scoped>\n",
              "    .dataframe tbody tr th:only-of-type {\n",
              "        vertical-align: middle;\n",
              "    }\n",
              "\n",
              "    .dataframe tbody tr th {\n",
              "        vertical-align: top;\n",
              "    }\n",
              "\n",
              "    .dataframe thead th {\n",
              "        text-align: right;\n",
              "    }\n",
              "</style>\n",
              "<table border=\"1\" class=\"dataframe\">\n",
              "  <thead>\n",
              "    <tr style=\"text-align: right;\">\n",
              "      <th></th>\n",
              "      <th>0</th>\n",
              "      <th>1</th>\n",
              "      <th>2</th>\n",
              "      <th>3</th>\n",
              "      <th>4</th>\n",
              "    </tr>\n",
              "  </thead>\n",
              "  <tbody>\n",
              "    <tr>\n",
              "      <th>TARGET_BAD_FLAG</th>\n",
              "      <td>1.0</td>\n",
              "      <td>1.0</td>\n",
              "      <td>1.0</td>\n",
              "      <td>1.0</td>\n",
              "      <td>0.0</td>\n",
              "    </tr>\n",
              "    <tr>\n",
              "      <th>TARGET_LOSS_AMT</th>\n",
              "      <td>641.0</td>\n",
              "      <td>1109.0</td>\n",
              "      <td>767.0</td>\n",
              "      <td>1425.0</td>\n",
              "      <td>11003.0</td>\n",
              "    </tr>\n",
              "  </tbody>\n",
              "</table>\n",
              "</div>"
            ],
            "text/plain": [
              "                     0       1      2       3        4\n",
              "TARGET_BAD_FLAG    1.0     1.0    1.0     1.0      0.0\n",
              "TARGET_LOSS_AMT  641.0  1109.0  767.0  1425.0  11003.0"
            ]
          },
          "metadata": {},
          "execution_count": 22
        }
      ]
    },
    {
      "cell_type": "markdown",
      "metadata": {
        "id": "TbFJSdib2Pzo"
      },
      "source": [
        "Notes:\n",
        "* Main DataFrame: df\n",
        "* All input variables DataFrame: X_df\n",
        "* Target Variables DataFrame: Y_df\n",
        "* dtypes: df_dtypes\n",
        "* We want to predict the likelihood of loan default\n",
        "* TARGET_LA = 'TARGET_LOSS_AMT' = loan default\n",
        "* numList = numeric variables excluding target variables"
      ]
    },
    {
      "cell_type": "code",
      "metadata": {
        "colab": {
          "base_uri": "https://localhost:8080/"
        },
        "id": "Aoky006Qf-A-",
        "outputId": "ac8a5a7c-afd0-4418-c929-befab2064770"
      },
      "source": [
        "# Split data\n",
        "X_train, X_test, Y_train, Y_test = train_test_split(X_df, Y_df, train_size=0.8,\n",
        "                                                    test_size=0.2, random_state=4)\n",
        "print('FLAG DATA:')\n",
        "print('TRAINING DATA = ', X_train.shape)\n",
        "print('TEST DATA = ', X_test.shape, '\\n')"
      ],
      "execution_count": 23,
      "outputs": [
        {
          "output_type": "stream",
          "name": "stdout",
          "text": [
            "FLAG DATA:\n",
            "TRAINING DATA =  (4768, 18)\n",
            "TEST DATA =  (1192, 18) \n",
            "\n"
          ]
        }
      ]
    },
    {
      "cell_type": "markdown",
      "metadata": {
        "id": "DTKEEWXLUrgc"
      },
      "source": [
        "## Quick Analysis (Finding Most Important Features - Non-REG)\n",
        "---\n",
        "Notes:\n",
        "* No Logistic or Linear Regression performed yet\n"
      ]
    },
    {
      "cell_type": "markdown",
      "metadata": {
        "id": "evT4H-n3zGL-"
      },
      "source": [
        "### Simple Decision Tree"
      ]
    },
    {
      "cell_type": "code",
      "metadata": {
        "id": "5CF3_-QJQrHQ"
      },
      "source": [
        "# Create a decision tree classifier with respect to TARGET_BF\n",
        "fm01_Tree = tree.DecisionTreeClassifier(random_state=4, max_depth=5)\n",
        "fm01_Tree = fm01_Tree.fit(X_train, Y_train[TARGET_BF])"
      ],
      "execution_count": 24,
      "outputs": []
    },
    {
      "cell_type": "code",
      "metadata": {
        "id": "o3HpPBB5QrL6"
      },
      "source": [
        "# Score predictions for Y_train and Y_test\n",
        "Y_pred_train = fm01_Tree.predict(X_train)\n",
        "Y_pred_test = fm01_Tree.predict(X_test)"
      ],
      "execution_count": 25,
      "outputs": []
    },
    {
      "cell_type": "code",
      "metadata": {
        "colab": {
          "base_uri": "https://localhost:8080/"
        },
        "id": "WRjyS0r0U2J6",
        "outputId": "367dadec-e492-40c5-cb34-d27874606bab"
      },
      "source": [
        "# Display accuracy of prediction\n",
        "print('Train Accuracy:', metrics.accuracy_score(Y_train[TARGET_BF], Y_pred_train))\n",
        "print('Test Accuracy (new data):', metrics.accuracy_score(Y_test[TARGET_BF], Y_pred_test))"
      ],
      "execution_count": 26,
      "outputs": [
        {
          "output_type": "stream",
          "name": "stdout",
          "text": [
            "Train Accuracy: 0.8913590604026845\n",
            "Test Accuracy (new data): 0.886744966442953\n"
          ]
        }
      ]
    },
    {
      "cell_type": "markdown",
      "metadata": {
        "id": "QWvDAQxFVFuh"
      },
      "source": [
        "Notes:\n",
        "* `Y_train[TARGET_BF]` is what actually happened \n",
        "* `probs_grp1` is the associated probability value for what happened\n",
        " - Column 0 contains row data for Current\n",
        " - Column 1 contains row data for Loan Default\n",
        "threshold: acts like a trigger to initiate some action you want to perform"
      ]
    },
    {
      "cell_type": "code",
      "metadata": {
        "colab": {
          "base_uri": "https://localhost:8080/"
        },
        "id": "2J2oS0JLU674",
        "outputId": "d3b09258-40dc-4a47-f87c-b5d0d1827e00"
      },
      "source": [
        "# Create a prediction using probability value \n",
        "print('Probability of Loan Default')\n",
        "probs = fm01_Tree.predict_proba(X_train)\n",
        "probs_grp1 = probs[0:10] # Lists first 10 people and their associated probability \n",
        "probs_grp1"
      ],
      "execution_count": 27,
      "outputs": [
        {
          "output_type": "stream",
          "name": "stdout",
          "text": [
            "Probability of Loan Default\n"
          ]
        },
        {
          "output_type": "execute_result",
          "data": {
            "text/plain": [
              "array([[0.98286938, 0.01713062],\n",
              "       [0.98286938, 0.01713062],\n",
              "       [0.39772727, 0.60227273],\n",
              "       [0.93568465, 0.06431535],\n",
              "       [0.98286938, 0.01713062],\n",
              "       [0.98286938, 0.01713062],\n",
              "       [0.85576923, 0.14423077],\n",
              "       [0.9371293 , 0.0628707 ],\n",
              "       [0.21276596, 0.78723404],\n",
              "       [0.9371293 , 0.0628707 ]])"
            ]
          },
          "metadata": {},
          "execution_count": 27
        }
      ]
    },
    {
      "cell_type": "markdown",
      "metadata": {
        "id": "wLgN7Y6VVoFw"
      },
      "source": [
        "* Using train data below"
      ]
    },
    {
      "cell_type": "code",
      "metadata": {
        "id": "S22IraLnVClU"
      },
      "source": [
        "# Predict probability of outcomes\n",
        "probs = fm01_Tree.predict_proba(X_train)\n",
        "probs_grp2 = probs[:,1] # Look across all rows in Column 1 \n",
        "false_pos_rate_train, true_pos_rate_train, threshold = metrics.roc_curve(Y_train[TARGET_BF], probs_grp2)\n",
        "# print(probs_grp2[0:10],'\\n') # Grabs first 10 probabilites \n",
        "\n",
        "# Represents area under the ROC Curve (training data)\n",
        "roc_auc_train = metrics.auc(false_pos_rate_train, true_pos_rate_train)"
      ],
      "execution_count": 28,
      "outputs": []
    },
    {
      "cell_type": "markdown",
      "metadata": {
        "id": "YRG2mpfpVk6h"
      },
      "source": [
        "* Using test data below"
      ]
    },
    {
      "cell_type": "code",
      "metadata": {
        "id": "pcs-lJ9lVkQc"
      },
      "source": [
        "# Predict probability of outcomes\n",
        "probs = fm01_Tree.predict_proba(X_test)\n",
        "probs_grp2 = probs[:,1] # Look across all rows in Column 1 \n",
        "false_pos_rate_test, true_pos_rate_test, threshold = metrics.roc_curve(Y_test[TARGET_BF], probs_grp2)\n",
        "\n",
        "# Represents area under the ROC Curve (test data)\n",
        "roc_auc_test = metrics.auc(false_pos_rate_test, true_pos_rate_test)"
      ],
      "execution_count": 29,
      "outputs": []
    },
    {
      "cell_type": "code",
      "metadata": {
        "colab": {
          "base_uri": "https://localhost:8080/",
          "height": 294
        },
        "id": "9odgsMctVtj3",
        "outputId": "c85f47b8-7a34-4548-9410-af65fdf87bca"
      },
      "source": [
        "# Create ROC Curve\n",
        "plt.title('TREE ROC CURVE')\n",
        "plt.plot(false_pos_rate_train, true_pos_rate_train, 'b',\n",
        "         label='AUC TRAIN = %0.2f' % roc_auc_train, color='blue')\n",
        "plt.plot(false_pos_rate_test, true_pos_rate_test, 'b',\n",
        "         label='AUC TEST = %0.2f' % roc_auc_test, color='red')\n",
        "plt.legend(loc='lower right')\n",
        "plt.plot([0, 1], [0, 1], 'g--')\n",
        "plt.xlim([0, 1])\n",
        "plt.ylim([0, 1])\n",
        "plt.ylabel('True Positive Rate')\n",
        "plt.xlabel('False Positive Rate')\n",
        "plt.show()"
      ],
      "execution_count": 30,
      "outputs": [
        {
          "output_type": "display_data",
          "data": {
            "image/png": "[encoded data removed]",
            "text/plain": [
              "<Figure size 432x288 with 1 Axes>"
            ]
          },
          "metadata": {
            "needs_background": "light"
          }
        }
      ]
    },
    {
      "cell_type": "markdown",
      "metadata": {
        "id": "qb-IqdkGae4O"
      },
      "source": [
        "#### RMSE of Decision Tree"
      ]
    },
    {
      "cell_type": "code",
      "metadata": {
        "id": "9R2rGXnJadey"
      },
      "source": [
        "# Create a decision tree regressor with respect to TARGET_A\n",
        "amt_m01_Tree = tree.DecisionTreeRegressor(random_state=4, max_depth=5)\n",
        "amt_m01_Tree = amt_m01_Tree.fit(X_train, Y_train[TARGET_LA])"
      ],
      "execution_count": 31,
      "outputs": []
    },
    {
      "cell_type": "code",
      "metadata": {
        "id": "nVFM0hcnadjM"
      },
      "source": [
        "# Score predictions for Y_pred_train and Y_pred_test\n",
        "Y_pred_train = fm01_Tree.predict(X_train)\n",
        "Y_pred_test = fm01_Tree.predict(X_test)"
      ],
      "execution_count": 32,
      "outputs": []
    },
    {
      "cell_type": "markdown",
      "metadata": {
        "id": "eMJeq9fce1B7"
      },
      "source": [
        "Notes:\n",
        "* MAE shows a ~94 pt difference between train and test data\n",
        "* RMSE shows a ~144 pt difference between train and test data\n",
        " - Not a significant difference for each measure of error to raise concerns"
      ]
    },
    {
      "cell_type": "code",
      "metadata": {
        "colab": {
          "base_uri": "https://localhost:8080/"
        },
        "id": "S4ME5W5badna",
        "outputId": "8159a8c7-108b-40f8-91f4-eb3fede57b37"
      },
      "source": [
        "# Inspect mean value for train and test\n",
        "print(\"MEAN Train\", Y_train[TARGET_LA].mean())\n",
        "print(\"MEAN Test\", Y_test[TARGET_LA].mean())"
      ],
      "execution_count": 33,
      "outputs": [
        {
          "output_type": "stream",
          "name": "stdout",
          "text": [
            "MEAN Train 11465.165058724831\n",
            "MEAN Test 11559.847315436242\n"
          ]
        }
      ]
    },
    {
      "cell_type": "code",
      "metadata": {
        "id": "XZU4Aj9u4BZz"
      },
      "source": [
        "# Tree search\n",
        "def getTreeVars(TREE, varNames):\n",
        "  tree_ = TREE.tree_\n",
        "  varName = [varNames[i] if i != _tree.TREE_UNDEFINED else \"undefined!\" for i in tree_.feature]\n",
        "\n",
        "  nameSet = set()\n",
        "  for i in tree_.feature :\n",
        "      if i != _tree.TREE_UNDEFINED :\n",
        "          nameSet.add(i)\n",
        "  nameList = list(nameSet)\n",
        "  parameter_list = list()\n",
        "  for i in nameList :\n",
        "      parameter_list.append(varNames[i])\n",
        "  return parameter_list"
      ],
      "execution_count": 34,
      "outputs": []
    },
    {
      "cell_type": "code",
      "metadata": {
        "colab": {
          "base_uri": "https://localhost:8080/"
        },
        "id": "FOcL7JX_a2d0",
        "outputId": "a9961922-f8bf-4137-be18-8bd65d836bae"
      },
      "source": [
        "# Perform RMSE\n",
        "RMSE_TRAIN = math.sqrt(metrics.mean_squared_error(Y_train[TARGET_LA], Y_pred_train))\n",
        "RMSE_TEST = math.sqrt(metrics.mean_squared_error(Y_test[TARGET_LA], Y_pred_test))\n",
        "print(\"TREE RMSE Train:\", RMSE_TRAIN)\n",
        "print(\"TREE RMSE Test:\", RMSE_TEST, '\\n')\n",
        "\n",
        "RMSE_TREE = RMSE_TEST\n",
        "feature_cols = list(X_df.columns.values)\n",
        "vars_tree_amt = getTreeVars(fm01_Tree, feature_cols)"
      ],
      "execution_count": 35,
      "outputs": [
        {
          "output_type": "stream",
          "name": "stdout",
          "text": [
            "TREE RMSE Train: 12470.169015265803\n",
            "TREE RMSE Test: 12614.25583979406 \n",
            "\n"
          ]
        }
      ]
    },
    {
      "cell_type": "markdown",
      "metadata": {
        "id": "JiY0iCDoeNzM"
      },
      "source": [
        "### Finding the most important features (ordered by precendence)\n",
        "1.   DEBTINC\n",
        "2.   DELINQ\n",
        "3.   CLAGE\n",
        "4.   DEROG\n",
        "\n",
        "Other variables used significantly less than the Top 4 variables above were `MORTDUE`, `VALUE`, `YOJ` to include categorical variables `REASON` and `JOB`"
      ]
    },
    {
      "cell_type": "code",
      "metadata": {
        "colab": {
          "base_uri": "https://localhost:8080/",
          "height": 278
        },
        "id": "yQ0y8df1adrV",
        "outputId": "2f71ed5f-46a7-4341-ea59-61562343b240"
      },
      "source": [
        "def feature_importance(model):\n",
        "  n_features = X_train.shape[1]\n",
        "  plt.barh(np.arange(n_features), model.feature_importances_, align='center')\n",
        "  plt.yticks(np.arange(n_features), X_train.columns)\n",
        "  plt.xlabel(\"Feature importance\")\n",
        "  plt.ylabel(\"Feature\")\n",
        "  plt.ylim(-1, n_features)\n",
        "feature_importance(fm01_Tree)"
      ],
      "execution_count": 37,
      "outputs": [
        {
          "output_type": "display_data",
          "data": {
            "image/png": "[encoded data removed]",
            "text/plain": [
              "<Figure size 432x288 with 1 Axes>"
            ]
          },
          "metadata": {
            "needs_background": "light"
          }
        }
      ]
    },
    {
      "cell_type": "markdown",
      "metadata": {
        "id": "7TmDzI2nhDtf"
      },
      "source": [
        "### Random Forest \n",
        "* No Logistic or Linear Regression performed yet"
      ]
    },
    {
      "cell_type": "code",
      "metadata": {
        "id": "ILHvR1QRheB4"
      },
      "source": [
        "# Create tree search function for Random Forests (from lecture notes)\n",
        "def getEnsembleTreeVars(ENSTREE, varNames) :\n",
        "    importance = ENSTREE.feature_importances_\n",
        "    index = np.argsort(importance)\n",
        "    theList = []\n",
        "    for i in index :\n",
        "        imp_val = importance[i]\n",
        "        if imp_val > np.average(ENSTREE.feature_importances_):\n",
        "            v = int(imp_val / np.max(ENSTREE.feature_importances_) * 100)\n",
        "            theList.append((varNames[i], v ))\n",
        "    theList = sorted(theList,key=itemgetter(1),reverse=True)\n",
        "    return theList"
      ],
      "execution_count": 38,
      "outputs": []
    },
    {
      "cell_type": "code",
      "metadata": {
        "id": "wjAhBL-WhrCO"
      },
      "source": [
        "# Create a RandomForestClassifier \n",
        "# Fit model to data (models are dynamic, data is static)\n",
        "fm01_RF = RandomForestClassifier(random_state=4, max_depth=5)\n",
        "fm01_RF = fm01_RF.fit(X_train, Y_train[TARGET_BF])"
      ],
      "execution_count": 39,
      "outputs": []
    },
    {
      "cell_type": "code",
      "metadata": {
        "id": "hvSVyWCtjA9B"
      },
      "source": [
        "# Predict probability of outcomes\n",
        "probs = fm01_RF.predict_proba(X_test)\n",
        "p1 = probs[:, 1]\n",
        "fpr_test, tpr_test, threshold = metrics.roc_curve(Y_test[TARGET_BF], p1)\n",
        "roc_auc_test = metrics.auc(fpr_test, tpr_test)"
      ],
      "execution_count": 40,
      "outputs": []
    },
    {
      "cell_type": "code",
      "metadata": {
        "id": "Mv31TVfmiU9x"
      },
      "source": [
        "# Store variables values in new variables\n",
        "fpr_RF = fpr_test\n",
        "tpr_RF = tpr_test\n",
        "auc_RF = roc_auc_test"
      ],
      "execution_count": 44,
      "outputs": []
    },
    {
      "cell_type": "code",
      "metadata": {
        "id": "XLPxBhZMiKmH"
      },
      "source": [
        "# Predict probability of outcomes\n",
        "probs = fm01_RF.predict_proba(X_train)\n",
        "p1 = probs[:, 1]\n",
        "fpr_train, tpr_train, threshold = metrics.roc_curve(Y_train[TARGET_BF], p1)\n",
        "roc_auc_train = metrics.auc(fpr_train, tpr_train)"
      ],
      "execution_count": 45,
      "outputs": []
    },
    {
      "cell_type": "code",
      "metadata": {
        "colab": {
          "base_uri": "https://localhost:8080/"
        },
        "id": "qW5zqqBEheGg",
        "outputId": "8035f361-c089-449f-f297-8350bd2bbc1f"
      },
      "source": [
        "# Gather relevant variables used in model prediction\n",
        "feature_cols = list(X_df.columns.values)\n",
        "vars_RF_flag = getEnsembleTreeVars(fm01_RF, feature_cols)\n",
        "\n",
        "# Output best predictor variable/s\n",
        "for i in vars_RF_flag :\n",
        "   print(i)"
      ],
      "execution_count": 46,
      "outputs": [
        {
          "output_type": "stream",
          "name": "stdout",
          "text": [
            "('DEBTINC', 100)\n",
            "('DELINQ', 65)\n",
            "('DEROG', 43)\n",
            "('CLAGE', 22)\n",
            "('LOAN', 19)\n"
          ]
        }
      ]
    },
    {
      "cell_type": "code",
      "metadata": {
        "id": "N5DiL06diA-8"
      },
      "source": [
        "# Score predictions for Y_Pred_train and Y_Pred_test\n",
        "Y_Pred_train = fm01_RF.predict(X_train)\n",
        "Y_Pred_test = fm01_RF.predict(X_test)"
      ],
      "execution_count": 47,
      "outputs": []
    },
    {
      "cell_type": "code",
      "metadata": {
        "colab": {
          "base_uri": "https://localhost:8080/"
        },
        "id": "8_4QEJK2iEZn",
        "outputId": "ca5f5f22-ba10-4c1b-8ab7-b69da58a9a49"
      },
      "source": [
        "print(\"RANDOM FOREST\\n\")\n",
        "print(\"Probability of Loan Default\")\n",
        "print(\"Train Accuracy:\",metrics.accuracy_score(Y_train[TARGET_BF], Y_Pred_train))\n",
        "print(\"Test Accuracy:\",metrics.accuracy_score(Y_test[TARGET_BF], Y_Pred_test))"
      ],
      "execution_count": 48,
      "outputs": [
        {
          "output_type": "stream",
          "name": "stdout",
          "text": [
            "RANDOM FOREST\n",
            "\n",
            "Probability of Loan Default\n",
            "Train Accuracy: 0.865981543624161\n",
            "Test Accuracy: 0.8540268456375839\n"
          ]
        }
      ]
    },
    {
      "cell_type": "code",
      "metadata": {
        "colab": {
          "base_uri": "https://localhost:8080/",
          "height": 294
        },
        "id": "G60NPdJDiKwd",
        "outputId": "af4a6451-884b-48c2-9297-359424a505c6"
      },
      "source": [
        "# Create ROC Curve\n",
        "plt.title('RF ROC CURVE')\n",
        "plt.plot(fpr_train, tpr_train, 'b', label = 'AUC TRAIN = %0.2f' % roc_auc_train)\n",
        "plt.plot(fpr_test, tpr_test, 'b', label = 'AUC TEST = %0.2f' % roc_auc_test, color=\"red\")\n",
        "plt.legend(loc = 'lower right')\n",
        "plt.plot([0, 1], [0, 1],'g--')\n",
        "plt.xlim([0, 1])\n",
        "plt.ylim([0, 1])\n",
        "plt.ylabel('True Positive Rate')\n",
        "plt.xlabel('False Positive Rate')\n",
        "plt.show()"
      ],
      "execution_count": 49,
      "outputs": [
        {
          "output_type": "display_data",
          "data": {
            "image/png": "[encoded data removed]",
            "text/plain": [
              "<Figure size 432x288 with 1 Axes>"
            ]
          },
          "metadata": {
            "needs_background": "light"
          }
        }
      ]
    },
    {
      "cell_type": "markdown",
      "metadata": {
        "id": "c4N4VNcshWIb"
      },
      "source": [
        "#### RMSE of Random Forest\n"
      ]
    },
    {
      "cell_type": "code",
      "metadata": {
        "id": "ezm9Z4zyjQoy"
      },
      "source": [
        "# Create a RandomForestRegressor with respect to TARGET_A\n",
        "# Fit model to data (models are dynamic, data is static)\n",
        "amt_m01_RF = RandomForestRegressor(random_state=4, max_depth=5)\n",
        "amt_m01_RF = amt_m01_RF.fit(X_train, Y_train[TARGET_LA])"
      ],
      "execution_count": 50,
      "outputs": []
    },
    {
      "cell_type": "code",
      "metadata": {
        "id": "zWmvepl2jPd7"
      },
      "source": [
        "# Score predictions for X_train and X_test\n",
        "Y_Pred_train = amt_m01_Tree.predict(X_train)\n",
        "Y_Pred_test = amt_m01_Tree.predict(X_test)"
      ],
      "execution_count": 51,
      "outputs": []
    },
    {
      "cell_type": "code",
      "metadata": {
        "colab": {
          "base_uri": "https://localhost:8080/"
        },
        "id": "3vmDCfxwjQdG",
        "outputId": "ea6a6e02-93ec-470d-d0ef-4f8271f51c86"
      },
      "source": [
        "# Inspect mean value for train and test\n",
        "RMSE_TRAIN = math.sqrt(metrics.mean_squared_error(Y_train[TARGET_LA],\n",
        "                                                   Y_Pred_train))\n",
        "RMSE_TEST = math.sqrt(metrics.mean_squared_error(Y_test[TARGET_LA],\n",
        "                                                  Y_Pred_test))\n",
        "\n",
        "print(\"RF RMSE Train\", RMSE_TRAIN)\n",
        "print(\"RF RMSE Test\", RMSE_TEST)"
      ],
      "execution_count": 52,
      "outputs": [
        {
          "output_type": "stream",
          "name": "stdout",
          "text": [
            "RF RMSE Train 3383.2182835131935\n",
            "RF RMSE Test 3315.6798722485623\n"
          ]
        }
      ]
    },
    {
      "cell_type": "code",
      "metadata": {
        "colab": {
          "base_uri": "https://localhost:8080/"
        },
        "id": "LIVhkYP2jQjG",
        "outputId": "c4a53826-53d1-4649-80b1-f1996b37ded1"
      },
      "source": [
        "# List the variables included in the Random Forest that predict loss amount\n",
        "RMSE_RF = RMSE_TEST\n",
        "feature_cols = list(X_df.columns.values)\n",
        "vars_RF_amt = getEnsembleTreeVars(amt_m01_RF, feature_cols)\n",
        "\n",
        "# Output best predictor variable/s\n",
        "for i in vars_RF_amt :\n",
        "   print(i)"
      ],
      "execution_count": 53,
      "outputs": [
        {
          "output_type": "stream",
          "name": "stdout",
          "text": [
            "('LOAN', 100)\n",
            "('DELINQ', 74)\n",
            "('CLNO', 26)\n",
            "('DEBTINC', 25)\n"
          ]
        }
      ]
    },
    {
      "cell_type": "markdown",
      "metadata": {
        "id": "iKXL2CtSj4pD"
      },
      "source": [
        "### Finding the most important features (ordered by precendence)\n",
        "1.   `DEBTINC`\n",
        "2.   `DELINQ`\n",
        "3.   `DEROG`\n",
        "4.   `CLAGE`\n",
        "5.   `LOAN`\n",
        "6.   `NINQ`\n",
        "7.   `CLINO` and `VALUE`\n",
        "8.   `MORTDUE`\n",
        "9.   `YOJ`\n",
        "\n",
        "Other variables used significantly less than the Top 9 variables above were categorical variables `REASON` and `JOB`"
      ]
    },
    {
      "cell_type": "code",
      "metadata": {
        "colab": {
          "base_uri": "https://localhost:8080/",
          "height": 278
        },
        "id": "tUdu5076jqtv",
        "outputId": "1f01bed3-3102-4fc2-f5aa-6f3e230aaa24"
      },
      "source": [
        "def feature_importance(model):\n",
        "  n_features = X_train.shape[1]\n",
        "  plt.barh(np.arange(n_features), model.feature_importances_, align='center')\n",
        "  plt.yticks(np.arange(n_features), X_train.columns)\n",
        "  plt.xlabel(\"Feature importance\")\n",
        "  plt.ylabel(\"Feature\")\n",
        "  plt.ylim(-1, n_features)\n",
        "feature_importance(fm01_RF)"
      ],
      "execution_count": 54,
      "outputs": [
        {
          "output_type": "display_data",
          "data": {
            "image/png": "[encoded data removed]",
            "text/plain": [
              "<Figure size 432x288 with 1 Axes>"
            ]
          },
          "metadata": {
            "needs_background": "light"
          }
        }
      ]
    },
    {
      "cell_type": "markdown",
      "metadata": {
        "id": "oB_ji7jfm5u1"
      },
      "source": [
        "### Gradient Boosting\n",
        "* No Logistic or Linear Regression performed yet"
      ]
    },
    {
      "cell_type": "code",
      "metadata": {
        "id": "QIIH4fMLktMT"
      },
      "source": [
        "# Create a GradientBoostingClassifier with respect to TARGET_F\n",
        "fm01_GB = GradientBoostingClassifier(random_state=4, max_depth=5)\n",
        "fm01_GB = fm01_GB.fit(X_train, Y_train[TARGET_BF])"
      ],
      "execution_count": 55,
      "outputs": []
    },
    {
      "cell_type": "code",
      "metadata": {
        "id": "eTpONiyEktYx"
      },
      "source": [
        "# Score predictions for X_train and X_test\n",
        "Y_Pred_train = fm01_GB.predict(X_train)\n",
        "Y_Pred_test = fm01_GB.predict(X_test)"
      ],
      "execution_count": 58,
      "outputs": []
    },
    {
      "cell_type": "code",
      "metadata": {
        "colab": {
          "base_uri": "https://localhost:8080/"
        },
        "id": "U6s1p6W0ktdu",
        "outputId": "f2a6c4a0-d20b-457b-e676-bcf852a6532e"
      },
      "source": [
        "# Display accuracy of prediction\n",
        "print(\"GRADIENT BOOSTING\\n\")\n",
        "print(\"Probability of Loan Default\")\n",
        "print(\"Train Accuracy:\",metrics.accuracy_score(Y_train[TARGET_BF], Y_Pred_train))\n",
        "print(\"Test Accuracy:\",metrics.accuracy_score(Y_test[TARGET_BF], Y_Pred_test))"
      ],
      "execution_count": 59,
      "outputs": [
        {
          "output_type": "stream",
          "name": "stdout",
          "text": [
            "GRADIENT BOOSTING\n",
            "\n",
            "Probability of Loan Default\n",
            "Train Accuracy: 0.9658137583892618\n",
            "Test Accuracy: 0.9177852348993288\n"
          ]
        }
      ]
    },
    {
      "cell_type": "code",
      "metadata": {
        "id": "S6_rIW81mg8u"
      },
      "source": [
        "# Store variables values in new variables\n",
        "fpr_GB = fpr_test\n",
        "tpr_GB = tpr_test\n",
        "auc_GB = roc_auc_test"
      ],
      "execution_count": 60,
      "outputs": []
    },
    {
      "cell_type": "code",
      "metadata": {
        "id": "3sOiUygFktjK"
      },
      "source": [
        "# Predict probability of outcomes\n",
        "probs = fm01_GB.predict_proba(X_train)\n",
        "p1 = probs[:,1]\n",
        "fpr_train, tpr_train, threshold = metrics.roc_curve( Y_train[TARGET_BF], p1)\n",
        "roc_auc_train = metrics.auc(fpr_train, tpr_train)"
      ],
      "execution_count": 61,
      "outputs": []
    },
    {
      "cell_type": "code",
      "metadata": {
        "id": "FQPwXDiMmg22"
      },
      "source": [
        "# Predict probability of outcomes\n",
        "probs = fm01_GB.predict_proba(X_test)\n",
        "p1 = probs[:,1]\n",
        "fpr_test, tpr_test, threshold = metrics.roc_curve( Y_test[TARGET_BF], p1)\n",
        "roc_auc_test = metrics.auc(fpr_test, tpr_test)"
      ],
      "execution_count": 62,
      "outputs": []
    },
    {
      "cell_type": "markdown",
      "metadata": {
        "id": "mR-t4rlCeVAL"
      },
      "source": [
        "Notes: \n",
        "* *Gradient Boosting* model has the highest test data accuracy of 95% "
      ]
    },
    {
      "cell_type": "code",
      "metadata": {
        "colab": {
          "base_uri": "https://localhost:8080/",
          "height": 294
        },
        "id": "xgGkfmFLmw7d",
        "outputId": "49dcc382-8c0b-4f1b-d2fb-cfebac394db1"
      },
      "source": [
        "plt.title('GB ROC CURVE')\n",
        "plt.plot(fpr_train, tpr_train, 'b', label = 'AUC TRAIN = %0.2f' % roc_auc_train)\n",
        "plt.plot(fpr_test, tpr_test, 'b', label = 'AUC TEST = %0.2f' % roc_auc_test, color=\"red\")\n",
        "plt.legend(loc = 'lower right')\n",
        "plt.plot([0, 1], [0, 1],'g--')\n",
        "plt.xlim([0, 1])\n",
        "plt.ylim([0, 1])\n",
        "plt.ylabel('True Positive Rate')\n",
        "plt.xlabel('False Positive Rate')\n",
        "plt.show()"
      ],
      "execution_count": 63,
      "outputs": [
        {
          "output_type": "display_data",
          "data": {
            "image/png": "[encoded data removed]",
            "text/plain": [
              "<Figure size 432x288 with 1 Axes>"
            ]
          },
          "metadata": {
            "needs_background": "light"
          }
        }
      ]
    },
    {
      "cell_type": "code",
      "metadata": {
        "colab": {
          "base_uri": "https://localhost:8080/"
        },
        "id": "Nj-qJTCDnVRo",
        "outputId": "bb5bd1a7-ce67-4ada-c96e-b755fac812e7"
      },
      "source": [
        "# List the variables included in the Gradient Boosting that predict loss amount\n",
        "feature_cols = list(X_df.columns.values)\n",
        "vars_GB_flag = getEnsembleTreeVars(fm01_GB, feature_cols)\n",
        "\n",
        "# Output best predictor variable/s\n",
        "for i in vars_GB_flag :\n",
        "   print(i)"
      ],
      "execution_count": 64,
      "outputs": [
        {
          "output_type": "stream",
          "name": "stdout",
          "text": [
            "('DEBTINC', 100)\n",
            "('DELINQ', 33)\n",
            "('CLAGE', 19)\n",
            "('MORTDUE', 13)\n"
          ]
        }
      ]
    },
    {
      "cell_type": "markdown",
      "metadata": {
        "id": "GKiK8AtunHL8"
      },
      "source": [
        "#### RMSE of Gradient Boosting"
      ]
    },
    {
      "cell_type": "code",
      "metadata": {
        "id": "i2Ta57D4nBxP"
      },
      "source": [
        "# Create a GradientBoostingRegressor with respect to TARGET_A\n",
        "# Fit model to data (models are dynamic, data is static)\n",
        "amt_m01_GB = GradientBoostingRegressor(random_state=4, max_depth=5)\n",
        "amt_m01_GB = amt_m01_GB.fit( X_train, Y_train[TARGET_LA])"
      ],
      "execution_count": 65,
      "outputs": []
    },
    {
      "cell_type": "code",
      "metadata": {
        "id": "XlS3giBSnB_h"
      },
      "source": [
        "# Score predictions for X_train and X_test\n",
        "Y_Pred_train = amt_m01_GB.predict(X_train)\n",
        "Y_Pred_test = amt_m01_GB.predict(X_test)"
      ],
      "execution_count": 66,
      "outputs": []
    },
    {
      "cell_type": "code",
      "metadata": {
        "colab": {
          "base_uri": "https://localhost:8080/"
        },
        "id": "uY0Ze-m3nCFr",
        "outputId": "5e17ebb2-2756-440a-e925-9fb0c4c96074"
      },
      "source": [
        "# Inspect mean value for train and test\n",
        "RMSE_TRAIN = math.sqrt(metrics.mean_squared_error(Y_train[TARGET_LA], Y_Pred_train))\n",
        "RMSE_TEST = math.sqrt(metrics.mean_squared_error(Y_test[TARGET_LA], Y_Pred_test))\n",
        "\n",
        "print(\"GB RMSE Train:\", RMSE_TRAIN)\n",
        "print(\"GB RMSE Test:\", RMSE_TEST)"
      ],
      "execution_count": 67,
      "outputs": [
        {
          "output_type": "stream",
          "name": "stdout",
          "text": [
            "GB RMSE Train: 1500.9969536224444\n",
            "GB RMSE Test: 2350.023037847418\n"
          ]
        }
      ]
    },
    {
      "cell_type": "code",
      "metadata": {
        "colab": {
          "base_uri": "https://localhost:8080/"
        },
        "id": "qwacERGKojt1",
        "outputId": "196f4eb5-2e80-4185-b58d-b0646775bad9"
      },
      "source": [
        "# List the variables included in the Gradient Boosting that predict loss amount\n",
        "RMSE_GB = RMSE_TEST\n",
        "feature_cols = list(X_df.columns.values)\n",
        "vars_GB_amt = getEnsembleTreeVars(amt_m01_GB, feature_cols)\n",
        "\n",
        "# Output best predictor variable/s\n",
        "for i in vars_GB_amt :\n",
        "   print(i)"
      ],
      "execution_count": 68,
      "outputs": [
        {
          "output_type": "stream",
          "name": "stdout",
          "text": [
            "('LOAN', 100)\n",
            "('DEBTINC', 64)\n",
            "('DELINQ', 63)\n",
            "('CLNO', 30)\n",
            "('MORTDUE', 28)\n",
            "('CLAGE', 22)\n"
          ]
        }
      ]
    },
    {
      "cell_type": "markdown",
      "metadata": {
        "id": "ACuLFbh5nnNf"
      },
      "source": [
        "### Finding the most important features (ordered by precendence)\n",
        "1.   `DEBTINC`\n",
        "2.   `DELINQ`\n",
        "3.   `CLAGE`\n",
        "4.   `MORTDUE`\n",
        "5.   `VALUE` \n",
        "6.   `CLINO` and `LOAN`\n",
        "7.   `YOJ`\n",
        "8.   `NINQ`\n",
        "\n",
        "Other variables used significantly less than the Top 8 variables above were categorical variables `REASON` and `JOB`"
      ]
    },
    {
      "cell_type": "code",
      "metadata": {
        "colab": {
          "base_uri": "https://localhost:8080/",
          "height": 278
        },
        "id": "AaMwHs4WnVXX",
        "outputId": "602846f0-ab59-4904-de08-d46ecfd4c09c"
      },
      "source": [
        "def feature_importance(model):\n",
        "  n_features = X_train.shape[1]\n",
        "  plt.barh(np.arange(n_features), model.feature_importances_, align='center')\n",
        "  plt.yticks(np.arange(n_features), X_train.columns)\n",
        "  plt.xlabel(\"Feature importance\")\n",
        "  plt.ylabel(\"Feature\")\n",
        "  plt.ylim(-1, n_features)\n",
        "feature_importance(fm01_GB)"
      ],
      "execution_count": 69,
      "outputs": [
        {
          "output_type": "display_data",
          "data": {
            "image/png": "[encoded data removed]",
            "text/plain": [
              "<Figure size 432x288 with 1 Axes>"
            ]
          },
          "metadata": {
            "needs_background": "light"
          }
        }
      ]
    },
    {
      "cell_type": "markdown",
      "metadata": {
        "id": "Bfx6l6sG1KNm"
      },
      "source": [
        "## Quick Experiment (Cross-Validation, k=10)\n",
        "- Cross-Validation using K=10 on Linear Regression\n",
        "\n",
        "---\n",
        "\n",
        "### Cross-validation with k=10 using Linear Regression\n",
        "Notes:\n",
        "* Too few iterations result in less accuracy for test data (e.g. max_iter=100). When increasing iterations for training (e.g., max_iter=1000+) accuracy sometimes increases for test data. \n",
        "  - To detect overfitting, I did not see high train % accuracy and a low test % accuracy.\n",
        "\n",
        "#### Addressing uncertainty in ML modeling\n",
        "* I want to prevent overfitting by using cross-validation on our train data without touching our test data. This allows me to fit and evaluate models with various hyperparameters using only train data. \n",
        " - Upon seeing the results from train data, I applied cross validation on test data and saw similar results\n"
      ]
    },
    {
      "cell_type": "code",
      "metadata": {
        "id": "XgOeJPli45el"
      },
      "source": [
        "# Load packages\n",
        "from sklearn.model_selection import KFold\n",
        "from sklearn.model_selection import cross_val_score\n",
        "from numpy import mean\n",
        "from numpy import absolute\n",
        "from numpy import sqrt"
      ],
      "execution_count": 70,
      "outputs": []
    },
    {
      "cell_type": "code",
      "metadata": {
        "colab": {
          "base_uri": "https://localhost:8080/"
        },
        "id": "pFnnOds05cij",
        "outputId": "1d0ff796-f060-4ae4-eee6-e51d7de31e28"
      },
      "source": [
        "# Perform cross-validation\n",
        "# Define cross-validation method to use\n",
        "cv = KFold(n_splits=10, random_state=4, shuffle=True)\n",
        "\n",
        "# Build multiple linear regression model\n",
        "model = LinearRegression()\n",
        "\n",
        "# Use k-fold CV to evaluate model\n",
        "scores = cross_val_score(model, X_train, Y_train, scoring='neg_mean_absolute_error',\n",
        "                         cv=cv, n_jobs=-1)\n",
        "                      \n",
        "# View mean absolute error\n",
        "print('MAE:', mean(absolute(scores)))\n",
        "\n",
        "# View RMSE\n",
        "print('RMSE:', sqrt(mean(absolute(scores))))"
      ],
      "execution_count": 71,
      "outputs": [
        {
          "output_type": "stream",
          "name": "stdout",
          "text": [
            "MAE: 1224.7614973407574\n",
            "RMSE: 34.99659265329637\n"
          ]
        }
      ]
    },
    {
      "cell_type": "code",
      "metadata": {
        "colab": {
          "base_uri": "https://localhost:8080/"
        },
        "id": "rKjRs543FVrp",
        "outputId": "b712ad5c-63ed-4615-ec6c-3cb86108493c"
      },
      "source": [
        "# Perform cross-validation\n",
        "# Define cross-validation method to use\n",
        "cv = KFold(n_splits=10, random_state=4, shuffle=True)\n",
        "\n",
        "# Build multiple linear regression model\n",
        "model = LinearRegression()\n",
        "\n",
        "# Use k-fold CV to evaluate model\n",
        "scores = cross_val_score(model, X_test, Y_test, scoring='neg_mean_absolute_error',\n",
        "                         cv=cv, n_jobs=-1)\n",
        "                      \n",
        "# View mean absolute error\n",
        "print('MAE:', mean(absolute(scores)))\n",
        "\n",
        "# View RMSE\n",
        "print('RMSE:', sqrt(mean(absolute(scores))))"
      ],
      "execution_count": 72,
      "outputs": [
        {
          "output_type": "stream",
          "name": "stdout",
          "text": [
            "MAE: 1286.381357813389\n",
            "RMSE: 35.866158949814924\n"
          ]
        }
      ]
    },
    {
      "cell_type": "markdown",
      "metadata": {
        "id": "oQFiB9R2x5Em"
      },
      "source": [
        "# Regression\n",
        "\n",
        "\n"
      ]
    },
    {
      "cell_type": "markdown",
      "metadata": {
        "id": "Cfnj9rM4Zd39"
      },
      "source": [
        "Notes:\n",
        "* Before applying regression to all variables, convert strings to numeric values. My assumption here is that we need to perform one-hot-encoding on objList and pull back into the main dataframe `df`"
      ]
    },
    {
      "cell_type": "markdown",
      "metadata": {
        "id": "fKG49WoVBXGO"
      },
      "source": [
        "Notes:\n",
        "* Custom functions to compute model accuracy (from Lecture notes)\n",
        "```\n",
        "def getProbAccuracyScores( NAME, MODEL, X, Y ) :\n",
        "    pred = MODEL.predict( X )\n",
        "    probs = MODEL.predict_proba( X )\n",
        "    acc_score = metrics.accuracy_score(Y, pred)\n",
        "    p1 = probs[:,1]\n",
        "    fpr, tpr, threshold = metrics.roc_curve( Y, p1)\n",
        "    auc = metrics.auc(fpr,tpr)\n",
        "    return [NAME, acc_score, fpr, tpr, auc]\n",
        "```\n",
        "```\n",
        "def print_ROC_Curve( TITLE, LIST ) :\n",
        "    fig = plt.figure(figsize=(6,4))\n",
        "    plt.title( TITLE )\n",
        "    for theResults in LIST :\n",
        "        NAME = theResults[0]\n",
        "        fpr = theResults[2]\n",
        "        tpr = theResults[3]\n",
        "        auc = theResults[4]\n",
        "        theLabel = \"AUC \" + NAME + ' %0.2f' % auc\n",
        "        plt.plot(fpr, tpr, label = theLabel )\n",
        "    plt.legend(loc = 'lower right')\n",
        "    plt.plot([0, 1], [0, 1],'r--')\n",
        "    plt.xlim([0, 1])\n",
        "    plt.ylim([0, 1])\n",
        "    plt.ylabel('True Positive Rate')\n",
        "    plt.xlabel('False Positive Rate')\n",
        "    plt.show()\n",
        "```\n",
        "```\n",
        "def print_Accuracy( TITLE, LIST ) :\n",
        "    print( TITLE )\n",
        "    print( \"======\" )\n",
        "    for theResults in LIST :\n",
        "        NAME = theResults[0]\n",
        "        ACC = theResults[1]\n",
        "        print( NAME, \" = \", ACC )\n",
        "    print( \"------\\n\\n\" )\n",
        "```\n",
        "```\n",
        "def getAmtAccuracyScores( NAME, MODEL, X, Y ) :\n",
        "    pred = MODEL.predict( X )\n",
        "    MEAN = Y.mean()\n",
        "    RMSE = math.sqrt( metrics.mean_squared_error( Y, pred))\n",
        "    return [NAME, RMSE, MEAN]\n",
        "```\n",
        "```\n",
        "def getTreeVars( TREE, varNames ) :\n",
        "    tree_ = TREE.tree_\n",
        "    varName = [ varNames[i] if i != _tree.TREE_UNDEFINED else \"undefined!\" for i in tree_.feature ]\n",
        "\n",
        "    nameSet = set()\n",
        "    for i in tree_.feature :\n",
        "        if i != _tree.TREE_UNDEFINED :\n",
        "            nameSet.add( i )\n",
        "    nameList = list( nameSet )\n",
        "    parameter_list = list()\n",
        "    for i in nameList :\n",
        "        parameter_list.append( varNames[i] )\n",
        "    return parameter_list\n",
        "```\n",
        "```\n",
        "def getCoefLogit( MODEL, TRAIN_DATA ) :\n",
        "    varNames = list( TRAIN_DATA.columns.values )\n",
        "    coef_dict = {}\n",
        "    coef_dict[\"INTERCEPT\"] = MODEL.intercept_[0]\n",
        "    for coef, feat in zip(MODEL.coef_[0],varNames):\n",
        "        coef_dict[feat] = coef\n",
        "    print(\"\\nCRASH\")\n",
        "    print(\"---------\")\n",
        "    print(\"Total Variables: \", len( coef_dict ) )\n",
        "    for i in coef_dict :\n",
        "        print( i, \" = \", coef_dict[i]  )\n",
        "```\n",
        "```\n",
        "def getCoefLinear( MODEL, TRAIN_DATA ) :\n",
        "    varNames = list( TRAIN_DATA.columns.values )\n",
        "    coef_dict = {}\n",
        "    coef_dict[\"INTERCEPT\"] = MODEL.intercept_\n",
        "    for coef, feat in zip(MODEL.coef_,varNames):\n",
        "        coef_dict[feat] = coef\n",
        "    print(\"\\nDAMAGES\")\n",
        "    print(\"---------\")\n",
        "    print(\"Total Variables: \", len( coef_dict ) )\n",
        "    for i in coef_dict :\n",
        "        print( i, \" = \", coef_dict[i]  )\n",
        "```"
      ]
    },
    {
      "cell_type": "markdown",
      "metadata": {
        "id": "sshoA5fGE5vr"
      },
      "source": [
        "#### Model Accuracy Metrics"
      ]
    },
    {
      "cell_type": "code",
      "metadata": {
        "id": "_ph7NZ71Ei7e"
      },
      "source": [
        "# Custom functions from lecture notes\n",
        "def getProbAccuracyScores( NAME, MODEL, X, Y ) :\n",
        "  pred = MODEL.predict( X )\n",
        "  probs = MODEL.predict_proba( X )\n",
        "  acc_score = metrics.accuracy_score(Y, pred)\n",
        "  p1 = probs[:,1]\n",
        "  fpr, tpr, threshold = metrics.roc_curve( Y, p1)\n",
        "  auc = metrics.auc(fpr,tpr)\n",
        "  return [NAME, acc_score, fpr, tpr, auc]\n",
        "\n",
        "def getAmtAccuracyScores( NAME, MODEL, X, Y ) :\n",
        "  pred = MODEL.predict( X )\n",
        "  MEAN = Y.mean()\n",
        "  RMSE = math.sqrt( metrics.mean_squared_error( Y, pred))\n",
        "  return [NAME, RMSE, MEAN]\n",
        "\n",
        "def print_ROC_Curve( TITLE, LIST ) :\n",
        "  fig = plt.figure(figsize=(6,4))\n",
        "  plt.title( TITLE )\n",
        "  for theResults in LIST :\n",
        "      NAME = theResults[0]\n",
        "      fpr = theResults[2]\n",
        "      tpr = theResults[3]\n",
        "      auc = theResults[4]\n",
        "      theLabel = \"AUC \" + NAME + ' %0.2f' % auc\n",
        "      plt.plot(fpr, tpr, label = theLabel )\n",
        "  plt.legend(loc = 'lower right')\n",
        "  plt.plot([0, 1], [0, 1],'r--')\n",
        "  plt.xlim([0, 1])\n",
        "  plt.ylim([0, 1])\n",
        "  plt.ylabel('True Positive Rate')\n",
        "  plt.xlabel('False Positive Rate')\n",
        "  plt.show()\n",
        "\n",
        "def print_Accuracy( TITLE, LIST ) :\n",
        "  print( TITLE )\n",
        "  print( \"======\" )\n",
        "  for theResults in LIST :\n",
        "      NAME = theResults[0]\n",
        "      ACC = theResults[1]\n",
        "      print( NAME, \" = \", ACC )\n",
        "  print( \"------\\n\\n\" )\n",
        "\n",
        "def getCoefLogit( MODEL, TRAIN_DATA ) :\n",
        "    varNames = list( TRAIN_DATA.columns.values )\n",
        "    coef_dict = {}\n",
        "    coef_dict[\"INTERCEPT\"] = MODEL.intercept_[0]\n",
        "    for coef, feat in zip(MODEL.coef_[0],varNames):\n",
        "        coef_dict[feat] = coef\n",
        "    print(\"\\nLOAN DEFAULT\")\n",
        "    print(\"---------\")\n",
        "    print(\"Total Variables: \", len( coef_dict ) )\n",
        "    for i in coef_dict :\n",
        "        print( i, \" = \", coef_dict[i]  )\n",
        "\n",
        "def getCoefLinear( MODEL, TRAIN_DATA ) :\n",
        "    varNames = list( TRAIN_DATA.columns.values )\n",
        "    coef_dict = {}\n",
        "    coef_dict[\"INTERCEPT\"] = MODEL.intercept_\n",
        "    for coef, feat in zip(MODEL.coef_,varNames):\n",
        "        coef_dict[feat] = coef\n",
        "    print(\"\\nLOSS AMOUNT\")\n",
        "    print(\"---------\")\n",
        "    print(\"Total Variables: \", len( coef_dict ) )\n",
        "    for i in coef_dict :\n",
        "        print( i, \" = \", coef_dict[i]  )"
      ],
      "execution_count": 103,
      "outputs": []
    },
    {
      "cell_type": "markdown",
      "metadata": {
        "id": "eiBkhYFbt3Z4"
      },
      "source": [
        "### Decision Tree (non-REG)"
      ]
    },
    {
      "cell_type": "code",
      "metadata": {
        "colab": {
          "base_uri": "https://localhost:8080/",
          "height": 543
        },
        "id": "0abh159dkqPb",
        "outputId": "88e8a668-8804-428a-ee19-4f3a49112b31"
      },
      "source": [
        "# Loan Default\n",
        "WHO = \"TREE\"\n",
        "\n",
        "CLM = tree.DecisionTreeClassifier(random_state=4, max_depth=5)\n",
        "CLM = CLM.fit(X_train, Y_train[TARGET_BF])\n",
        "\n",
        "TRAIN_CLM = getProbAccuracyScores(WHO + \"_Train\", CLM, X_train, Y_train[TARGET_BF])\n",
        "TEST_CLM = getProbAccuracyScores(WHO, CLM, X_test, Y_test[TARGET_BF])\n",
        "\n",
        "print_ROC_Curve(WHO, [TRAIN_CLM, TEST_CLM]) \n",
        "print_Accuracy(WHO + \" CLASSIFICATION ACCURACY\", [TRAIN_CLM, TEST_CLM])\n",
        "\n",
        "feature_cols = list(X_df.columns.values)\n",
        "tree.export_graphviz(CLM, out_file='tree_f.txt',filled=True,\n",
        "                     rounded=True, feature_names = feature_cols,\n",
        "                     impurity=False, class_names=[\"Good\",\"Bad\"])\n",
        "vars_tree_flag = getTreeVars(CLM, feature_cols) \n",
        "\n",
        "# Loss Amount\n",
        "AMT = tree.DecisionTreeRegressor(max_depth=4)\n",
        "AMT = AMT.fit(X_train, Y_train[TARGET_LA])\n",
        "\n",
        "TRAIN_AMT = getAmtAccuracyScores(WHO + \"_Train\", AMT, X_train, Y_train[TARGET_LA])\n",
        "TEST_AMT = getAmtAccuracyScores(WHO, AMT, X_test, Y_test[TARGET_LA])\n",
        "print_Accuracy(WHO + \" RMSE ACCURACY\", [TRAIN_AMT, TEST_AMT])\n",
        "\n",
        "feature_cols = list(X_df.columns.values)\n",
        "vars_tree_flag = getEnsembleTreeVars(CLM, feature_cols )\n",
        "\n",
        "TREE_CLM = TEST_CLM.copy()\n",
        "TREE_AMT = TEST_AMT.copy()"
      ],
      "execution_count": 83,
      "outputs": [
        {
          "output_type": "display_data",
          "data": {
            "image/png": "[encoded data removed]",
            "text/plain": [
              "<Figure size 432x288 with 1 Axes>"
            ]
          },
          "metadata": {
            "needs_background": "light"
          }
        },
        {
          "output_type": "stream",
          "name": "stdout",
          "text": [
            "TREE CLASSIFICATION ACCURACY\n",
            "======\n",
            "TREE_Train  =  0.8913590604026845\n",
            "TREE  =  0.886744966442953\n",
            "------\n",
            "\n",
            "\n",
            "TREE RMSE ACCURACY\n",
            "======\n",
            "TREE_Train  =  3682.444532123422\n",
            "TREE  =  3522.0650799548084\n",
            "------\n",
            "\n",
            "\n"
          ]
        }
      ]
    },
    {
      "cell_type": "markdown",
      "metadata": {
        "id": "3ZnzHrLYuOIu"
      },
      "source": [
        "### Random Forest (non-REG)"
      ]
    },
    {
      "cell_type": "code",
      "metadata": {
        "colab": {
          "base_uri": "https://localhost:8080/",
          "height": 543
        },
        "id": "hva1jeQOuYrM",
        "outputId": "77bc013c-6431-4326-98d4-696e8cea57bc"
      },
      "source": [
        "# Loan Default\n",
        "WHO = \"RF\"\n",
        "\n",
        "CLM = RandomForestClassifier(random_state=4, max_depth=5)\n",
        "CLM = CLM.fit(X_train, Y_train[TARGET_BF])\n",
        "\n",
        "TRAIN_CLM = getProbAccuracyScores(WHO + \"_Train\", CLM, X_train, Y_train[ TARGET_BF])\n",
        "TEST_CLM = getProbAccuracyScores(WHO, CLM, X_test, Y_test[TARGET_BF])\n",
        "\n",
        "print_ROC_Curve(WHO, [TRAIN_CLM, TEST_CLM]) \n",
        "print_Accuracy(WHO + \" CLASSIFICATION ACCURACY\", [TRAIN_CLM, TEST_CLM])\n",
        "\n",
        "feature_cols = list(X_df.columns.values)\n",
        "vars_RF_flag = getEnsembleTreeVars(CLM, feature_cols)\n",
        "\n",
        "# Loss Amount\n",
        "AMT = RandomForestRegressor(n_estimators=100, random_state=4)\n",
        "AMT = AMT.fit( X_train, Y_train[TARGET_LA])\n",
        "\n",
        "TRAIN_AMT = getAmtAccuracyScores(WHO + \"_Train\", AMT, X_train, Y_train[TARGET_LA])\n",
        "TEST_AMT = getAmtAccuracyScores(WHO, AMT, X_test, Y_test[TARGET_LA])\n",
        "print_Accuracy(WHO + \" RMSE ACCURACY\", [TRAIN_AMT, TEST_AMT])\n",
        "\n",
        "feature_cols = list(X_df.columns.values)\n",
        "vars_tree_amt = getEnsembleTreeVars(AMT, feature_cols) \n",
        "\n",
        "## for i in vars_RF_amt:\n",
        "##   print(i)\n",
        "\n",
        "RF_CLM = TEST_CLM.copy()\n",
        "RF_AMT = TEST_AMT.copy()"
      ],
      "execution_count": 76,
      "outputs": [
        {
          "output_type": "display_data",
          "data": {
            "image/png": "[encoded data removed]",
            "text/plain": [
              "<Figure size 432x288 with 1 Axes>"
            ]
          },
          "metadata": {
            "needs_background": "light"
          }
        },
        {
          "output_type": "stream",
          "name": "stdout",
          "text": [
            "RF CLASSIFICATION ACCURACY\n",
            "======\n",
            "RF_Train  =  0.865981543624161\n",
            "RF  =  0.8540268456375839\n",
            "------\n",
            "\n",
            "\n",
            "RF RMSE ACCURACY\n",
            "======\n",
            "RF_Train  =  1015.9166695104263\n",
            "RF  =  2203.4958487415456\n",
            "------\n",
            "\n",
            "\n"
          ]
        }
      ]
    },
    {
      "cell_type": "markdown",
      "metadata": {
        "id": "lOsv9ejAvsRo"
      },
      "source": [
        "### Gradient Boosting (non-REG)"
      ]
    },
    {
      "cell_type": "code",
      "metadata": {
        "colab": {
          "base_uri": "https://localhost:8080/",
          "height": 543
        },
        "id": "RPbzP29yvlyA",
        "outputId": "c9c4187e-19a1-4638-af09-8c1aa301398a"
      },
      "source": [
        "# Gradient Boosting\n",
        "WHO = \"GB\"\n",
        "\n",
        "CLM = GradientBoostingClassifier(random_state=4, max_depth=5)\n",
        "CLM = CLM.fit( X_train, Y_train[TARGET_BF])\n",
        "\n",
        "TRAIN_CLM = getProbAccuracyScores(WHO + \"_Train\", CLM, X_train, Y_train[TARGET_BF])\n",
        "TEST_CLM = getProbAccuracyScores(WHO, CLM, X_test, Y_test[TARGET_BF])\n",
        "\n",
        "print_ROC_Curve(WHO, [TRAIN_CLM, TEST_CLM]) \n",
        "print_Accuracy(WHO + \" CLASSIFICATION ACCURACY\", [TRAIN_CLM, TEST_CLM])\n",
        "\n",
        "feature_cols = list(X_df.columns.values)\n",
        "vars_GB_flag = getEnsembleTreeVars(CLM, feature_cols)\n",
        "\n",
        "# Loss Amount\n",
        "AMT = GradientBoostingRegressor(random_state=4, max_depth=5)\n",
        "AMT = AMT.fit(X_train, Y_train[TARGET_LA])\n",
        "\n",
        "TRAIN_AMT = getAmtAccuracyScores(WHO + \"_Train\", AMT, X_train, Y_train[TARGET_LA])\n",
        "TEST_AMT = getAmtAccuracyScores(WHO, AMT, X_test, Y_test[TARGET_LA])\n",
        "print_Accuracy(WHO + \" RMSE ACCURACY\", [TRAIN_AMT, TEST_AMT])\n",
        "\n",
        "feature_cols = list(X_df.columns.values )\n",
        "vars_GB_amt = getEnsembleTreeVars(AMT, feature_cols)\n",
        "\n",
        "##for i in vars_GB_amt :\n",
        "##    print( i )\n",
        "\n",
        "GB_CLM = TEST_CLM.copy()\n",
        "GB_AMT = TEST_AMT.copy()"
      ],
      "execution_count": 77,
      "outputs": [
        {
          "output_type": "display_data",
          "data": {
            "image/png": "[encoded data removed]",
            "text/plain": [
              "<Figure size 432x288 with 1 Axes>"
            ]
          },
          "metadata": {
            "needs_background": "light"
          }
        },
        {
          "output_type": "stream",
          "name": "stdout",
          "text": [
            "GB CLASSIFICATION ACCURACY\n",
            "======\n",
            "GB_Train  =  0.9658137583892618\n",
            "GB  =  0.9177852348993288\n",
            "------\n",
            "\n",
            "\n",
            "GB RMSE ACCURACY\n",
            "======\n",
            "GB_Train  =  1500.9969536224444\n",
            "GB  =  2350.023037847418\n",
            "------\n",
            "\n",
            "\n"
          ]
        }
      ]
    },
    {
      "cell_type": "markdown",
      "metadata": {
        "id": "QmM4bOgc401e"
      },
      "source": [
        "## Applying Regression to all variables ('REG_ALL')\n",
        " - Using `LogisticRegression()` and `LinearRegression()` on `TARGET_LA` \n",
        " - Hyperparameters: `solver=newton-cg` outperformed `solver=liblinear`"
      ]
    },
    {
      "cell_type": "code",
      "metadata": {
        "colab": {
          "base_uri": "https://localhost:8080/",
          "height": 1000
        },
        "id": "XYOp9Jbc4G1A",
        "outputId": "caa4db97-b1f7-489d-ac2f-d2d21b3f34e2"
      },
      "source": [
        "# Apply regression to all variables \n",
        "WHO = \"REG_ALL\"\n",
        "\n",
        "CLM = LogisticRegression(solver='newton-cg', random_state=4, max_iter=1000)\n",
        "CLM = CLM.fit(X_train, Y_train[TARGET_BF])\n",
        "print(\"Number of features used: {}\".format(np.sum(CLM.coef_ !=0)),'\\n')\n",
        "\n",
        "TRAIN_CLM = getProbAccuracyScores(WHO + '_Train', CLM, X_train, Y_train[TARGET_BF])\n",
        "TEST_CLM = getProbAccuracyScores(WHO, CLM, X_test, Y_test[TARGET_BF])\n",
        "\n",
        "print_ROC_Curve(WHO, [TRAIN_CLM, TEST_CLM]) \n",
        "print_Accuracy(WHO + \" CLASSIFICATION ACCURACY\", [TRAIN_CLM, TEST_CLM])\n",
        "\n",
        "# Loss Amount \n",
        "AMT = LinearRegression()\n",
        "AMT = AMT.fit(X_train, Y_train[TARGET_LA])\n",
        "\n",
        "TRAIN_AMT = getAmtAccuracyScores(WHO + \"_Train\", AMT, X_train, Y_train[TARGET_LA])\n",
        "TEST_AMT = getAmtAccuracyScores(WHO, AMT, X_test, Y_test[TARGET_LA])\n",
        "print_Accuracy(WHO + \"RMSE ACCURACY\", [TRAIN_AMT, TEST_AMT])\n",
        "\n",
        "varNames = list(X_train.columns.values)\n",
        "\n",
        "REG_ALL_CLM_COEF = getCoefLogit(CLM, X_train)\n",
        "REG_ALL_AMT_COEF = getCoefLinear(AMT, X_train)\n",
        "\n",
        "REG_ALL_CLM = TEST_CLM.copy()\n",
        "REG_ALL_AMT = TEST_AMT.copy()"
      ],
      "execution_count": 78,
      "outputs": [
        {
          "output_type": "stream",
          "name": "stdout",
          "text": [
            "Number of features used: 18 \n",
            "\n"
          ]
        },
        {
          "output_type": "display_data",
          "data": {
            "image/png": "[encoded data removed]",
            "text/plain": [
              "<Figure size 432x288 with 1 Axes>"
            ]
          },
          "metadata": {
            "needs_background": "light"
          }
        },
        {
          "output_type": "stream",
          "name": "stdout",
          "text": [
            "REG_ALL CLASSIFICATION ACCURACY\n",
            "======\n",
            "REG_ALL_Train  =  0.8385067114093959\n",
            "REG_ALL  =  0.8330536912751678\n",
            "------\n",
            "\n",
            "\n",
            "REG_ALLRMSE ACCURACY\n",
            "======\n",
            "REG_ALL_Train  =  4298.846279206346\n",
            "REG_ALL  =  4332.631738969421\n",
            "------\n",
            "\n",
            "\n",
            "\n",
            "LOAN DEFAULT\n",
            "---------\n",
            "Total Variables:  19\n",
            "INTERCEPT  =  -2.3306549575502244\n",
            "LOAN  =  -2.0781452280683852e-05\n",
            "MORTDUE  =  -3.631470951741546e-06\n",
            "VALUE  =  3.324882659813438e-06\n",
            "YOJ  =  -0.00928674501193654\n",
            "DEROG  =  0.5663190682013873\n",
            "DELINQ  =  0.7479857858663778\n",
            "CLAGE  =  -0.005373408778728647\n",
            "NINQ  =  0.1751238288631761\n",
            "CLNO  =  -0.014309422308958505\n",
            "DEBTINC  =  0.05633909854948357\n",
            "IMP_REASON_DebtCon  =  -0.22289863109429675\n",
            "IMP_REASON_HomeImp  =  0.09176595820170938\n",
            "IMP_JOB_Mgr  =  -0.08738277430632305\n",
            "IMP_JOB_Office  =  -0.6488536336732066\n",
            "IMP_JOB_Other  =  -0.07618788733316986\n",
            "IMP_JOB_ProfExe  =  -0.11599250972356301\n",
            "IMP_JOB_Sales  =  0.4711607512215555\n",
            "IMP_JOB_Self  =  0.3261233809221234\n",
            "\n",
            "LOSS AMOUNT\n",
            "---------\n",
            "Total Variables:  19\n",
            "INTERCEPT  =  6603.264209086003\n",
            "LOAN  =  0.14252614446584147\n",
            "MORTDUE  =  0.0018716599686331584\n",
            "VALUE  =  0.004128843223589245\n",
            "YOJ  =  -9.285921745848407\n",
            "DEROG  =  388.4135659022829\n",
            "DELINQ  =  939.8503386722928\n",
            "CLAGE  =  -5.475561201953284\n",
            "NINQ  =  149.57290869077303\n",
            "CLNO  =  63.82759818963904\n",
            "DEBTINC  =  22.860427296752977\n",
            "IMP_REASON_DebtCon  =  321.65414763018947\n",
            "IMP_REASON_HomeImp  =  -321.6541476301898\n",
            "IMP_JOB_Mgr  =  -451.03386601376377\n",
            "IMP_JOB_Office  =  -203.36095545062852\n",
            "IMP_JOB_Other  =  -220.16580476822588\n",
            "IMP_JOB_ProfExe  =  -302.10723761120596\n",
            "IMP_JOB_Sales  =  881.2653123693373\n",
            "IMP_JOB_Self  =  295.40255147448624\n"
          ]
        }
      ]
    },
    {
      "cell_type": "markdown",
      "metadata": {
        "id": "gJyikYQb9OYk"
      },
      "source": [
        "Notes:\n",
        "* `'REG_TREE'` is ~11% less accurate than the decision tree labeled `'TREE'` displayed above (77% versus 88%)"
      ]
    },
    {
      "cell_type": "markdown",
      "metadata": {
        "id": "4XE5oQwX2LWG"
      },
      "source": [
        "## Decision Tree ('REG_TREE')"
      ]
    },
    {
      "cell_type": "code",
      "metadata": {
        "colab": {
          "base_uri": "https://localhost:8080/",
          "height": 1000
        },
        "id": "JKLncosC2J2m",
        "outputId": "ae583645-6f39-4985-a8b0-e1f4c3025028"
      },
      "source": [
        "# Regression Decision Tree\n",
        "WHO = \"REG_TREE\"\n",
        "\n",
        "CLM = LogisticRegression(solver='newton-cg', max_iter=1000)\n",
        "CLM = CLM.fit(X_train, Y_train[TARGET_BF])\n",
        "\n",
        "TRAIN_CLM = getProbAccuracyScores(WHO + \"_Train\", CLM, X_train, Y_train[TARGET_BF])\n",
        "TEST_CLM = getProbAccuracyScores(WHO, CLM, X_test, Y_test[TARGET_BF])\n",
        "\n",
        "print_ROC_Curve(WHO, [TRAIN_CLM, TEST_CLM]) \n",
        "print_Accuracy(WHO + \" CLASSIFICATION ACCURACY\", [TRAIN_CLM, TEST_CLM])\n",
        "\n",
        "# Loss Amount\n",
        "AMT = LinearRegression()\n",
        "AMT = AMT.fit(X_train, Y_train[TARGET_LA])\n",
        "\n",
        "TRAIN_AMT = getAmtAccuracyScores(WHO + \"_Train\", AMT, X_train, Y_train[TARGET_LA])\n",
        "TEST_AMT = getAmtAccuracyScores(WHO, AMT, X_test, Y_test[TARGET_LA])\n",
        "print_Accuracy(WHO + \" RMSE ACCURACY\", [TRAIN_AMT, TEST_AMT])\n",
        "\n",
        "varNames = list(X_train.columns.values)\n",
        "\n",
        "REG_TREE_CLM_COEF = getCoefLogit(CLM, X_train)\n",
        "REG_TREE_AMT_COEF = getCoefLinear(AMT, X_train)\n",
        "\n",
        "REG_TREE_CLM = TEST_CLM.copy()\n",
        "REG_TREE_AMT = TEST_AMT.copy()"
      ],
      "execution_count": 92,
      "outputs": [
        {
          "output_type": "display_data",
          "data": {
            "image/png": "[encoded data removed]",
            "text/plain": [
              "<Figure size 432x288 with 1 Axes>"
            ]
          },
          "metadata": {
            "needs_background": "light"
          }
        },
        {
          "output_type": "stream",
          "name": "stdout",
          "text": [
            "REG_TREE CLASSIFICATION ACCURACY\n",
            "======\n",
            "REG_TREE_Train  =  0.8385067114093959\n",
            "REG_TREE  =  0.8330536912751678\n",
            "------\n",
            "\n",
            "\n",
            "REG_TREE RMSE ACCURACY\n",
            "======\n",
            "REG_TREE_Train  =  4298.846279206346\n",
            "REG_TREE  =  4332.631738969421\n",
            "------\n",
            "\n",
            "\n",
            "\n",
            "LOAN DEFAULT\n",
            "---------\n",
            "Total Variables:  19\n",
            "INTERCEPT  =  -2.3306549575502244\n",
            "LOAN  =  -2.0781452280683852e-05\n",
            "MORTDUE  =  -3.631470951741546e-06\n",
            "VALUE  =  3.324882659813438e-06\n",
            "YOJ  =  -0.00928674501193654\n",
            "DEROG  =  0.5663190682013873\n",
            "DELINQ  =  0.7479857858663778\n",
            "CLAGE  =  -0.005373408778728647\n",
            "NINQ  =  0.1751238288631761\n",
            "CLNO  =  -0.014309422308958505\n",
            "DEBTINC  =  0.05633909854948357\n",
            "IMP_REASON_DebtCon  =  -0.22289863109429675\n",
            "IMP_REASON_HomeImp  =  0.09176595820170938\n",
            "IMP_JOB_Mgr  =  -0.08738277430632305\n",
            "IMP_JOB_Office  =  -0.6488536336732066\n",
            "IMP_JOB_Other  =  -0.07618788733316986\n",
            "IMP_JOB_ProfExe  =  -0.11599250972356301\n",
            "IMP_JOB_Sales  =  0.4711607512215555\n",
            "IMP_JOB_Self  =  0.3261233809221234\n",
            "\n",
            "LOSS AMOUNT\n",
            "---------\n",
            "Total Variables:  19\n",
            "INTERCEPT  =  6603.264209086003\n",
            "LOAN  =  0.14252614446584147\n",
            "MORTDUE  =  0.0018716599686331584\n",
            "VALUE  =  0.004128843223589245\n",
            "YOJ  =  -9.285921745848407\n",
            "DEROG  =  388.4135659022829\n",
            "DELINQ  =  939.8503386722928\n",
            "CLAGE  =  -5.475561201953284\n",
            "NINQ  =  149.57290869077303\n",
            "CLNO  =  63.82759818963904\n",
            "DEBTINC  =  22.860427296752977\n",
            "IMP_REASON_DebtCon  =  321.65414763018947\n",
            "IMP_REASON_HomeImp  =  -321.6541476301898\n",
            "IMP_JOB_Mgr  =  -451.03386601376377\n",
            "IMP_JOB_Office  =  -203.36095545062852\n",
            "IMP_JOB_Other  =  -220.16580476822588\n",
            "IMP_JOB_ProfExe  =  -302.10723761120596\n",
            "IMP_JOB_Sales  =  881.2653123693373\n",
            "IMP_JOB_Self  =  295.40255147448624\n"
          ]
        }
      ]
    },
    {
      "cell_type": "code",
      "metadata": {
        "colab": {
          "base_uri": "https://localhost:8080/",
          "height": 1000
        },
        "id": "r2JNMyJ_6oDj",
        "outputId": "8ceb59a1-4416-4f59-c160-3f6d3464a601"
      },
      "source": [
        "# Decision Tree using regression\n",
        "WHO = \"REG_TREE\"\n",
        "\n",
        "CLM = LogisticRegression(solver='newton-cg', max_iter=1000)\n",
        "CLM = CLM.fit(X_train, Y_train[TARGET_BF])\n",
        "\n",
        "TRAIN_CLM = getProbAccuracyScores(WHO + \"_Train\", CLM, X_train, Y_train[TARGET_BF])\n",
        "TEST_CLM = getProbAccuracyScores(WHO, CLM, X_test, Y_test[TARGET_BF])\n",
        "\n",
        "print_ROC_Curve(WHO, [TRAIN_CLM, TEST_CLM]) \n",
        "print_Accuracy(WHO + \"CLASSIFICATION ACCURACY\", [TRAIN_CLM, TEST_CLM])\n",
        "\n",
        "# Loss Amount\n",
        "AMT = LinearRegression()\n",
        "AMT = AMT.fit(X_train, Y_train[TARGET_LA])\n",
        "\n",
        "TRAIN_AMT = getAmtAccuracyScores(WHO + \"_Train\", AMT, X_train, Y_train[TARGET_LA])\n",
        "TEST_AMT = getAmtAccuracyScores(WHO, AMT, X_test, Y_test[TARGET_LA])\n",
        "print_Accuracy(WHO + \"RMSE ACCURACY\", [TRAIN_AMT, TEST_AMT])\n",
        "\n",
        "varNames = list(X_train.columns.values)\n",
        "\n",
        "REG_TREE_CLM_COEF = getCoefLogit(CLM, X_train)\n",
        "REG_TREE_AMT_COEF = getCoefLinear(AMT, X_train)\n",
        "\n",
        "REG_TREE_CLM = TEST_CLM.copy()\n",
        "REG_TREE_AMT = TEST_AMT.copy()"
      ],
      "execution_count": 93,
      "outputs": [
        {
          "output_type": "display_data",
          "data": {
            "image/png": "[encoded data removed]",
            "text/plain": [
              "<Figure size 432x288 with 1 Axes>"
            ]
          },
          "metadata": {
            "needs_background": "light"
          }
        },
        {
          "output_type": "stream",
          "name": "stdout",
          "text": [
            "REG_TREECLASSIFICATION ACCURACY\n",
            "======\n",
            "REG_TREE_Train  =  0.8385067114093959\n",
            "REG_TREE  =  0.8330536912751678\n",
            "------\n",
            "\n",
            "\n",
            "REG_TREERMSE ACCURACY\n",
            "======\n",
            "REG_TREE_Train  =  4298.846279206346\n",
            "REG_TREE  =  4332.631738969421\n",
            "------\n",
            "\n",
            "\n",
            "\n",
            "LOAN DEFAULT\n",
            "---------\n",
            "Total Variables:  19\n",
            "INTERCEPT  =  -2.3306549575502244\n",
            "LOAN  =  -2.0781452280683852e-05\n",
            "MORTDUE  =  -3.631470951741546e-06\n",
            "VALUE  =  3.324882659813438e-06\n",
            "YOJ  =  -0.00928674501193654\n",
            "DEROG  =  0.5663190682013873\n",
            "DELINQ  =  0.7479857858663778\n",
            "CLAGE  =  -0.005373408778728647\n",
            "NINQ  =  0.1751238288631761\n",
            "CLNO  =  -0.014309422308958505\n",
            "DEBTINC  =  0.05633909854948357\n",
            "IMP_REASON_DebtCon  =  -0.22289863109429675\n",
            "IMP_REASON_HomeImp  =  0.09176595820170938\n",
            "IMP_JOB_Mgr  =  -0.08738277430632305\n",
            "IMP_JOB_Office  =  -0.6488536336732066\n",
            "IMP_JOB_Other  =  -0.07618788733316986\n",
            "IMP_JOB_ProfExe  =  -0.11599250972356301\n",
            "IMP_JOB_Sales  =  0.4711607512215555\n",
            "IMP_JOB_Self  =  0.3261233809221234\n",
            "\n",
            "LOSS AMOUNT\n",
            "---------\n",
            "Total Variables:  19\n",
            "INTERCEPT  =  6603.264209086003\n",
            "LOAN  =  0.14252614446584147\n",
            "MORTDUE  =  0.0018716599686331584\n",
            "VALUE  =  0.004128843223589245\n",
            "YOJ  =  -9.285921745848407\n",
            "DEROG  =  388.4135659022829\n",
            "DELINQ  =  939.8503386722928\n",
            "CLAGE  =  -5.475561201953284\n",
            "NINQ  =  149.57290869077303\n",
            "CLNO  =  63.82759818963904\n",
            "DEBTINC  =  22.860427296752977\n",
            "IMP_REASON_DebtCon  =  321.65414763018947\n",
            "IMP_REASON_HomeImp  =  -321.6541476301898\n",
            "IMP_JOB_Mgr  =  -451.03386601376377\n",
            "IMP_JOB_Office  =  -203.36095545062852\n",
            "IMP_JOB_Other  =  -220.16580476822588\n",
            "IMP_JOB_ProfExe  =  -302.10723761120596\n",
            "IMP_JOB_Sales  =  881.2653123693373\n",
            "IMP_JOB_Self  =  295.40255147448624\n"
          ]
        }
      ]
    },
    {
      "cell_type": "markdown",
      "metadata": {
        "id": "QLyVwZP55gjY"
      },
      "source": [
        "## Random Forest ('REG_RF')\n",
        "* Appears `'REG_RF' `accomplished the same test accuracy of 77% as `'REG_TREE'` using less variables"
      ]
    },
    {
      "cell_type": "code",
      "metadata": {
        "id": "lzbscb-41Hl-"
      },
      "source": [
        "'''getEnsembleTreeVars() works best for decision trees, but not for linear regression and deep learning'''\n",
        "def getEnsembleTreeVars(ENSTREE, varNames):\n",
        "    importance = ENSTREE.feature_importances_\n",
        "    index = np.argsort(importance)\n",
        "    theList = []\n",
        "    for i in index :\n",
        "        imp_val = importance[i]\n",
        "        if imp_val > np.average( ENSTREE.feature_importances_ ) :\n",
        "            v = int( imp_val / np.max( ENSTREE.feature_importances_ ) * 100 )\n",
        "            theList.append( ( varNames[i], v ) )\n",
        "    theList = sorted(theList,key=itemgetter(1),reverse=True)\n",
        "    return theList"
      ],
      "execution_count": 94,
      "outputs": []
    },
    {
      "cell_type": "code",
      "metadata": {
        "colab": {
          "base_uri": "https://localhost:8080/",
          "height": 1000
        },
        "id": "w_9ubOVWxy_7",
        "outputId": "fc89a099-05d0-420b-cde4-02658819bcd0"
      },
      "source": [
        "# Random Forest\n",
        "WHO = \"REG_RF\"\n",
        "\n",
        "# Variable selection for TARGET_BF\n",
        "print('\\n')\n",
        "RF_flag = []\n",
        "for i in vars_RF_flag:\n",
        "    print(i)\n",
        "    theVar = i[0]\n",
        "    RF_flag.append(theVar)\n",
        "\n",
        "# Variable selection for TARGET_LA\n",
        "print('\\n')\n",
        "RF_amt = []\n",
        "for i in vars_RF_amt:\n",
        "    print(i)\n",
        "    theVar = i[0]\n",
        "    RF_amt.append(theVar)\n",
        "print('\\n')\n",
        "\n",
        "CLM = LogisticRegression(solver='newton-cg', max_iter=1000)\n",
        "CLM = CLM.fit(X_train[RF_flag], Y_train[TARGET_BF])\n",
        "\n",
        "TRAIN_CLM= getProbAccuracyScores(WHO + \"_Train\", CLM, X_train[RF_flag], Y_train[TARGET_BF])\n",
        "TEST_CLM= getProbAccuracyScores(WHO, CLM, X_test[RF_flag], Y_test[TARGET_BF])\n",
        "\n",
        "print_ROC_Curve(WHO, [TRAIN_CLM, TEST_CLM]) \n",
        "print_Accuracy(WHO + \" CLASSIFICATION ACCURACY\", [TRAIN_CLM, TEST_CLM])\n",
        "\n",
        "# Loss Amount\n",
        "AMT = LinearRegression()\n",
        "AMT = AMT.fit(X_train[RF_amt], Y_train[TARGET_LA])\n",
        "\n",
        "TRAIN_AMT = getAmtAccuracyScores(WHO + \"_Train\", AMT, X_train[RF_amt], Y_train[TARGET_LA])\n",
        "TEST_AMT = getAmtAccuracyScores(WHO, AMT, X_test[RF_amt], Y_test[TARGET_LA])\n",
        "print_Accuracy(WHO + \" RMSE ACCURACY\", [TRAIN_AMT, TEST_AMT])\n",
        "\n",
        "\n",
        "REG_RF_CLM_COEF = getCoefLogit(CLM, X_train[RF_flag])\n",
        "REG_RF_AMT_COEF = getCoefLinear(AMT, X_train[RF_amt])\n",
        "\n",
        "REG_RF_CLM = TEST_CLM.copy()\n",
        "REG_RF_AMT = TEST_AMT.copy()"
      ],
      "execution_count": 99,
      "outputs": [
        {
          "output_type": "stream",
          "name": "stdout",
          "text": [
            "\n",
            "\n",
            "('DEBTINC', 100)\n",
            "('DELINQ', 65)\n",
            "('DEROG', 43)\n",
            "('CLAGE', 22)\n",
            "('LOAN', 19)\n",
            "\n",
            "\n",
            "('LOAN', 100)\n",
            "('DELINQ', 74)\n",
            "('CLNO', 26)\n",
            "('DEBTINC', 25)\n",
            "\n",
            "\n"
          ]
        },
        {
          "output_type": "display_data",
          "data": {
            "image/png": "[encoded data removed]",
            "text/plain": [
              "<Figure size 432x288 with 1 Axes>"
            ]
          },
          "metadata": {
            "needs_background": "light"
          }
        },
        {
          "output_type": "stream",
          "name": "stdout",
          "text": [
            "REG_RF CLASSIFICATION ACCURACY\n",
            "======\n",
            "REG_RF_Train  =  0.8345218120805369\n",
            "REG_RF  =  0.8280201342281879\n",
            "------\n",
            "\n",
            "\n",
            "REG_RF RMSE ACCURACY\n",
            "======\n",
            "REG_RF_Train  =  4372.097268781967\n",
            "REG_RF  =  4381.170241716728\n",
            "------\n",
            "\n",
            "\n",
            "\n",
            "LOAN DEFAULT\n",
            "---------\n",
            "Total Variables:  6\n",
            "INTERCEPT  =  -2.4881656583510634\n",
            "DEBTINC  =  0.05523728068320004\n",
            "DELINQ  =  0.7016798416384644\n",
            "DEROG  =  0.6023007628597047\n",
            "CLAGE  =  -0.006254284282515459\n",
            "LOAN  =  -1.9638547209014833e-05\n",
            "\n",
            "LOSS AMOUNT\n",
            "---------\n",
            "Total Variables:  5\n",
            "INTERCEPT  =  5551.478085406285\n",
            "LOAN  =  0.15120496257955018\n",
            "DELINQ  =  980.4588049888897\n",
            "CLNO  =  66.94524698550617\n",
            "DEBTINC  =  36.51133291298322\n"
          ]
        }
      ]
    },
    {
      "cell_type": "markdown",
      "metadata": {
        "id": "MF5g7INiFGdA"
      },
      "source": [
        "## Regression Gradient Boosting ('REG_GB')\n",
        "* Results show a ~1% decrease in test data accuracy compared to `'REG_RF'` and `'REG_TREE'`\n",
        "* Train % accuracy is ~3% less than the `'REG_RF'` and `'REG_TREE'`"
      ]
    },
    {
      "cell_type": "code",
      "metadata": {
        "colab": {
          "base_uri": "https://localhost:8080/",
          "height": 1000
        },
        "id": "atVWx0KYxzMw",
        "outputId": "44aa707d-ed84-47ec-ea49-b9baabae6e59"
      },
      "source": [
        "# Regression Gradient Boosting\n",
        "WHO = \"REG_GB\"\n",
        "\n",
        "# Variable selection for TARGET_BF\n",
        "print('\\n')\n",
        "GB_flag = []\n",
        "for i in vars_GB_flag:\n",
        "    print(i)\n",
        "    theVar = i[0]\n",
        "    GB_flag.append(theVar)\n",
        "\n",
        "# Variable selection for TARGET_LA\n",
        "print('\\n')\n",
        "GB_amt = []\n",
        "for i in vars_GB_amt:\n",
        "    print(i)\n",
        "    theVar = i[0]\n",
        "    GB_amt.append(theVar)\n",
        "print('\\n')\n",
        "\n",
        "CLM = LogisticRegression(solver='newton-cg', max_iter=1000)\n",
        "CLM = CLM.fit(X_train[GB_flag], Y_train[ TARGET_BF])\n",
        "\n",
        "TRAIN_CLM = getProbAccuracyScores(WHO + \"_Train\", CLM, X_train[GB_flag], Y_train[TARGET_BF])\n",
        "TEST_CLM = getProbAccuracyScores(WHO, CLM, X_test[GB_flag], Y_test[TARGET_BF])\n",
        "\n",
        "print_ROC_Curve(WHO, [TRAIN_CLM, TEST_CLM]) \n",
        "print_Accuracy(WHO + \" CLASSIFICATION ACCURACY\", [TRAIN_CLM, TEST_CLM])\n",
        "\n",
        "# Loan Default\n",
        "AMT = LinearRegression()\n",
        "AMT = AMT.fit(X_train[GB_amt], Y_train[TARGET_LA])\n",
        "\n",
        "TRAIN_AMT = getAmtAccuracyScores(WHO + \"_Train\", AMT, X_train[GB_amt], Y_train[TARGET_LA])\n",
        "TEST_AMT = getAmtAccuracyScores(WHO, AMT, X_test[GB_amt], Y_test[TARGET_LA])\n",
        "print_Accuracy(WHO + \" RMSE ACCURACY\", [TRAIN_AMT, TEST_AMT])\n",
        "\n",
        "REG_GB_CLM_COEF = getCoefLogit(CLM, X_train[GB_flag])\n",
        "REG_GB_AMT_COEF = getCoefLinear(AMT, X_train[GB_amt])\n",
        "\n",
        "REG_GB_CLM = TEST_CLM.copy()\n",
        "REG_GB_AMT = TEST_AMT.copy()"
      ],
      "execution_count": 96,
      "outputs": [
        {
          "output_type": "stream",
          "name": "stdout",
          "text": [
            "\n",
            "\n",
            "('DEBTINC', 100)\n",
            "('DELINQ', 33)\n",
            "('CLAGE', 19)\n",
            "('MORTDUE', 13)\n",
            "\n",
            "\n",
            "('LOAN', 100)\n",
            "('DEBTINC', 64)\n",
            "('DELINQ', 63)\n",
            "('CLNO', 30)\n",
            "('MORTDUE', 28)\n",
            "('CLAGE', 22)\n",
            "\n",
            "\n"
          ]
        },
        {
          "output_type": "display_data",
          "data": {
            "image/png": "[encoded data removed]",
            "text/plain": [
              "<Figure size 432x288 with 1 Axes>"
            ]
          },
          "metadata": {
            "needs_background": "light"
          }
        },
        {
          "output_type": "stream",
          "name": "stdout",
          "text": [
            "REG_GB CLASSIFICATION ACCURACY\n",
            "======\n",
            "REG_GB_Train  =  0.8263422818791947\n",
            "REG_GB  =  0.8322147651006712\n",
            "------\n",
            "\n",
            "\n",
            "REG_GB RMSE ACCURACY\n",
            "======\n",
            "REG_GB_Train  =  4336.764218321065\n",
            "REG_GB  =  4384.026587839649\n",
            "------\n",
            "\n",
            "\n",
            "\n",
            "LOAN DEFAULT\n",
            "---------\n",
            "Total Variables:  5\n",
            "INTERCEPT  =  -2.3706869723722765\n",
            "DEBTINC  =  0.053206727749661197\n",
            "DELINQ  =  0.7717947311867781\n",
            "CLAGE  =  -0.006758355139865484\n",
            "MORTDUE  =  -2.1072098528776147e-06\n",
            "\n",
            "LOSS AMOUNT\n",
            "---------\n",
            "Total Variables:  7\n",
            "INTERCEPT  =  6494.998643005271\n",
            "LOAN  =  0.15113851339973017\n",
            "DEBTINC  =  28.16322825062782\n",
            "DELINQ  =  982.0735214560528\n",
            "CLNO  =  72.46685227867106\n",
            "MORTDUE  =  0.005320922452217047\n",
            "CLAGE  =  -6.471531406930691\n"
          ]
        }
      ]
    },
    {
      "cell_type": "markdown",
      "metadata": {
        "id": "6O1c7-ciHfbX"
      },
      "source": [
        "## Regression Stepwise by Features vs Performance "
      ]
    },
    {
      "cell_type": "code",
      "metadata": {
        "colab": {
          "base_uri": "https://localhost:8080/",
          "height": 1000
        },
        "id": "ieEoaVXDxzlM",
        "outputId": "587c675a-417e-42cc-f8e5-8aa01e61eb6c"
      },
      "source": [
        "U_train = X_train\n",
        "stepVarNames = list(U_train.columns.values)\n",
        "maxCols = U_train.shape[1]\n",
        "\n",
        "sfs = SFS(LogisticRegression(solver='newton-cg', max_iter=1000),\n",
        "           k_features=(1, maxCols),\n",
        "           forward=True,\n",
        "           floating=False,\n",
        "           cv=3\n",
        "           )\n",
        "sfs.fit(U_train.values, Y_train[ TARGET_BF].values)\n",
        "\n",
        "theFigure = plot_sfs(sfs.get_metric_dict(), kind=None)\n",
        "plt.title('DEFAULT PROBABILITY Sequential Forward Selection (w. StdErr)')\n",
        "plt.grid()\n",
        "plt.show()\n",
        "\n",
        "dfm = pd.DataFrame.from_dict( sfs.get_metric_dict()).T\n",
        "dfm = dfm[['feature_names', 'avg_score']]\n",
        "dfm.avg_score = dfm.avg_score.astype(float)\n",
        "\n",
        "print(\" ................... \")\n",
        "maxIndex = dfm.avg_score.argmax()\n",
        "print(\"argmax\")\n",
        "print( dfm.iloc[maxIndex, ] )\n",
        "print(\" ................... \")\n",
        "\n",
        "stepVars = dfm.iloc[maxIndex, ]\n",
        "stepVars = stepVars.feature_names\n",
        "print(stepVars)\n",
        "\n",
        "finalStepVars = []\n",
        "for i in stepVars:\n",
        "    index = int(i)\n",
        "    try:\n",
        "        theName = stepVarNames[index]\n",
        "        finalStepVars.append(theName)\n",
        "    except:\n",
        "        pass\n",
        "\n",
        "for i in finalStepVars:\n",
        "    print(i)\n",
        "\n",
        "U_train = X_train[finalStepVars]\n",
        "U_test = X_test[finalStepVars]\n",
        "\n",
        "V_train = X_train[GB_amt]\n",
        "stepVarNames = list(V_train.columns.values)\n",
        "maxCols = V_train.shape[1]\n",
        "\n",
        "sfs = SFS( LinearRegression(),\n",
        "           k_features=(1, maxCols),\n",
        "           forward=True,\n",
        "           floating=False,\n",
        "           scoring = 'r2',\n",
        "           cv=5\n",
        "           )\n",
        "sfs.fit(V_train.values, Y_train[TARGET_LA].values)\n",
        "\n",
        "theFigure = plot_sfs(sfs.get_metric_dict(), kind=None )\n",
        "plt.title('Loss Amount Sequential Forward Selection (w. StdErr)')\n",
        "plt.grid()\n",
        "plt.show()\n",
        "\n",
        "dfm = pd.DataFrame.from_dict(sfs.get_metric_dict()).T\n",
        "dfm = dfm[['feature_names', 'avg_score']]\n",
        "dfm.avg_score = dfm.avg_score.astype(float)\n",
        "\n",
        "print(\" ................... \")\n",
        "maxIndex = dfm.avg_score.argmax()\n",
        "print(\"argmax\")\n",
        "print(dfm.iloc[maxIndex, ] )\n",
        "print(\" ................... \")\n",
        "\n",
        "stepVars = dfm.iloc[maxIndex, ]\n",
        "stepVars = stepVars.feature_names\n",
        "print(stepVars)\n",
        "\n",
        "finalStepVars = []\n",
        "for i in stepVars:\n",
        "    index = int(i)\n",
        "    try:\n",
        "        theName = stepVarNames[index]\n",
        "        finalStepVars.append(theName)\n",
        "    except:\n",
        "        pass\n",
        "\n",
        "for i in finalStepVars:\n",
        "    print(i)\n",
        "\n",
        "V_train = X_train[finalStepVars]\n",
        "V_test = X_test[finalStepVars]\n",
        "\n",
        "%timeit sum(range(100))\n",
        "%memit"
      ],
      "execution_count": 98,
      "outputs": [
        {
          "output_type": "display_data",
          "data": {
            "image/png": "[encoded data removed]",
            "text/plain": [
              "<Figure size 432x288 with 1 Axes>"
            ]
          },
          "metadata": {
            "needs_background": "light"
          }
        },
        {
          "output_type": "stream",
          "name": "stdout",
          "text": [
            " ................... \n",
            "argmax\n",
            "feature_names    (2, 3, 4, 5, 6, 9, 13, 17)\n",
            "avg_score                          0.838925\n",
            "Name: 8, dtype: object\n",
            " ................... \n",
            "('2', '3', '4', '5', '6', '9', '13', '17')\n",
            "VALUE\n",
            "YOJ\n",
            "DEROG\n",
            "DELINQ\n",
            "CLAGE\n",
            "DEBTINC\n",
            "IMP_JOB_Office\n",
            "IMP_JOB_Self\n"
          ]
        },
        {
          "output_type": "display_data",
          "data": {
            "image/png": "[encoded data removed]",
            "text/plain": [
              "<Figure size 432x288 with 1 Axes>"
            ]
          },
          "metadata": {
            "needs_background": "light"
          }
        },
        {
          "output_type": "stream",
          "name": "stdout",
          "text": [
            " ................... \n",
            "argmax\n",
            "feature_names    (0, 2, 3, 4, 5)\n",
            "avg_score               0.197538\n",
            "Name: 5, dtype: object\n",
            " ................... \n",
            "('0', '2', '3', '4', '5')\n",
            "LOAN\n",
            "DELINQ\n",
            "CLNO\n",
            "MORTDUE\n",
            "CLAGE\n",
            "1000000 loops, best of 5: 1.02 µs per loop\n",
            "peak memory: 232.35 MiB, increment: 0.11 MiB\n"
          ]
        }
      ]
    },
    {
      "cell_type": "markdown",
      "metadata": {
        "id": "BdpBULXrLRVX"
      },
      "source": [
        "## Regression Stepwise ('REG_STEPWISE')"
      ]
    },
    {
      "cell_type": "markdown",
      "metadata": {
        "id": "TI6mMin2frpN"
      },
      "source": [
        "Notes:\n",
        "* Consolidated ROC Curve Chart shows the most accurate model is our initial simple Decision Tree without regression with 88% test data accuracy"
      ]
    },
    {
      "cell_type": "code",
      "metadata": {
        "colab": {
          "base_uri": "https://localhost:8080/",
          "height": 1000
        },
        "id": "ok_R5SD9LKUP",
        "outputId": "40d4d426-178d-4fe4-e60a-4025757bce66"
      },
      "source": [
        "WHO = \"REG_STEPWISE\"\n",
        "\n",
        "CLM = LogisticRegression(solver='newton-cg', max_iter=1000)\n",
        "CLM = CLM.fit(U_train, Y_train[TARGET_BF])\n",
        "\n",
        "TRAIN_CLM = getProbAccuracyScores(WHO + \"_Train\", CLM, U_train, Y_train[TARGET_BF])\n",
        "TEST_CLM = getProbAccuracyScores(WHO, CLM, U_test, Y_test[TARGET_BF])\n",
        "\n",
        "print_ROC_Curve(WHO, [TRAIN_CLM, TEST_CLM]) \n",
        "print_Accuracy(WHO + \" CLASSIFICATION ACCURACY\", [TRAIN_CLM, TEST_CLM])\n",
        "\n",
        "# Loss Amount\n",
        "AMT = LinearRegression()\n",
        "AMT = AMT.fit(V_train, Y_train[TARGET_LA])\n",
        "\n",
        "TRAIN_AMT = getAmtAccuracyScores(WHO + \"_Train\", AMT, V_train,\n",
        "                                 Y_train[TARGET_LA])\n",
        "TEST_AMT = getAmtAccuracyScores(WHO, AMT, V_test, Y_test[TARGET_LA])\n",
        "print_Accuracy(WHO + \" RMSE ACCURACY\", [TRAIN_AMT, TEST_AMT])\n",
        "\n",
        "REG_STEP_CLM_COEF = getCoefLogit(CLM, U_train)\n",
        "REG_STEP_AMT_COEF = getCoefLinear(AMT, V_train)\n",
        "\n",
        "REG_STEP_CLM = TEST_CLM.copy()\n",
        "REG_STEP_AMT = TEST_AMT.copy()\n",
        "\n",
        "ALL_CLM = [TREE_CLM, RF_CLM, GB_CLM,\n",
        "                      REG_ALL_CLM, REG_TREE_CLM, REG_RF_CLM,\n",
        "                      REG_GB_CLM, REG_STEP_CLM]\n",
        "\n",
        "ALL_CLM = sorted(ALL_CLM, reverse=True)\n",
        "print_ROC_Curve(WHO, ALL_CLM)\n",
        "\n",
        "ALL_CLM = sorted(ALL_CLM, key = lambda x: x[1], reverse=True)\n",
        "print_Accuracy(WHO + \"ALL CLASSIFICATION ACCURACY\", ALL_CLM)\n",
        "\n",
        "\n",
        "ALL_AMT = [TREE_AMT, RF_AMT, GB_AMT, REG_ALL_AMT, REG_TREE_AMT,\n",
        "           REG_RF_AMT, REG_GB_AMT, REG_STEP_AMT]\n",
        "\n",
        "ALL_AMT = sorted(ALL_AMT, key = lambda x: x[1])\n",
        "print_Accuracy(\"ALL Loss Amount MODEL ACCURACY\", ALL_AMT)"
      ],
      "execution_count": 109,
      "outputs": [
        {
          "output_type": "display_data",
          "data": {
            "image/png": "[encoded data removed]",
            "text/plain": [
              "<Figure size 432x288 with 1 Axes>"
            ]
          },
          "metadata": {
            "needs_background": "light"
          }
        },
        {
          "output_type": "stream",
          "name": "stdout",
          "text": [
            "REG_STEPWISE CLASSIFICATION ACCURACY\n",
            "======\n",
            "REG_STEPWISE_Train  =  0.8382969798657718\n",
            "REG_STEPWISE  =  0.8364093959731543\n",
            "------\n",
            "\n",
            "\n",
            "REG_STEPWISE RMSE ACCURACY\n",
            "======\n",
            "REG_STEPWISE_Train  =  4341.666202588129\n",
            "REG_STEPWISE  =  4400.387413497322\n",
            "------\n",
            "\n",
            "\n",
            "\n",
            "LOAN DEFAULT\n",
            "---------\n",
            "Total Variables:  9\n",
            "INTERCEPT  =  -2.595756104156473\n",
            "VALUE  =  -4.3614045701084197e-07\n",
            "YOJ  =  -0.011958174597432711\n",
            "DEROG  =  0.5783892094574244\n",
            "DELINQ  =  0.7250405287585759\n",
            "CLAGE  =  -0.006260052487958779\n",
            "DEBTINC  =  0.0545278486145018\n",
            "IMP_JOB_Office  =  -0.6182512977708288\n",
            "IMP_JOB_Self  =  0.359150041304967\n",
            "\n",
            "LOSS AMOUNT\n",
            "---------\n",
            "Total Variables:  6\n",
            "INTERCEPT  =  7368.098458711922\n",
            "LOAN  =  0.15220509521610978\n",
            "DELINQ  =  983.968282615192\n",
            "CLNO  =  75.56473837927842\n",
            "MORTDUE  =  0.005760128663155228\n",
            "CLAGE  =  -6.698553798653446\n"
          ]
        },
        {
          "output_type": "display_data",
          "data": {
            "image/png": "[encoded data removed]",
            "text/plain": [
              "<Figure size 432x288 with 1 Axes>"
            ]
          },
          "metadata": {
            "needs_background": "light"
          }
        },
        {
          "output_type": "stream",
          "name": "stdout",
          "text": [
            "REG_STEPWISEALL CLASSIFICATION ACCURACY\n",
            "======\n",
            "GB  =  0.9177852348993288\n",
            "TREE  =  0.886744966442953\n",
            "RF  =  0.8540268456375839\n",
            "REG_STEPWISE  =  0.8364093959731543\n",
            "REG_TREE  =  0.8330536912751678\n",
            "REG_ALL  =  0.8330536912751678\n",
            "REG_GB  =  0.8322147651006712\n",
            "REG_RF  =  0.8280201342281879\n",
            "------\n",
            "\n",
            "\n",
            "ALL Loss Amount MODEL ACCURACY\n",
            "======\n",
            "RF  =  2203.4958487415456\n",
            "GB  =  2350.023037847418\n",
            "TREE  =  3522.0650799548084\n",
            "REG_ALL  =  4332.631738969421\n",
            "REG_TREE  =  4332.631738969421\n",
            "REG_RF  =  4381.170241716728\n",
            "REG_GB  =  4384.026587839649\n",
            "REG_STEPWISE  =  4400.387413497322\n",
            "------\n",
            "\n",
            "\n"
          ]
        }
      ]
    }
  ]
}